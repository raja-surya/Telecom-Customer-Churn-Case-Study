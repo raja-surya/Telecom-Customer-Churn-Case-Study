{
 "cells": [
  {
   "cell_type": "markdown",
   "metadata": {},
   "source": [
    "\n",
    "## Business Problem Overview\n",
    "\n",
    "In the telecom industry, customers are able to choose from multiple service providers and actively switch from one operator to another. In this highly competitive market, the telecommunications industry experiences an average of 15-25% annual churn rate. Given the fact that it costs 5-10 times more to acquire a new customer than to retain an existing one, customer retention has now become even more important than customer acquisition.\n",
    "\n",
    "For many incumbent operators, retaining high profitable customers is the number one business goal.\n",
    "To reduce customer churn, telecom companies need to predict which customers are at high risk of churn.\n",
    "\n",
    "In this project, we will analyse customer-level data of a leading telecom firm, build predictive models to identify customers at high risk of churn and identify the main indicators of churn.\n",
    "\n",
    " \n",
    "\n",
    "#### Understanding and Defining Churn\n",
    "\n",
    "There are two main models of payment in the telecom industry - postpaid (customers pay a monthly/annual bill after using the services) and prepaid (customers pay/recharge with a certain amount in advance and then use the services).\n",
    "\n",
    "In the postpaid model, when customers want to switch to another operator, they usually inform the existing operator to terminate the services, and you directly know that this is an instance of churn.\n",
    "\n",
    "However, in the prepaid model, customers who want to switch to another network can simply stop using the services without any notice, and it is hard to know whether someone has actually churned or is simply not using the services temporarily (e.g. someone may be on a trip abroad for a month or two and then intend to resume using the services again).\n",
    "\n",
    "Thus, churn prediction is usually more critical (and non-trivial) for prepaid customers, and the term ‘churn’ should be defined carefully.  Also, prepaid is the most common model in India and southeast Asia, while postpaid is more common in Europe in North America.\n",
    "\n",
    "This project is based on the Indian and Southeast Asian market.\n",
    "\n",
    " \n",
    "#### Definitions of Churn\n",
    "\n",
    "There are various ways to define churn, such as:\n",
    "\n",
    "Revenue-based churn: Customers who have not utilised any revenue-generating facilities such as mobile internet, outgoing calls, SMS etc. over a given period of time. One could also use aggregate metrics such as ‘customers who have generated less than INR 4 per month in total/average/median revenue’.\n",
    "\n",
    "The main shortcoming of this definition is that there are customers who only receive calls/SMSes from their wage-earning counterparts, i.e. they don’t generate revenue but use the services. For example, many users in rural areas only receive calls from their wage-earning siblings in urban areas.\n",
    "\n",
    "##### Usage-based churn: Customers who have not done any usage, either incoming or outgoing - in terms of calls, internet etc. over a period of time.\n",
    "\n",
    "A potential shortcoming of this definition is that when the customer has stopped using the services for a while, it may be too late to take any corrective actions to retain them. For e.g., if you define churn based on a ‘two-months zero usage’ period, predicting churn could be useless since by that time the customer would have already switched to another operator.\n",
    "\n",
    "In this project, we will use the usage-based definition to define churn.\n",
    "\n",
    "##### High-value Churn\n",
    "In the Indian and the southeast Asian market, approximately 80% of revenue comes from the top 20% customers (called high-value customers). Thus, if we can reduce churn of the high-value customers, we will be able to reduce significant revenue leakage.\n",
    "\n",
    "In this project, you will define high-value customers based on a certain metric (mentioned later below) and predict churn only on high-value customers.\n",
    " \n",
    "\n",
    "##### Understanding the Business Objective and the Data\n",
    "The dataset contains customer-level information for a span of four consecutive months - June, July, August and September. The months are encoded as 6, 7, 8 and 9, respectively. \n",
    "\n",
    "The business objective is to predict the churn in the last (i.e. the ninth) month using the data (features) from the first three months. To do this task well, understanding the typical customer behaviour during churn will be helpful.\n",
    "\n",
    "\n",
    "#### Understanding Customer Behaviour During Churn\n",
    "Customers usually do not decide to switch to another competitor instantly, but rather over a period of time (this is especially applicable to high-value customers). In churn prediction, we assume that there are three phases of customer lifecycle :\n",
    "\n",
    "The ‘good’ phase: In this phase, the customer is happy with the service and behaves as usual.\n",
    "\n",
    "The ‘action’ phase: The customer experience starts to sore in this phase, for e.g. he/she gets a compelling offer from a  competitor, faces unjust charges, becomes unhappy with service quality etc. In this phase, the customer usually shows different behaviour than the ‘good’ months. Also, it is crucial to identify high-churn-risk customers in this phase, since some corrective actions can be taken at this point (such as matching the competitor’s offer/improving the service quality etc.)\n",
    "\n",
    "The ‘churn’ phase: In this phase, the customer is said to have churned. You define churn based on this phase. Also, it is important to note that at the time of prediction (i.e. the action months), this data is not available to you for prediction. Thus, after tagging churn as 1/0 based on this phase, you discard all data corresponding to this phase.\n",
    "\n",
    "In this case, since you are working over a four-month window, the first two months are the ‘good’ phase, the third month is the ‘action’ phase, while the fourth month is the ‘churn’ phase.\n",
    "\n"
   ]
  },
  {
   "cell_type": "markdown",
   "metadata": {},
   "source": [
    "\n",
    "### Approach and Steps \n",
    "\n",
    "##### 1. Reading Data and Basic Understanding \n",
    "\n",
    "##### 2. Data Cleaning - Missing data treatment\n",
    "\n",
    "##### 3. EDA, Data Visualization and Outliers treatment\n",
    "\n",
    "##### 4. Feature Engineering\n",
    "\n",
    "##### 5. Data preparation Before Modeling\n",
    "##### 6. Building Models - Logistic Regression, SVM, Random Forests, XGBoost\n",
    "##### 7. Model Selection and Prediction on Test Data\n",
    "##### 8. Conclusions\n",
    "##### 9. Notes On Some Extra Learning - CalibratedClassifierCV and \"probability=True\" in SVM"
   ]
  },
  {
   "cell_type": "code",
   "execution_count": null,
   "metadata": {},
   "outputs": [],
   "source": []
  },
  {
   "cell_type": "markdown",
   "metadata": {},
   "source": [
    "##### Some common helper functions that we will use repeatedly throughout this case study"
   ]
  },
  {
   "cell_type": "code",
   "execution_count": 1,
   "metadata": {},
   "outputs": [],
   "source": [
    "# create plotting functions\n",
    "import matplotlib.pyplot as plt\n",
    "import seaborn as sns\n",
    "\n",
    "def data_type(variable):\n",
    "    if variable.dtype == np.int64 or variable.dtype == np.float64:\n",
    "        return 'numerical'\n",
    "    elif variable.dtype == 'category':\n",
    "        return 'categorical'\n",
    "    \n",
    "def univariate(variable, stats=True):\n",
    "    \n",
    "    if data_type(variable) == 'numerical':\n",
    "        sns.distplot(variable)\n",
    "        if stats == True:\n",
    "            print(variable.describe())\n",
    "    \n",
    "    elif data_type(variable) == 'categorical':\n",
    "        sns.countplot(variable)\n",
    "        if stats == True:\n",
    "            print(variable.value_counts())\n",
    "            \n",
    "    else:\n",
    "        print(\"Invalid variable passed: either pass a numeric variable or a categorical vairable.\")\n",
    "        \n",
    "def bivariate(var1, var2):\n",
    "    if data_type(var1) == 'numerical' and data_type(var2) == 'numerical':\n",
    "        sns.regplot(var1, var2)\n",
    "    elif (data_type(var1) == 'categorical' and data_type(var2) == 'numerical') or (data_type(var1) == 'numerical' and data_type(var2) == 'categorical'):        \n",
    "        sns.boxplot(var1, var2)"
   ]
  },
  {
   "cell_type": "code",
   "execution_count": 2,
   "metadata": {},
   "outputs": [],
   "source": [
    "#### Function to print confusion matrix, accuracy, sensitivity, FPR, precision, specificity etc\n",
    "\n",
    "from sklearn import metrics\n",
    "from sklearn.metrics import classification_report, confusion_matrix\n",
    "\n",
    "def print_binary_classification_summary(y, y_pred):\n",
    "    \n",
    "    confusion = metrics.confusion_matrix(y, y_pred)\n",
    "    \n",
    "    print(\"\\n\\nConfusion Matrix :\\n\\n\", confusion)\n",
    "    TP = confusion[1,1] # true positive \n",
    "    TN = confusion[0,0] # true negatives\n",
    "    FP = confusion[0,1] # false positives\n",
    "    FN = confusion[1,0] # false negatives\n",
    "    \n",
    "    sensitivity = TP / float(TP+FN)\n",
    "    specificity = TN / float(TN+FP)\n",
    "    fpr = FP/ float(TN+FP)\n",
    "    precision = TP / float(TP+FP)\n",
    "    \n",
    "    print(\"\\nTN :\", TN)\n",
    "    print(\"\\nFP :\", FP)\n",
    "    print(\"\\nFN :\", FN)\n",
    "    print(\"\\nTP :\", TP)\n",
    "       \n",
    "    print(\"\\nACCURACY : \", float(TP + TN)/float(TP + TN + FP + FN))\n",
    "    \n",
    "    print(\"\\nSENSITIVITY : \", sensitivity)\n",
    "    \n",
    "    print(\"\\nPRECISION : \", precision)\n",
    "    \n",
    "    print(\"\\nFALSE POSITIVITY RATE : \", fpr)\n",
    "    \n",
    "    print(\"\\nSPECIFICITY : \", specificity)\n",
    "    \n",
    "    print(\"\\n\\n Classification Report :\\n\\n\", classification_report(y, y_pred))"
   ]
  },
  {
   "cell_type": "code",
   "execution_count": 3,
   "metadata": {},
   "outputs": [],
   "source": [
    "#### Function to plot ROC\n",
    "\n",
    "from sklearn import metrics\n",
    "from sklearn.metrics import classification_report, confusion_matrix, accuracy_score\n",
    "\n",
    "def draw_roc( actual, probs ):\n",
    "    fpr, tpr, thresholds = metrics.roc_curve( actual, probs,\n",
    "                                              drop_intermediate = False )\n",
    "    auc_score = metrics.roc_auc_score( actual, probs )\n",
    "    plt.figure(figsize=(5, 5))\n",
    "    plt.plot( fpr, tpr, label='ROC curve (area = %0.3f)' % auc_score )\n",
    "    plt.plot([0, 1], [0, 1], 'k--')\n",
    "    plt.xlim([0.0, 1.0])\n",
    "    plt.ylim([0.0, 1.05])\n",
    "    plt.xlabel('False Positive Rate or [1 - True Negative Rate]')\n",
    "    plt.ylabel('True Positive Rate')\n",
    "    plt.title('Receiver operating characteristic example')\n",
    "    plt.legend(loc=\"lower right\")\n",
    "    plt.show()\n",
    "\n",
    "    print(\"\\nAUC SCORE = %0.3f\" % auc_score)\n",
    "    \n",
    "    return auc_score"
   ]
  },
  {
   "cell_type": "code",
   "execution_count": 4,
   "metadata": {},
   "outputs": [],
   "source": [
    "##### Function to predict - Both classification labels and probabilities.\n",
    "\n",
    "def predict_and_proba(model, X):\n",
    "    y_pred = model.predict(X)\n",
    "    y_pred_prob = model.predict_proba(X)\n",
    "    return y_pred, y_pred_prob"
   ]
  },
  {
   "cell_type": "code",
   "execution_count": 5,
   "metadata": {},
   "outputs": [],
   "source": [
    "### Function to print grid search results like best scores and best hyper-parameters\n",
    "\n",
    "def grid_result_summary(grd_res, scoring_measures, refit):\n",
    "    \n",
    "    keys= list(scoring_measures.keys())\n",
    "    score_print_list = []\n",
    "    for key in keys:\n",
    "        score_print_list.append('mean_test_{}'.format(key))\n",
    "    \n",
    "    refit = 'mean_test_{}'.format(refit)\n",
    "    print(refit)\n",
    "    #print(score_print_list)\n",
    "        \n",
    "    #str = 'mean_test_{}'.format(keys[0])\n",
    "    \n",
    "    # scores of GridSearch CV\n",
    "    scores = pd.DataFrame(grd_res.cv_results_)\n",
    "    \n",
    "    # print best hyperparameters\n",
    "    print(\"\\nBest hyperparameters: \", grd_res.best_params_)\n",
    "    \n",
    "   \n",
    "    print(\"\\nBest Score : %0.5f\" % grd_res.best_score_)\n",
    "    \n",
    "    #print(scores.loc[scores.mean_test_AUC == grd_res.best_score_ , [str, 'mean_test_Recall', 'mean_test_AUC']])\n",
    "    print(scores.loc[scores[refit] == grd_res.best_score_ , score_print_list])\n",
    "    \n",
    "    return grd_res.best_score_"
   ]
  },
  {
   "cell_type": "markdown",
   "metadata": {},
   "source": [
    "### 1. Reading Data and Basic Understanding"
   ]
  },
  {
   "cell_type": "code",
   "execution_count": 2,
   "metadata": {},
   "outputs": [],
   "source": [
    "import numpy as np\n",
    "import pandas as pd\n",
    "\n",
    "from sklearn.preprocessing import StandardScaler\n",
    "\n",
    "import warnings\n",
    "warnings.filterwarnings('ignore')"
   ]
  },
  {
   "cell_type": "code",
   "execution_count": 4,
   "metadata": {},
   "outputs": [
    {
     "data": {
      "text/plain": [
       "(99999, 226)"
      ]
     },
     "execution_count": 4,
     "metadata": {},
     "output_type": "execute_result"
    }
   ],
   "source": [
    "df = pd.read_csv(\"telecom_churn_data.csv\", keep_default_na=False, na_values='')\n",
    "#telecom_df = pd.read_csv(\"telecom_churn_data.csv\")\n",
    "#telecom_df.head(10)\n",
    "df.shape"
   ]
  },
  {
   "cell_type": "code",
   "execution_count": 6,
   "metadata": {},
   "outputs": [
    {
     "data": {
      "text/html": [
       "<div>\n",
       "<style scoped>\n",
       "    .dataframe tbody tr th:only-of-type {\n",
       "        vertical-align: middle;\n",
       "    }\n",
       "\n",
       "    .dataframe tbody tr th {\n",
       "        vertical-align: top;\n",
       "    }\n",
       "\n",
       "    .dataframe thead th {\n",
       "        text-align: right;\n",
       "    }\n",
       "</style>\n",
       "<table border=\"1\" class=\"dataframe\">\n",
       "  <thead>\n",
       "    <tr style=\"text-align: right;\">\n",
       "      <th></th>\n",
       "      <th>mobile_number</th>\n",
       "      <th>circle_id</th>\n",
       "      <th>loc_og_t2o_mou</th>\n",
       "      <th>std_og_t2o_mou</th>\n",
       "      <th>loc_ic_t2o_mou</th>\n",
       "      <th>last_date_of_month_6</th>\n",
       "      <th>last_date_of_month_7</th>\n",
       "      <th>last_date_of_month_8</th>\n",
       "      <th>last_date_of_month_9</th>\n",
       "      <th>arpu_6</th>\n",
       "      <th>...</th>\n",
       "      <th>sachet_3g_9</th>\n",
       "      <th>fb_user_6</th>\n",
       "      <th>fb_user_7</th>\n",
       "      <th>fb_user_8</th>\n",
       "      <th>fb_user_9</th>\n",
       "      <th>aon</th>\n",
       "      <th>aug_vbc_3g</th>\n",
       "      <th>jul_vbc_3g</th>\n",
       "      <th>jun_vbc_3g</th>\n",
       "      <th>sep_vbc_3g</th>\n",
       "    </tr>\n",
       "  </thead>\n",
       "  <tbody>\n",
       "    <tr>\n",
       "      <th>0</th>\n",
       "      <td>7000842753</td>\n",
       "      <td>109</td>\n",
       "      <td>0.0</td>\n",
       "      <td>0.0</td>\n",
       "      <td>0.0</td>\n",
       "      <td>6/30/2014</td>\n",
       "      <td>7/31/2014</td>\n",
       "      <td>8/31/2014</td>\n",
       "      <td>9/30/2014</td>\n",
       "      <td>197.385</td>\n",
       "      <td>...</td>\n",
       "      <td>0</td>\n",
       "      <td>1.0</td>\n",
       "      <td>1.0</td>\n",
       "      <td>1.0</td>\n",
       "      <td>NaN</td>\n",
       "      <td>968</td>\n",
       "      <td>30.40</td>\n",
       "      <td>0.00</td>\n",
       "      <td>101.20</td>\n",
       "      <td>3.58</td>\n",
       "    </tr>\n",
       "    <tr>\n",
       "      <th>1</th>\n",
       "      <td>7001865778</td>\n",
       "      <td>109</td>\n",
       "      <td>0.0</td>\n",
       "      <td>0.0</td>\n",
       "      <td>0.0</td>\n",
       "      <td>6/30/2014</td>\n",
       "      <td>7/31/2014</td>\n",
       "      <td>8/31/2014</td>\n",
       "      <td>9/30/2014</td>\n",
       "      <td>34.047</td>\n",
       "      <td>...</td>\n",
       "      <td>0</td>\n",
       "      <td>NaN</td>\n",
       "      <td>1.0</td>\n",
       "      <td>1.0</td>\n",
       "      <td>NaN</td>\n",
       "      <td>1006</td>\n",
       "      <td>0.00</td>\n",
       "      <td>0.00</td>\n",
       "      <td>0.00</td>\n",
       "      <td>0.00</td>\n",
       "    </tr>\n",
       "    <tr>\n",
       "      <th>2</th>\n",
       "      <td>7001625959</td>\n",
       "      <td>109</td>\n",
       "      <td>0.0</td>\n",
       "      <td>0.0</td>\n",
       "      <td>0.0</td>\n",
       "      <td>6/30/2014</td>\n",
       "      <td>7/31/2014</td>\n",
       "      <td>8/31/2014</td>\n",
       "      <td>9/30/2014</td>\n",
       "      <td>167.690</td>\n",
       "      <td>...</td>\n",
       "      <td>0</td>\n",
       "      <td>NaN</td>\n",
       "      <td>NaN</td>\n",
       "      <td>NaN</td>\n",
       "      <td>1.0</td>\n",
       "      <td>1103</td>\n",
       "      <td>0.00</td>\n",
       "      <td>0.00</td>\n",
       "      <td>4.17</td>\n",
       "      <td>0.00</td>\n",
       "    </tr>\n",
       "    <tr>\n",
       "      <th>3</th>\n",
       "      <td>7001204172</td>\n",
       "      <td>109</td>\n",
       "      <td>0.0</td>\n",
       "      <td>0.0</td>\n",
       "      <td>0.0</td>\n",
       "      <td>6/30/2014</td>\n",
       "      <td>7/31/2014</td>\n",
       "      <td>8/31/2014</td>\n",
       "      <td>9/30/2014</td>\n",
       "      <td>221.338</td>\n",
       "      <td>...</td>\n",
       "      <td>0</td>\n",
       "      <td>NaN</td>\n",
       "      <td>NaN</td>\n",
       "      <td>NaN</td>\n",
       "      <td>NaN</td>\n",
       "      <td>2491</td>\n",
       "      <td>0.00</td>\n",
       "      <td>0.00</td>\n",
       "      <td>0.00</td>\n",
       "      <td>0.00</td>\n",
       "    </tr>\n",
       "    <tr>\n",
       "      <th>4</th>\n",
       "      <td>7000142493</td>\n",
       "      <td>109</td>\n",
       "      <td>0.0</td>\n",
       "      <td>0.0</td>\n",
       "      <td>0.0</td>\n",
       "      <td>6/30/2014</td>\n",
       "      <td>7/31/2014</td>\n",
       "      <td>8/31/2014</td>\n",
       "      <td>9/30/2014</td>\n",
       "      <td>261.636</td>\n",
       "      <td>...</td>\n",
       "      <td>0</td>\n",
       "      <td>0.0</td>\n",
       "      <td>NaN</td>\n",
       "      <td>NaN</td>\n",
       "      <td>NaN</td>\n",
       "      <td>1526</td>\n",
       "      <td>0.00</td>\n",
       "      <td>0.00</td>\n",
       "      <td>0.00</td>\n",
       "      <td>0.00</td>\n",
       "    </tr>\n",
       "    <tr>\n",
       "      <th>5</th>\n",
       "      <td>7000286308</td>\n",
       "      <td>109</td>\n",
       "      <td>0.0</td>\n",
       "      <td>0.0</td>\n",
       "      <td>0.0</td>\n",
       "      <td>6/30/2014</td>\n",
       "      <td>7/31/2014</td>\n",
       "      <td>8/31/2014</td>\n",
       "      <td>9/30/2014</td>\n",
       "      <td>50.258</td>\n",
       "      <td>...</td>\n",
       "      <td>0</td>\n",
       "      <td>NaN</td>\n",
       "      <td>NaN</td>\n",
       "      <td>NaN</td>\n",
       "      <td>NaN</td>\n",
       "      <td>1471</td>\n",
       "      <td>0.00</td>\n",
       "      <td>0.00</td>\n",
       "      <td>0.00</td>\n",
       "      <td>0.00</td>\n",
       "    </tr>\n",
       "    <tr>\n",
       "      <th>6</th>\n",
       "      <td>7001051193</td>\n",
       "      <td>109</td>\n",
       "      <td>0.0</td>\n",
       "      <td>0.0</td>\n",
       "      <td>0.0</td>\n",
       "      <td>6/30/2014</td>\n",
       "      <td>7/31/2014</td>\n",
       "      <td>8/31/2014</td>\n",
       "      <td>9/30/2014</td>\n",
       "      <td>429.023</td>\n",
       "      <td>...</td>\n",
       "      <td>0</td>\n",
       "      <td>NaN</td>\n",
       "      <td>NaN</td>\n",
       "      <td>NaN</td>\n",
       "      <td>NaN</td>\n",
       "      <td>1673</td>\n",
       "      <td>0.00</td>\n",
       "      <td>0.00</td>\n",
       "      <td>0.00</td>\n",
       "      <td>0.00</td>\n",
       "    </tr>\n",
       "    <tr>\n",
       "      <th>7</th>\n",
       "      <td>7000701601</td>\n",
       "      <td>109</td>\n",
       "      <td>0.0</td>\n",
       "      <td>0.0</td>\n",
       "      <td>0.0</td>\n",
       "      <td>6/30/2014</td>\n",
       "      <td>7/31/2014</td>\n",
       "      <td>8/31/2014</td>\n",
       "      <td>9/30/2014</td>\n",
       "      <td>1069.180</td>\n",
       "      <td>...</td>\n",
       "      <td>0</td>\n",
       "      <td>NaN</td>\n",
       "      <td>NaN</td>\n",
       "      <td>NaN</td>\n",
       "      <td>NaN</td>\n",
       "      <td>802</td>\n",
       "      <td>57.74</td>\n",
       "      <td>19.38</td>\n",
       "      <td>18.74</td>\n",
       "      <td>0.00</td>\n",
       "    </tr>\n",
       "    <tr>\n",
       "      <th>8</th>\n",
       "      <td>7001524846</td>\n",
       "      <td>109</td>\n",
       "      <td>0.0</td>\n",
       "      <td>0.0</td>\n",
       "      <td>0.0</td>\n",
       "      <td>6/30/2014</td>\n",
       "      <td>7/31/2014</td>\n",
       "      <td>8/31/2014</td>\n",
       "      <td>9/30/2014</td>\n",
       "      <td>378.721</td>\n",
       "      <td>...</td>\n",
       "      <td>0</td>\n",
       "      <td>NaN</td>\n",
       "      <td>1.0</td>\n",
       "      <td>1.0</td>\n",
       "      <td>NaN</td>\n",
       "      <td>315</td>\n",
       "      <td>21.03</td>\n",
       "      <td>910.65</td>\n",
       "      <td>122.16</td>\n",
       "      <td>0.00</td>\n",
       "    </tr>\n",
       "    <tr>\n",
       "      <th>9</th>\n",
       "      <td>7001864400</td>\n",
       "      <td>109</td>\n",
       "      <td>0.0</td>\n",
       "      <td>0.0</td>\n",
       "      <td>0.0</td>\n",
       "      <td>6/30/2014</td>\n",
       "      <td>7/31/2014</td>\n",
       "      <td>8/31/2014</td>\n",
       "      <td>9/30/2014</td>\n",
       "      <td>119.518</td>\n",
       "      <td>...</td>\n",
       "      <td>0</td>\n",
       "      <td>NaN</td>\n",
       "      <td>1.0</td>\n",
       "      <td>NaN</td>\n",
       "      <td>NaN</td>\n",
       "      <td>902</td>\n",
       "      <td>0.00</td>\n",
       "      <td>0.00</td>\n",
       "      <td>0.00</td>\n",
       "      <td>0.00</td>\n",
       "    </tr>\n",
       "  </tbody>\n",
       "</table>\n",
       "<p>10 rows × 226 columns</p>\n",
       "</div>"
      ],
      "text/plain": [
       "   mobile_number  circle_id  loc_og_t2o_mou  std_og_t2o_mou  loc_ic_t2o_mou  \\\n",
       "0     7000842753        109             0.0             0.0             0.0   \n",
       "1     7001865778        109             0.0             0.0             0.0   \n",
       "2     7001625959        109             0.0             0.0             0.0   \n",
       "3     7001204172        109             0.0             0.0             0.0   \n",
       "4     7000142493        109             0.0             0.0             0.0   \n",
       "5     7000286308        109             0.0             0.0             0.0   \n",
       "6     7001051193        109             0.0             0.0             0.0   \n",
       "7     7000701601        109             0.0             0.0             0.0   \n",
       "8     7001524846        109             0.0             0.0             0.0   \n",
       "9     7001864400        109             0.0             0.0             0.0   \n",
       "\n",
       "  last_date_of_month_6 last_date_of_month_7 last_date_of_month_8  \\\n",
       "0            6/30/2014            7/31/2014            8/31/2014   \n",
       "1            6/30/2014            7/31/2014            8/31/2014   \n",
       "2            6/30/2014            7/31/2014            8/31/2014   \n",
       "3            6/30/2014            7/31/2014            8/31/2014   \n",
       "4            6/30/2014            7/31/2014            8/31/2014   \n",
       "5            6/30/2014            7/31/2014            8/31/2014   \n",
       "6            6/30/2014            7/31/2014            8/31/2014   \n",
       "7            6/30/2014            7/31/2014            8/31/2014   \n",
       "8            6/30/2014            7/31/2014            8/31/2014   \n",
       "9            6/30/2014            7/31/2014            8/31/2014   \n",
       "\n",
       "  last_date_of_month_9    arpu_6  ...  sachet_3g_9  fb_user_6  fb_user_7  \\\n",
       "0            9/30/2014   197.385  ...            0        1.0        1.0   \n",
       "1            9/30/2014    34.047  ...            0        NaN        1.0   \n",
       "2            9/30/2014   167.690  ...            0        NaN        NaN   \n",
       "3            9/30/2014   221.338  ...            0        NaN        NaN   \n",
       "4            9/30/2014   261.636  ...            0        0.0        NaN   \n",
       "5            9/30/2014    50.258  ...            0        NaN        NaN   \n",
       "6            9/30/2014   429.023  ...            0        NaN        NaN   \n",
       "7            9/30/2014  1069.180  ...            0        NaN        NaN   \n",
       "8            9/30/2014   378.721  ...            0        NaN        1.0   \n",
       "9            9/30/2014   119.518  ...            0        NaN        1.0   \n",
       "\n",
       "   fb_user_8  fb_user_9   aon  aug_vbc_3g  jul_vbc_3g  jun_vbc_3g  sep_vbc_3g  \n",
       "0        1.0        NaN   968       30.40        0.00      101.20        3.58  \n",
       "1        1.0        NaN  1006        0.00        0.00        0.00        0.00  \n",
       "2        NaN        1.0  1103        0.00        0.00        4.17        0.00  \n",
       "3        NaN        NaN  2491        0.00        0.00        0.00        0.00  \n",
       "4        NaN        NaN  1526        0.00        0.00        0.00        0.00  \n",
       "5        NaN        NaN  1471        0.00        0.00        0.00        0.00  \n",
       "6        NaN        NaN  1673        0.00        0.00        0.00        0.00  \n",
       "7        NaN        NaN   802       57.74       19.38       18.74        0.00  \n",
       "8        1.0        NaN   315       21.03      910.65      122.16        0.00  \n",
       "9        NaN        NaN   902        0.00        0.00        0.00        0.00  \n",
       "\n",
       "[10 rows x 226 columns]"
      ]
     },
     "execution_count": 6,
     "metadata": {},
     "output_type": "execute_result"
    }
   ],
   "source": [
    "df.head(10)"
   ]
  },
  {
   "cell_type": "code",
   "execution_count": 4,
   "metadata": {},
   "outputs": [
    {
     "name": "stdout",
     "output_type": "stream",
     "text": [
      "<class 'pandas.core.frame.DataFrame'>\n",
      "RangeIndex: 99999 entries, 0 to 99998\n",
      "Columns: 226 entries, mobile_number to sep_vbc_3g\n",
      "dtypes: float64(179), int64(35), object(12)\n",
      "memory usage: 172.4+ MB\n"
     ]
    }
   ],
   "source": [
    "df.info()"
   ]
  },
  {
   "cell_type": "code",
   "execution_count": 5,
   "metadata": {},
   "outputs": [
    {
     "name": "stdout",
     "output_type": "stream",
     "text": [
      "<class 'pandas.core.frame.DataFrame'>\n",
      "RangeIndex: 99999 entries, 0 to 99998\n",
      "Data columns (total 226 columns):\n",
      " #   Column                    Dtype  \n",
      "---  ------                    -----  \n",
      " 0   mobile_number             int64  \n",
      " 1   circle_id                 int64  \n",
      " 2   loc_og_t2o_mou            float64\n",
      " 3   std_og_t2o_mou            float64\n",
      " 4   loc_ic_t2o_mou            float64\n",
      " 5   last_date_of_month_6      object \n",
      " 6   last_date_of_month_7      object \n",
      " 7   last_date_of_month_8      object \n",
      " 8   last_date_of_month_9      object \n",
      " 9   arpu_6                    float64\n",
      " 10  arpu_7                    float64\n",
      " 11  arpu_8                    float64\n",
      " 12  arpu_9                    float64\n",
      " 13  onnet_mou_6               float64\n",
      " 14  onnet_mou_7               float64\n",
      " 15  onnet_mou_8               float64\n",
      " 16  onnet_mou_9               float64\n",
      " 17  offnet_mou_6              float64\n",
      " 18  offnet_mou_7              float64\n",
      " 19  offnet_mou_8              float64\n",
      " 20  offnet_mou_9              float64\n",
      " 21  roam_ic_mou_6             float64\n",
      " 22  roam_ic_mou_7             float64\n",
      " 23  roam_ic_mou_8             float64\n",
      " 24  roam_ic_mou_9             float64\n",
      " 25  roam_og_mou_6             float64\n",
      " 26  roam_og_mou_7             float64\n",
      " 27  roam_og_mou_8             float64\n",
      " 28  roam_og_mou_9             float64\n",
      " 29  loc_og_t2t_mou_6          float64\n",
      " 30  loc_og_t2t_mou_7          float64\n",
      " 31  loc_og_t2t_mou_8          float64\n",
      " 32  loc_og_t2t_mou_9          float64\n",
      " 33  loc_og_t2m_mou_6          float64\n",
      " 34  loc_og_t2m_mou_7          float64\n",
      " 35  loc_og_t2m_mou_8          float64\n",
      " 36  loc_og_t2m_mou_9          float64\n",
      " 37  loc_og_t2f_mou_6          float64\n",
      " 38  loc_og_t2f_mou_7          float64\n",
      " 39  loc_og_t2f_mou_8          float64\n",
      " 40  loc_og_t2f_mou_9          float64\n",
      " 41  loc_og_t2c_mou_6          float64\n",
      " 42  loc_og_t2c_mou_7          float64\n",
      " 43  loc_og_t2c_mou_8          float64\n",
      " 44  loc_og_t2c_mou_9          float64\n",
      " 45  loc_og_mou_6              float64\n",
      " 46  loc_og_mou_7              float64\n",
      " 47  loc_og_mou_8              float64\n",
      " 48  loc_og_mou_9              float64\n",
      " 49  std_og_t2t_mou_6          float64\n",
      " 50  std_og_t2t_mou_7          float64\n",
      " 51  std_og_t2t_mou_8          float64\n",
      " 52  std_og_t2t_mou_9          float64\n",
      " 53  std_og_t2m_mou_6          float64\n",
      " 54  std_og_t2m_mou_7          float64\n",
      " 55  std_og_t2m_mou_8          float64\n",
      " 56  std_og_t2m_mou_9          float64\n",
      " 57  std_og_t2f_mou_6          float64\n",
      " 58  std_og_t2f_mou_7          float64\n",
      " 59  std_og_t2f_mou_8          float64\n",
      " 60  std_og_t2f_mou_9          float64\n",
      " 61  std_og_t2c_mou_6          float64\n",
      " 62  std_og_t2c_mou_7          float64\n",
      " 63  std_og_t2c_mou_8          float64\n",
      " 64  std_og_t2c_mou_9          float64\n",
      " 65  std_og_mou_6              float64\n",
      " 66  std_og_mou_7              float64\n",
      " 67  std_og_mou_8              float64\n",
      " 68  std_og_mou_9              float64\n",
      " 69  isd_og_mou_6              float64\n",
      " 70  isd_og_mou_7              float64\n",
      " 71  isd_og_mou_8              float64\n",
      " 72  isd_og_mou_9              float64\n",
      " 73  spl_og_mou_6              float64\n",
      " 74  spl_og_mou_7              float64\n",
      " 75  spl_og_mou_8              float64\n",
      " 76  spl_og_mou_9              float64\n",
      " 77  og_others_6               float64\n",
      " 78  og_others_7               float64\n",
      " 79  og_others_8               float64\n",
      " 80  og_others_9               float64\n",
      " 81  total_og_mou_6            float64\n",
      " 82  total_og_mou_7            float64\n",
      " 83  total_og_mou_8            float64\n",
      " 84  total_og_mou_9            float64\n",
      " 85  loc_ic_t2t_mou_6          float64\n",
      " 86  loc_ic_t2t_mou_7          float64\n",
      " 87  loc_ic_t2t_mou_8          float64\n",
      " 88  loc_ic_t2t_mou_9          float64\n",
      " 89  loc_ic_t2m_mou_6          float64\n",
      " 90  loc_ic_t2m_mou_7          float64\n",
      " 91  loc_ic_t2m_mou_8          float64\n",
      " 92  loc_ic_t2m_mou_9          float64\n",
      " 93  loc_ic_t2f_mou_6          float64\n",
      " 94  loc_ic_t2f_mou_7          float64\n",
      " 95  loc_ic_t2f_mou_8          float64\n",
      " 96  loc_ic_t2f_mou_9          float64\n",
      " 97  loc_ic_mou_6              float64\n",
      " 98  loc_ic_mou_7              float64\n",
      " 99  loc_ic_mou_8              float64\n",
      " 100 loc_ic_mou_9              float64\n",
      " 101 std_ic_t2t_mou_6          float64\n",
      " 102 std_ic_t2t_mou_7          float64\n",
      " 103 std_ic_t2t_mou_8          float64\n",
      " 104 std_ic_t2t_mou_9          float64\n",
      " 105 std_ic_t2m_mou_6          float64\n",
      " 106 std_ic_t2m_mou_7          float64\n",
      " 107 std_ic_t2m_mou_8          float64\n",
      " 108 std_ic_t2m_mou_9          float64\n",
      " 109 std_ic_t2f_mou_6          float64\n",
      " 110 std_ic_t2f_mou_7          float64\n",
      " 111 std_ic_t2f_mou_8          float64\n",
      " 112 std_ic_t2f_mou_9          float64\n",
      " 113 std_ic_t2o_mou_6          float64\n",
      " 114 std_ic_t2o_mou_7          float64\n",
      " 115 std_ic_t2o_mou_8          float64\n",
      " 116 std_ic_t2o_mou_9          float64\n",
      " 117 std_ic_mou_6              float64\n",
      " 118 std_ic_mou_7              float64\n",
      " 119 std_ic_mou_8              float64\n",
      " 120 std_ic_mou_9              float64\n",
      " 121 total_ic_mou_6            float64\n",
      " 122 total_ic_mou_7            float64\n",
      " 123 total_ic_mou_8            float64\n",
      " 124 total_ic_mou_9            float64\n",
      " 125 spl_ic_mou_6              float64\n",
      " 126 spl_ic_mou_7              float64\n",
      " 127 spl_ic_mou_8              float64\n",
      " 128 spl_ic_mou_9              float64\n",
      " 129 isd_ic_mou_6              float64\n",
      " 130 isd_ic_mou_7              float64\n",
      " 131 isd_ic_mou_8              float64\n",
      " 132 isd_ic_mou_9              float64\n",
      " 133 ic_others_6               float64\n",
      " 134 ic_others_7               float64\n",
      " 135 ic_others_8               float64\n",
      " 136 ic_others_9               float64\n",
      " 137 total_rech_num_6          int64  \n",
      " 138 total_rech_num_7          int64  \n",
      " 139 total_rech_num_8          int64  \n",
      " 140 total_rech_num_9          int64  \n",
      " 141 total_rech_amt_6          int64  \n",
      " 142 total_rech_amt_7          int64  \n",
      " 143 total_rech_amt_8          int64  \n",
      " 144 total_rech_amt_9          int64  \n",
      " 145 max_rech_amt_6            int64  \n",
      " 146 max_rech_amt_7            int64  \n",
      " 147 max_rech_amt_8            int64  \n",
      " 148 max_rech_amt_9            int64  \n",
      " 149 date_of_last_rech_6       object \n",
      " 150 date_of_last_rech_7       object \n",
      " 151 date_of_last_rech_8       object \n",
      " 152 date_of_last_rech_9       object \n",
      " 153 last_day_rch_amt_6        int64  \n",
      " 154 last_day_rch_amt_7        int64  \n",
      " 155 last_day_rch_amt_8        int64  \n",
      " 156 last_day_rch_amt_9        int64  \n",
      " 157 date_of_last_rech_data_6  object \n",
      " 158 date_of_last_rech_data_7  object \n",
      " 159 date_of_last_rech_data_8  object \n",
      " 160 date_of_last_rech_data_9  object \n",
      " 161 total_rech_data_6         float64\n",
      " 162 total_rech_data_7         float64\n",
      " 163 total_rech_data_8         float64\n",
      " 164 total_rech_data_9         float64\n",
      " 165 max_rech_data_6           float64\n",
      " 166 max_rech_data_7           float64\n",
      " 167 max_rech_data_8           float64\n",
      " 168 max_rech_data_9           float64\n",
      " 169 count_rech_2g_6           float64\n",
      " 170 count_rech_2g_7           float64\n",
      " 171 count_rech_2g_8           float64\n",
      " 172 count_rech_2g_9           float64\n",
      " 173 count_rech_3g_6           float64\n",
      " 174 count_rech_3g_7           float64\n",
      " 175 count_rech_3g_8           float64\n",
      " 176 count_rech_3g_9           float64\n",
      " 177 av_rech_amt_data_6        float64\n",
      " 178 av_rech_amt_data_7        float64\n",
      " 179 av_rech_amt_data_8        float64\n",
      " 180 av_rech_amt_data_9        float64\n",
      " 181 vol_2g_mb_6               float64\n",
      " 182 vol_2g_mb_7               float64\n",
      " 183 vol_2g_mb_8               float64\n",
      " 184 vol_2g_mb_9               float64\n",
      " 185 vol_3g_mb_6               float64\n",
      " 186 vol_3g_mb_7               float64\n",
      " 187 vol_3g_mb_8               float64\n",
      " 188 vol_3g_mb_9               float64\n",
      " 189 arpu_3g_6                 float64\n",
      " 190 arpu_3g_7                 float64\n",
      " 191 arpu_3g_8                 float64\n",
      " 192 arpu_3g_9                 float64\n",
      " 193 arpu_2g_6                 float64\n",
      " 194 arpu_2g_7                 float64\n",
      " 195 arpu_2g_8                 float64\n",
      " 196 arpu_2g_9                 float64\n",
      " 197 night_pck_user_6          float64\n",
      " 198 night_pck_user_7          float64\n",
      " 199 night_pck_user_8          float64\n",
      " 200 night_pck_user_9          float64\n",
      " 201 monthly_2g_6              int64  \n",
      " 202 monthly_2g_7              int64  \n",
      " 203 monthly_2g_8              int64  \n",
      " 204 monthly_2g_9              int64  \n",
      " 205 sachet_2g_6               int64  \n",
      " 206 sachet_2g_7               int64  \n",
      " 207 sachet_2g_8               int64  \n",
      " 208 sachet_2g_9               int64  \n",
      " 209 monthly_3g_6              int64  \n",
      " 210 monthly_3g_7              int64  \n",
      " 211 monthly_3g_8              int64  \n",
      " 212 monthly_3g_9              int64  \n",
      " 213 sachet_3g_6               int64  \n",
      " 214 sachet_3g_7               int64  \n",
      " 215 sachet_3g_8               int64  \n",
      " 216 sachet_3g_9               int64  \n",
      " 217 fb_user_6                 float64\n",
      " 218 fb_user_7                 float64\n",
      " 219 fb_user_8                 float64\n",
      " 220 fb_user_9                 float64\n",
      " 221 aon                       int64  \n",
      " 222 aug_vbc_3g                float64\n",
      " 223 jul_vbc_3g                float64\n",
      " 224 jun_vbc_3g                float64\n",
      " 225 sep_vbc_3g                float64\n",
      "dtypes: float64(179), int64(35), object(12)\n",
      "memory usage: 172.4+ MB\n"
     ]
    }
   ],
   "source": [
    "df.info(verbose=1)"
   ]
  },
  {
   "cell_type": "code",
   "execution_count": 6,
   "metadata": {},
   "outputs": [],
   "source": [
    "### Function to list numeric vars and categorical vars\n",
    "def sep_num_cat(df):\n",
    "    numeric_vars = list(df.select_dtypes(include=['float64', 'int64']).columns)\n",
    "    categorical_vars = list(df.select_dtypes(include=['object', 'category']).columns)\n",
    "    return numeric_vars, categorical_vars"
   ]
  },
  {
   "cell_type": "code",
   "execution_count": 7,
   "metadata": {},
   "outputs": [
    {
     "name": "stdout",
     "output_type": "stream",
     "text": [
      "['mobile_number', 'circle_id', 'loc_og_t2o_mou', 'std_og_t2o_mou', 'loc_ic_t2o_mou', 'arpu_6', 'arpu_7', 'arpu_8', 'arpu_9', 'onnet_mou_6', 'onnet_mou_7', 'onnet_mou_8', 'onnet_mou_9', 'offnet_mou_6', 'offnet_mou_7', 'offnet_mou_8', 'offnet_mou_9', 'roam_ic_mou_6', 'roam_ic_mou_7', 'roam_ic_mou_8', 'roam_ic_mou_9', 'roam_og_mou_6', 'roam_og_mou_7', 'roam_og_mou_8', 'roam_og_mou_9', 'loc_og_t2t_mou_6', 'loc_og_t2t_mou_7', 'loc_og_t2t_mou_8', 'loc_og_t2t_mou_9', 'loc_og_t2m_mou_6', 'loc_og_t2m_mou_7', 'loc_og_t2m_mou_8', 'loc_og_t2m_mou_9', 'loc_og_t2f_mou_6', 'loc_og_t2f_mou_7', 'loc_og_t2f_mou_8', 'loc_og_t2f_mou_9', 'loc_og_t2c_mou_6', 'loc_og_t2c_mou_7', 'loc_og_t2c_mou_8', 'loc_og_t2c_mou_9', 'loc_og_mou_6', 'loc_og_mou_7', 'loc_og_mou_8', 'loc_og_mou_9', 'std_og_t2t_mou_6', 'std_og_t2t_mou_7', 'std_og_t2t_mou_8', 'std_og_t2t_mou_9', 'std_og_t2m_mou_6', 'std_og_t2m_mou_7', 'std_og_t2m_mou_8', 'std_og_t2m_mou_9', 'std_og_t2f_mou_6', 'std_og_t2f_mou_7', 'std_og_t2f_mou_8', 'std_og_t2f_mou_9', 'std_og_t2c_mou_6', 'std_og_t2c_mou_7', 'std_og_t2c_mou_8', 'std_og_t2c_mou_9', 'std_og_mou_6', 'std_og_mou_7', 'std_og_mou_8', 'std_og_mou_9', 'isd_og_mou_6', 'isd_og_mou_7', 'isd_og_mou_8', 'isd_og_mou_9', 'spl_og_mou_6', 'spl_og_mou_7', 'spl_og_mou_8', 'spl_og_mou_9', 'og_others_6', 'og_others_7', 'og_others_8', 'og_others_9', 'total_og_mou_6', 'total_og_mou_7', 'total_og_mou_8', 'total_og_mou_9', 'loc_ic_t2t_mou_6', 'loc_ic_t2t_mou_7', 'loc_ic_t2t_mou_8', 'loc_ic_t2t_mou_9', 'loc_ic_t2m_mou_6', 'loc_ic_t2m_mou_7', 'loc_ic_t2m_mou_8', 'loc_ic_t2m_mou_9', 'loc_ic_t2f_mou_6', 'loc_ic_t2f_mou_7', 'loc_ic_t2f_mou_8', 'loc_ic_t2f_mou_9', 'loc_ic_mou_6', 'loc_ic_mou_7', 'loc_ic_mou_8', 'loc_ic_mou_9', 'std_ic_t2t_mou_6', 'std_ic_t2t_mou_7', 'std_ic_t2t_mou_8', 'std_ic_t2t_mou_9', 'std_ic_t2m_mou_6', 'std_ic_t2m_mou_7', 'std_ic_t2m_mou_8', 'std_ic_t2m_mou_9', 'std_ic_t2f_mou_6', 'std_ic_t2f_mou_7', 'std_ic_t2f_mou_8', 'std_ic_t2f_mou_9', 'std_ic_t2o_mou_6', 'std_ic_t2o_mou_7', 'std_ic_t2o_mou_8', 'std_ic_t2o_mou_9', 'std_ic_mou_6', 'std_ic_mou_7', 'std_ic_mou_8', 'std_ic_mou_9', 'total_ic_mou_6', 'total_ic_mou_7', 'total_ic_mou_8', 'total_ic_mou_9', 'spl_ic_mou_6', 'spl_ic_mou_7', 'spl_ic_mou_8', 'spl_ic_mou_9', 'isd_ic_mou_6', 'isd_ic_mou_7', 'isd_ic_mou_8', 'isd_ic_mou_9', 'ic_others_6', 'ic_others_7', 'ic_others_8', 'ic_others_9', 'total_rech_num_6', 'total_rech_num_7', 'total_rech_num_8', 'total_rech_num_9', 'total_rech_amt_6', 'total_rech_amt_7', 'total_rech_amt_8', 'total_rech_amt_9', 'max_rech_amt_6', 'max_rech_amt_7', 'max_rech_amt_8', 'max_rech_amt_9', 'last_day_rch_amt_6', 'last_day_rch_amt_7', 'last_day_rch_amt_8', 'last_day_rch_amt_9', 'total_rech_data_6', 'total_rech_data_7', 'total_rech_data_8', 'total_rech_data_9', 'max_rech_data_6', 'max_rech_data_7', 'max_rech_data_8', 'max_rech_data_9', 'count_rech_2g_6', 'count_rech_2g_7', 'count_rech_2g_8', 'count_rech_2g_9', 'count_rech_3g_6', 'count_rech_3g_7', 'count_rech_3g_8', 'count_rech_3g_9', 'av_rech_amt_data_6', 'av_rech_amt_data_7', 'av_rech_amt_data_8', 'av_rech_amt_data_9', 'vol_2g_mb_6', 'vol_2g_mb_7', 'vol_2g_mb_8', 'vol_2g_mb_9', 'vol_3g_mb_6', 'vol_3g_mb_7', 'vol_3g_mb_8', 'vol_3g_mb_9', 'arpu_3g_6', 'arpu_3g_7', 'arpu_3g_8', 'arpu_3g_9', 'arpu_2g_6', 'arpu_2g_7', 'arpu_2g_8', 'arpu_2g_9', 'night_pck_user_6', 'night_pck_user_7', 'night_pck_user_8', 'night_pck_user_9', 'monthly_2g_6', 'monthly_2g_7', 'monthly_2g_8', 'monthly_2g_9', 'sachet_2g_6', 'sachet_2g_7', 'sachet_2g_8', 'sachet_2g_9', 'monthly_3g_6', 'monthly_3g_7', 'monthly_3g_8', 'monthly_3g_9', 'sachet_3g_6', 'sachet_3g_7', 'sachet_3g_8', 'sachet_3g_9', 'fb_user_6', 'fb_user_7', 'fb_user_8', 'fb_user_9', 'aon', 'aug_vbc_3g', 'jul_vbc_3g', 'jun_vbc_3g', 'sep_vbc_3g']\n",
      "['last_date_of_month_6', 'last_date_of_month_7', 'last_date_of_month_8', 'last_date_of_month_9', 'date_of_last_rech_6', 'date_of_last_rech_7', 'date_of_last_rech_8', 'date_of_last_rech_9', 'date_of_last_rech_data_6', 'date_of_last_rech_data_7', 'date_of_last_rech_data_8', 'date_of_last_rech_data_9']\n"
     ]
    }
   ],
   "source": [
    "numeric_vars, categorical_vars = sep_num_cat(df)\n",
    "print(numeric_vars)\n",
    "print(categorical_vars)"
   ]
  },
  {
   "cell_type": "markdown",
   "metadata": {},
   "source": [
    "#### Drop unnecessary variables - mobile_number, circle_id, last_date_of_month_* etc"
   ]
  },
  {
   "cell_type": "code",
   "execution_count": 8,
   "metadata": {},
   "outputs": [
    {
     "data": {
      "text/plain": [
       "(99999, 220)"
      ]
     },
     "execution_count": 8,
     "metadata": {},
     "output_type": "execute_result"
    }
   ],
   "source": [
    "telecom_orig = df.copy()\n",
    "\n",
    "df =  df.drop(['mobile_number', 'circle_id', 'last_date_of_month_6', 'last_date_of_month_7', \n",
    "               'last_date_of_month_8', 'last_date_of_month_9'], axis=1)\n",
    "df.shape"
   ]
  },
  {
   "cell_type": "code",
   "execution_count": 9,
   "metadata": {},
   "outputs": [
    {
     "name": "stdout",
     "output_type": "stream",
     "text": [
      "['mobile_number', 'circle_id', 'loc_og_t2o_mou', 'std_og_t2o_mou', 'loc_ic_t2o_mou', 'arpu_6', 'arpu_7', 'arpu_8', 'arpu_9', 'onnet_mou_6', 'onnet_mou_7', 'onnet_mou_8', 'onnet_mou_9', 'offnet_mou_6', 'offnet_mou_7', 'offnet_mou_8', 'offnet_mou_9', 'roam_ic_mou_6', 'roam_ic_mou_7', 'roam_ic_mou_8', 'roam_ic_mou_9', 'roam_og_mou_6', 'roam_og_mou_7', 'roam_og_mou_8', 'roam_og_mou_9', 'loc_og_t2t_mou_6', 'loc_og_t2t_mou_7', 'loc_og_t2t_mou_8', 'loc_og_t2t_mou_9', 'loc_og_t2m_mou_6', 'loc_og_t2m_mou_7', 'loc_og_t2m_mou_8', 'loc_og_t2m_mou_9', 'loc_og_t2f_mou_6', 'loc_og_t2f_mou_7', 'loc_og_t2f_mou_8', 'loc_og_t2f_mou_9', 'loc_og_t2c_mou_6', 'loc_og_t2c_mou_7', 'loc_og_t2c_mou_8', 'loc_og_t2c_mou_9', 'loc_og_mou_6', 'loc_og_mou_7', 'loc_og_mou_8', 'loc_og_mou_9', 'std_og_t2t_mou_6', 'std_og_t2t_mou_7', 'std_og_t2t_mou_8', 'std_og_t2t_mou_9', 'std_og_t2m_mou_6', 'std_og_t2m_mou_7', 'std_og_t2m_mou_8', 'std_og_t2m_mou_9', 'std_og_t2f_mou_6', 'std_og_t2f_mou_7', 'std_og_t2f_mou_8', 'std_og_t2f_mou_9', 'std_og_t2c_mou_6', 'std_og_t2c_mou_7', 'std_og_t2c_mou_8', 'std_og_t2c_mou_9', 'std_og_mou_6', 'std_og_mou_7', 'std_og_mou_8', 'std_og_mou_9', 'isd_og_mou_6', 'isd_og_mou_7', 'isd_og_mou_8', 'isd_og_mou_9', 'spl_og_mou_6', 'spl_og_mou_7', 'spl_og_mou_8', 'spl_og_mou_9', 'og_others_6', 'og_others_7', 'og_others_8', 'og_others_9', 'total_og_mou_6', 'total_og_mou_7', 'total_og_mou_8', 'total_og_mou_9', 'loc_ic_t2t_mou_6', 'loc_ic_t2t_mou_7', 'loc_ic_t2t_mou_8', 'loc_ic_t2t_mou_9', 'loc_ic_t2m_mou_6', 'loc_ic_t2m_mou_7', 'loc_ic_t2m_mou_8', 'loc_ic_t2m_mou_9', 'loc_ic_t2f_mou_6', 'loc_ic_t2f_mou_7', 'loc_ic_t2f_mou_8', 'loc_ic_t2f_mou_9', 'loc_ic_mou_6', 'loc_ic_mou_7', 'loc_ic_mou_8', 'loc_ic_mou_9', 'std_ic_t2t_mou_6', 'std_ic_t2t_mou_7', 'std_ic_t2t_mou_8', 'std_ic_t2t_mou_9', 'std_ic_t2m_mou_6', 'std_ic_t2m_mou_7', 'std_ic_t2m_mou_8', 'std_ic_t2m_mou_9', 'std_ic_t2f_mou_6', 'std_ic_t2f_mou_7', 'std_ic_t2f_mou_8', 'std_ic_t2f_mou_9', 'std_ic_t2o_mou_6', 'std_ic_t2o_mou_7', 'std_ic_t2o_mou_8', 'std_ic_t2o_mou_9', 'std_ic_mou_6', 'std_ic_mou_7', 'std_ic_mou_8', 'std_ic_mou_9', 'total_ic_mou_6', 'total_ic_mou_7', 'total_ic_mou_8', 'total_ic_mou_9', 'spl_ic_mou_6', 'spl_ic_mou_7', 'spl_ic_mou_8', 'spl_ic_mou_9', 'isd_ic_mou_6', 'isd_ic_mou_7', 'isd_ic_mou_8', 'isd_ic_mou_9', 'ic_others_6', 'ic_others_7', 'ic_others_8', 'ic_others_9', 'total_rech_num_6', 'total_rech_num_7', 'total_rech_num_8', 'total_rech_num_9', 'total_rech_amt_6', 'total_rech_amt_7', 'total_rech_amt_8', 'total_rech_amt_9', 'max_rech_amt_6', 'max_rech_amt_7', 'max_rech_amt_8', 'max_rech_amt_9', 'last_day_rch_amt_6', 'last_day_rch_amt_7', 'last_day_rch_amt_8', 'last_day_rch_amt_9', 'total_rech_data_6', 'total_rech_data_7', 'total_rech_data_8', 'total_rech_data_9', 'max_rech_data_6', 'max_rech_data_7', 'max_rech_data_8', 'max_rech_data_9', 'count_rech_2g_6', 'count_rech_2g_7', 'count_rech_2g_8', 'count_rech_2g_9', 'count_rech_3g_6', 'count_rech_3g_7', 'count_rech_3g_8', 'count_rech_3g_9', 'av_rech_amt_data_6', 'av_rech_amt_data_7', 'av_rech_amt_data_8', 'av_rech_amt_data_9', 'vol_2g_mb_6', 'vol_2g_mb_7', 'vol_2g_mb_8', 'vol_2g_mb_9', 'vol_3g_mb_6', 'vol_3g_mb_7', 'vol_3g_mb_8', 'vol_3g_mb_9', 'arpu_3g_6', 'arpu_3g_7', 'arpu_3g_8', 'arpu_3g_9', 'arpu_2g_6', 'arpu_2g_7', 'arpu_2g_8', 'arpu_2g_9', 'night_pck_user_6', 'night_pck_user_7', 'night_pck_user_8', 'night_pck_user_9', 'monthly_2g_6', 'monthly_2g_7', 'monthly_2g_8', 'monthly_2g_9', 'sachet_2g_6', 'sachet_2g_7', 'sachet_2g_8', 'sachet_2g_9', 'monthly_3g_6', 'monthly_3g_7', 'monthly_3g_8', 'monthly_3g_9', 'sachet_3g_6', 'sachet_3g_7', 'sachet_3g_8', 'sachet_3g_9', 'fb_user_6', 'fb_user_7', 'fb_user_8', 'fb_user_9', 'aon', 'aug_vbc_3g', 'jul_vbc_3g', 'jun_vbc_3g', 'sep_vbc_3g']\n"
     ]
    }
   ],
   "source": [
    "print(list(numeric_vars))"
   ]
  },
  {
   "cell_type": "markdown",
   "metadata": {},
   "source": [
    "### 2. Data Cleaning - Missing data treatment"
   ]
  },
  {
   "cell_type": "markdown",
   "metadata": {},
   "source": [
    "#### Missing values analysis"
   ]
  },
  {
   "cell_type": "code",
   "execution_count": 20,
   "metadata": {},
   "outputs": [
    {
     "data": {
      "text/html": [
       "<div>\n",
       "<style scoped>\n",
       "    .dataframe tbody tr th:only-of-type {\n",
       "        vertical-align: middle;\n",
       "    }\n",
       "\n",
       "    .dataframe tbody tr th {\n",
       "        vertical-align: top;\n",
       "    }\n",
       "\n",
       "    .dataframe thead th {\n",
       "        text-align: right;\n",
       "    }\n",
       "</style>\n",
       "<table border=\"1\" class=\"dataframe\">\n",
       "  <thead>\n",
       "    <tr style=\"text-align: right;\">\n",
       "      <th></th>\n",
       "      <th>loc_og_t2o_mou</th>\n",
       "      <th>std_og_t2o_mou</th>\n",
       "      <th>loc_ic_t2o_mou</th>\n",
       "      <th>last_date_of_month_7</th>\n",
       "      <th>last_date_of_month_8</th>\n",
       "      <th>last_date_of_month_9</th>\n",
       "      <th>onnet_mou_6</th>\n",
       "      <th>onnet_mou_7</th>\n",
       "      <th>onnet_mou_8</th>\n",
       "      <th>onnet_mou_9</th>\n",
       "      <th>...</th>\n",
       "      <th>arpu_2g_8</th>\n",
       "      <th>arpu_2g_9</th>\n",
       "      <th>night_pck_user_6</th>\n",
       "      <th>night_pck_user_7</th>\n",
       "      <th>night_pck_user_8</th>\n",
       "      <th>night_pck_user_9</th>\n",
       "      <th>fb_user_6</th>\n",
       "      <th>fb_user_7</th>\n",
       "      <th>fb_user_8</th>\n",
       "      <th>fb_user_9</th>\n",
       "    </tr>\n",
       "  </thead>\n",
       "  <tbody>\n",
       "    <tr>\n",
       "      <th>0</th>\n",
       "      <td>0.0</td>\n",
       "      <td>0.0</td>\n",
       "      <td>0.0</td>\n",
       "      <td>7/31/2014</td>\n",
       "      <td>8/31/2014</td>\n",
       "      <td>9/30/2014</td>\n",
       "      <td>NaN</td>\n",
       "      <td>NaN</td>\n",
       "      <td>0.00</td>\n",
       "      <td>NaN</td>\n",
       "      <td>...</td>\n",
       "      <td>212.17</td>\n",
       "      <td>NaN</td>\n",
       "      <td>0.0</td>\n",
       "      <td>0.0</td>\n",
       "      <td>0.0</td>\n",
       "      <td>NaN</td>\n",
       "      <td>1.0</td>\n",
       "      <td>1.0</td>\n",
       "      <td>1.0</td>\n",
       "      <td>NaN</td>\n",
       "    </tr>\n",
       "    <tr>\n",
       "      <th>1</th>\n",
       "      <td>0.0</td>\n",
       "      <td>0.0</td>\n",
       "      <td>0.0</td>\n",
       "      <td>7/31/2014</td>\n",
       "      <td>8/31/2014</td>\n",
       "      <td>9/30/2014</td>\n",
       "      <td>24.11</td>\n",
       "      <td>78.68</td>\n",
       "      <td>7.68</td>\n",
       "      <td>18.34</td>\n",
       "      <td>...</td>\n",
       "      <td>7.60</td>\n",
       "      <td>NaN</td>\n",
       "      <td>NaN</td>\n",
       "      <td>0.0</td>\n",
       "      <td>0.0</td>\n",
       "      <td>NaN</td>\n",
       "      <td>NaN</td>\n",
       "      <td>1.0</td>\n",
       "      <td>1.0</td>\n",
       "      <td>NaN</td>\n",
       "    </tr>\n",
       "    <tr>\n",
       "      <th>2</th>\n",
       "      <td>0.0</td>\n",
       "      <td>0.0</td>\n",
       "      <td>0.0</td>\n",
       "      <td>7/31/2014</td>\n",
       "      <td>8/31/2014</td>\n",
       "      <td>9/30/2014</td>\n",
       "      <td>11.54</td>\n",
       "      <td>55.24</td>\n",
       "      <td>37.26</td>\n",
       "      <td>74.81</td>\n",
       "      <td>...</td>\n",
       "      <td>NaN</td>\n",
       "      <td>0.00</td>\n",
       "      <td>NaN</td>\n",
       "      <td>NaN</td>\n",
       "      <td>NaN</td>\n",
       "      <td>0.0</td>\n",
       "      <td>NaN</td>\n",
       "      <td>NaN</td>\n",
       "      <td>NaN</td>\n",
       "      <td>1.0</td>\n",
       "    </tr>\n",
       "    <tr>\n",
       "      <th>3</th>\n",
       "      <td>0.0</td>\n",
       "      <td>0.0</td>\n",
       "      <td>0.0</td>\n",
       "      <td>7/31/2014</td>\n",
       "      <td>8/31/2014</td>\n",
       "      <td>9/30/2014</td>\n",
       "      <td>99.91</td>\n",
       "      <td>54.39</td>\n",
       "      <td>310.98</td>\n",
       "      <td>241.71</td>\n",
       "      <td>...</td>\n",
       "      <td>NaN</td>\n",
       "      <td>NaN</td>\n",
       "      <td>NaN</td>\n",
       "      <td>NaN</td>\n",
       "      <td>NaN</td>\n",
       "      <td>NaN</td>\n",
       "      <td>NaN</td>\n",
       "      <td>NaN</td>\n",
       "      <td>NaN</td>\n",
       "      <td>NaN</td>\n",
       "    </tr>\n",
       "    <tr>\n",
       "      <th>4</th>\n",
       "      <td>0.0</td>\n",
       "      <td>0.0</td>\n",
       "      <td>0.0</td>\n",
       "      <td>7/31/2014</td>\n",
       "      <td>8/31/2014</td>\n",
       "      <td>9/30/2014</td>\n",
       "      <td>50.31</td>\n",
       "      <td>149.44</td>\n",
       "      <td>83.89</td>\n",
       "      <td>58.78</td>\n",
       "      <td>...</td>\n",
       "      <td>NaN</td>\n",
       "      <td>NaN</td>\n",
       "      <td>0.0</td>\n",
       "      <td>NaN</td>\n",
       "      <td>NaN</td>\n",
       "      <td>NaN</td>\n",
       "      <td>0.0</td>\n",
       "      <td>NaN</td>\n",
       "      <td>NaN</td>\n",
       "      <td>NaN</td>\n",
       "    </tr>\n",
       "    <tr>\n",
       "      <th>...</th>\n",
       "      <td>...</td>\n",
       "      <td>...</td>\n",
       "      <td>...</td>\n",
       "      <td>...</td>\n",
       "      <td>...</td>\n",
       "      <td>...</td>\n",
       "      <td>...</td>\n",
       "      <td>...</td>\n",
       "      <td>...</td>\n",
       "      <td>...</td>\n",
       "      <td>...</td>\n",
       "      <td>...</td>\n",
       "      <td>...</td>\n",
       "      <td>...</td>\n",
       "      <td>...</td>\n",
       "      <td>...</td>\n",
       "      <td>...</td>\n",
       "      <td>...</td>\n",
       "      <td>...</td>\n",
       "      <td>...</td>\n",
       "      <td>...</td>\n",
       "    </tr>\n",
       "    <tr>\n",
       "      <th>99994</th>\n",
       "      <td>0.0</td>\n",
       "      <td>0.0</td>\n",
       "      <td>0.0</td>\n",
       "      <td>7/31/2014</td>\n",
       "      <td>8/31/2014</td>\n",
       "      <td>9/30/2014</td>\n",
       "      <td>5.40</td>\n",
       "      <td>3.36</td>\n",
       "      <td>5.91</td>\n",
       "      <td>0.00</td>\n",
       "      <td>...</td>\n",
       "      <td>NaN</td>\n",
       "      <td>NaN</td>\n",
       "      <td>NaN</td>\n",
       "      <td>NaN</td>\n",
       "      <td>NaN</td>\n",
       "      <td>NaN</td>\n",
       "      <td>NaN</td>\n",
       "      <td>NaN</td>\n",
       "      <td>NaN</td>\n",
       "      <td>NaN</td>\n",
       "    </tr>\n",
       "    <tr>\n",
       "      <th>99995</th>\n",
       "      <td>0.0</td>\n",
       "      <td>0.0</td>\n",
       "      <td>0.0</td>\n",
       "      <td>7/31/2014</td>\n",
       "      <td>8/31/2014</td>\n",
       "      <td>9/30/2014</td>\n",
       "      <td>29.26</td>\n",
       "      <td>18.13</td>\n",
       "      <td>16.06</td>\n",
       "      <td>49.49</td>\n",
       "      <td>...</td>\n",
       "      <td>NaN</td>\n",
       "      <td>NaN</td>\n",
       "      <td>NaN</td>\n",
       "      <td>NaN</td>\n",
       "      <td>NaN</td>\n",
       "      <td>NaN</td>\n",
       "      <td>NaN</td>\n",
       "      <td>NaN</td>\n",
       "      <td>NaN</td>\n",
       "      <td>NaN</td>\n",
       "    </tr>\n",
       "    <tr>\n",
       "      <th>99996</th>\n",
       "      <td>0.0</td>\n",
       "      <td>0.0</td>\n",
       "      <td>0.0</td>\n",
       "      <td>7/31/2014</td>\n",
       "      <td>8/31/2014</td>\n",
       "      <td>9/30/2014</td>\n",
       "      <td>1.11</td>\n",
       "      <td>NaN</td>\n",
       "      <td>NaN</td>\n",
       "      <td>NaN</td>\n",
       "      <td>...</td>\n",
       "      <td>NaN</td>\n",
       "      <td>NaN</td>\n",
       "      <td>0.0</td>\n",
       "      <td>NaN</td>\n",
       "      <td>NaN</td>\n",
       "      <td>NaN</td>\n",
       "      <td>1.0</td>\n",
       "      <td>NaN</td>\n",
       "      <td>NaN</td>\n",
       "      <td>NaN</td>\n",
       "    </tr>\n",
       "    <tr>\n",
       "      <th>99997</th>\n",
       "      <td>0.0</td>\n",
       "      <td>0.0</td>\n",
       "      <td>0.0</td>\n",
       "      <td>7/31/2014</td>\n",
       "      <td>8/31/2014</td>\n",
       "      <td>9/30/2014</td>\n",
       "      <td>0.00</td>\n",
       "      <td>0.00</td>\n",
       "      <td>0.00</td>\n",
       "      <td>0.00</td>\n",
       "      <td>...</td>\n",
       "      <td>602.68</td>\n",
       "      <td>725.68</td>\n",
       "      <td>0.0</td>\n",
       "      <td>0.0</td>\n",
       "      <td>0.0</td>\n",
       "      <td>0.0</td>\n",
       "      <td>1.0</td>\n",
       "      <td>1.0</td>\n",
       "      <td>1.0</td>\n",
       "      <td>1.0</td>\n",
       "    </tr>\n",
       "    <tr>\n",
       "      <th>99998</th>\n",
       "      <td>0.0</td>\n",
       "      <td>0.0</td>\n",
       "      <td>0.0</td>\n",
       "      <td>7/31/2014</td>\n",
       "      <td>8/31/2014</td>\n",
       "      <td>9/30/2014</td>\n",
       "      <td>84.34</td>\n",
       "      <td>NaN</td>\n",
       "      <td>NaN</td>\n",
       "      <td>NaN</td>\n",
       "      <td>...</td>\n",
       "      <td>NaN</td>\n",
       "      <td>NaN</td>\n",
       "      <td>0.0</td>\n",
       "      <td>NaN</td>\n",
       "      <td>NaN</td>\n",
       "      <td>NaN</td>\n",
       "      <td>1.0</td>\n",
       "      <td>NaN</td>\n",
       "      <td>NaN</td>\n",
       "      <td>NaN</td>\n",
       "    </tr>\n",
       "  </tbody>\n",
       "</table>\n",
       "<p>99999 rows × 166 columns</p>\n",
       "</div>"
      ],
      "text/plain": [
       "       loc_og_t2o_mou  std_og_t2o_mou  loc_ic_t2o_mou last_date_of_month_7  \\\n",
       "0                 0.0             0.0             0.0            7/31/2014   \n",
       "1                 0.0             0.0             0.0            7/31/2014   \n",
       "2                 0.0             0.0             0.0            7/31/2014   \n",
       "3                 0.0             0.0             0.0            7/31/2014   \n",
       "4                 0.0             0.0             0.0            7/31/2014   \n",
       "...               ...             ...             ...                  ...   \n",
       "99994             0.0             0.0             0.0            7/31/2014   \n",
       "99995             0.0             0.0             0.0            7/31/2014   \n",
       "99996             0.0             0.0             0.0            7/31/2014   \n",
       "99997             0.0             0.0             0.0            7/31/2014   \n",
       "99998             0.0             0.0             0.0            7/31/2014   \n",
       "\n",
       "      last_date_of_month_8 last_date_of_month_9  onnet_mou_6  onnet_mou_7  \\\n",
       "0                8/31/2014            9/30/2014          NaN          NaN   \n",
       "1                8/31/2014            9/30/2014        24.11        78.68   \n",
       "2                8/31/2014            9/30/2014        11.54        55.24   \n",
       "3                8/31/2014            9/30/2014        99.91        54.39   \n",
       "4                8/31/2014            9/30/2014        50.31       149.44   \n",
       "...                    ...                  ...          ...          ...   \n",
       "99994            8/31/2014            9/30/2014         5.40         3.36   \n",
       "99995            8/31/2014            9/30/2014        29.26        18.13   \n",
       "99996            8/31/2014            9/30/2014         1.11          NaN   \n",
       "99997            8/31/2014            9/30/2014         0.00         0.00   \n",
       "99998            8/31/2014            9/30/2014        84.34          NaN   \n",
       "\n",
       "       onnet_mou_8  onnet_mou_9  ...  arpu_2g_8  arpu_2g_9  night_pck_user_6  \\\n",
       "0             0.00          NaN  ...     212.17        NaN               0.0   \n",
       "1             7.68        18.34  ...       7.60        NaN               NaN   \n",
       "2            37.26        74.81  ...        NaN       0.00               NaN   \n",
       "3           310.98       241.71  ...        NaN        NaN               NaN   \n",
       "4            83.89        58.78  ...        NaN        NaN               0.0   \n",
       "...            ...          ...  ...        ...        ...               ...   \n",
       "99994         5.91         0.00  ...        NaN        NaN               NaN   \n",
       "99995        16.06        49.49  ...        NaN        NaN               NaN   \n",
       "99996          NaN          NaN  ...        NaN        NaN               0.0   \n",
       "99997         0.00         0.00  ...     602.68     725.68               0.0   \n",
       "99998          NaN          NaN  ...        NaN        NaN               0.0   \n",
       "\n",
       "       night_pck_user_7  night_pck_user_8  night_pck_user_9  fb_user_6  \\\n",
       "0                   0.0               0.0               NaN        1.0   \n",
       "1                   0.0               0.0               NaN        NaN   \n",
       "2                   NaN               NaN               0.0        NaN   \n",
       "3                   NaN               NaN               NaN        NaN   \n",
       "4                   NaN               NaN               NaN        0.0   \n",
       "...                 ...               ...               ...        ...   \n",
       "99994               NaN               NaN               NaN        NaN   \n",
       "99995               NaN               NaN               NaN        NaN   \n",
       "99996               NaN               NaN               NaN        1.0   \n",
       "99997               0.0               0.0               0.0        1.0   \n",
       "99998               NaN               NaN               NaN        1.0   \n",
       "\n",
       "       fb_user_7  fb_user_8  fb_user_9  \n",
       "0            1.0        1.0        NaN  \n",
       "1            1.0        1.0        NaN  \n",
       "2            NaN        NaN        1.0  \n",
       "3            NaN        NaN        NaN  \n",
       "4            NaN        NaN        NaN  \n",
       "...          ...        ...        ...  \n",
       "99994        NaN        NaN        NaN  \n",
       "99995        NaN        NaN        NaN  \n",
       "99996        NaN        NaN        NaN  \n",
       "99997        1.0        1.0        1.0  \n",
       "99998        NaN        NaN        NaN  \n",
       "\n",
       "[99999 rows x 166 columns]"
      ]
     },
     "execution_count": 20,
     "metadata": {},
     "output_type": "execute_result"
    }
   ],
   "source": [
    "df[ df.columns[df.isnull().any()] ]"
   ]
  },
  {
   "cell_type": "code",
   "execution_count": 25,
   "metadata": {},
   "outputs": [],
   "source": [
    "## Function to print details of columns with missing values\n",
    "def missing_values_details(df):\n",
    "    return list(zip(df[ df.columns[df.isnull().any()] ].isnull(), \n",
    "                    df[ df.columns[df.isnull().any()] ].isnull().sum(),\n",
    "                    df[ df.columns[df.isnull().any()] ].isnull().sum() / len(df.index) * 100, \n",
    "                    df[ df.columns[df.isnull().any()] ].dtypes))"
   ]
  },
  {
   "cell_type": "code",
   "execution_count": 26,
   "metadata": {},
   "outputs": [
    {
     "data": {
      "text/plain": [
       "[('loc_og_t2o_mou', 1018, 1.018010180101801, dtype('float64')),\n",
       " ('std_og_t2o_mou', 1018, 1.018010180101801, dtype('float64')),\n",
       " ('loc_ic_t2o_mou', 1018, 1.018010180101801, dtype('float64')),\n",
       " ('last_date_of_month_7', 601, 0.6010060100601006, dtype('O')),\n",
       " ('last_date_of_month_8', 1100, 1.1000110001100012, dtype('O')),\n",
       " ('last_date_of_month_9', 1659, 1.6590165901659015, dtype('O')),\n",
       " ('onnet_mou_6', 3937, 3.9370393703937037, dtype('float64')),\n",
       " ('onnet_mou_7', 3859, 3.859038590385904, dtype('float64')),\n",
       " ('onnet_mou_8', 5378, 5.3780537805378055, dtype('float64')),\n",
       " ('onnet_mou_9', 7745, 7.745077450774509, dtype('float64')),\n",
       " ('offnet_mou_6', 3937, 3.9370393703937037, dtype('float64')),\n",
       " ('offnet_mou_7', 3859, 3.859038590385904, dtype('float64')),\n",
       " ('offnet_mou_8', 5378, 5.3780537805378055, dtype('float64')),\n",
       " ('offnet_mou_9', 7745, 7.745077450774509, dtype('float64')),\n",
       " ('roam_ic_mou_6', 3937, 3.9370393703937037, dtype('float64')),\n",
       " ('roam_ic_mou_7', 3859, 3.859038590385904, dtype('float64')),\n",
       " ('roam_ic_mou_8', 5378, 5.3780537805378055, dtype('float64')),\n",
       " ('roam_ic_mou_9', 7745, 7.745077450774509, dtype('float64')),\n",
       " ('roam_og_mou_6', 3937, 3.9370393703937037, dtype('float64')),\n",
       " ('roam_og_mou_7', 3859, 3.859038590385904, dtype('float64')),\n",
       " ('roam_og_mou_8', 5378, 5.3780537805378055, dtype('float64')),\n",
       " ('roam_og_mou_9', 7745, 7.745077450774509, dtype('float64')),\n",
       " ('loc_og_t2t_mou_6', 3937, 3.9370393703937037, dtype('float64')),\n",
       " ('loc_og_t2t_mou_7', 3859, 3.859038590385904, dtype('float64')),\n",
       " ('loc_og_t2t_mou_8', 5378, 5.3780537805378055, dtype('float64')),\n",
       " ('loc_og_t2t_mou_9', 7745, 7.745077450774509, dtype('float64')),\n",
       " ('loc_og_t2m_mou_6', 3937, 3.9370393703937037, dtype('float64')),\n",
       " ('loc_og_t2m_mou_7', 3859, 3.859038590385904, dtype('float64')),\n",
       " ('loc_og_t2m_mou_8', 5378, 5.3780537805378055, dtype('float64')),\n",
       " ('loc_og_t2m_mou_9', 7745, 7.745077450774509, dtype('float64')),\n",
       " ('loc_og_t2f_mou_6', 3937, 3.9370393703937037, dtype('float64')),\n",
       " ('loc_og_t2f_mou_7', 3859, 3.859038590385904, dtype('float64')),\n",
       " ('loc_og_t2f_mou_8', 5378, 5.3780537805378055, dtype('float64')),\n",
       " ('loc_og_t2f_mou_9', 7745, 7.745077450774509, dtype('float64')),\n",
       " ('loc_og_t2c_mou_6', 3937, 3.9370393703937037, dtype('float64')),\n",
       " ('loc_og_t2c_mou_7', 3859, 3.859038590385904, dtype('float64')),\n",
       " ('loc_og_t2c_mou_8', 5378, 5.3780537805378055, dtype('float64')),\n",
       " ('loc_og_t2c_mou_9', 7745, 7.745077450774509, dtype('float64')),\n",
       " ('loc_og_mou_6', 3937, 3.9370393703937037, dtype('float64')),\n",
       " ('loc_og_mou_7', 3859, 3.859038590385904, dtype('float64')),\n",
       " ('loc_og_mou_8', 5378, 5.3780537805378055, dtype('float64')),\n",
       " ('loc_og_mou_9', 7745, 7.745077450774509, dtype('float64')),\n",
       " ('std_og_t2t_mou_6', 3937, 3.9370393703937037, dtype('float64')),\n",
       " ('std_og_t2t_mou_7', 3859, 3.859038590385904, dtype('float64')),\n",
       " ('std_og_t2t_mou_8', 5378, 5.3780537805378055, dtype('float64')),\n",
       " ('std_og_t2t_mou_9', 7745, 7.745077450774509, dtype('float64')),\n",
       " ('std_og_t2m_mou_6', 3937, 3.9370393703937037, dtype('float64')),\n",
       " ('std_og_t2m_mou_7', 3859, 3.859038590385904, dtype('float64')),\n",
       " ('std_og_t2m_mou_8', 5378, 5.3780537805378055, dtype('float64')),\n",
       " ('std_og_t2m_mou_9', 7745, 7.745077450774509, dtype('float64')),\n",
       " ('std_og_t2f_mou_6', 3937, 3.9370393703937037, dtype('float64')),\n",
       " ('std_og_t2f_mou_7', 3859, 3.859038590385904, dtype('float64')),\n",
       " ('std_og_t2f_mou_8', 5378, 5.3780537805378055, dtype('float64')),\n",
       " ('std_og_t2f_mou_9', 7745, 7.745077450774509, dtype('float64')),\n",
       " ('std_og_t2c_mou_6', 3937, 3.9370393703937037, dtype('float64')),\n",
       " ('std_og_t2c_mou_7', 3859, 3.859038590385904, dtype('float64')),\n",
       " ('std_og_t2c_mou_8', 5378, 5.3780537805378055, dtype('float64')),\n",
       " ('std_og_t2c_mou_9', 7745, 7.745077450774509, dtype('float64')),\n",
       " ('std_og_mou_6', 3937, 3.9370393703937037, dtype('float64')),\n",
       " ('std_og_mou_7', 3859, 3.859038590385904, dtype('float64')),\n",
       " ('std_og_mou_8', 5378, 5.3780537805378055, dtype('float64')),\n",
       " ('std_og_mou_9', 7745, 7.745077450774509, dtype('float64')),\n",
       " ('isd_og_mou_6', 3937, 3.9370393703937037, dtype('float64')),\n",
       " ('isd_og_mou_7', 3859, 3.859038590385904, dtype('float64')),\n",
       " ('isd_og_mou_8', 5378, 5.3780537805378055, dtype('float64')),\n",
       " ('isd_og_mou_9', 7745, 7.745077450774509, dtype('float64')),\n",
       " ('spl_og_mou_6', 3937, 3.9370393703937037, dtype('float64')),\n",
       " ('spl_og_mou_7', 3859, 3.859038590385904, dtype('float64')),\n",
       " ('spl_og_mou_8', 5378, 5.3780537805378055, dtype('float64')),\n",
       " ('spl_og_mou_9', 7745, 7.745077450774509, dtype('float64')),\n",
       " ('og_others_6', 3937, 3.9370393703937037, dtype('float64')),\n",
       " ('og_others_7', 3859, 3.859038590385904, dtype('float64')),\n",
       " ('og_others_8', 5378, 5.3780537805378055, dtype('float64')),\n",
       " ('og_others_9', 7745, 7.745077450774509, dtype('float64')),\n",
       " ('loc_ic_t2t_mou_6', 3937, 3.9370393703937037, dtype('float64')),\n",
       " ('loc_ic_t2t_mou_7', 3859, 3.859038590385904, dtype('float64')),\n",
       " ('loc_ic_t2t_mou_8', 5378, 5.3780537805378055, dtype('float64')),\n",
       " ('loc_ic_t2t_mou_9', 7745, 7.745077450774509, dtype('float64')),\n",
       " ('loc_ic_t2m_mou_6', 3937, 3.9370393703937037, dtype('float64')),\n",
       " ('loc_ic_t2m_mou_7', 3859, 3.859038590385904, dtype('float64')),\n",
       " ('loc_ic_t2m_mou_8', 5378, 5.3780537805378055, dtype('float64')),\n",
       " ('loc_ic_t2m_mou_9', 7745, 7.745077450774509, dtype('float64')),\n",
       " ('loc_ic_t2f_mou_6', 3937, 3.9370393703937037, dtype('float64')),\n",
       " ('loc_ic_t2f_mou_7', 3859, 3.859038590385904, dtype('float64')),\n",
       " ('loc_ic_t2f_mou_8', 5378, 5.3780537805378055, dtype('float64')),\n",
       " ('loc_ic_t2f_mou_9', 7745, 7.745077450774509, dtype('float64')),\n",
       " ('loc_ic_mou_6', 3937, 3.9370393703937037, dtype('float64')),\n",
       " ('loc_ic_mou_7', 3859, 3.859038590385904, dtype('float64')),\n",
       " ('loc_ic_mou_8', 5378, 5.3780537805378055, dtype('float64')),\n",
       " ('loc_ic_mou_9', 7745, 7.745077450774509, dtype('float64')),\n",
       " ('std_ic_t2t_mou_6', 3937, 3.9370393703937037, dtype('float64')),\n",
       " ('std_ic_t2t_mou_7', 3859, 3.859038590385904, dtype('float64')),\n",
       " ('std_ic_t2t_mou_8', 5378, 5.3780537805378055, dtype('float64')),\n",
       " ('std_ic_t2t_mou_9', 7745, 7.745077450774509, dtype('float64')),\n",
       " ('std_ic_t2m_mou_6', 3937, 3.9370393703937037, dtype('float64')),\n",
       " ('std_ic_t2m_mou_7', 3859, 3.859038590385904, dtype('float64')),\n",
       " ('std_ic_t2m_mou_8', 5378, 5.3780537805378055, dtype('float64')),\n",
       " ('std_ic_t2m_mou_9', 7745, 7.745077450774509, dtype('float64')),\n",
       " ('std_ic_t2f_mou_6', 3937, 3.9370393703937037, dtype('float64')),\n",
       " ('std_ic_t2f_mou_7', 3859, 3.859038590385904, dtype('float64')),\n",
       " ('std_ic_t2f_mou_8', 5378, 5.3780537805378055, dtype('float64')),\n",
       " ('std_ic_t2f_mou_9', 7745, 7.745077450774509, dtype('float64')),\n",
       " ('std_ic_t2o_mou_6', 3937, 3.9370393703937037, dtype('float64')),\n",
       " ('std_ic_t2o_mou_7', 3859, 3.859038590385904, dtype('float64')),\n",
       " ('std_ic_t2o_mou_8', 5378, 5.3780537805378055, dtype('float64')),\n",
       " ('std_ic_t2o_mou_9', 7745, 7.745077450774509, dtype('float64')),\n",
       " ('std_ic_mou_6', 3937, 3.9370393703937037, dtype('float64')),\n",
       " ('std_ic_mou_7', 3859, 3.859038590385904, dtype('float64')),\n",
       " ('std_ic_mou_8', 5378, 5.3780537805378055, dtype('float64')),\n",
       " ('std_ic_mou_9', 7745, 7.745077450774509, dtype('float64')),\n",
       " ('spl_ic_mou_6', 3937, 3.9370393703937037, dtype('float64')),\n",
       " ('spl_ic_mou_7', 3859, 3.859038590385904, dtype('float64')),\n",
       " ('spl_ic_mou_8', 5378, 5.3780537805378055, dtype('float64')),\n",
       " ('spl_ic_mou_9', 7745, 7.745077450774509, dtype('float64')),\n",
       " ('isd_ic_mou_6', 3937, 3.9370393703937037, dtype('float64')),\n",
       " ('isd_ic_mou_7', 3859, 3.859038590385904, dtype('float64')),\n",
       " ('isd_ic_mou_8', 5378, 5.3780537805378055, dtype('float64')),\n",
       " ('isd_ic_mou_9', 7745, 7.745077450774509, dtype('float64')),\n",
       " ('ic_others_6', 3937, 3.9370393703937037, dtype('float64')),\n",
       " ('ic_others_7', 3859, 3.859038590385904, dtype('float64')),\n",
       " ('ic_others_8', 5378, 5.3780537805378055, dtype('float64')),\n",
       " ('ic_others_9', 7745, 7.745077450774509, dtype('float64')),\n",
       " ('date_of_last_rech_6', 1607, 1.6070160701607015, dtype('O')),\n",
       " ('date_of_last_rech_7', 1767, 1.767017670176702, dtype('O')),\n",
       " ('date_of_last_rech_8', 3622, 3.6220362203622036, dtype('O')),\n",
       " ('date_of_last_rech_9', 4760, 4.760047600476005, dtype('O')),\n",
       " ('date_of_last_rech_data_6', 74846, 74.84674846748467, dtype('O')),\n",
       " ('date_of_last_rech_data_7', 74428, 74.42874428744287, dtype('O')),\n",
       " ('date_of_last_rech_data_8', 73660, 73.66073660736608, dtype('O')),\n",
       " ('date_of_last_rech_data_9', 74077, 74.07774077740777, dtype('O')),\n",
       " ('total_rech_data_6', 74846, 74.84674846748467, dtype('float64')),\n",
       " ('total_rech_data_7', 74428, 74.42874428744287, dtype('float64')),\n",
       " ('total_rech_data_8', 73660, 73.66073660736608, dtype('float64')),\n",
       " ('total_rech_data_9', 74077, 74.07774077740777, dtype('float64')),\n",
       " ('max_rech_data_6', 74846, 74.84674846748467, dtype('float64')),\n",
       " ('max_rech_data_7', 74428, 74.42874428744287, dtype('float64')),\n",
       " ('max_rech_data_8', 73660, 73.66073660736608, dtype('float64')),\n",
       " ('max_rech_data_9', 74077, 74.07774077740777, dtype('float64')),\n",
       " ('count_rech_2g_6', 74846, 74.84674846748467, dtype('float64')),\n",
       " ('count_rech_2g_7', 74428, 74.42874428744287, dtype('float64')),\n",
       " ('count_rech_2g_8', 73660, 73.66073660736608, dtype('float64')),\n",
       " ('count_rech_2g_9', 74077, 74.07774077740777, dtype('float64')),\n",
       " ('count_rech_3g_6', 74846, 74.84674846748467, dtype('float64')),\n",
       " ('count_rech_3g_7', 74428, 74.42874428744287, dtype('float64')),\n",
       " ('count_rech_3g_8', 73660, 73.66073660736608, dtype('float64')),\n",
       " ('count_rech_3g_9', 74077, 74.07774077740777, dtype('float64')),\n",
       " ('av_rech_amt_data_6', 74846, 74.84674846748467, dtype('float64')),\n",
       " ('av_rech_amt_data_7', 74428, 74.42874428744287, dtype('float64')),\n",
       " ('av_rech_amt_data_8', 73660, 73.66073660736608, dtype('float64')),\n",
       " ('av_rech_amt_data_9', 74077, 74.07774077740777, dtype('float64')),\n",
       " ('arpu_3g_6', 74846, 74.84674846748467, dtype('float64')),\n",
       " ('arpu_3g_7', 74428, 74.42874428744287, dtype('float64')),\n",
       " ('arpu_3g_8', 73660, 73.66073660736608, dtype('float64')),\n",
       " ('arpu_3g_9', 74077, 74.07774077740777, dtype('float64')),\n",
       " ('arpu_2g_6', 74846, 74.84674846748467, dtype('float64')),\n",
       " ('arpu_2g_7', 74428, 74.42874428744287, dtype('float64')),\n",
       " ('arpu_2g_8', 73660, 73.66073660736608, dtype('float64')),\n",
       " ('arpu_2g_9', 74077, 74.07774077740777, dtype('float64')),\n",
       " ('night_pck_user_6', 74846, 74.84674846748467, dtype('float64')),\n",
       " ('night_pck_user_7', 74428, 74.42874428744287, dtype('float64')),\n",
       " ('night_pck_user_8', 73660, 73.66073660736608, dtype('float64')),\n",
       " ('night_pck_user_9', 74077, 74.07774077740777, dtype('float64')),\n",
       " ('fb_user_6', 74846, 74.84674846748467, dtype('float64')),\n",
       " ('fb_user_7', 74428, 74.42874428744287, dtype('float64')),\n",
       " ('fb_user_8', 73660, 73.66073660736608, dtype('float64')),\n",
       " ('fb_user_9', 74077, 74.07774077740777, dtype('float64'))]"
      ]
     },
     "execution_count": 26,
     "metadata": {},
     "output_type": "execute_result"
    }
   ],
   "source": [
    "missing_values_details(df)"
   ]
  },
  {
   "cell_type": "markdown",
   "metadata": {},
   "source": [
    "#### Some variables have more than 70% missing values. Let us separate them out and analyze."
   ]
  },
  {
   "cell_type": "code",
   "execution_count": 27,
   "metadata": {},
   "outputs": [
    {
     "name": "stdout",
     "output_type": "stream",
     "text": [
      "40\n"
     ]
    },
    {
     "data": {
      "text/plain": [
       "['date_of_last_rech_data_6',\n",
       " 'date_of_last_rech_data_7',\n",
       " 'date_of_last_rech_data_8',\n",
       " 'date_of_last_rech_data_9',\n",
       " 'total_rech_data_6',\n",
       " 'total_rech_data_7',\n",
       " 'total_rech_data_8',\n",
       " 'total_rech_data_9',\n",
       " 'max_rech_data_6',\n",
       " 'max_rech_data_7',\n",
       " 'max_rech_data_8',\n",
       " 'max_rech_data_9',\n",
       " 'count_rech_2g_6',\n",
       " 'count_rech_2g_7',\n",
       " 'count_rech_2g_8',\n",
       " 'count_rech_2g_9',\n",
       " 'count_rech_3g_6',\n",
       " 'count_rech_3g_7',\n",
       " 'count_rech_3g_8',\n",
       " 'count_rech_3g_9',\n",
       " 'av_rech_amt_data_6',\n",
       " 'av_rech_amt_data_7',\n",
       " 'av_rech_amt_data_8',\n",
       " 'av_rech_amt_data_9',\n",
       " 'arpu_3g_6',\n",
       " 'arpu_3g_7',\n",
       " 'arpu_3g_8',\n",
       " 'arpu_3g_9',\n",
       " 'arpu_2g_6',\n",
       " 'arpu_2g_7',\n",
       " 'arpu_2g_8',\n",
       " 'arpu_2g_9',\n",
       " 'night_pck_user_6',\n",
       " 'night_pck_user_7',\n",
       " 'night_pck_user_8',\n",
       " 'night_pck_user_9',\n",
       " 'fb_user_6',\n",
       " 'fb_user_7',\n",
       " 'fb_user_8',\n",
       " 'fb_user_9']"
      ]
     },
     "execution_count": 27,
     "metadata": {},
     "output_type": "execute_result"
    }
   ],
   "source": [
    "cols_missing_large = [col for col in df.columns if (df[col].isnull().sum() / len(df.index)  > 0.7)]\n",
    "print(len(cols_missing_large))\n",
    "cols_missing_large"
   ]
  },
  {
   "cell_type": "markdown",
   "metadata": {},
   "source": [
    "We can see a lot of recharge related variables above."
   ]
  },
  {
   "cell_type": "code",
   "execution_count": 13,
   "metadata": {},
   "outputs": [
    {
     "data": {
      "text/plain": [
       "Index(['total_rech_num_6', 'total_rech_num_7', 'total_rech_num_8',\n",
       "       'total_rech_num_9', 'total_rech_amt_6', 'total_rech_amt_7',\n",
       "       'total_rech_amt_8', 'total_rech_amt_9', 'max_rech_amt_6',\n",
       "       'max_rech_amt_7', 'max_rech_amt_8', 'max_rech_amt_9',\n",
       "       'date_of_last_rech_6', 'date_of_last_rech_7', 'date_of_last_rech_8',\n",
       "       'date_of_last_rech_9', 'last_day_rch_amt_6', 'last_day_rch_amt_7',\n",
       "       'last_day_rch_amt_8', 'last_day_rch_amt_9', 'date_of_last_rech_data_6',\n",
       "       'date_of_last_rech_data_7', 'date_of_last_rech_data_8',\n",
       "       'date_of_last_rech_data_9', 'total_rech_data_6', 'total_rech_data_7',\n",
       "       'total_rech_data_8', 'total_rech_data_9', 'max_rech_data_6',\n",
       "       'max_rech_data_7', 'max_rech_data_8', 'max_rech_data_9',\n",
       "       'count_rech_2g_6', 'count_rech_2g_7', 'count_rech_2g_8',\n",
       "       'count_rech_2g_9', 'count_rech_3g_6', 'count_rech_3g_7',\n",
       "       'count_rech_3g_8', 'count_rech_3g_9', 'av_rech_amt_data_6',\n",
       "       'av_rech_amt_data_7', 'av_rech_amt_data_8', 'av_rech_amt_data_9'],\n",
       "      dtype='object')"
      ]
     },
     "execution_count": 13,
     "metadata": {},
     "output_type": "execute_result"
    }
   ],
   "source": [
    "df.filter(regex='rec|rc').columns"
   ]
  },
  {
   "cell_type": "markdown",
   "metadata": {},
   "source": [
    "#### Analyze the 6th month \"date of last data recharge\" missing rows and check few related columns for the rows."
   ]
  },
  {
   "cell_type": "code",
   "execution_count": 14,
   "metadata": {},
   "outputs": [
    {
     "data": {
      "text/html": [
       "<div>\n",
       "<style scoped>\n",
       "    .dataframe tbody tr th:only-of-type {\n",
       "        vertical-align: middle;\n",
       "    }\n",
       "\n",
       "    .dataframe tbody tr th {\n",
       "        vertical-align: top;\n",
       "    }\n",
       "\n",
       "    .dataframe thead th {\n",
       "        text-align: right;\n",
       "    }\n",
       "</style>\n",
       "<table border=\"1\" class=\"dataframe\">\n",
       "  <thead>\n",
       "    <tr style=\"text-align: right;\">\n",
       "      <th></th>\n",
       "      <th>date_of_last_rech_data_6</th>\n",
       "      <th>total_rech_data_6</th>\n",
       "      <th>max_rech_data_6</th>\n",
       "      <th>count_rech_2g_6</th>\n",
       "      <th>count_rech_3g_6</th>\n",
       "      <th>arpu_3g_6</th>\n",
       "      <th>arpu_2g_6</th>\n",
       "      <th>monthly_2g_6</th>\n",
       "      <th>sachet_2g_6</th>\n",
       "      <th>monthly_3g_6</th>\n",
       "      <th>sachet_3g_6</th>\n",
       "    </tr>\n",
       "  </thead>\n",
       "  <tbody>\n",
       "    <tr>\n",
       "      <th>1</th>\n",
       "      <td>NaN</td>\n",
       "      <td>NaN</td>\n",
       "      <td>NaN</td>\n",
       "      <td>NaN</td>\n",
       "      <td>NaN</td>\n",
       "      <td>NaN</td>\n",
       "      <td>NaN</td>\n",
       "      <td>0</td>\n",
       "      <td>0</td>\n",
       "      <td>0</td>\n",
       "      <td>0</td>\n",
       "    </tr>\n",
       "    <tr>\n",
       "      <th>2</th>\n",
       "      <td>NaN</td>\n",
       "      <td>NaN</td>\n",
       "      <td>NaN</td>\n",
       "      <td>NaN</td>\n",
       "      <td>NaN</td>\n",
       "      <td>NaN</td>\n",
       "      <td>NaN</td>\n",
       "      <td>0</td>\n",
       "      <td>0</td>\n",
       "      <td>0</td>\n",
       "      <td>0</td>\n",
       "    </tr>\n",
       "    <tr>\n",
       "      <th>3</th>\n",
       "      <td>NaN</td>\n",
       "      <td>NaN</td>\n",
       "      <td>NaN</td>\n",
       "      <td>NaN</td>\n",
       "      <td>NaN</td>\n",
       "      <td>NaN</td>\n",
       "      <td>NaN</td>\n",
       "      <td>0</td>\n",
       "      <td>0</td>\n",
       "      <td>0</td>\n",
       "      <td>0</td>\n",
       "    </tr>\n",
       "    <tr>\n",
       "      <th>5</th>\n",
       "      <td>NaN</td>\n",
       "      <td>NaN</td>\n",
       "      <td>NaN</td>\n",
       "      <td>NaN</td>\n",
       "      <td>NaN</td>\n",
       "      <td>NaN</td>\n",
       "      <td>NaN</td>\n",
       "      <td>0</td>\n",
       "      <td>0</td>\n",
       "      <td>0</td>\n",
       "      <td>0</td>\n",
       "    </tr>\n",
       "    <tr>\n",
       "      <th>6</th>\n",
       "      <td>NaN</td>\n",
       "      <td>NaN</td>\n",
       "      <td>NaN</td>\n",
       "      <td>NaN</td>\n",
       "      <td>NaN</td>\n",
       "      <td>NaN</td>\n",
       "      <td>NaN</td>\n",
       "      <td>0</td>\n",
       "      <td>0</td>\n",
       "      <td>0</td>\n",
       "      <td>0</td>\n",
       "    </tr>\n",
       "    <tr>\n",
       "      <th>...</th>\n",
       "      <td>...</td>\n",
       "      <td>...</td>\n",
       "      <td>...</td>\n",
       "      <td>...</td>\n",
       "      <td>...</td>\n",
       "      <td>...</td>\n",
       "      <td>...</td>\n",
       "      <td>...</td>\n",
       "      <td>...</td>\n",
       "      <td>...</td>\n",
       "      <td>...</td>\n",
       "    </tr>\n",
       "    <tr>\n",
       "      <th>99991</th>\n",
       "      <td>NaN</td>\n",
       "      <td>NaN</td>\n",
       "      <td>NaN</td>\n",
       "      <td>NaN</td>\n",
       "      <td>NaN</td>\n",
       "      <td>NaN</td>\n",
       "      <td>NaN</td>\n",
       "      <td>0</td>\n",
       "      <td>0</td>\n",
       "      <td>0</td>\n",
       "      <td>0</td>\n",
       "    </tr>\n",
       "    <tr>\n",
       "      <th>99992</th>\n",
       "      <td>NaN</td>\n",
       "      <td>NaN</td>\n",
       "      <td>NaN</td>\n",
       "      <td>NaN</td>\n",
       "      <td>NaN</td>\n",
       "      <td>NaN</td>\n",
       "      <td>NaN</td>\n",
       "      <td>0</td>\n",
       "      <td>0</td>\n",
       "      <td>0</td>\n",
       "      <td>0</td>\n",
       "    </tr>\n",
       "    <tr>\n",
       "      <th>99993</th>\n",
       "      <td>NaN</td>\n",
       "      <td>NaN</td>\n",
       "      <td>NaN</td>\n",
       "      <td>NaN</td>\n",
       "      <td>NaN</td>\n",
       "      <td>NaN</td>\n",
       "      <td>NaN</td>\n",
       "      <td>0</td>\n",
       "      <td>0</td>\n",
       "      <td>0</td>\n",
       "      <td>0</td>\n",
       "    </tr>\n",
       "    <tr>\n",
       "      <th>99994</th>\n",
       "      <td>NaN</td>\n",
       "      <td>NaN</td>\n",
       "      <td>NaN</td>\n",
       "      <td>NaN</td>\n",
       "      <td>NaN</td>\n",
       "      <td>NaN</td>\n",
       "      <td>NaN</td>\n",
       "      <td>0</td>\n",
       "      <td>0</td>\n",
       "      <td>0</td>\n",
       "      <td>0</td>\n",
       "    </tr>\n",
       "    <tr>\n",
       "      <th>99995</th>\n",
       "      <td>NaN</td>\n",
       "      <td>NaN</td>\n",
       "      <td>NaN</td>\n",
       "      <td>NaN</td>\n",
       "      <td>NaN</td>\n",
       "      <td>NaN</td>\n",
       "      <td>NaN</td>\n",
       "      <td>0</td>\n",
       "      <td>0</td>\n",
       "      <td>0</td>\n",
       "      <td>0</td>\n",
       "    </tr>\n",
       "  </tbody>\n",
       "</table>\n",
       "<p>74846 rows × 11 columns</p>\n",
       "</div>"
      ],
      "text/plain": [
       "      date_of_last_rech_data_6  total_rech_data_6  max_rech_data_6  \\\n",
       "1                          NaN                NaN              NaN   \n",
       "2                          NaN                NaN              NaN   \n",
       "3                          NaN                NaN              NaN   \n",
       "5                          NaN                NaN              NaN   \n",
       "6                          NaN                NaN              NaN   \n",
       "...                        ...                ...              ...   \n",
       "99991                      NaN                NaN              NaN   \n",
       "99992                      NaN                NaN              NaN   \n",
       "99993                      NaN                NaN              NaN   \n",
       "99994                      NaN                NaN              NaN   \n",
       "99995                      NaN                NaN              NaN   \n",
       "\n",
       "       count_rech_2g_6  count_rech_3g_6  arpu_3g_6  arpu_2g_6  monthly_2g_6  \\\n",
       "1                  NaN              NaN        NaN        NaN             0   \n",
       "2                  NaN              NaN        NaN        NaN             0   \n",
       "3                  NaN              NaN        NaN        NaN             0   \n",
       "5                  NaN              NaN        NaN        NaN             0   \n",
       "6                  NaN              NaN        NaN        NaN             0   \n",
       "...                ...              ...        ...        ...           ...   \n",
       "99991              NaN              NaN        NaN        NaN             0   \n",
       "99992              NaN              NaN        NaN        NaN             0   \n",
       "99993              NaN              NaN        NaN        NaN             0   \n",
       "99994              NaN              NaN        NaN        NaN             0   \n",
       "99995              NaN              NaN        NaN        NaN             0   \n",
       "\n",
       "       sachet_2g_6  monthly_3g_6  sachet_3g_6  \n",
       "1                0             0            0  \n",
       "2                0             0            0  \n",
       "3                0             0            0  \n",
       "5                0             0            0  \n",
       "6                0             0            0  \n",
       "...            ...           ...          ...  \n",
       "99991            0             0            0  \n",
       "99992            0             0            0  \n",
       "99993            0             0            0  \n",
       "99994            0             0            0  \n",
       "99995            0             0            0  \n",
       "\n",
       "[74846 rows x 11 columns]"
      ]
     },
     "execution_count": 14,
     "metadata": {},
     "output_type": "execute_result"
    }
   ],
   "source": [
    "df.loc[df.date_of_last_rech_data_6.isnull()][df.filter(regex='rech_data_6|3g_6|2g_6').columns]"
   ]
  },
  {
   "cell_type": "markdown",
   "metadata": {},
   "source": [
    "Looking at the customers whose date_of_last_rech_data_6 is missing, \n",
    "it looks like there are few other recharge related variables which are also missing together with date of last data recharge.\n",
    "\n",
    "#### Let us check what are the ( if there are ) features which has exactly same number of missing values seen above."
   ]
  },
  {
   "cell_type": "code",
   "execution_count": 15,
   "metadata": {},
   "outputs": [
    {
     "data": {
      "text/plain": [
       "['date_of_last_rech_data_6',\n",
       " 'total_rech_data_6',\n",
       " 'max_rech_data_6',\n",
       " 'count_rech_2g_6',\n",
       " 'count_rech_3g_6',\n",
       " 'av_rech_amt_data_6',\n",
       " 'arpu_3g_6',\n",
       " 'arpu_2g_6',\n",
       " 'night_pck_user_6',\n",
       " 'fb_user_6']"
      ]
     },
     "execution_count": 15,
     "metadata": {},
     "output_type": "execute_result"
    }
   ],
   "source": [
    "[col for col in df.columns if df[col].isnull().sum()  == 74846]"
   ]
  },
  {
   "cell_type": "markdown",
   "metadata": {},
   "source": [
    "##### It seems these features have missing values together with the missing date_of_last_rech_data_6. Let us check the same way for month 7 and 8 also"
   ]
  },
  {
   "cell_type": "code",
   "execution_count": 16,
   "metadata": {},
   "outputs": [
    {
     "data": {
      "text/html": [
       "<div>\n",
       "<style scoped>\n",
       "    .dataframe tbody tr th:only-of-type {\n",
       "        vertical-align: middle;\n",
       "    }\n",
       "\n",
       "    .dataframe tbody tr th {\n",
       "        vertical-align: top;\n",
       "    }\n",
       "\n",
       "    .dataframe thead th {\n",
       "        text-align: right;\n",
       "    }\n",
       "</style>\n",
       "<table border=\"1\" class=\"dataframe\">\n",
       "  <thead>\n",
       "    <tr style=\"text-align: right;\">\n",
       "      <th></th>\n",
       "      <th>date_of_last_rech_data_7</th>\n",
       "      <th>total_rech_data_7</th>\n",
       "      <th>max_rech_data_7</th>\n",
       "      <th>count_rech_2g_7</th>\n",
       "      <th>count_rech_3g_7</th>\n",
       "      <th>arpu_3g_7</th>\n",
       "      <th>arpu_2g_7</th>\n",
       "      <th>monthly_2g_7</th>\n",
       "      <th>sachet_2g_7</th>\n",
       "      <th>monthly_3g_7</th>\n",
       "      <th>sachet_3g_7</th>\n",
       "    </tr>\n",
       "  </thead>\n",
       "  <tbody>\n",
       "    <tr>\n",
       "      <th>2</th>\n",
       "      <td>NaN</td>\n",
       "      <td>NaN</td>\n",
       "      <td>NaN</td>\n",
       "      <td>NaN</td>\n",
       "      <td>NaN</td>\n",
       "      <td>NaN</td>\n",
       "      <td>NaN</td>\n",
       "      <td>0</td>\n",
       "      <td>0</td>\n",
       "      <td>0</td>\n",
       "      <td>0</td>\n",
       "    </tr>\n",
       "    <tr>\n",
       "      <th>3</th>\n",
       "      <td>NaN</td>\n",
       "      <td>NaN</td>\n",
       "      <td>NaN</td>\n",
       "      <td>NaN</td>\n",
       "      <td>NaN</td>\n",
       "      <td>NaN</td>\n",
       "      <td>NaN</td>\n",
       "      <td>0</td>\n",
       "      <td>0</td>\n",
       "      <td>0</td>\n",
       "      <td>0</td>\n",
       "    </tr>\n",
       "    <tr>\n",
       "      <th>4</th>\n",
       "      <td>NaN</td>\n",
       "      <td>NaN</td>\n",
       "      <td>NaN</td>\n",
       "      <td>NaN</td>\n",
       "      <td>NaN</td>\n",
       "      <td>NaN</td>\n",
       "      <td>NaN</td>\n",
       "      <td>0</td>\n",
       "      <td>0</td>\n",
       "      <td>0</td>\n",
       "      <td>0</td>\n",
       "    </tr>\n",
       "    <tr>\n",
       "      <th>5</th>\n",
       "      <td>NaN</td>\n",
       "      <td>NaN</td>\n",
       "      <td>NaN</td>\n",
       "      <td>NaN</td>\n",
       "      <td>NaN</td>\n",
       "      <td>NaN</td>\n",
       "      <td>NaN</td>\n",
       "      <td>0</td>\n",
       "      <td>0</td>\n",
       "      <td>0</td>\n",
       "      <td>0</td>\n",
       "    </tr>\n",
       "    <tr>\n",
       "      <th>6</th>\n",
       "      <td>NaN</td>\n",
       "      <td>NaN</td>\n",
       "      <td>NaN</td>\n",
       "      <td>NaN</td>\n",
       "      <td>NaN</td>\n",
       "      <td>NaN</td>\n",
       "      <td>NaN</td>\n",
       "      <td>0</td>\n",
       "      <td>0</td>\n",
       "      <td>0</td>\n",
       "      <td>0</td>\n",
       "    </tr>\n",
       "    <tr>\n",
       "      <th>...</th>\n",
       "      <td>...</td>\n",
       "      <td>...</td>\n",
       "      <td>...</td>\n",
       "      <td>...</td>\n",
       "      <td>...</td>\n",
       "      <td>...</td>\n",
       "      <td>...</td>\n",
       "      <td>...</td>\n",
       "      <td>...</td>\n",
       "      <td>...</td>\n",
       "      <td>...</td>\n",
       "    </tr>\n",
       "    <tr>\n",
       "      <th>99993</th>\n",
       "      <td>NaN</td>\n",
       "      <td>NaN</td>\n",
       "      <td>NaN</td>\n",
       "      <td>NaN</td>\n",
       "      <td>NaN</td>\n",
       "      <td>NaN</td>\n",
       "      <td>NaN</td>\n",
       "      <td>0</td>\n",
       "      <td>0</td>\n",
       "      <td>0</td>\n",
       "      <td>0</td>\n",
       "    </tr>\n",
       "    <tr>\n",
       "      <th>99994</th>\n",
       "      <td>NaN</td>\n",
       "      <td>NaN</td>\n",
       "      <td>NaN</td>\n",
       "      <td>NaN</td>\n",
       "      <td>NaN</td>\n",
       "      <td>NaN</td>\n",
       "      <td>NaN</td>\n",
       "      <td>0</td>\n",
       "      <td>0</td>\n",
       "      <td>0</td>\n",
       "      <td>0</td>\n",
       "    </tr>\n",
       "    <tr>\n",
       "      <th>99995</th>\n",
       "      <td>NaN</td>\n",
       "      <td>NaN</td>\n",
       "      <td>NaN</td>\n",
       "      <td>NaN</td>\n",
       "      <td>NaN</td>\n",
       "      <td>NaN</td>\n",
       "      <td>NaN</td>\n",
       "      <td>0</td>\n",
       "      <td>0</td>\n",
       "      <td>0</td>\n",
       "      <td>0</td>\n",
       "    </tr>\n",
       "    <tr>\n",
       "      <th>99996</th>\n",
       "      <td>NaN</td>\n",
       "      <td>NaN</td>\n",
       "      <td>NaN</td>\n",
       "      <td>NaN</td>\n",
       "      <td>NaN</td>\n",
       "      <td>NaN</td>\n",
       "      <td>NaN</td>\n",
       "      <td>0</td>\n",
       "      <td>0</td>\n",
       "      <td>0</td>\n",
       "      <td>0</td>\n",
       "    </tr>\n",
       "    <tr>\n",
       "      <th>99998</th>\n",
       "      <td>NaN</td>\n",
       "      <td>NaN</td>\n",
       "      <td>NaN</td>\n",
       "      <td>NaN</td>\n",
       "      <td>NaN</td>\n",
       "      <td>NaN</td>\n",
       "      <td>NaN</td>\n",
       "      <td>0</td>\n",
       "      <td>0</td>\n",
       "      <td>0</td>\n",
       "      <td>0</td>\n",
       "    </tr>\n",
       "  </tbody>\n",
       "</table>\n",
       "<p>74428 rows × 11 columns</p>\n",
       "</div>"
      ],
      "text/plain": [
       "      date_of_last_rech_data_7  total_rech_data_7  max_rech_data_7  \\\n",
       "2                          NaN                NaN              NaN   \n",
       "3                          NaN                NaN              NaN   \n",
       "4                          NaN                NaN              NaN   \n",
       "5                          NaN                NaN              NaN   \n",
       "6                          NaN                NaN              NaN   \n",
       "...                        ...                ...              ...   \n",
       "99993                      NaN                NaN              NaN   \n",
       "99994                      NaN                NaN              NaN   \n",
       "99995                      NaN                NaN              NaN   \n",
       "99996                      NaN                NaN              NaN   \n",
       "99998                      NaN                NaN              NaN   \n",
       "\n",
       "       count_rech_2g_7  count_rech_3g_7  arpu_3g_7  arpu_2g_7  monthly_2g_7  \\\n",
       "2                  NaN              NaN        NaN        NaN             0   \n",
       "3                  NaN              NaN        NaN        NaN             0   \n",
       "4                  NaN              NaN        NaN        NaN             0   \n",
       "5                  NaN              NaN        NaN        NaN             0   \n",
       "6                  NaN              NaN        NaN        NaN             0   \n",
       "...                ...              ...        ...        ...           ...   \n",
       "99993              NaN              NaN        NaN        NaN             0   \n",
       "99994              NaN              NaN        NaN        NaN             0   \n",
       "99995              NaN              NaN        NaN        NaN             0   \n",
       "99996              NaN              NaN        NaN        NaN             0   \n",
       "99998              NaN              NaN        NaN        NaN             0   \n",
       "\n",
       "       sachet_2g_7  monthly_3g_7  sachet_3g_7  \n",
       "2                0             0            0  \n",
       "3                0             0            0  \n",
       "4                0             0            0  \n",
       "5                0             0            0  \n",
       "6                0             0            0  \n",
       "...            ...           ...          ...  \n",
       "99993            0             0            0  \n",
       "99994            0             0            0  \n",
       "99995            0             0            0  \n",
       "99996            0             0            0  \n",
       "99998            0             0            0  \n",
       "\n",
       "[74428 rows x 11 columns]"
      ]
     },
     "execution_count": 16,
     "metadata": {},
     "output_type": "execute_result"
    }
   ],
   "source": [
    "df.loc[df.date_of_last_rech_data_7.isnull()][df.filter(regex='rech_data_7|3g_7|2g_7').columns]"
   ]
  },
  {
   "cell_type": "code",
   "execution_count": 17,
   "metadata": {},
   "outputs": [
    {
     "data": {
      "text/plain": [
       "['date_of_last_rech_data_7',\n",
       " 'total_rech_data_7',\n",
       " 'max_rech_data_7',\n",
       " 'count_rech_2g_7',\n",
       " 'count_rech_3g_7',\n",
       " 'av_rech_amt_data_7',\n",
       " 'arpu_3g_7',\n",
       " 'arpu_2g_7',\n",
       " 'night_pck_user_7',\n",
       " 'fb_user_7']"
      ]
     },
     "execution_count": 17,
     "metadata": {},
     "output_type": "execute_result"
    }
   ],
   "source": [
    "[col for col in df.columns if df[col].isnull().sum()  == 74428]"
   ]
  },
  {
   "cell_type": "code",
   "execution_count": 18,
   "metadata": {},
   "outputs": [
    {
     "data": {
      "text/html": [
       "<div>\n",
       "<style scoped>\n",
       "    .dataframe tbody tr th:only-of-type {\n",
       "        vertical-align: middle;\n",
       "    }\n",
       "\n",
       "    .dataframe tbody tr th {\n",
       "        vertical-align: top;\n",
       "    }\n",
       "\n",
       "    .dataframe thead th {\n",
       "        text-align: right;\n",
       "    }\n",
       "</style>\n",
       "<table border=\"1\" class=\"dataframe\">\n",
       "  <thead>\n",
       "    <tr style=\"text-align: right;\">\n",
       "      <th></th>\n",
       "      <th>date_of_last_rech_data_8</th>\n",
       "      <th>total_rech_data_8</th>\n",
       "      <th>max_rech_data_8</th>\n",
       "      <th>count_rech_2g_8</th>\n",
       "      <th>count_rech_3g_8</th>\n",
       "      <th>arpu_3g_8</th>\n",
       "      <th>arpu_2g_8</th>\n",
       "      <th>monthly_2g_8</th>\n",
       "      <th>sachet_2g_8</th>\n",
       "      <th>monthly_3g_8</th>\n",
       "      <th>sachet_3g_8</th>\n",
       "    </tr>\n",
       "  </thead>\n",
       "  <tbody>\n",
       "    <tr>\n",
       "      <th>2</th>\n",
       "      <td>NaN</td>\n",
       "      <td>NaN</td>\n",
       "      <td>NaN</td>\n",
       "      <td>NaN</td>\n",
       "      <td>NaN</td>\n",
       "      <td>NaN</td>\n",
       "      <td>NaN</td>\n",
       "      <td>0</td>\n",
       "      <td>0</td>\n",
       "      <td>0</td>\n",
       "      <td>0</td>\n",
       "    </tr>\n",
       "    <tr>\n",
       "      <th>3</th>\n",
       "      <td>NaN</td>\n",
       "      <td>NaN</td>\n",
       "      <td>NaN</td>\n",
       "      <td>NaN</td>\n",
       "      <td>NaN</td>\n",
       "      <td>NaN</td>\n",
       "      <td>NaN</td>\n",
       "      <td>0</td>\n",
       "      <td>0</td>\n",
       "      <td>0</td>\n",
       "      <td>0</td>\n",
       "    </tr>\n",
       "    <tr>\n",
       "      <th>4</th>\n",
       "      <td>NaN</td>\n",
       "      <td>NaN</td>\n",
       "      <td>NaN</td>\n",
       "      <td>NaN</td>\n",
       "      <td>NaN</td>\n",
       "      <td>NaN</td>\n",
       "      <td>NaN</td>\n",
       "      <td>0</td>\n",
       "      <td>0</td>\n",
       "      <td>0</td>\n",
       "      <td>0</td>\n",
       "    </tr>\n",
       "    <tr>\n",
       "      <th>5</th>\n",
       "      <td>NaN</td>\n",
       "      <td>NaN</td>\n",
       "      <td>NaN</td>\n",
       "      <td>NaN</td>\n",
       "      <td>NaN</td>\n",
       "      <td>NaN</td>\n",
       "      <td>NaN</td>\n",
       "      <td>0</td>\n",
       "      <td>0</td>\n",
       "      <td>0</td>\n",
       "      <td>0</td>\n",
       "    </tr>\n",
       "    <tr>\n",
       "      <th>6</th>\n",
       "      <td>NaN</td>\n",
       "      <td>NaN</td>\n",
       "      <td>NaN</td>\n",
       "      <td>NaN</td>\n",
       "      <td>NaN</td>\n",
       "      <td>NaN</td>\n",
       "      <td>NaN</td>\n",
       "      <td>0</td>\n",
       "      <td>0</td>\n",
       "      <td>0</td>\n",
       "      <td>0</td>\n",
       "    </tr>\n",
       "    <tr>\n",
       "      <th>...</th>\n",
       "      <td>...</td>\n",
       "      <td>...</td>\n",
       "      <td>...</td>\n",
       "      <td>...</td>\n",
       "      <td>...</td>\n",
       "      <td>...</td>\n",
       "      <td>...</td>\n",
       "      <td>...</td>\n",
       "      <td>...</td>\n",
       "      <td>...</td>\n",
       "      <td>...</td>\n",
       "    </tr>\n",
       "    <tr>\n",
       "      <th>99993</th>\n",
       "      <td>NaN</td>\n",
       "      <td>NaN</td>\n",
       "      <td>NaN</td>\n",
       "      <td>NaN</td>\n",
       "      <td>NaN</td>\n",
       "      <td>NaN</td>\n",
       "      <td>NaN</td>\n",
       "      <td>0</td>\n",
       "      <td>0</td>\n",
       "      <td>0</td>\n",
       "      <td>0</td>\n",
       "    </tr>\n",
       "    <tr>\n",
       "      <th>99994</th>\n",
       "      <td>NaN</td>\n",
       "      <td>NaN</td>\n",
       "      <td>NaN</td>\n",
       "      <td>NaN</td>\n",
       "      <td>NaN</td>\n",
       "      <td>NaN</td>\n",
       "      <td>NaN</td>\n",
       "      <td>0</td>\n",
       "      <td>0</td>\n",
       "      <td>0</td>\n",
       "      <td>0</td>\n",
       "    </tr>\n",
       "    <tr>\n",
       "      <th>99995</th>\n",
       "      <td>NaN</td>\n",
       "      <td>NaN</td>\n",
       "      <td>NaN</td>\n",
       "      <td>NaN</td>\n",
       "      <td>NaN</td>\n",
       "      <td>NaN</td>\n",
       "      <td>NaN</td>\n",
       "      <td>0</td>\n",
       "      <td>0</td>\n",
       "      <td>0</td>\n",
       "      <td>0</td>\n",
       "    </tr>\n",
       "    <tr>\n",
       "      <th>99996</th>\n",
       "      <td>NaN</td>\n",
       "      <td>NaN</td>\n",
       "      <td>NaN</td>\n",
       "      <td>NaN</td>\n",
       "      <td>NaN</td>\n",
       "      <td>NaN</td>\n",
       "      <td>NaN</td>\n",
       "      <td>0</td>\n",
       "      <td>0</td>\n",
       "      <td>0</td>\n",
       "      <td>0</td>\n",
       "    </tr>\n",
       "    <tr>\n",
       "      <th>99998</th>\n",
       "      <td>NaN</td>\n",
       "      <td>NaN</td>\n",
       "      <td>NaN</td>\n",
       "      <td>NaN</td>\n",
       "      <td>NaN</td>\n",
       "      <td>NaN</td>\n",
       "      <td>NaN</td>\n",
       "      <td>0</td>\n",
       "      <td>0</td>\n",
       "      <td>0</td>\n",
       "      <td>0</td>\n",
       "    </tr>\n",
       "  </tbody>\n",
       "</table>\n",
       "<p>73660 rows × 11 columns</p>\n",
       "</div>"
      ],
      "text/plain": [
       "      date_of_last_rech_data_8  total_rech_data_8  max_rech_data_8  \\\n",
       "2                          NaN                NaN              NaN   \n",
       "3                          NaN                NaN              NaN   \n",
       "4                          NaN                NaN              NaN   \n",
       "5                          NaN                NaN              NaN   \n",
       "6                          NaN                NaN              NaN   \n",
       "...                        ...                ...              ...   \n",
       "99993                      NaN                NaN              NaN   \n",
       "99994                      NaN                NaN              NaN   \n",
       "99995                      NaN                NaN              NaN   \n",
       "99996                      NaN                NaN              NaN   \n",
       "99998                      NaN                NaN              NaN   \n",
       "\n",
       "       count_rech_2g_8  count_rech_3g_8  arpu_3g_8  arpu_2g_8  monthly_2g_8  \\\n",
       "2                  NaN              NaN        NaN        NaN             0   \n",
       "3                  NaN              NaN        NaN        NaN             0   \n",
       "4                  NaN              NaN        NaN        NaN             0   \n",
       "5                  NaN              NaN        NaN        NaN             0   \n",
       "6                  NaN              NaN        NaN        NaN             0   \n",
       "...                ...              ...        ...        ...           ...   \n",
       "99993              NaN              NaN        NaN        NaN             0   \n",
       "99994              NaN              NaN        NaN        NaN             0   \n",
       "99995              NaN              NaN        NaN        NaN             0   \n",
       "99996              NaN              NaN        NaN        NaN             0   \n",
       "99998              NaN              NaN        NaN        NaN             0   \n",
       "\n",
       "       sachet_2g_8  monthly_3g_8  sachet_3g_8  \n",
       "2                0             0            0  \n",
       "3                0             0            0  \n",
       "4                0             0            0  \n",
       "5                0             0            0  \n",
       "6                0             0            0  \n",
       "...            ...           ...          ...  \n",
       "99993            0             0            0  \n",
       "99994            0             0            0  \n",
       "99995            0             0            0  \n",
       "99996            0             0            0  \n",
       "99998            0             0            0  \n",
       "\n",
       "[73660 rows x 11 columns]"
      ]
     },
     "execution_count": 18,
     "metadata": {},
     "output_type": "execute_result"
    }
   ],
   "source": [
    "df.loc[df.date_of_last_rech_data_8.isnull()][df.filter(regex='rech_data_8|3g_8|2g_8').columns]"
   ]
  },
  {
   "cell_type": "code",
   "execution_count": 19,
   "metadata": {},
   "outputs": [
    {
     "data": {
      "text/plain": [
       "['date_of_last_rech_data_8',\n",
       " 'total_rech_data_8',\n",
       " 'max_rech_data_8',\n",
       " 'count_rech_2g_8',\n",
       " 'count_rech_3g_8',\n",
       " 'av_rech_amt_data_8',\n",
       " 'arpu_3g_8',\n",
       " 'arpu_2g_8',\n",
       " 'night_pck_user_8',\n",
       " 'fb_user_8']"
      ]
     },
     "execution_count": 19,
     "metadata": {},
     "output_type": "execute_result"
    }
   ],
   "source": [
    "[col for col in df.columns if df[col].isnull().sum()  == 73660]"
   ]
  },
  {
   "cell_type": "code",
   "execution_count": 20,
   "metadata": {},
   "outputs": [
    {
     "data": {
      "text/html": [
       "<div>\n",
       "<style scoped>\n",
       "    .dataframe tbody tr th:only-of-type {\n",
       "        vertical-align: middle;\n",
       "    }\n",
       "\n",
       "    .dataframe tbody tr th {\n",
       "        vertical-align: top;\n",
       "    }\n",
       "\n",
       "    .dataframe thead th {\n",
       "        text-align: right;\n",
       "    }\n",
       "</style>\n",
       "<table border=\"1\" class=\"dataframe\">\n",
       "  <thead>\n",
       "    <tr style=\"text-align: right;\">\n",
       "      <th></th>\n",
       "      <th>date_of_last_rech_data_9</th>\n",
       "      <th>total_rech_data_9</th>\n",
       "      <th>max_rech_data_9</th>\n",
       "      <th>count_rech_2g_9</th>\n",
       "      <th>count_rech_3g_9</th>\n",
       "      <th>arpu_3g_9</th>\n",
       "      <th>arpu_2g_9</th>\n",
       "      <th>monthly_2g_9</th>\n",
       "      <th>sachet_2g_9</th>\n",
       "      <th>monthly_3g_9</th>\n",
       "      <th>sachet_3g_9</th>\n",
       "    </tr>\n",
       "  </thead>\n",
       "  <tbody>\n",
       "    <tr>\n",
       "      <th>0</th>\n",
       "      <td>NaN</td>\n",
       "      <td>NaN</td>\n",
       "      <td>NaN</td>\n",
       "      <td>NaN</td>\n",
       "      <td>NaN</td>\n",
       "      <td>NaN</td>\n",
       "      <td>NaN</td>\n",
       "      <td>0</td>\n",
       "      <td>0</td>\n",
       "      <td>0</td>\n",
       "      <td>0</td>\n",
       "    </tr>\n",
       "    <tr>\n",
       "      <th>1</th>\n",
       "      <td>NaN</td>\n",
       "      <td>NaN</td>\n",
       "      <td>NaN</td>\n",
       "      <td>NaN</td>\n",
       "      <td>NaN</td>\n",
       "      <td>NaN</td>\n",
       "      <td>NaN</td>\n",
       "      <td>0</td>\n",
       "      <td>0</td>\n",
       "      <td>0</td>\n",
       "      <td>0</td>\n",
       "    </tr>\n",
       "    <tr>\n",
       "      <th>3</th>\n",
       "      <td>NaN</td>\n",
       "      <td>NaN</td>\n",
       "      <td>NaN</td>\n",
       "      <td>NaN</td>\n",
       "      <td>NaN</td>\n",
       "      <td>NaN</td>\n",
       "      <td>NaN</td>\n",
       "      <td>0</td>\n",
       "      <td>0</td>\n",
       "      <td>0</td>\n",
       "      <td>0</td>\n",
       "    </tr>\n",
       "    <tr>\n",
       "      <th>4</th>\n",
       "      <td>NaN</td>\n",
       "      <td>NaN</td>\n",
       "      <td>NaN</td>\n",
       "      <td>NaN</td>\n",
       "      <td>NaN</td>\n",
       "      <td>NaN</td>\n",
       "      <td>NaN</td>\n",
       "      <td>0</td>\n",
       "      <td>0</td>\n",
       "      <td>0</td>\n",
       "      <td>0</td>\n",
       "    </tr>\n",
       "    <tr>\n",
       "      <th>5</th>\n",
       "      <td>NaN</td>\n",
       "      <td>NaN</td>\n",
       "      <td>NaN</td>\n",
       "      <td>NaN</td>\n",
       "      <td>NaN</td>\n",
       "      <td>NaN</td>\n",
       "      <td>NaN</td>\n",
       "      <td>0</td>\n",
       "      <td>0</td>\n",
       "      <td>0</td>\n",
       "      <td>0</td>\n",
       "    </tr>\n",
       "    <tr>\n",
       "      <th>...</th>\n",
       "      <td>...</td>\n",
       "      <td>...</td>\n",
       "      <td>...</td>\n",
       "      <td>...</td>\n",
       "      <td>...</td>\n",
       "      <td>...</td>\n",
       "      <td>...</td>\n",
       "      <td>...</td>\n",
       "      <td>...</td>\n",
       "      <td>...</td>\n",
       "      <td>...</td>\n",
       "    </tr>\n",
       "    <tr>\n",
       "      <th>99993</th>\n",
       "      <td>NaN</td>\n",
       "      <td>NaN</td>\n",
       "      <td>NaN</td>\n",
       "      <td>NaN</td>\n",
       "      <td>NaN</td>\n",
       "      <td>NaN</td>\n",
       "      <td>NaN</td>\n",
       "      <td>0</td>\n",
       "      <td>0</td>\n",
       "      <td>0</td>\n",
       "      <td>0</td>\n",
       "    </tr>\n",
       "    <tr>\n",
       "      <th>99994</th>\n",
       "      <td>NaN</td>\n",
       "      <td>NaN</td>\n",
       "      <td>NaN</td>\n",
       "      <td>NaN</td>\n",
       "      <td>NaN</td>\n",
       "      <td>NaN</td>\n",
       "      <td>NaN</td>\n",
       "      <td>0</td>\n",
       "      <td>0</td>\n",
       "      <td>0</td>\n",
       "      <td>0</td>\n",
       "    </tr>\n",
       "    <tr>\n",
       "      <th>99995</th>\n",
       "      <td>NaN</td>\n",
       "      <td>NaN</td>\n",
       "      <td>NaN</td>\n",
       "      <td>NaN</td>\n",
       "      <td>NaN</td>\n",
       "      <td>NaN</td>\n",
       "      <td>NaN</td>\n",
       "      <td>0</td>\n",
       "      <td>0</td>\n",
       "      <td>0</td>\n",
       "      <td>0</td>\n",
       "    </tr>\n",
       "    <tr>\n",
       "      <th>99996</th>\n",
       "      <td>NaN</td>\n",
       "      <td>NaN</td>\n",
       "      <td>NaN</td>\n",
       "      <td>NaN</td>\n",
       "      <td>NaN</td>\n",
       "      <td>NaN</td>\n",
       "      <td>NaN</td>\n",
       "      <td>0</td>\n",
       "      <td>0</td>\n",
       "      <td>0</td>\n",
       "      <td>0</td>\n",
       "    </tr>\n",
       "    <tr>\n",
       "      <th>99998</th>\n",
       "      <td>NaN</td>\n",
       "      <td>NaN</td>\n",
       "      <td>NaN</td>\n",
       "      <td>NaN</td>\n",
       "      <td>NaN</td>\n",
       "      <td>NaN</td>\n",
       "      <td>NaN</td>\n",
       "      <td>0</td>\n",
       "      <td>0</td>\n",
       "      <td>0</td>\n",
       "      <td>0</td>\n",
       "    </tr>\n",
       "  </tbody>\n",
       "</table>\n",
       "<p>74077 rows × 11 columns</p>\n",
       "</div>"
      ],
      "text/plain": [
       "      date_of_last_rech_data_9  total_rech_data_9  max_rech_data_9  \\\n",
       "0                          NaN                NaN              NaN   \n",
       "1                          NaN                NaN              NaN   \n",
       "3                          NaN                NaN              NaN   \n",
       "4                          NaN                NaN              NaN   \n",
       "5                          NaN                NaN              NaN   \n",
       "...                        ...                ...              ...   \n",
       "99993                      NaN                NaN              NaN   \n",
       "99994                      NaN                NaN              NaN   \n",
       "99995                      NaN                NaN              NaN   \n",
       "99996                      NaN                NaN              NaN   \n",
       "99998                      NaN                NaN              NaN   \n",
       "\n",
       "       count_rech_2g_9  count_rech_3g_9  arpu_3g_9  arpu_2g_9  monthly_2g_9  \\\n",
       "0                  NaN              NaN        NaN        NaN             0   \n",
       "1                  NaN              NaN        NaN        NaN             0   \n",
       "3                  NaN              NaN        NaN        NaN             0   \n",
       "4                  NaN              NaN        NaN        NaN             0   \n",
       "5                  NaN              NaN        NaN        NaN             0   \n",
       "...                ...              ...        ...        ...           ...   \n",
       "99993              NaN              NaN        NaN        NaN             0   \n",
       "99994              NaN              NaN        NaN        NaN             0   \n",
       "99995              NaN              NaN        NaN        NaN             0   \n",
       "99996              NaN              NaN        NaN        NaN             0   \n",
       "99998              NaN              NaN        NaN        NaN             0   \n",
       "\n",
       "       sachet_2g_9  monthly_3g_9  sachet_3g_9  \n",
       "0                0             0            0  \n",
       "1                0             0            0  \n",
       "3                0             0            0  \n",
       "4                0             0            0  \n",
       "5                0             0            0  \n",
       "...            ...           ...          ...  \n",
       "99993            0             0            0  \n",
       "99994            0             0            0  \n",
       "99995            0             0            0  \n",
       "99996            0             0            0  \n",
       "99998            0             0            0  \n",
       "\n",
       "[74077 rows x 11 columns]"
      ]
     },
     "execution_count": 20,
     "metadata": {},
     "output_type": "execute_result"
    }
   ],
   "source": [
    "df.loc[df.date_of_last_rech_data_9.isnull()][df.filter(regex='rech_data_9|3g_9|2g_9').columns]"
   ]
  },
  {
   "cell_type": "code",
   "execution_count": 21,
   "metadata": {},
   "outputs": [
    {
     "data": {
      "text/plain": [
       "['date_of_last_rech_data_9',\n",
       " 'total_rech_data_9',\n",
       " 'max_rech_data_9',\n",
       " 'count_rech_2g_9',\n",
       " 'count_rech_3g_9',\n",
       " 'av_rech_amt_data_9',\n",
       " 'arpu_3g_9',\n",
       " 'arpu_2g_9',\n",
       " 'night_pck_user_9',\n",
       " 'fb_user_9']"
      ]
     },
     "execution_count": 21,
     "metadata": {},
     "output_type": "execute_result"
    }
   ],
   "source": [
    "[col for col in df.columns if df[col].isnull().sum()  == 74077]"
   ]
  },
  {
   "cell_type": "markdown",
   "metadata": {},
   "source": [
    "From the above analysis month wise, we see that a particular group of columns all have missing values together (for the same customers).\n",
    "\n",
    "date_of_last_rech_data_, \n",
    "total_rech_data_9,\n",
    "max_rech_data_,\n",
    "count_rech_2g_,\n",
    "count_rech_3g_,\n",
    "av_rech_amt_data_,\n",
    "arpu_3g_,\n",
    "arpu_2g_,\n",
    "night_pck_user_,\n",
    "fb_user_\n",
    "\n",
    "#### It means those customers have not recharged for data, 2g or 3g etc. So mostly these should be imputed with appropriate values instead of  throwing away these rows which are high in number ( more than 70%).  These look like Missing Not at Random, MNAR category. \n",
    "Refer - https://www.theanalysisfactor.com/missing-data-mechanism/#:~:text=Missing%20Completely%20at%20Random%2C%20MCAR,any%20values%2C%20observed%20or%20missing.&text=Missing%20at%20Random%2C%20MAR%2C%20means,but%20not%20the%20missing%20data.\n",
    "\n",
    "We can delete the date columns, as they would not help much in analysis. \n",
    "\n",
    "Let us analyze the other columns out of the above, as \n"
   ]
  },
  {
   "cell_type": "code",
   "execution_count": 22,
   "metadata": {},
   "outputs": [
    {
     "data": {
      "text/html": [
       "<div>\n",
       "<style scoped>\n",
       "    .dataframe tbody tr th:only-of-type {\n",
       "        vertical-align: middle;\n",
       "    }\n",
       "\n",
       "    .dataframe tbody tr th {\n",
       "        vertical-align: top;\n",
       "    }\n",
       "\n",
       "    .dataframe thead th {\n",
       "        text-align: right;\n",
       "    }\n",
       "</style>\n",
       "<table border=\"1\" class=\"dataframe\">\n",
       "  <thead>\n",
       "    <tr style=\"text-align: right;\">\n",
       "      <th></th>\n",
       "      <th>total_rech_data_9</th>\n",
       "      <th>max_rech_data_9</th>\n",
       "      <th>count_rech_2g_9</th>\n",
       "      <th>count_rech_3g_9</th>\n",
       "      <th>av_rech_amt_data_9</th>\n",
       "      <th>arpu_3g_9</th>\n",
       "      <th>arpu_2g_9</th>\n",
       "      <th>night_pck_user_9</th>\n",
       "      <th>fb_user_9</th>\n",
       "    </tr>\n",
       "  </thead>\n",
       "  <tbody>\n",
       "    <tr>\n",
       "      <th>count</th>\n",
       "      <td>25922.000000</td>\n",
       "      <td>25922.00000</td>\n",
       "      <td>25922.000000</td>\n",
       "      <td>25922.000000</td>\n",
       "      <td>25922.000000</td>\n",
       "      <td>25922.000000</td>\n",
       "      <td>25922.000000</td>\n",
       "      <td>25922.000000</td>\n",
       "      <td>25922.000000</td>\n",
       "    </tr>\n",
       "    <tr>\n",
       "      <th>mean</th>\n",
       "      <td>2.441170</td>\n",
       "      <td>124.94144</td>\n",
       "      <td>1.781807</td>\n",
       "      <td>0.659363</td>\n",
       "      <td>192.734315</td>\n",
       "      <td>100.264116</td>\n",
       "      <td>93.712026</td>\n",
       "      <td>0.015971</td>\n",
       "      <td>0.860968</td>\n",
       "    </tr>\n",
       "    <tr>\n",
       "      <th>std</th>\n",
       "      <td>2.516339</td>\n",
       "      <td>111.36376</td>\n",
       "      <td>2.214701</td>\n",
       "      <td>1.411513</td>\n",
       "      <td>188.400286</td>\n",
       "      <td>216.291992</td>\n",
       "      <td>171.384224</td>\n",
       "      <td>0.125366</td>\n",
       "      <td>0.345987</td>\n",
       "    </tr>\n",
       "    <tr>\n",
       "      <th>min</th>\n",
       "      <td>1.000000</td>\n",
       "      <td>1.00000</td>\n",
       "      <td>0.000000</td>\n",
       "      <td>0.000000</td>\n",
       "      <td>1.000000</td>\n",
       "      <td>-71.090000</td>\n",
       "      <td>-45.740000</td>\n",
       "      <td>0.000000</td>\n",
       "      <td>0.000000</td>\n",
       "    </tr>\n",
       "    <tr>\n",
       "      <th>25%</th>\n",
       "      <td>1.000000</td>\n",
       "      <td>25.00000</td>\n",
       "      <td>1.000000</td>\n",
       "      <td>0.000000</td>\n",
       "      <td>69.000000</td>\n",
       "      <td>0.000000</td>\n",
       "      <td>0.000000</td>\n",
       "      <td>0.000000</td>\n",
       "      <td>1.000000</td>\n",
       "    </tr>\n",
       "    <tr>\n",
       "      <th>50%</th>\n",
       "      <td>2.000000</td>\n",
       "      <td>145.00000</td>\n",
       "      <td>1.000000</td>\n",
       "      <td>0.000000</td>\n",
       "      <td>164.000000</td>\n",
       "      <td>2.605000</td>\n",
       "      <td>14.800000</td>\n",
       "      <td>0.000000</td>\n",
       "      <td>1.000000</td>\n",
       "    </tr>\n",
       "    <tr>\n",
       "      <th>75%</th>\n",
       "      <td>3.000000</td>\n",
       "      <td>179.00000</td>\n",
       "      <td>2.000000</td>\n",
       "      <td>1.000000</td>\n",
       "      <td>252.000000</td>\n",
       "      <td>140.010000</td>\n",
       "      <td>140.010000</td>\n",
       "      <td>0.000000</td>\n",
       "      <td>1.000000</td>\n",
       "    </tr>\n",
       "    <tr>\n",
       "      <th>max</th>\n",
       "      <td>84.000000</td>\n",
       "      <td>1555.00000</td>\n",
       "      <td>40.000000</td>\n",
       "      <td>49.000000</td>\n",
       "      <td>4061.000000</td>\n",
       "      <td>13884.310000</td>\n",
       "      <td>3467.170000</td>\n",
       "      <td>1.000000</td>\n",
       "      <td>1.000000</td>\n",
       "    </tr>\n",
       "  </tbody>\n",
       "</table>\n",
       "</div>"
      ],
      "text/plain": [
       "       total_rech_data_9  max_rech_data_9  count_rech_2g_9  count_rech_3g_9  \\\n",
       "count       25922.000000      25922.00000     25922.000000     25922.000000   \n",
       "mean            2.441170        124.94144         1.781807         0.659363   \n",
       "std             2.516339        111.36376         2.214701         1.411513   \n",
       "min             1.000000          1.00000         0.000000         0.000000   \n",
       "25%             1.000000         25.00000         1.000000         0.000000   \n",
       "50%             2.000000        145.00000         1.000000         0.000000   \n",
       "75%             3.000000        179.00000         2.000000         1.000000   \n",
       "max            84.000000       1555.00000        40.000000        49.000000   \n",
       "\n",
       "       av_rech_amt_data_9     arpu_3g_9     arpu_2g_9  night_pck_user_9  \\\n",
       "count        25922.000000  25922.000000  25922.000000      25922.000000   \n",
       "mean           192.734315    100.264116     93.712026          0.015971   \n",
       "std            188.400286    216.291992    171.384224          0.125366   \n",
       "min              1.000000    -71.090000    -45.740000          0.000000   \n",
       "25%             69.000000      0.000000      0.000000          0.000000   \n",
       "50%            164.000000      2.605000     14.800000          0.000000   \n",
       "75%            252.000000    140.010000    140.010000          0.000000   \n",
       "max           4061.000000  13884.310000   3467.170000          1.000000   \n",
       "\n",
       "          fb_user_9  \n",
       "count  25922.000000  \n",
       "mean       0.860968  \n",
       "std        0.345987  \n",
       "min        0.000000  \n",
       "25%        1.000000  \n",
       "50%        1.000000  \n",
       "75%        1.000000  \n",
       "max        1.000000  "
      ]
     },
     "execution_count": 22,
     "metadata": {},
     "output_type": "execute_result"
    }
   ],
   "source": [
    "cols = ['total_rech_data_9', 'max_rech_data_9', 'count_rech_2g_9', 'count_rech_3g_9', 'av_rech_amt_data_9', 'arpu_3g_9', \n",
    "        'arpu_2g_9', 'night_pck_user_9', 'fb_user_9' ]\n",
    "df[cols].describe()"
   ]
  },
  {
   "cell_type": "markdown",
   "metadata": {},
   "source": [
    "Looking at the above data, the following columns - \n",
    "'total_rech_data_9', 'max_rech_data_9', 'count_rech_2g_9', 'count_rech_3g_9', 'av_rech_amt_data_9'\n",
    "either have minumum value either as 1 or 0. So we can impute the missing values ( not recharged for that month) as zero.\n",
    "\n",
    "'night_pck_user_9', 'fb_user_9' look categorical with values either 0 or 1 only. Let us address these later.\n"
   ]
  },
  {
   "cell_type": "code",
   "execution_count": 23,
   "metadata": {},
   "outputs": [
    {
     "data": {
      "text/plain": [
       "Index(['total_rech_data_6', 'total_rech_data_7', 'total_rech_data_8',\n",
       "       'total_rech_data_9', 'max_rech_data_6', 'max_rech_data_7',\n",
       "       'max_rech_data_8', 'max_rech_data_9', 'count_rech_2g_6',\n",
       "       'count_rech_2g_7', 'count_rech_2g_8', 'count_rech_2g_9',\n",
       "       'count_rech_3g_6', 'count_rech_3g_7', 'count_rech_3g_8',\n",
       "       'count_rech_3g_9', 'av_rech_amt_data_6', 'av_rech_amt_data_7',\n",
       "       'av_rech_amt_data_8', 'av_rech_amt_data_9'],\n",
       "      dtype='object')"
      ]
     },
     "execution_count": 23,
     "metadata": {},
     "output_type": "execute_result"
    }
   ],
   "source": [
    "impute_zero_cols = df.filter(regex='total_rech_data|max_rech_data|count_rech_2g|count_rech_3g|av_rech_amt_data').columns\n",
    "impute_zero_cols\n",
    "#impute_zero_cols = ['max_rech_data_9', 'count_rech_2g_9', 'count_rech_3g_9', 'av_rech_amt_data_9']"
   ]
  },
  {
   "cell_type": "code",
   "execution_count": 24,
   "metadata": {},
   "outputs": [],
   "source": [
    "cols_to_be_del = ['date_of_last_rech_data_6', 'date_of_last_rech_data_7', 'date_of_last_rech_data_8', 'date_of_last_rech_data_9']"
   ]
  },
  {
   "cell_type": "code",
   "execution_count": 25,
   "metadata": {},
   "outputs": [
    {
     "data": {
      "text/plain": [
       "(99999, 216)"
      ]
     },
     "execution_count": 25,
     "metadata": {},
     "output_type": "execute_result"
    }
   ],
   "source": [
    "df = df.drop(cols_to_be_del, axis=1)\n",
    "df.shape"
   ]
  },
  {
   "cell_type": "code",
   "execution_count": 26,
   "metadata": {},
   "outputs": [
    {
     "data": {
      "text/plain": [
       "Index(['loc_og_t2o_mou', 'std_og_t2o_mou', 'loc_ic_t2o_mou', 'arpu_6',\n",
       "       'arpu_7', 'arpu_8', 'arpu_9', 'onnet_mou_6', 'onnet_mou_7',\n",
       "       'onnet_mou_8',\n",
       "       ...\n",
       "       'sachet_3g_9', 'fb_user_6', 'fb_user_7', 'fb_user_8', 'fb_user_9',\n",
       "       'aon', 'aug_vbc_3g', 'jul_vbc_3g', 'jun_vbc_3g', 'sep_vbc_3g'],\n",
       "      dtype='object', length=216)"
      ]
     },
     "execution_count": 26,
     "metadata": {},
     "output_type": "execute_result"
    }
   ],
   "source": [
    "df[impute_zero_cols] = df[impute_zero_cols].fillna(0)\n",
    "df.columns"
   ]
  },
  {
   "cell_type": "code",
   "execution_count": 27,
   "metadata": {},
   "outputs": [
    {
     "data": {
      "text/plain": [
       "[('loc_og_t2o_mou', 1018, 1.018010180101801, dtype('float64')),\n",
       " ('std_og_t2o_mou', 1018, 1.018010180101801, dtype('float64')),\n",
       " ('loc_ic_t2o_mou', 1018, 1.018010180101801, dtype('float64')),\n",
       " ('onnet_mou_6', 3937, 3.9370393703937037, dtype('float64')),\n",
       " ('onnet_mou_7', 3859, 3.859038590385904, dtype('float64')),\n",
       " ('onnet_mou_8', 5378, 5.3780537805378055, dtype('float64')),\n",
       " ('onnet_mou_9', 7745, 7.745077450774509, dtype('float64')),\n",
       " ('offnet_mou_6', 3937, 3.9370393703937037, dtype('float64')),\n",
       " ('offnet_mou_7', 3859, 3.859038590385904, dtype('float64')),\n",
       " ('offnet_mou_8', 5378, 5.3780537805378055, dtype('float64')),\n",
       " ('offnet_mou_9', 7745, 7.745077450774509, dtype('float64')),\n",
       " ('roam_ic_mou_6', 3937, 3.9370393703937037, dtype('float64')),\n",
       " ('roam_ic_mou_7', 3859, 3.859038590385904, dtype('float64')),\n",
       " ('roam_ic_mou_8', 5378, 5.3780537805378055, dtype('float64')),\n",
       " ('roam_ic_mou_9', 7745, 7.745077450774509, dtype('float64')),\n",
       " ('roam_og_mou_6', 3937, 3.9370393703937037, dtype('float64')),\n",
       " ('roam_og_mou_7', 3859, 3.859038590385904, dtype('float64')),\n",
       " ('roam_og_mou_8', 5378, 5.3780537805378055, dtype('float64')),\n",
       " ('roam_og_mou_9', 7745, 7.745077450774509, dtype('float64')),\n",
       " ('loc_og_t2t_mou_6', 3937, 3.9370393703937037, dtype('float64')),\n",
       " ('loc_og_t2t_mou_7', 3859, 3.859038590385904, dtype('float64')),\n",
       " ('loc_og_t2t_mou_8', 5378, 5.3780537805378055, dtype('float64')),\n",
       " ('loc_og_t2t_mou_9', 7745, 7.745077450774509, dtype('float64')),\n",
       " ('loc_og_t2m_mou_6', 3937, 3.9370393703937037, dtype('float64')),\n",
       " ('loc_og_t2m_mou_7', 3859, 3.859038590385904, dtype('float64')),\n",
       " ('loc_og_t2m_mou_8', 5378, 5.3780537805378055, dtype('float64')),\n",
       " ('loc_og_t2m_mou_9', 7745, 7.745077450774509, dtype('float64')),\n",
       " ('loc_og_t2f_mou_6', 3937, 3.9370393703937037, dtype('float64')),\n",
       " ('loc_og_t2f_mou_7', 3859, 3.859038590385904, dtype('float64')),\n",
       " ('loc_og_t2f_mou_8', 5378, 5.3780537805378055, dtype('float64')),\n",
       " ('loc_og_t2f_mou_9', 7745, 7.745077450774509, dtype('float64')),\n",
       " ('loc_og_t2c_mou_6', 3937, 3.9370393703937037, dtype('float64')),\n",
       " ('loc_og_t2c_mou_7', 3859, 3.859038590385904, dtype('float64')),\n",
       " ('loc_og_t2c_mou_8', 5378, 5.3780537805378055, dtype('float64')),\n",
       " ('loc_og_t2c_mou_9', 7745, 7.745077450774509, dtype('float64')),\n",
       " ('loc_og_mou_6', 3937, 3.9370393703937037, dtype('float64')),\n",
       " ('loc_og_mou_7', 3859, 3.859038590385904, dtype('float64')),\n",
       " ('loc_og_mou_8', 5378, 5.3780537805378055, dtype('float64')),\n",
       " ('loc_og_mou_9', 7745, 7.745077450774509, dtype('float64')),\n",
       " ('std_og_t2t_mou_6', 3937, 3.9370393703937037, dtype('float64')),\n",
       " ('std_og_t2t_mou_7', 3859, 3.859038590385904, dtype('float64')),\n",
       " ('std_og_t2t_mou_8', 5378, 5.3780537805378055, dtype('float64')),\n",
       " ('std_og_t2t_mou_9', 7745, 7.745077450774509, dtype('float64')),\n",
       " ('std_og_t2m_mou_6', 3937, 3.9370393703937037, dtype('float64')),\n",
       " ('std_og_t2m_mou_7', 3859, 3.859038590385904, dtype('float64')),\n",
       " ('std_og_t2m_mou_8', 5378, 5.3780537805378055, dtype('float64')),\n",
       " ('std_og_t2m_mou_9', 7745, 7.745077450774509, dtype('float64')),\n",
       " ('std_og_t2f_mou_6', 3937, 3.9370393703937037, dtype('float64')),\n",
       " ('std_og_t2f_mou_7', 3859, 3.859038590385904, dtype('float64')),\n",
       " ('std_og_t2f_mou_8', 5378, 5.3780537805378055, dtype('float64')),\n",
       " ('std_og_t2f_mou_9', 7745, 7.745077450774509, dtype('float64')),\n",
       " ('std_og_t2c_mou_6', 3937, 3.9370393703937037, dtype('float64')),\n",
       " ('std_og_t2c_mou_7', 3859, 3.859038590385904, dtype('float64')),\n",
       " ('std_og_t2c_mou_8', 5378, 5.3780537805378055, dtype('float64')),\n",
       " ('std_og_t2c_mou_9', 7745, 7.745077450774509, dtype('float64')),\n",
       " ('std_og_mou_6', 3937, 3.9370393703937037, dtype('float64')),\n",
       " ('std_og_mou_7', 3859, 3.859038590385904, dtype('float64')),\n",
       " ('std_og_mou_8', 5378, 5.3780537805378055, dtype('float64')),\n",
       " ('std_og_mou_9', 7745, 7.745077450774509, dtype('float64')),\n",
       " ('isd_og_mou_6', 3937, 3.9370393703937037, dtype('float64')),\n",
       " ('isd_og_mou_7', 3859, 3.859038590385904, dtype('float64')),\n",
       " ('isd_og_mou_8', 5378, 5.3780537805378055, dtype('float64')),\n",
       " ('isd_og_mou_9', 7745, 7.745077450774509, dtype('float64')),\n",
       " ('spl_og_mou_6', 3937, 3.9370393703937037, dtype('float64')),\n",
       " ('spl_og_mou_7', 3859, 3.859038590385904, dtype('float64')),\n",
       " ('spl_og_mou_8', 5378, 5.3780537805378055, dtype('float64')),\n",
       " ('spl_og_mou_9', 7745, 7.745077450774509, dtype('float64')),\n",
       " ('og_others_6', 3937, 3.9370393703937037, dtype('float64')),\n",
       " ('og_others_7', 3859, 3.859038590385904, dtype('float64')),\n",
       " ('og_others_8', 5378, 5.3780537805378055, dtype('float64')),\n",
       " ('og_others_9', 7745, 7.745077450774509, dtype('float64')),\n",
       " ('loc_ic_t2t_mou_6', 3937, 3.9370393703937037, dtype('float64')),\n",
       " ('loc_ic_t2t_mou_7', 3859, 3.859038590385904, dtype('float64')),\n",
       " ('loc_ic_t2t_mou_8', 5378, 5.3780537805378055, dtype('float64')),\n",
       " ('loc_ic_t2t_mou_9', 7745, 7.745077450774509, dtype('float64')),\n",
       " ('loc_ic_t2m_mou_6', 3937, 3.9370393703937037, dtype('float64')),\n",
       " ('loc_ic_t2m_mou_7', 3859, 3.859038590385904, dtype('float64')),\n",
       " ('loc_ic_t2m_mou_8', 5378, 5.3780537805378055, dtype('float64')),\n",
       " ('loc_ic_t2m_mou_9', 7745, 7.745077450774509, dtype('float64')),\n",
       " ('loc_ic_t2f_mou_6', 3937, 3.9370393703937037, dtype('float64')),\n",
       " ('loc_ic_t2f_mou_7', 3859, 3.859038590385904, dtype('float64')),\n",
       " ('loc_ic_t2f_mou_8', 5378, 5.3780537805378055, dtype('float64')),\n",
       " ('loc_ic_t2f_mou_9', 7745, 7.745077450774509, dtype('float64')),\n",
       " ('loc_ic_mou_6', 3937, 3.9370393703937037, dtype('float64')),\n",
       " ('loc_ic_mou_7', 3859, 3.859038590385904, dtype('float64')),\n",
       " ('loc_ic_mou_8', 5378, 5.3780537805378055, dtype('float64')),\n",
       " ('loc_ic_mou_9', 7745, 7.745077450774509, dtype('float64')),\n",
       " ('std_ic_t2t_mou_6', 3937, 3.9370393703937037, dtype('float64')),\n",
       " ('std_ic_t2t_mou_7', 3859, 3.859038590385904, dtype('float64')),\n",
       " ('std_ic_t2t_mou_8', 5378, 5.3780537805378055, dtype('float64')),\n",
       " ('std_ic_t2t_mou_9', 7745, 7.745077450774509, dtype('float64')),\n",
       " ('std_ic_t2m_mou_6', 3937, 3.9370393703937037, dtype('float64')),\n",
       " ('std_ic_t2m_mou_7', 3859, 3.859038590385904, dtype('float64')),\n",
       " ('std_ic_t2m_mou_8', 5378, 5.3780537805378055, dtype('float64')),\n",
       " ('std_ic_t2m_mou_9', 7745, 7.745077450774509, dtype('float64')),\n",
       " ('std_ic_t2f_mou_6', 3937, 3.9370393703937037, dtype('float64')),\n",
       " ('std_ic_t2f_mou_7', 3859, 3.859038590385904, dtype('float64')),\n",
       " ('std_ic_t2f_mou_8', 5378, 5.3780537805378055, dtype('float64')),\n",
       " ('std_ic_t2f_mou_9', 7745, 7.745077450774509, dtype('float64')),\n",
       " ('std_ic_t2o_mou_6', 3937, 3.9370393703937037, dtype('float64')),\n",
       " ('std_ic_t2o_mou_7', 3859, 3.859038590385904, dtype('float64')),\n",
       " ('std_ic_t2o_mou_8', 5378, 5.3780537805378055, dtype('float64')),\n",
       " ('std_ic_t2o_mou_9', 7745, 7.745077450774509, dtype('float64')),\n",
       " ('std_ic_mou_6', 3937, 3.9370393703937037, dtype('float64')),\n",
       " ('std_ic_mou_7', 3859, 3.859038590385904, dtype('float64')),\n",
       " ('std_ic_mou_8', 5378, 5.3780537805378055, dtype('float64')),\n",
       " ('std_ic_mou_9', 7745, 7.745077450774509, dtype('float64')),\n",
       " ('spl_ic_mou_6', 3937, 3.9370393703937037, dtype('float64')),\n",
       " ('spl_ic_mou_7', 3859, 3.859038590385904, dtype('float64')),\n",
       " ('spl_ic_mou_8', 5378, 5.3780537805378055, dtype('float64')),\n",
       " ('spl_ic_mou_9', 7745, 7.745077450774509, dtype('float64')),\n",
       " ('isd_ic_mou_6', 3937, 3.9370393703937037, dtype('float64')),\n",
       " ('isd_ic_mou_7', 3859, 3.859038590385904, dtype('float64')),\n",
       " ('isd_ic_mou_8', 5378, 5.3780537805378055, dtype('float64')),\n",
       " ('isd_ic_mou_9', 7745, 7.745077450774509, dtype('float64')),\n",
       " ('ic_others_6', 3937, 3.9370393703937037, dtype('float64')),\n",
       " ('ic_others_7', 3859, 3.859038590385904, dtype('float64')),\n",
       " ('ic_others_8', 5378, 5.3780537805378055, dtype('float64')),\n",
       " ('ic_others_9', 7745, 7.745077450774509, dtype('float64')),\n",
       " ('date_of_last_rech_6', 1607, 1.6070160701607015, dtype('O')),\n",
       " ('date_of_last_rech_7', 1767, 1.767017670176702, dtype('O')),\n",
       " ('date_of_last_rech_8', 3622, 3.6220362203622036, dtype('O')),\n",
       " ('date_of_last_rech_9', 4760, 4.760047600476005, dtype('O')),\n",
       " ('arpu_3g_6', 74846, 74.84674846748467, dtype('float64')),\n",
       " ('arpu_3g_7', 74428, 74.42874428744287, dtype('float64')),\n",
       " ('arpu_3g_8', 73660, 73.66073660736608, dtype('float64')),\n",
       " ('arpu_3g_9', 74077, 74.07774077740777, dtype('float64')),\n",
       " ('arpu_2g_6', 74846, 74.84674846748467, dtype('float64')),\n",
       " ('arpu_2g_7', 74428, 74.42874428744287, dtype('float64')),\n",
       " ('arpu_2g_8', 73660, 73.66073660736608, dtype('float64')),\n",
       " ('arpu_2g_9', 74077, 74.07774077740777, dtype('float64')),\n",
       " ('night_pck_user_6', 74846, 74.84674846748467, dtype('float64')),\n",
       " ('night_pck_user_7', 74428, 74.42874428744287, dtype('float64')),\n",
       " ('night_pck_user_8', 73660, 73.66073660736608, dtype('float64')),\n",
       " ('night_pck_user_9', 74077, 74.07774077740777, dtype('float64')),\n",
       " ('fb_user_6', 74846, 74.84674846748467, dtype('float64')),\n",
       " ('fb_user_7', 74428, 74.42874428744287, dtype('float64')),\n",
       " ('fb_user_8', 73660, 73.66073660736608, dtype('float64')),\n",
       " ('fb_user_9', 74077, 74.07774077740777, dtype('float64'))]"
      ]
     },
     "execution_count": 27,
     "metadata": {},
     "output_type": "execute_result"
    }
   ],
   "source": [
    "missing_values_details(df)"
   ]
  },
  {
   "cell_type": "markdown",
   "metadata": {},
   "source": [
    "Let's take a updated look at which columns have more than 70% missing values now"
   ]
  },
  {
   "cell_type": "code",
   "execution_count": 28,
   "metadata": {},
   "outputs": [
    {
     "name": "stdout",
     "output_type": "stream",
     "text": [
      "16\n"
     ]
    },
    {
     "data": {
      "text/plain": [
       "['arpu_3g_6',\n",
       " 'arpu_3g_7',\n",
       " 'arpu_3g_8',\n",
       " 'arpu_3g_9',\n",
       " 'arpu_2g_6',\n",
       " 'arpu_2g_7',\n",
       " 'arpu_2g_8',\n",
       " 'arpu_2g_9',\n",
       " 'night_pck_user_6',\n",
       " 'night_pck_user_7',\n",
       " 'night_pck_user_8',\n",
       " 'night_pck_user_9',\n",
       " 'fb_user_6',\n",
       " 'fb_user_7',\n",
       " 'fb_user_8',\n",
       " 'fb_user_9']"
      ]
     },
     "execution_count": 28,
     "metadata": {},
     "output_type": "execute_result"
    }
   ],
   "source": [
    "cols_missing_large = [col for col in df.columns if (df[col].isnull().sum() / len(df.index))  > 0.7]\n",
    "print(len(cols_missing_large))\n",
    "cols_missing_large"
   ]
  },
  {
   "cell_type": "code",
   "execution_count": 29,
   "metadata": {},
   "outputs": [
    {
     "data": {
      "text/plain": [
       "count    25153.000000\n",
       "mean         0.025086\n",
       "std          0.156391\n",
       "min          0.000000\n",
       "25%          0.000000\n",
       "50%          0.000000\n",
       "75%          0.000000\n",
       "max          1.000000\n",
       "Name: night_pck_user_6, dtype: float64"
      ]
     },
     "execution_count": 29,
     "metadata": {},
     "output_type": "execute_result"
    }
   ],
   "source": [
    "df.night_pck_user_6.describe()"
   ]
  },
  {
   "cell_type": "code",
   "execution_count": 30,
   "metadata": {},
   "outputs": [
    {
     "data": {
      "text/plain": [
       "count    25153.000000\n",
       "mean         0.914404\n",
       "std          0.279772\n",
       "min          0.000000\n",
       "25%          1.000000\n",
       "50%          1.000000\n",
       "75%          1.000000\n",
       "max          1.000000\n",
       "Name: fb_user_6, dtype: float64"
      ]
     },
     "execution_count": 30,
     "metadata": {},
     "output_type": "execute_result"
    }
   ],
   "source": [
    "df.fb_user_6.describe()"
   ]
  },
  {
   "cell_type": "markdown",
   "metadata": {},
   "source": [
    "#### Both night_pck_user_ and fb_user_ look categorical with just two values 0 and 1. \n",
    "##### Let's NOT drop these columns because of higher missing values percentage. Instead, we can have missing as a separate category -1."
   ]
  },
  {
   "cell_type": "code",
   "execution_count": 31,
   "metadata": {},
   "outputs": [],
   "source": [
    "night_fb_missing = df.filter(regex=\"fb_user|night_pck\").columns\n",
    "#night_fb_missing\n",
    "df[night_fb_missing] = df[night_fb_missing].fillna(-1)\n",
    "#df.columns"
   ]
  },
  {
   "cell_type": "code",
   "execution_count": 32,
   "metadata": {},
   "outputs": [
    {
     "data": {
      "text/plain": [
       "count    99999.000000\n",
       "mean        -0.517595\n",
       "std          0.834303\n",
       "min         -1.000000\n",
       "25%         -1.000000\n",
       "50%         -1.000000\n",
       "75%          0.000000\n",
       "max          1.000000\n",
       "Name: fb_user_9, dtype: float64"
      ]
     },
     "execution_count": 32,
     "metadata": {},
     "output_type": "execute_result"
    }
   ],
   "source": [
    "df.fb_user_9.describe()"
   ]
  },
  {
   "cell_type": "code",
   "execution_count": 33,
   "metadata": {},
   "outputs": [
    {
     "name": "stdout",
     "output_type": "stream",
     "text": [
      "8\n"
     ]
    },
    {
     "data": {
      "text/plain": [
       "['arpu_3g_6',\n",
       " 'arpu_3g_7',\n",
       " 'arpu_3g_8',\n",
       " 'arpu_3g_9',\n",
       " 'arpu_2g_6',\n",
       " 'arpu_2g_7',\n",
       " 'arpu_2g_8',\n",
       " 'arpu_2g_9']"
      ]
     },
     "execution_count": 33,
     "metadata": {},
     "output_type": "execute_result"
    }
   ],
   "source": [
    "cols_missing_large = [col for col in df.columns if (df[col].isnull().sum() / len(df.index)) > 0.7]\n",
    "print(len(cols_missing_large))\n",
    "cols_missing_large"
   ]
  },
  {
   "cell_type": "code",
   "execution_count": 34,
   "metadata": {},
   "outputs": [
    {
     "data": {
      "text/plain": [
       "count    25153.000000\n",
       "mean        89.555057\n",
       "std        193.124653\n",
       "min        -30.820000\n",
       "25%          0.000000\n",
       "50%          0.480000\n",
       "75%        122.070000\n",
       "max       6362.280000\n",
       "Name: arpu_3g_6, dtype: float64"
      ]
     },
     "execution_count": 34,
     "metadata": {},
     "output_type": "execute_result"
    }
   ],
   "source": [
    "df.arpu_3g_6.describe()"
   ]
  },
  {
   "cell_type": "markdown",
   "metadata": {},
   "source": [
    "##### Let us remove the remaining columns which has more than 70% missing values."
   ]
  },
  {
   "cell_type": "code",
   "execution_count": 35,
   "metadata": {},
   "outputs": [],
   "source": [
    "df = df.drop(cols_missing_large, axis=1)"
   ]
  },
  {
   "cell_type": "code",
   "execution_count": 36,
   "metadata": {},
   "outputs": [
    {
     "name": "stdout",
     "output_type": "stream",
     "text": [
      "['loc_og_t2o_mou', 'std_og_t2o_mou', 'loc_ic_t2o_mou', 'arpu_6', 'arpu_7', 'arpu_8', 'arpu_9', 'onnet_mou_6', 'onnet_mou_7', 'onnet_mou_8', 'onnet_mou_9', 'offnet_mou_6', 'offnet_mou_7', 'offnet_mou_8', 'offnet_mou_9', 'roam_ic_mou_6', 'roam_ic_mou_7', 'roam_ic_mou_8', 'roam_ic_mou_9', 'roam_og_mou_6', 'roam_og_mou_7', 'roam_og_mou_8', 'roam_og_mou_9', 'loc_og_t2t_mou_6', 'loc_og_t2t_mou_7', 'loc_og_t2t_mou_8', 'loc_og_t2t_mou_9', 'loc_og_t2m_mou_6', 'loc_og_t2m_mou_7', 'loc_og_t2m_mou_8', 'loc_og_t2m_mou_9', 'loc_og_t2f_mou_6', 'loc_og_t2f_mou_7', 'loc_og_t2f_mou_8', 'loc_og_t2f_mou_9', 'loc_og_t2c_mou_6', 'loc_og_t2c_mou_7', 'loc_og_t2c_mou_8', 'loc_og_t2c_mou_9', 'loc_og_mou_6', 'loc_og_mou_7', 'loc_og_mou_8', 'loc_og_mou_9', 'std_og_t2t_mou_6', 'std_og_t2t_mou_7', 'std_og_t2t_mou_8', 'std_og_t2t_mou_9', 'std_og_t2m_mou_6', 'std_og_t2m_mou_7', 'std_og_t2m_mou_8', 'std_og_t2m_mou_9', 'std_og_t2f_mou_6', 'std_og_t2f_mou_7', 'std_og_t2f_mou_8', 'std_og_t2f_mou_9', 'std_og_t2c_mou_6', 'std_og_t2c_mou_7', 'std_og_t2c_mou_8', 'std_og_t2c_mou_9', 'std_og_mou_6', 'std_og_mou_7', 'std_og_mou_8', 'std_og_mou_9', 'isd_og_mou_6', 'isd_og_mou_7', 'isd_og_mou_8', 'isd_og_mou_9', 'spl_og_mou_6', 'spl_og_mou_7', 'spl_og_mou_8', 'spl_og_mou_9', 'og_others_6', 'og_others_7', 'og_others_8', 'og_others_9', 'total_og_mou_6', 'total_og_mou_7', 'total_og_mou_8', 'total_og_mou_9', 'loc_ic_t2t_mou_6', 'loc_ic_t2t_mou_7', 'loc_ic_t2t_mou_8', 'loc_ic_t2t_mou_9', 'loc_ic_t2m_mou_6', 'loc_ic_t2m_mou_7', 'loc_ic_t2m_mou_8', 'loc_ic_t2m_mou_9', 'loc_ic_t2f_mou_6', 'loc_ic_t2f_mou_7', 'loc_ic_t2f_mou_8', 'loc_ic_t2f_mou_9', 'loc_ic_mou_6', 'loc_ic_mou_7', 'loc_ic_mou_8', 'loc_ic_mou_9', 'std_ic_t2t_mou_6', 'std_ic_t2t_mou_7', 'std_ic_t2t_mou_8', 'std_ic_t2t_mou_9', 'std_ic_t2m_mou_6', 'std_ic_t2m_mou_7', 'std_ic_t2m_mou_8', 'std_ic_t2m_mou_9', 'std_ic_t2f_mou_6', 'std_ic_t2f_mou_7', 'std_ic_t2f_mou_8', 'std_ic_t2f_mou_9', 'std_ic_t2o_mou_6', 'std_ic_t2o_mou_7', 'std_ic_t2o_mou_8', 'std_ic_t2o_mou_9', 'std_ic_mou_6', 'std_ic_mou_7', 'std_ic_mou_8', 'std_ic_mou_9', 'total_ic_mou_6', 'total_ic_mou_7', 'total_ic_mou_8', 'total_ic_mou_9', 'spl_ic_mou_6', 'spl_ic_mou_7', 'spl_ic_mou_8', 'spl_ic_mou_9', 'isd_ic_mou_6', 'isd_ic_mou_7', 'isd_ic_mou_8', 'isd_ic_mou_9', 'ic_others_6', 'ic_others_7', 'ic_others_8', 'ic_others_9', 'total_rech_num_6', 'total_rech_num_7', 'total_rech_num_8', 'total_rech_num_9', 'total_rech_amt_6', 'total_rech_amt_7', 'total_rech_amt_8', 'total_rech_amt_9', 'max_rech_amt_6', 'max_rech_amt_7', 'max_rech_amt_8', 'max_rech_amt_9', 'last_day_rch_amt_6', 'last_day_rch_amt_7', 'last_day_rch_amt_8', 'last_day_rch_amt_9', 'total_rech_data_6', 'total_rech_data_7', 'total_rech_data_8', 'total_rech_data_9', 'max_rech_data_6', 'max_rech_data_7', 'max_rech_data_8', 'max_rech_data_9', 'count_rech_2g_6', 'count_rech_2g_7', 'count_rech_2g_8', 'count_rech_2g_9', 'count_rech_3g_6', 'count_rech_3g_7', 'count_rech_3g_8', 'count_rech_3g_9', 'av_rech_amt_data_6', 'av_rech_amt_data_7', 'av_rech_amt_data_8', 'av_rech_amt_data_9', 'vol_2g_mb_6', 'vol_2g_mb_7', 'vol_2g_mb_8', 'vol_2g_mb_9', 'vol_3g_mb_6', 'vol_3g_mb_7', 'vol_3g_mb_8', 'vol_3g_mb_9', 'night_pck_user_6', 'night_pck_user_7', 'night_pck_user_8', 'night_pck_user_9', 'monthly_2g_6', 'monthly_2g_7', 'monthly_2g_8', 'monthly_2g_9', 'sachet_2g_6', 'sachet_2g_7', 'sachet_2g_8', 'sachet_2g_9', 'monthly_3g_6', 'monthly_3g_7', 'monthly_3g_8', 'monthly_3g_9', 'sachet_3g_6', 'sachet_3g_7', 'sachet_3g_8', 'sachet_3g_9', 'fb_user_6', 'fb_user_7', 'fb_user_8', 'fb_user_9', 'aon', 'aug_vbc_3g', 'jul_vbc_3g', 'jun_vbc_3g', 'sep_vbc_3g']\n",
      "['date_of_last_rech_6', 'date_of_last_rech_7', 'date_of_last_rech_8', 'date_of_last_rech_9']\n"
     ]
    }
   ],
   "source": [
    "numeric_vars, categorical_vars = sep_num_cat(df)\n",
    "print(numeric_vars)\n",
    "print(categorical_vars)"
   ]
  },
  {
   "cell_type": "code",
   "execution_count": 37,
   "metadata": {},
   "outputs": [],
   "source": [
    "df = df.drop(df.filter(regex='date_of').columns, axis=1)"
   ]
  },
  {
   "cell_type": "code",
   "execution_count": 38,
   "metadata": {},
   "outputs": [
    {
     "data": {
      "text/plain": [
       "[('loc_og_t2o_mou', 1018, 1.018010180101801, dtype('float64')),\n",
       " ('std_og_t2o_mou', 1018, 1.018010180101801, dtype('float64')),\n",
       " ('loc_ic_t2o_mou', 1018, 1.018010180101801, dtype('float64')),\n",
       " ('onnet_mou_6', 3937, 3.9370393703937037, dtype('float64')),\n",
       " ('onnet_mou_7', 3859, 3.859038590385904, dtype('float64')),\n",
       " ('onnet_mou_8', 5378, 5.3780537805378055, dtype('float64')),\n",
       " ('onnet_mou_9', 7745, 7.745077450774509, dtype('float64')),\n",
       " ('offnet_mou_6', 3937, 3.9370393703937037, dtype('float64')),\n",
       " ('offnet_mou_7', 3859, 3.859038590385904, dtype('float64')),\n",
       " ('offnet_mou_8', 5378, 5.3780537805378055, dtype('float64')),\n",
       " ('offnet_mou_9', 7745, 7.745077450774509, dtype('float64')),\n",
       " ('roam_ic_mou_6', 3937, 3.9370393703937037, dtype('float64')),\n",
       " ('roam_ic_mou_7', 3859, 3.859038590385904, dtype('float64')),\n",
       " ('roam_ic_mou_8', 5378, 5.3780537805378055, dtype('float64')),\n",
       " ('roam_ic_mou_9', 7745, 7.745077450774509, dtype('float64')),\n",
       " ('roam_og_mou_6', 3937, 3.9370393703937037, dtype('float64')),\n",
       " ('roam_og_mou_7', 3859, 3.859038590385904, dtype('float64')),\n",
       " ('roam_og_mou_8', 5378, 5.3780537805378055, dtype('float64')),\n",
       " ('roam_og_mou_9', 7745, 7.745077450774509, dtype('float64')),\n",
       " ('loc_og_t2t_mou_6', 3937, 3.9370393703937037, dtype('float64')),\n",
       " ('loc_og_t2t_mou_7', 3859, 3.859038590385904, dtype('float64')),\n",
       " ('loc_og_t2t_mou_8', 5378, 5.3780537805378055, dtype('float64')),\n",
       " ('loc_og_t2t_mou_9', 7745, 7.745077450774509, dtype('float64')),\n",
       " ('loc_og_t2m_mou_6', 3937, 3.9370393703937037, dtype('float64')),\n",
       " ('loc_og_t2m_mou_7', 3859, 3.859038590385904, dtype('float64')),\n",
       " ('loc_og_t2m_mou_8', 5378, 5.3780537805378055, dtype('float64')),\n",
       " ('loc_og_t2m_mou_9', 7745, 7.745077450774509, dtype('float64')),\n",
       " ('loc_og_t2f_mou_6', 3937, 3.9370393703937037, dtype('float64')),\n",
       " ('loc_og_t2f_mou_7', 3859, 3.859038590385904, dtype('float64')),\n",
       " ('loc_og_t2f_mou_8', 5378, 5.3780537805378055, dtype('float64')),\n",
       " ('loc_og_t2f_mou_9', 7745, 7.745077450774509, dtype('float64')),\n",
       " ('loc_og_t2c_mou_6', 3937, 3.9370393703937037, dtype('float64')),\n",
       " ('loc_og_t2c_mou_7', 3859, 3.859038590385904, dtype('float64')),\n",
       " ('loc_og_t2c_mou_8', 5378, 5.3780537805378055, dtype('float64')),\n",
       " ('loc_og_t2c_mou_9', 7745, 7.745077450774509, dtype('float64')),\n",
       " ('loc_og_mou_6', 3937, 3.9370393703937037, dtype('float64')),\n",
       " ('loc_og_mou_7', 3859, 3.859038590385904, dtype('float64')),\n",
       " ('loc_og_mou_8', 5378, 5.3780537805378055, dtype('float64')),\n",
       " ('loc_og_mou_9', 7745, 7.745077450774509, dtype('float64')),\n",
       " ('std_og_t2t_mou_6', 3937, 3.9370393703937037, dtype('float64')),\n",
       " ('std_og_t2t_mou_7', 3859, 3.859038590385904, dtype('float64')),\n",
       " ('std_og_t2t_mou_8', 5378, 5.3780537805378055, dtype('float64')),\n",
       " ('std_og_t2t_mou_9', 7745, 7.745077450774509, dtype('float64')),\n",
       " ('std_og_t2m_mou_6', 3937, 3.9370393703937037, dtype('float64')),\n",
       " ('std_og_t2m_mou_7', 3859, 3.859038590385904, dtype('float64')),\n",
       " ('std_og_t2m_mou_8', 5378, 5.3780537805378055, dtype('float64')),\n",
       " ('std_og_t2m_mou_9', 7745, 7.745077450774509, dtype('float64')),\n",
       " ('std_og_t2f_mou_6', 3937, 3.9370393703937037, dtype('float64')),\n",
       " ('std_og_t2f_mou_7', 3859, 3.859038590385904, dtype('float64')),\n",
       " ('std_og_t2f_mou_8', 5378, 5.3780537805378055, dtype('float64')),\n",
       " ('std_og_t2f_mou_9', 7745, 7.745077450774509, dtype('float64')),\n",
       " ('std_og_t2c_mou_6', 3937, 3.9370393703937037, dtype('float64')),\n",
       " ('std_og_t2c_mou_7', 3859, 3.859038590385904, dtype('float64')),\n",
       " ('std_og_t2c_mou_8', 5378, 5.3780537805378055, dtype('float64')),\n",
       " ('std_og_t2c_mou_9', 7745, 7.745077450774509, dtype('float64')),\n",
       " ('std_og_mou_6', 3937, 3.9370393703937037, dtype('float64')),\n",
       " ('std_og_mou_7', 3859, 3.859038590385904, dtype('float64')),\n",
       " ('std_og_mou_8', 5378, 5.3780537805378055, dtype('float64')),\n",
       " ('std_og_mou_9', 7745, 7.745077450774509, dtype('float64')),\n",
       " ('isd_og_mou_6', 3937, 3.9370393703937037, dtype('float64')),\n",
       " ('isd_og_mou_7', 3859, 3.859038590385904, dtype('float64')),\n",
       " ('isd_og_mou_8', 5378, 5.3780537805378055, dtype('float64')),\n",
       " ('isd_og_mou_9', 7745, 7.745077450774509, dtype('float64')),\n",
       " ('spl_og_mou_6', 3937, 3.9370393703937037, dtype('float64')),\n",
       " ('spl_og_mou_7', 3859, 3.859038590385904, dtype('float64')),\n",
       " ('spl_og_mou_8', 5378, 5.3780537805378055, dtype('float64')),\n",
       " ('spl_og_mou_9', 7745, 7.745077450774509, dtype('float64')),\n",
       " ('og_others_6', 3937, 3.9370393703937037, dtype('float64')),\n",
       " ('og_others_7', 3859, 3.859038590385904, dtype('float64')),\n",
       " ('og_others_8', 5378, 5.3780537805378055, dtype('float64')),\n",
       " ('og_others_9', 7745, 7.745077450774509, dtype('float64')),\n",
       " ('loc_ic_t2t_mou_6', 3937, 3.9370393703937037, dtype('float64')),\n",
       " ('loc_ic_t2t_mou_7', 3859, 3.859038590385904, dtype('float64')),\n",
       " ('loc_ic_t2t_mou_8', 5378, 5.3780537805378055, dtype('float64')),\n",
       " ('loc_ic_t2t_mou_9', 7745, 7.745077450774509, dtype('float64')),\n",
       " ('loc_ic_t2m_mou_6', 3937, 3.9370393703937037, dtype('float64')),\n",
       " ('loc_ic_t2m_mou_7', 3859, 3.859038590385904, dtype('float64')),\n",
       " ('loc_ic_t2m_mou_8', 5378, 5.3780537805378055, dtype('float64')),\n",
       " ('loc_ic_t2m_mou_9', 7745, 7.745077450774509, dtype('float64')),\n",
       " ('loc_ic_t2f_mou_6', 3937, 3.9370393703937037, dtype('float64')),\n",
       " ('loc_ic_t2f_mou_7', 3859, 3.859038590385904, dtype('float64')),\n",
       " ('loc_ic_t2f_mou_8', 5378, 5.3780537805378055, dtype('float64')),\n",
       " ('loc_ic_t2f_mou_9', 7745, 7.745077450774509, dtype('float64')),\n",
       " ('loc_ic_mou_6', 3937, 3.9370393703937037, dtype('float64')),\n",
       " ('loc_ic_mou_7', 3859, 3.859038590385904, dtype('float64')),\n",
       " ('loc_ic_mou_8', 5378, 5.3780537805378055, dtype('float64')),\n",
       " ('loc_ic_mou_9', 7745, 7.745077450774509, dtype('float64')),\n",
       " ('std_ic_t2t_mou_6', 3937, 3.9370393703937037, dtype('float64')),\n",
       " ('std_ic_t2t_mou_7', 3859, 3.859038590385904, dtype('float64')),\n",
       " ('std_ic_t2t_mou_8', 5378, 5.3780537805378055, dtype('float64')),\n",
       " ('std_ic_t2t_mou_9', 7745, 7.745077450774509, dtype('float64')),\n",
       " ('std_ic_t2m_mou_6', 3937, 3.9370393703937037, dtype('float64')),\n",
       " ('std_ic_t2m_mou_7', 3859, 3.859038590385904, dtype('float64')),\n",
       " ('std_ic_t2m_mou_8', 5378, 5.3780537805378055, dtype('float64')),\n",
       " ('std_ic_t2m_mou_9', 7745, 7.745077450774509, dtype('float64')),\n",
       " ('std_ic_t2f_mou_6', 3937, 3.9370393703937037, dtype('float64')),\n",
       " ('std_ic_t2f_mou_7', 3859, 3.859038590385904, dtype('float64')),\n",
       " ('std_ic_t2f_mou_8', 5378, 5.3780537805378055, dtype('float64')),\n",
       " ('std_ic_t2f_mou_9', 7745, 7.745077450774509, dtype('float64')),\n",
       " ('std_ic_t2o_mou_6', 3937, 3.9370393703937037, dtype('float64')),\n",
       " ('std_ic_t2o_mou_7', 3859, 3.859038590385904, dtype('float64')),\n",
       " ('std_ic_t2o_mou_8', 5378, 5.3780537805378055, dtype('float64')),\n",
       " ('std_ic_t2o_mou_9', 7745, 7.745077450774509, dtype('float64')),\n",
       " ('std_ic_mou_6', 3937, 3.9370393703937037, dtype('float64')),\n",
       " ('std_ic_mou_7', 3859, 3.859038590385904, dtype('float64')),\n",
       " ('std_ic_mou_8', 5378, 5.3780537805378055, dtype('float64')),\n",
       " ('std_ic_mou_9', 7745, 7.745077450774509, dtype('float64')),\n",
       " ('spl_ic_mou_6', 3937, 3.9370393703937037, dtype('float64')),\n",
       " ('spl_ic_mou_7', 3859, 3.859038590385904, dtype('float64')),\n",
       " ('spl_ic_mou_8', 5378, 5.3780537805378055, dtype('float64')),\n",
       " ('spl_ic_mou_9', 7745, 7.745077450774509, dtype('float64')),\n",
       " ('isd_ic_mou_6', 3937, 3.9370393703937037, dtype('float64')),\n",
       " ('isd_ic_mou_7', 3859, 3.859038590385904, dtype('float64')),\n",
       " ('isd_ic_mou_8', 5378, 5.3780537805378055, dtype('float64')),\n",
       " ('isd_ic_mou_9', 7745, 7.745077450774509, dtype('float64')),\n",
       " ('ic_others_6', 3937, 3.9370393703937037, dtype('float64')),\n",
       " ('ic_others_7', 3859, 3.859038590385904, dtype('float64')),\n",
       " ('ic_others_8', 5378, 5.3780537805378055, dtype('float64')),\n",
       " ('ic_others_9', 7745, 7.745077450774509, dtype('float64'))]"
      ]
     },
     "execution_count": 38,
     "metadata": {},
     "output_type": "execute_result"
    }
   ],
   "source": [
    "miss_columns = missing_values_details(df)\n",
    "miss_columns"
   ]
  },
  {
   "cell_type": "code",
   "execution_count": 39,
   "metadata": {},
   "outputs": [
    {
     "name": "stdout",
     "output_type": "stream",
     "text": [
      "119\n"
     ]
    }
   ],
   "source": [
    "print(len(miss_columns))"
   ]
  },
  {
   "cell_type": "markdown",
   "metadata": {},
   "source": [
    "##### There are 119 columns with lesser percentage of missing values. Let us try IterativeImputer from sklearn to predict these missing values and impute."
   ]
  },
  {
   "cell_type": "code",
   "execution_count": 40,
   "metadata": {},
   "outputs": [],
   "source": [
    "from sklearn.experimental import enable_iterative_imputer\n",
    "from sklearn.impute import IterativeImputer"
   ]
  },
  {
   "cell_type": "code",
   "execution_count": 41,
   "metadata": {},
   "outputs": [
    {
     "data": {
      "text/plain": [
       "IterativeImputer(random_state=0)"
      ]
     },
     "execution_count": 41,
     "metadata": {},
     "output_type": "execute_result"
    }
   ],
   "source": [
    "imp = IterativeImputer(random_state=0)\n",
    "\n",
    "imp.fit(df)"
   ]
  },
  {
   "cell_type": "code",
   "execution_count": 42,
   "metadata": {},
   "outputs": [],
   "source": [
    "df_backup1 = df.copy()"
   ]
  },
  {
   "cell_type": "code",
   "execution_count": 43,
   "metadata": {},
   "outputs": [],
   "source": [
    "## df =  df_backup1"
   ]
  },
  {
   "cell_type": "code",
   "execution_count": 44,
   "metadata": {},
   "outputs": [],
   "source": [
    "df = pd.DataFrame(imp.transform(df), columns=df.columns)"
   ]
  },
  {
   "cell_type": "code",
   "execution_count": 45,
   "metadata": {},
   "outputs": [
    {
     "data": {
      "text/html": [
       "<div>\n",
       "<style scoped>\n",
       "    .dataframe tbody tr th:only-of-type {\n",
       "        vertical-align: middle;\n",
       "    }\n",
       "\n",
       "    .dataframe tbody tr th {\n",
       "        vertical-align: top;\n",
       "    }\n",
       "\n",
       "    .dataframe thead th {\n",
       "        text-align: right;\n",
       "    }\n",
       "</style>\n",
       "<table border=\"1\" class=\"dataframe\">\n",
       "  <thead>\n",
       "    <tr style=\"text-align: right;\">\n",
       "      <th></th>\n",
       "      <th>loc_og_t2o_mou</th>\n",
       "      <th>std_og_t2o_mou</th>\n",
       "      <th>loc_ic_t2o_mou</th>\n",
       "      <th>arpu_6</th>\n",
       "      <th>arpu_7</th>\n",
       "      <th>arpu_8</th>\n",
       "      <th>arpu_9</th>\n",
       "      <th>onnet_mou_6</th>\n",
       "      <th>onnet_mou_7</th>\n",
       "      <th>onnet_mou_8</th>\n",
       "      <th>...</th>\n",
       "      <th>sachet_3g_9</th>\n",
       "      <th>fb_user_6</th>\n",
       "      <th>fb_user_7</th>\n",
       "      <th>fb_user_8</th>\n",
       "      <th>fb_user_9</th>\n",
       "      <th>aon</th>\n",
       "      <th>aug_vbc_3g</th>\n",
       "      <th>jul_vbc_3g</th>\n",
       "      <th>jun_vbc_3g</th>\n",
       "      <th>sep_vbc_3g</th>\n",
       "    </tr>\n",
       "  </thead>\n",
       "  <tbody>\n",
       "    <tr>\n",
       "      <th>0</th>\n",
       "      <td>0.0</td>\n",
       "      <td>0.0</td>\n",
       "      <td>0.0</td>\n",
       "      <td>197.385</td>\n",
       "      <td>214.816</td>\n",
       "      <td>213.803</td>\n",
       "      <td>21.100</td>\n",
       "      <td>-95.132578</td>\n",
       "      <td>-82.141787</td>\n",
       "      <td>0.00</td>\n",
       "      <td>...</td>\n",
       "      <td>0.0</td>\n",
       "      <td>1.0</td>\n",
       "      <td>1.0</td>\n",
       "      <td>1.0</td>\n",
       "      <td>-1.0</td>\n",
       "      <td>968.0</td>\n",
       "      <td>30.4</td>\n",
       "      <td>0.0</td>\n",
       "      <td>101.20</td>\n",
       "      <td>3.58</td>\n",
       "    </tr>\n",
       "    <tr>\n",
       "      <th>1</th>\n",
       "      <td>0.0</td>\n",
       "      <td>0.0</td>\n",
       "      <td>0.0</td>\n",
       "      <td>34.047</td>\n",
       "      <td>355.074</td>\n",
       "      <td>268.321</td>\n",
       "      <td>86.285</td>\n",
       "      <td>24.110000</td>\n",
       "      <td>78.680000</td>\n",
       "      <td>7.68</td>\n",
       "      <td>...</td>\n",
       "      <td>0.0</td>\n",
       "      <td>-1.0</td>\n",
       "      <td>1.0</td>\n",
       "      <td>1.0</td>\n",
       "      <td>-1.0</td>\n",
       "      <td>1006.0</td>\n",
       "      <td>0.0</td>\n",
       "      <td>0.0</td>\n",
       "      <td>0.00</td>\n",
       "      <td>0.00</td>\n",
       "    </tr>\n",
       "    <tr>\n",
       "      <th>2</th>\n",
       "      <td>0.0</td>\n",
       "      <td>0.0</td>\n",
       "      <td>0.0</td>\n",
       "      <td>167.690</td>\n",
       "      <td>189.058</td>\n",
       "      <td>210.226</td>\n",
       "      <td>290.714</td>\n",
       "      <td>11.540000</td>\n",
       "      <td>55.240000</td>\n",
       "      <td>37.26</td>\n",
       "      <td>...</td>\n",
       "      <td>0.0</td>\n",
       "      <td>-1.0</td>\n",
       "      <td>-1.0</td>\n",
       "      <td>-1.0</td>\n",
       "      <td>1.0</td>\n",
       "      <td>1103.0</td>\n",
       "      <td>0.0</td>\n",
       "      <td>0.0</td>\n",
       "      <td>4.17</td>\n",
       "      <td>0.00</td>\n",
       "    </tr>\n",
       "    <tr>\n",
       "      <th>3</th>\n",
       "      <td>0.0</td>\n",
       "      <td>0.0</td>\n",
       "      <td>0.0</td>\n",
       "      <td>221.338</td>\n",
       "      <td>251.102</td>\n",
       "      <td>508.054</td>\n",
       "      <td>389.500</td>\n",
       "      <td>99.910000</td>\n",
       "      <td>54.390000</td>\n",
       "      <td>310.98</td>\n",
       "      <td>...</td>\n",
       "      <td>0.0</td>\n",
       "      <td>-1.0</td>\n",
       "      <td>-1.0</td>\n",
       "      <td>-1.0</td>\n",
       "      <td>-1.0</td>\n",
       "      <td>2491.0</td>\n",
       "      <td>0.0</td>\n",
       "      <td>0.0</td>\n",
       "      <td>0.00</td>\n",
       "      <td>0.00</td>\n",
       "    </tr>\n",
       "    <tr>\n",
       "      <th>4</th>\n",
       "      <td>0.0</td>\n",
       "      <td>0.0</td>\n",
       "      <td>0.0</td>\n",
       "      <td>261.636</td>\n",
       "      <td>309.876</td>\n",
       "      <td>238.174</td>\n",
       "      <td>163.426</td>\n",
       "      <td>50.310000</td>\n",
       "      <td>149.440000</td>\n",
       "      <td>83.89</td>\n",
       "      <td>...</td>\n",
       "      <td>0.0</td>\n",
       "      <td>0.0</td>\n",
       "      <td>-1.0</td>\n",
       "      <td>-1.0</td>\n",
       "      <td>-1.0</td>\n",
       "      <td>1526.0</td>\n",
       "      <td>0.0</td>\n",
       "      <td>0.0</td>\n",
       "      <td>0.00</td>\n",
       "      <td>0.00</td>\n",
       "    </tr>\n",
       "  </tbody>\n",
       "</table>\n",
       "<p>5 rows × 204 columns</p>\n",
       "</div>"
      ],
      "text/plain": [
       "   loc_og_t2o_mou  std_og_t2o_mou  loc_ic_t2o_mou   arpu_6   arpu_7   arpu_8  \\\n",
       "0             0.0             0.0             0.0  197.385  214.816  213.803   \n",
       "1             0.0             0.0             0.0   34.047  355.074  268.321   \n",
       "2             0.0             0.0             0.0  167.690  189.058  210.226   \n",
       "3             0.0             0.0             0.0  221.338  251.102  508.054   \n",
       "4             0.0             0.0             0.0  261.636  309.876  238.174   \n",
       "\n",
       "    arpu_9  onnet_mou_6  onnet_mou_7  onnet_mou_8  ...  sachet_3g_9  \\\n",
       "0   21.100   -95.132578   -82.141787         0.00  ...          0.0   \n",
       "1   86.285    24.110000    78.680000         7.68  ...          0.0   \n",
       "2  290.714    11.540000    55.240000        37.26  ...          0.0   \n",
       "3  389.500    99.910000    54.390000       310.98  ...          0.0   \n",
       "4  163.426    50.310000   149.440000        83.89  ...          0.0   \n",
       "\n",
       "   fb_user_6  fb_user_7  fb_user_8  fb_user_9     aon  aug_vbc_3g  jul_vbc_3g  \\\n",
       "0        1.0        1.0        1.0       -1.0   968.0        30.4         0.0   \n",
       "1       -1.0        1.0        1.0       -1.0  1006.0         0.0         0.0   \n",
       "2       -1.0       -1.0       -1.0        1.0  1103.0         0.0         0.0   \n",
       "3       -1.0       -1.0       -1.0       -1.0  2491.0         0.0         0.0   \n",
       "4        0.0       -1.0       -1.0       -1.0  1526.0         0.0         0.0   \n",
       "\n",
       "   jun_vbc_3g  sep_vbc_3g  \n",
       "0      101.20        3.58  \n",
       "1        0.00        0.00  \n",
       "2        4.17        0.00  \n",
       "3        0.00        0.00  \n",
       "4        0.00        0.00  \n",
       "\n",
       "[5 rows x 204 columns]"
      ]
     },
     "execution_count": 45,
     "metadata": {},
     "output_type": "execute_result"
    }
   ],
   "source": [
    "#sum(np.isnan(df_temp))\n",
    "df.head()"
   ]
  },
  {
   "cell_type": "code",
   "execution_count": 46,
   "metadata": {},
   "outputs": [
    {
     "data": {
      "text/plain": [
       "[]"
      ]
     },
     "execution_count": 46,
     "metadata": {},
     "output_type": "execute_result"
    }
   ],
   "source": [
    "miss_columns = missing_values_details(df)\n",
    "miss_columns"
   ]
  },
  {
   "cell_type": "markdown",
   "metadata": {},
   "source": [
    "##### Now, we have addressed all the missing values in the data set."
   ]
  },
  {
   "cell_type": "code",
   "execution_count": 47,
   "metadata": {},
   "outputs": [
    {
     "data": {
      "text/plain": [
       "(99999, 204)"
      ]
     },
     "execution_count": 47,
     "metadata": {},
     "output_type": "execute_result"
    }
   ],
   "source": [
    "df.shape"
   ]
  },
  {
   "cell_type": "code",
   "execution_count": 48,
   "metadata": {},
   "outputs": [
    {
     "name": "stdout",
     "output_type": "stream",
     "text": [
      "<class 'pandas.core.frame.DataFrame'>\n",
      "RangeIndex: 99999 entries, 0 to 99998\n",
      "Data columns (total 204 columns):\n",
      " #   Column              Dtype  \n",
      "---  ------              -----  \n",
      " 0   loc_og_t2o_mou      float64\n",
      " 1   std_og_t2o_mou      float64\n",
      " 2   loc_ic_t2o_mou      float64\n",
      " 3   arpu_6              float64\n",
      " 4   arpu_7              float64\n",
      " 5   arpu_8              float64\n",
      " 6   arpu_9              float64\n",
      " 7   onnet_mou_6         float64\n",
      " 8   onnet_mou_7         float64\n",
      " 9   onnet_mou_8         float64\n",
      " 10  onnet_mou_9         float64\n",
      " 11  offnet_mou_6        float64\n",
      " 12  offnet_mou_7        float64\n",
      " 13  offnet_mou_8        float64\n",
      " 14  offnet_mou_9        float64\n",
      " 15  roam_ic_mou_6       float64\n",
      " 16  roam_ic_mou_7       float64\n",
      " 17  roam_ic_mou_8       float64\n",
      " 18  roam_ic_mou_9       float64\n",
      " 19  roam_og_mou_6       float64\n",
      " 20  roam_og_mou_7       float64\n",
      " 21  roam_og_mou_8       float64\n",
      " 22  roam_og_mou_9       float64\n",
      " 23  loc_og_t2t_mou_6    float64\n",
      " 24  loc_og_t2t_mou_7    float64\n",
      " 25  loc_og_t2t_mou_8    float64\n",
      " 26  loc_og_t2t_mou_9    float64\n",
      " 27  loc_og_t2m_mou_6    float64\n",
      " 28  loc_og_t2m_mou_7    float64\n",
      " 29  loc_og_t2m_mou_8    float64\n",
      " 30  loc_og_t2m_mou_9    float64\n",
      " 31  loc_og_t2f_mou_6    float64\n",
      " 32  loc_og_t2f_mou_7    float64\n",
      " 33  loc_og_t2f_mou_8    float64\n",
      " 34  loc_og_t2f_mou_9    float64\n",
      " 35  loc_og_t2c_mou_6    float64\n",
      " 36  loc_og_t2c_mou_7    float64\n",
      " 37  loc_og_t2c_mou_8    float64\n",
      " 38  loc_og_t2c_mou_9    float64\n",
      " 39  loc_og_mou_6        float64\n",
      " 40  loc_og_mou_7        float64\n",
      " 41  loc_og_mou_8        float64\n",
      " 42  loc_og_mou_9        float64\n",
      " 43  std_og_t2t_mou_6    float64\n",
      " 44  std_og_t2t_mou_7    float64\n",
      " 45  std_og_t2t_mou_8    float64\n",
      " 46  std_og_t2t_mou_9    float64\n",
      " 47  std_og_t2m_mou_6    float64\n",
      " 48  std_og_t2m_mou_7    float64\n",
      " 49  std_og_t2m_mou_8    float64\n",
      " 50  std_og_t2m_mou_9    float64\n",
      " 51  std_og_t2f_mou_6    float64\n",
      " 52  std_og_t2f_mou_7    float64\n",
      " 53  std_og_t2f_mou_8    float64\n",
      " 54  std_og_t2f_mou_9    float64\n",
      " 55  std_og_t2c_mou_6    float64\n",
      " 56  std_og_t2c_mou_7    float64\n",
      " 57  std_og_t2c_mou_8    float64\n",
      " 58  std_og_t2c_mou_9    float64\n",
      " 59  std_og_mou_6        float64\n",
      " 60  std_og_mou_7        float64\n",
      " 61  std_og_mou_8        float64\n",
      " 62  std_og_mou_9        float64\n",
      " 63  isd_og_mou_6        float64\n",
      " 64  isd_og_mou_7        float64\n",
      " 65  isd_og_mou_8        float64\n",
      " 66  isd_og_mou_9        float64\n",
      " 67  spl_og_mou_6        float64\n",
      " 68  spl_og_mou_7        float64\n",
      " 69  spl_og_mou_8        float64\n",
      " 70  spl_og_mou_9        float64\n",
      " 71  og_others_6         float64\n",
      " 72  og_others_7         float64\n",
      " 73  og_others_8         float64\n",
      " 74  og_others_9         float64\n",
      " 75  total_og_mou_6      float64\n",
      " 76  total_og_mou_7      float64\n",
      " 77  total_og_mou_8      float64\n",
      " 78  total_og_mou_9      float64\n",
      " 79  loc_ic_t2t_mou_6    float64\n",
      " 80  loc_ic_t2t_mou_7    float64\n",
      " 81  loc_ic_t2t_mou_8    float64\n",
      " 82  loc_ic_t2t_mou_9    float64\n",
      " 83  loc_ic_t2m_mou_6    float64\n",
      " 84  loc_ic_t2m_mou_7    float64\n",
      " 85  loc_ic_t2m_mou_8    float64\n",
      " 86  loc_ic_t2m_mou_9    float64\n",
      " 87  loc_ic_t2f_mou_6    float64\n",
      " 88  loc_ic_t2f_mou_7    float64\n",
      " 89  loc_ic_t2f_mou_8    float64\n",
      " 90  loc_ic_t2f_mou_9    float64\n",
      " 91  loc_ic_mou_6        float64\n",
      " 92  loc_ic_mou_7        float64\n",
      " 93  loc_ic_mou_8        float64\n",
      " 94  loc_ic_mou_9        float64\n",
      " 95  std_ic_t2t_mou_6    float64\n",
      " 96  std_ic_t2t_mou_7    float64\n",
      " 97  std_ic_t2t_mou_8    float64\n",
      " 98  std_ic_t2t_mou_9    float64\n",
      " 99  std_ic_t2m_mou_6    float64\n",
      " 100 std_ic_t2m_mou_7    float64\n",
      " 101 std_ic_t2m_mou_8    float64\n",
      " 102 std_ic_t2m_mou_9    float64\n",
      " 103 std_ic_t2f_mou_6    float64\n",
      " 104 std_ic_t2f_mou_7    float64\n",
      " 105 std_ic_t2f_mou_8    float64\n",
      " 106 std_ic_t2f_mou_9    float64\n",
      " 107 std_ic_t2o_mou_6    float64\n",
      " 108 std_ic_t2o_mou_7    float64\n",
      " 109 std_ic_t2o_mou_8    float64\n",
      " 110 std_ic_t2o_mou_9    float64\n",
      " 111 std_ic_mou_6        float64\n",
      " 112 std_ic_mou_7        float64\n",
      " 113 std_ic_mou_8        float64\n",
      " 114 std_ic_mou_9        float64\n",
      " 115 total_ic_mou_6      float64\n",
      " 116 total_ic_mou_7      float64\n",
      " 117 total_ic_mou_8      float64\n",
      " 118 total_ic_mou_9      float64\n",
      " 119 spl_ic_mou_6        float64\n",
      " 120 spl_ic_mou_7        float64\n",
      " 121 spl_ic_mou_8        float64\n",
      " 122 spl_ic_mou_9        float64\n",
      " 123 isd_ic_mou_6        float64\n",
      " 124 isd_ic_mou_7        float64\n",
      " 125 isd_ic_mou_8        float64\n",
      " 126 isd_ic_mou_9        float64\n",
      " 127 ic_others_6         float64\n",
      " 128 ic_others_7         float64\n",
      " 129 ic_others_8         float64\n",
      " 130 ic_others_9         float64\n",
      " 131 total_rech_num_6    float64\n",
      " 132 total_rech_num_7    float64\n",
      " 133 total_rech_num_8    float64\n",
      " 134 total_rech_num_9    float64\n",
      " 135 total_rech_amt_6    float64\n",
      " 136 total_rech_amt_7    float64\n",
      " 137 total_rech_amt_8    float64\n",
      " 138 total_rech_amt_9    float64\n",
      " 139 max_rech_amt_6      float64\n",
      " 140 max_rech_amt_7      float64\n",
      " 141 max_rech_amt_8      float64\n",
      " 142 max_rech_amt_9      float64\n",
      " 143 last_day_rch_amt_6  float64\n",
      " 144 last_day_rch_amt_7  float64\n",
      " 145 last_day_rch_amt_8  float64\n",
      " 146 last_day_rch_amt_9  float64\n",
      " 147 total_rech_data_6   float64\n",
      " 148 total_rech_data_7   float64\n",
      " 149 total_rech_data_8   float64\n",
      " 150 total_rech_data_9   float64\n",
      " 151 max_rech_data_6     float64\n",
      " 152 max_rech_data_7     float64\n",
      " 153 max_rech_data_8     float64\n",
      " 154 max_rech_data_9     float64\n",
      " 155 count_rech_2g_6     float64\n",
      " 156 count_rech_2g_7     float64\n",
      " 157 count_rech_2g_8     float64\n",
      " 158 count_rech_2g_9     float64\n",
      " 159 count_rech_3g_6     float64\n",
      " 160 count_rech_3g_7     float64\n",
      " 161 count_rech_3g_8     float64\n",
      " 162 count_rech_3g_9     float64\n",
      " 163 av_rech_amt_data_6  float64\n",
      " 164 av_rech_amt_data_7  float64\n",
      " 165 av_rech_amt_data_8  float64\n",
      " 166 av_rech_amt_data_9  float64\n",
      " 167 vol_2g_mb_6         float64\n",
      " 168 vol_2g_mb_7         float64\n",
      " 169 vol_2g_mb_8         float64\n",
      " 170 vol_2g_mb_9         float64\n",
      " 171 vol_3g_mb_6         float64\n",
      " 172 vol_3g_mb_7         float64\n",
      " 173 vol_3g_mb_8         float64\n",
      " 174 vol_3g_mb_9         float64\n",
      " 175 night_pck_user_6    float64\n",
      " 176 night_pck_user_7    float64\n",
      " 177 night_pck_user_8    float64\n",
      " 178 night_pck_user_9    float64\n",
      " 179 monthly_2g_6        float64\n",
      " 180 monthly_2g_7        float64\n",
      " 181 monthly_2g_8        float64\n",
      " 182 monthly_2g_9        float64\n",
      " 183 sachet_2g_6         float64\n",
      " 184 sachet_2g_7         float64\n",
      " 185 sachet_2g_8         float64\n",
      " 186 sachet_2g_9         float64\n",
      " 187 monthly_3g_6        float64\n",
      " 188 monthly_3g_7        float64\n",
      " 189 monthly_3g_8        float64\n",
      " 190 monthly_3g_9        float64\n",
      " 191 sachet_3g_6         float64\n",
      " 192 sachet_3g_7         float64\n",
      " 193 sachet_3g_8         float64\n",
      " 194 sachet_3g_9         float64\n",
      " 195 fb_user_6           float64\n",
      " 196 fb_user_7           float64\n",
      " 197 fb_user_8           float64\n",
      " 198 fb_user_9           float64\n",
      " 199 aon                 float64\n",
      " 200 aug_vbc_3g          float64\n",
      " 201 jul_vbc_3g          float64\n",
      " 202 jun_vbc_3g          float64\n",
      " 203 sep_vbc_3g          float64\n",
      "dtypes: float64(204)\n",
      "memory usage: 155.6 MB\n"
     ]
    }
   ],
   "source": [
    "df.info(verbose=1)"
   ]
  },
  {
   "cell_type": "markdown",
   "metadata": {},
   "source": [
    "#### Define high-value customers as follows: \n",
    "Those who have recharged with an amount more than or equal to X, where X is the 70th percentile of the average recharge amount in the first two months (the good phase).\n",
    "\n",
    " "
   ]
  },
  {
   "cell_type": "code",
   "execution_count": 49,
   "metadata": {},
   "outputs": [
    {
     "name": "stdout",
     "output_type": "stream",
     "text": [
      "Index(['total_rech_num_6', 'total_rech_num_7', 'total_rech_num_8',\n",
      "       'total_rech_num_9', 'total_rech_amt_6', 'total_rech_amt_7',\n",
      "       'total_rech_amt_8', 'total_rech_amt_9', 'max_rech_amt_6',\n",
      "       'max_rech_amt_7', 'max_rech_amt_8', 'max_rech_amt_9',\n",
      "       'last_day_rch_amt_6', 'last_day_rch_amt_7', 'last_day_rch_amt_8',\n",
      "       'last_day_rch_amt_9', 'total_rech_data_6', 'total_rech_data_7',\n",
      "       'total_rech_data_8', 'total_rech_data_9', 'max_rech_data_6',\n",
      "       'max_rech_data_7', 'max_rech_data_8', 'max_rech_data_9',\n",
      "       'count_rech_2g_6', 'count_rech_2g_7', 'count_rech_2g_8',\n",
      "       'count_rech_2g_9', 'count_rech_3g_6', 'count_rech_3g_7',\n",
      "       'count_rech_3g_8', 'count_rech_3g_9', 'av_rech_amt_data_6',\n",
      "       'av_rech_amt_data_7', 'av_rech_amt_data_8', 'av_rech_amt_data_9'],\n",
      "      dtype='object')\n"
     ]
    }
   ],
   "source": [
    "\n",
    "#rech_cols = [col for col in df_cln.columns if 'rech' in col]\n",
    "#print(len(rech_cols))\n",
    "print(df.filter(regex='rec|rc').columns)\n",
    "#print(df_cln.filter(like='rc').columns)"
   ]
  },
  {
   "cell_type": "code",
   "execution_count": 50,
   "metadata": {},
   "outputs": [],
   "source": [
    "# calculate the total data recharge amount for June and July --> number of recharges * average recharge amount\n",
    "df['total_data_rech_6'] = df.total_rech_data_6 * df.av_rech_amt_data_6\n",
    "df['total_data_rech_7'] = df.total_rech_data_7 * df.av_rech_amt_data_7"
   ]
  },
  {
   "cell_type": "code",
   "execution_count": 51,
   "metadata": {},
   "outputs": [],
   "source": [
    "# calculate total recharge amount for June and July --> call recharge amount + data recharge amount\n",
    "df['tot_amt_6'] = df.total_rech_amt_6 + df.total_data_rech_6\n",
    "df['tot_amt_7'] = df.total_rech_amt_7 + df.total_data_rech_7\n",
    "\n",
    "# Average recharge amount \n",
    "df['avg_amt_6_7'] = (df['tot_amt_6'] + df['tot_amt_7']) / 2"
   ]
  },
  {
   "cell_type": "code",
   "execution_count": 52,
   "metadata": {},
   "outputs": [
    {
     "data": {
      "text/plain": [
       "478.0"
      ]
     },
     "execution_count": 52,
     "metadata": {},
     "output_type": "execute_result"
    }
   ],
   "source": [
    "high_value_rech_amt = df['avg_amt_6_7'].quantile(0.7)\n",
    "high_value_rech_amt"
   ]
  },
  {
   "cell_type": "code",
   "execution_count": 53,
   "metadata": {},
   "outputs": [],
   "source": [
    "df_backup2 = df.copy()"
   ]
  },
  {
   "cell_type": "code",
   "execution_count": 54,
   "metadata": {},
   "outputs": [],
   "source": [
    "#df = df_backup2"
   ]
  },
  {
   "cell_type": "markdown",
   "metadata": {},
   "source": [
    "#### Filter out only the High Value customers for further analysis and modelling"
   ]
  },
  {
   "cell_type": "code",
   "execution_count": 55,
   "metadata": {},
   "outputs": [],
   "source": [
    "df = df.loc[df['avg_amt_6_7'] > high_value_rech_amt, : ]"
   ]
  },
  {
   "cell_type": "code",
   "execution_count": 56,
   "metadata": {},
   "outputs": [
    {
     "data": {
      "text/plain": [
       "(29953, 209)"
      ]
     },
     "execution_count": 56,
     "metadata": {},
     "output_type": "execute_result"
    }
   ],
   "source": [
    "df.shape"
   ]
  },
  {
   "cell_type": "code",
   "execution_count": 57,
   "metadata": {},
   "outputs": [
    {
     "data": {
      "text/plain": [
       "count    29953.000000\n",
       "mean      1153.701715\n",
       "std       1359.533621\n",
       "min        478.500000\n",
       "25%        604.000000\n",
       "50%        800.500000\n",
       "75%       1209.000000\n",
       "max      61236.000000\n",
       "Name: avg_amt_6_7, dtype: float64"
      ]
     },
     "execution_count": 57,
     "metadata": {},
     "output_type": "execute_result"
    }
   ],
   "source": [
    "df.avg_amt_6_7.describe()"
   ]
  },
  {
   "cell_type": "code",
   "execution_count": 58,
   "metadata": {},
   "outputs": [],
   "source": [
    "# Drop the extra columns we added to filter the high-valued customers\n",
    "df = df.drop(['avg_amt_6_7', 'tot_amt_6', 'tot_amt_7', 'total_data_rech_6', 'total_data_rech_7'], axis=1)"
   ]
  },
  {
   "cell_type": "code",
   "execution_count": 59,
   "metadata": {},
   "outputs": [
    {
     "data": {
      "text/plain": [
       "(29953, 204)"
      ]
     },
     "execution_count": 59,
     "metadata": {},
     "output_type": "execute_result"
    }
   ],
   "source": [
    "df.shape"
   ]
  },
  {
   "cell_type": "code",
   "execution_count": 60,
   "metadata": {},
   "outputs": [
    {
     "data": {
      "text/plain": [
       "Index([], dtype='object')"
      ]
     },
     "execution_count": 60,
     "metadata": {},
     "output_type": "execute_result"
    }
   ],
   "source": [
    "df.filter(regex='date').columns"
   ]
  },
  {
   "cell_type": "markdown",
   "metadata": {},
   "source": [
    "##### Identify and label the churned customers"
   ]
  },
  {
   "cell_type": "code",
   "execution_count": 61,
   "metadata": {},
   "outputs": [],
   "source": [
    "df['churn'] = 0\n",
    "\n",
    "def set_churn(row):\n",
    "   if ((row.total_ic_mou_9 == 0) & (row.total_og_mou_9 == 0) & (row.vol_2g_mb_9 == 0) & (row.vol_3g_mb_9 == 0)):\n",
    "      return 1\n",
    "   else:\n",
    "      return 0\n",
    "        \n",
    "df['churn'] = df.apply(lambda row: set_churn(row), axis=1)\n",
    "\n",
    "#df['churn'].loc[(df.total_ic_mou_9 == 0) & (df.total_og_mou_9 == 0) & (df.vol_2g_mb_9 == 0) & (df.vol_3g_mb_9 == 0)] = 1\n",
    "#df.loc[(df.total_ic_mou_9 == 0) & (df.total_og_mou_9 == 0) & (df.vol_2g_mb_9 == 0) & (df.vol_3g_mb_9 == 0)]['churn'] = 1"
   ]
  },
  {
   "cell_type": "code",
   "execution_count": 62,
   "metadata": {},
   "outputs": [
    {
     "data": {
      "text/plain": [
       "0    27520\n",
       "1     2433\n",
       "Name: churn, dtype: int64"
      ]
     },
     "execution_count": 62,
     "metadata": {},
     "output_type": "execute_result"
    }
   ],
   "source": [
    "df['churn'].value_counts()"
   ]
  },
  {
   "cell_type": "code",
   "execution_count": 63,
   "metadata": {},
   "outputs": [
    {
     "data": {
      "text/plain": [
       "Index(['arpu_9', 'onnet_mou_9', 'offnet_mou_9', 'roam_ic_mou_9',\n",
       "       'roam_og_mou_9', 'loc_og_t2t_mou_9', 'loc_og_t2m_mou_9',\n",
       "       'loc_og_t2f_mou_9', 'loc_og_t2c_mou_9', 'loc_og_mou_9',\n",
       "       'std_og_t2t_mou_9', 'std_og_t2m_mou_9', 'std_og_t2f_mou_9',\n",
       "       'std_og_t2c_mou_9', 'std_og_mou_9', 'isd_og_mou_9', 'spl_og_mou_9',\n",
       "       'og_others_9', 'total_og_mou_9', 'loc_ic_t2t_mou_9', 'loc_ic_t2m_mou_9',\n",
       "       'loc_ic_t2f_mou_9', 'loc_ic_mou_9', 'std_ic_t2t_mou_9',\n",
       "       'std_ic_t2m_mou_9', 'std_ic_t2f_mou_9', 'std_ic_t2o_mou_9',\n",
       "       'std_ic_mou_9', 'total_ic_mou_9', 'spl_ic_mou_9', 'isd_ic_mou_9',\n",
       "       'ic_others_9', 'total_rech_num_9', 'total_rech_amt_9', 'max_rech_amt_9',\n",
       "       'last_day_rch_amt_9', 'total_rech_data_9', 'max_rech_data_9',\n",
       "       'count_rech_2g_9', 'count_rech_3g_9', 'av_rech_amt_data_9',\n",
       "       'vol_2g_mb_9', 'vol_3g_mb_9', 'night_pck_user_9', 'monthly_2g_9',\n",
       "       'sachet_2g_9', 'monthly_3g_9', 'sachet_3g_9', 'fb_user_9'],\n",
       "      dtype='object')"
      ]
     },
     "execution_count": 63,
     "metadata": {},
     "output_type": "execute_result"
    }
   ],
   "source": [
    "#### After tagging churners, remove all the attributes corresponding to the churn phase (all attributes having ‘ _9’, etc. in their names).\n",
    "\n",
    "nineth_month_cols = df.filter(regex='9$').columns\n",
    "nineth_month_cols"
   ]
  },
  {
   "cell_type": "code",
   "execution_count": 64,
   "metadata": {},
   "outputs": [
    {
     "data": {
      "text/plain": [
       "(29953, 156)"
      ]
     },
     "execution_count": 64,
     "metadata": {},
     "output_type": "execute_result"
    }
   ],
   "source": [
    "df = df.drop(nineth_month_cols, axis = 1)\n",
    "df.shape"
   ]
  },
  {
   "cell_type": "code",
   "execution_count": 65,
   "metadata": {},
   "outputs": [],
   "source": [
    "num_vars, cat_vars = sep_num_cat(df)"
   ]
  },
  {
   "cell_type": "code",
   "execution_count": 66,
   "metadata": {},
   "outputs": [
    {
     "name": "stdout",
     "output_type": "stream",
     "text": [
      "['loc_og_t2o_mou', 'std_og_t2o_mou', 'loc_ic_t2o_mou', 'arpu_6', 'arpu_7', 'arpu_8', 'onnet_mou_6', 'onnet_mou_7', 'onnet_mou_8', 'offnet_mou_6', 'offnet_mou_7', 'offnet_mou_8', 'roam_ic_mou_6', 'roam_ic_mou_7', 'roam_ic_mou_8', 'roam_og_mou_6', 'roam_og_mou_7', 'roam_og_mou_8', 'loc_og_t2t_mou_6', 'loc_og_t2t_mou_7', 'loc_og_t2t_mou_8', 'loc_og_t2m_mou_6', 'loc_og_t2m_mou_7', 'loc_og_t2m_mou_8', 'loc_og_t2f_mou_6', 'loc_og_t2f_mou_7', 'loc_og_t2f_mou_8', 'loc_og_t2c_mou_6', 'loc_og_t2c_mou_7', 'loc_og_t2c_mou_8', 'loc_og_mou_6', 'loc_og_mou_7', 'loc_og_mou_8', 'std_og_t2t_mou_6', 'std_og_t2t_mou_7', 'std_og_t2t_mou_8', 'std_og_t2m_mou_6', 'std_og_t2m_mou_7', 'std_og_t2m_mou_8', 'std_og_t2f_mou_6', 'std_og_t2f_mou_7', 'std_og_t2f_mou_8', 'std_og_t2c_mou_6', 'std_og_t2c_mou_7', 'std_og_t2c_mou_8', 'std_og_mou_6', 'std_og_mou_7', 'std_og_mou_8', 'isd_og_mou_6', 'isd_og_mou_7', 'isd_og_mou_8', 'spl_og_mou_6', 'spl_og_mou_7', 'spl_og_mou_8', 'og_others_6', 'og_others_7', 'og_others_8', 'total_og_mou_6', 'total_og_mou_7', 'total_og_mou_8', 'loc_ic_t2t_mou_6', 'loc_ic_t2t_mou_7', 'loc_ic_t2t_mou_8', 'loc_ic_t2m_mou_6', 'loc_ic_t2m_mou_7', 'loc_ic_t2m_mou_8', 'loc_ic_t2f_mou_6', 'loc_ic_t2f_mou_7', 'loc_ic_t2f_mou_8', 'loc_ic_mou_6', 'loc_ic_mou_7', 'loc_ic_mou_8', 'std_ic_t2t_mou_6', 'std_ic_t2t_mou_7', 'std_ic_t2t_mou_8', 'std_ic_t2m_mou_6', 'std_ic_t2m_mou_7', 'std_ic_t2m_mou_8', 'std_ic_t2f_mou_6', 'std_ic_t2f_mou_7', 'std_ic_t2f_mou_8', 'std_ic_t2o_mou_6', 'std_ic_t2o_mou_7', 'std_ic_t2o_mou_8', 'std_ic_mou_6', 'std_ic_mou_7', 'std_ic_mou_8', 'total_ic_mou_6', 'total_ic_mou_7', 'total_ic_mou_8', 'spl_ic_mou_6', 'spl_ic_mou_7', 'spl_ic_mou_8', 'isd_ic_mou_6', 'isd_ic_mou_7', 'isd_ic_mou_8', 'ic_others_6', 'ic_others_7', 'ic_others_8', 'total_rech_num_6', 'total_rech_num_7', 'total_rech_num_8', 'total_rech_amt_6', 'total_rech_amt_7', 'total_rech_amt_8', 'max_rech_amt_6', 'max_rech_amt_7', 'max_rech_amt_8', 'last_day_rch_amt_6', 'last_day_rch_amt_7', 'last_day_rch_amt_8', 'total_rech_data_6', 'total_rech_data_7', 'total_rech_data_8', 'max_rech_data_6', 'max_rech_data_7', 'max_rech_data_8', 'count_rech_2g_6', 'count_rech_2g_7', 'count_rech_2g_8', 'count_rech_3g_6', 'count_rech_3g_7', 'count_rech_3g_8', 'av_rech_amt_data_6', 'av_rech_amt_data_7', 'av_rech_amt_data_8', 'vol_2g_mb_6', 'vol_2g_mb_7', 'vol_2g_mb_8', 'vol_3g_mb_6', 'vol_3g_mb_7', 'vol_3g_mb_8', 'night_pck_user_6', 'night_pck_user_7', 'night_pck_user_8', 'monthly_2g_6', 'monthly_2g_7', 'monthly_2g_8', 'sachet_2g_6', 'sachet_2g_7', 'sachet_2g_8', 'monthly_3g_6', 'monthly_3g_7', 'monthly_3g_8', 'sachet_3g_6', 'sachet_3g_7', 'sachet_3g_8', 'fb_user_6', 'fb_user_7', 'fb_user_8', 'aon', 'aug_vbc_3g', 'jul_vbc_3g', 'jun_vbc_3g', 'sep_vbc_3g', 'churn']\n",
      "[]\n"
     ]
    }
   ],
   "source": [
    "print(num_vars)\n",
    "print(cat_vars)"
   ]
  },
  {
   "cell_type": "markdown",
   "metadata": {},
   "source": [
    "Look at some numerical variables which are actually categorical in nature."
   ]
  },
  {
   "cell_type": "code",
   "execution_count": 67,
   "metadata": {},
   "outputs": [
    {
     "name": "stdout",
     "output_type": "stream",
     "text": [
      "['night_pck_user_6', 'night_pck_user_7', 'night_pck_user_8', 'fb_user_6', 'fb_user_7', 'fb_user_8']\n"
     ]
    }
   ],
   "source": [
    "cols = [col for col in df.columns if df[col].max()==1 and col!='churn']\n",
    "print(cols)"
   ]
  },
  {
   "cell_type": "code",
   "execution_count": 68,
   "metadata": {},
   "outputs": [
    {
     "data": {
      "text/html": [
       "<div>\n",
       "<style scoped>\n",
       "    .dataframe tbody tr th:only-of-type {\n",
       "        vertical-align: middle;\n",
       "    }\n",
       "\n",
       "    .dataframe tbody tr th {\n",
       "        vertical-align: top;\n",
       "    }\n",
       "\n",
       "    .dataframe thead th {\n",
       "        text-align: right;\n",
       "    }\n",
       "</style>\n",
       "<table border=\"1\" class=\"dataframe\">\n",
       "  <thead>\n",
       "    <tr style=\"text-align: right;\">\n",
       "      <th></th>\n",
       "      <th>night_pck_user_6</th>\n",
       "      <th>night_pck_user_7</th>\n",
       "      <th>night_pck_user_8</th>\n",
       "      <th>fb_user_6</th>\n",
       "      <th>fb_user_7</th>\n",
       "      <th>fb_user_8</th>\n",
       "    </tr>\n",
       "  </thead>\n",
       "  <tbody>\n",
       "    <tr>\n",
       "      <th>count</th>\n",
       "      <td>29953.000000</td>\n",
       "      <td>29953.000000</td>\n",
       "      <td>29953.000000</td>\n",
       "      <td>29953.000000</td>\n",
       "      <td>29953.000000</td>\n",
       "      <td>29953.000000</td>\n",
       "    </tr>\n",
       "    <tr>\n",
       "      <th>mean</th>\n",
       "      <td>-0.427536</td>\n",
       "      <td>-0.418656</td>\n",
       "      <td>-0.456615</td>\n",
       "      <td>0.076720</td>\n",
       "      <td>0.093146</td>\n",
       "      <td>0.009315</td>\n",
       "    </tr>\n",
       "    <tr>\n",
       "      <th>std</th>\n",
       "      <td>0.521473</td>\n",
       "      <td>0.518104</td>\n",
       "      <td>0.520477</td>\n",
       "      <td>0.976276</td>\n",
       "      <td>0.973063</td>\n",
       "      <td>0.972244</td>\n",
       "    </tr>\n",
       "    <tr>\n",
       "      <th>min</th>\n",
       "      <td>-1.000000</td>\n",
       "      <td>-1.000000</td>\n",
       "      <td>-1.000000</td>\n",
       "      <td>-1.000000</td>\n",
       "      <td>-1.000000</td>\n",
       "      <td>-1.000000</td>\n",
       "    </tr>\n",
       "    <tr>\n",
       "      <th>25%</th>\n",
       "      <td>-1.000000</td>\n",
       "      <td>-1.000000</td>\n",
       "      <td>-1.000000</td>\n",
       "      <td>-1.000000</td>\n",
       "      <td>-1.000000</td>\n",
       "      <td>-1.000000</td>\n",
       "    </tr>\n",
       "    <tr>\n",
       "      <th>50%</th>\n",
       "      <td>0.000000</td>\n",
       "      <td>0.000000</td>\n",
       "      <td>0.000000</td>\n",
       "      <td>1.000000</td>\n",
       "      <td>1.000000</td>\n",
       "      <td>0.000000</td>\n",
       "    </tr>\n",
       "    <tr>\n",
       "      <th>75%</th>\n",
       "      <td>0.000000</td>\n",
       "      <td>0.000000</td>\n",
       "      <td>0.000000</td>\n",
       "      <td>1.000000</td>\n",
       "      <td>1.000000</td>\n",
       "      <td>1.000000</td>\n",
       "    </tr>\n",
       "    <tr>\n",
       "      <th>max</th>\n",
       "      <td>1.000000</td>\n",
       "      <td>1.000000</td>\n",
       "      <td>1.000000</td>\n",
       "      <td>1.000000</td>\n",
       "      <td>1.000000</td>\n",
       "      <td>1.000000</td>\n",
       "    </tr>\n",
       "  </tbody>\n",
       "</table>\n",
       "</div>"
      ],
      "text/plain": [
       "       night_pck_user_6  night_pck_user_7  night_pck_user_8     fb_user_6  \\\n",
       "count      29953.000000      29953.000000      29953.000000  29953.000000   \n",
       "mean          -0.427536         -0.418656         -0.456615      0.076720   \n",
       "std            0.521473          0.518104          0.520477      0.976276   \n",
       "min           -1.000000         -1.000000         -1.000000     -1.000000   \n",
       "25%           -1.000000         -1.000000         -1.000000     -1.000000   \n",
       "50%            0.000000          0.000000          0.000000      1.000000   \n",
       "75%            0.000000          0.000000          0.000000      1.000000   \n",
       "max            1.000000          1.000000          1.000000      1.000000   \n",
       "\n",
       "          fb_user_7     fb_user_8  \n",
       "count  29953.000000  29953.000000  \n",
       "mean       0.093146      0.009315  \n",
       "std        0.973063      0.972244  \n",
       "min       -1.000000     -1.000000  \n",
       "25%       -1.000000     -1.000000  \n",
       "50%        1.000000      0.000000  \n",
       "75%        1.000000      1.000000  \n",
       "max        1.000000      1.000000  "
      ]
     },
     "execution_count": 68,
     "metadata": {},
     "output_type": "execute_result"
    }
   ],
   "source": [
    "df[list(cols)].describe()"
   ]
  },
  {
   "cell_type": "markdown",
   "metadata": {},
   "source": [
    "#### The above columns are actually categorical with values -1,0,1. We can convert these to category."
   ]
  },
  {
   "cell_type": "code",
   "execution_count": 69,
   "metadata": {},
   "outputs": [],
   "source": [
    "df[cols] = df[cols].apply(lambda col:col.astype('category'), axis=0)"
   ]
  },
  {
   "cell_type": "code",
   "execution_count": 70,
   "metadata": {},
   "outputs": [
    {
     "name": "stdout",
     "output_type": "stream",
     "text": [
      "<class 'pandas.core.frame.DataFrame'>\n",
      "Int64Index: 29953 entries, 0 to 99997\n",
      "Data columns (total 6 columns):\n",
      " #   Column            Non-Null Count  Dtype   \n",
      "---  ------            --------------  -----   \n",
      " 0   night_pck_user_6  29953 non-null  category\n",
      " 1   night_pck_user_7  29953 non-null  category\n",
      " 2   night_pck_user_8  29953 non-null  category\n",
      " 3   fb_user_6         29953 non-null  category\n",
      " 4   fb_user_7         29953 non-null  category\n",
      " 5   fb_user_8         29953 non-null  category\n",
      "dtypes: category(6)\n",
      "memory usage: 410.1 KB\n"
     ]
    }
   ],
   "source": [
    "df[list(cols)].info()"
   ]
  },
  {
   "cell_type": "markdown",
   "metadata": {},
   "source": [
    "### 3. EDA, Data Visualization and Outliers treatment"
   ]
  },
  {
   "cell_type": "code",
   "execution_count": 72,
   "metadata": {},
   "outputs": [],
   "source": [
    "num_vars, cat_vars = sep_num_cat(df)"
   ]
  },
  {
   "cell_type": "code",
   "execution_count": 73,
   "metadata": {},
   "outputs": [
    {
     "name": "stdout",
     "output_type": "stream",
     "text": [
      "['loc_og_t2o_mou', 'std_og_t2o_mou', 'loc_ic_t2o_mou', 'arpu_6', 'arpu_7', 'arpu_8', 'onnet_mou_6', 'onnet_mou_7', 'onnet_mou_8', 'offnet_mou_6', 'offnet_mou_7', 'offnet_mou_8', 'roam_ic_mou_6', 'roam_ic_mou_7', 'roam_ic_mou_8', 'roam_og_mou_6', 'roam_og_mou_7', 'roam_og_mou_8', 'loc_og_t2t_mou_6', 'loc_og_t2t_mou_7', 'loc_og_t2t_mou_8', 'loc_og_t2m_mou_6', 'loc_og_t2m_mou_7', 'loc_og_t2m_mou_8', 'loc_og_t2f_mou_6', 'loc_og_t2f_mou_7', 'loc_og_t2f_mou_8', 'loc_og_t2c_mou_6', 'loc_og_t2c_mou_7', 'loc_og_t2c_mou_8', 'loc_og_mou_6', 'loc_og_mou_7', 'loc_og_mou_8', 'std_og_t2t_mou_6', 'std_og_t2t_mou_7', 'std_og_t2t_mou_8', 'std_og_t2m_mou_6', 'std_og_t2m_mou_7', 'std_og_t2m_mou_8', 'std_og_t2f_mou_6', 'std_og_t2f_mou_7', 'std_og_t2f_mou_8', 'std_og_t2c_mou_6', 'std_og_t2c_mou_7', 'std_og_t2c_mou_8', 'std_og_mou_6', 'std_og_mou_7', 'std_og_mou_8', 'isd_og_mou_6', 'isd_og_mou_7', 'isd_og_mou_8', 'spl_og_mou_6', 'spl_og_mou_7', 'spl_og_mou_8', 'og_others_6', 'og_others_7', 'og_others_8', 'total_og_mou_6', 'total_og_mou_7', 'total_og_mou_8', 'loc_ic_t2t_mou_6', 'loc_ic_t2t_mou_7', 'loc_ic_t2t_mou_8', 'loc_ic_t2m_mou_6', 'loc_ic_t2m_mou_7', 'loc_ic_t2m_mou_8', 'loc_ic_t2f_mou_6', 'loc_ic_t2f_mou_7', 'loc_ic_t2f_mou_8', 'loc_ic_mou_6', 'loc_ic_mou_7', 'loc_ic_mou_8', 'std_ic_t2t_mou_6', 'std_ic_t2t_mou_7', 'std_ic_t2t_mou_8', 'std_ic_t2m_mou_6', 'std_ic_t2m_mou_7', 'std_ic_t2m_mou_8', 'std_ic_t2f_mou_6', 'std_ic_t2f_mou_7', 'std_ic_t2f_mou_8', 'std_ic_t2o_mou_6', 'std_ic_t2o_mou_7', 'std_ic_t2o_mou_8', 'std_ic_mou_6', 'std_ic_mou_7', 'std_ic_mou_8', 'total_ic_mou_6', 'total_ic_mou_7', 'total_ic_mou_8', 'spl_ic_mou_6', 'spl_ic_mou_7', 'spl_ic_mou_8', 'isd_ic_mou_6', 'isd_ic_mou_7', 'isd_ic_mou_8', 'ic_others_6', 'ic_others_7', 'ic_others_8', 'total_rech_num_6', 'total_rech_num_7', 'total_rech_num_8', 'total_rech_amt_6', 'total_rech_amt_7', 'total_rech_amt_8', 'max_rech_amt_6', 'max_rech_amt_7', 'max_rech_amt_8', 'last_day_rch_amt_6', 'last_day_rch_amt_7', 'last_day_rch_amt_8', 'total_rech_data_6', 'total_rech_data_7', 'total_rech_data_8', 'max_rech_data_6', 'max_rech_data_7', 'max_rech_data_8', 'count_rech_2g_6', 'count_rech_2g_7', 'count_rech_2g_8', 'count_rech_3g_6', 'count_rech_3g_7', 'count_rech_3g_8', 'av_rech_amt_data_6', 'av_rech_amt_data_7', 'av_rech_amt_data_8', 'vol_2g_mb_6', 'vol_2g_mb_7', 'vol_2g_mb_8', 'vol_3g_mb_6', 'vol_3g_mb_7', 'vol_3g_mb_8', 'monthly_2g_6', 'monthly_2g_7', 'monthly_2g_8', 'sachet_2g_6', 'sachet_2g_7', 'sachet_2g_8', 'monthly_3g_6', 'monthly_3g_7', 'monthly_3g_8', 'sachet_3g_6', 'sachet_3g_7', 'sachet_3g_8', 'aon', 'aug_vbc_3g', 'jul_vbc_3g', 'jun_vbc_3g', 'sep_vbc_3g', 'churn']\n"
     ]
    }
   ],
   "source": [
    "print(num_vars)"
   ]
  },
  {
   "cell_type": "code",
   "execution_count": 74,
   "metadata": {},
   "outputs": [
    {
     "name": "stdout",
     "output_type": "stream",
     "text": [
      "['night_pck_user_6', 'night_pck_user_7', 'night_pck_user_8', 'fb_user_6', 'fb_user_7', 'fb_user_8']\n"
     ]
    }
   ],
   "source": [
    "print(cat_vars)"
   ]
  },
  {
   "cell_type": "markdown",
   "metadata": {},
   "source": [
    "###### Temporarily convert 'churn' to category type, to aid visualization"
   ]
  },
  {
   "cell_type": "code",
   "execution_count": 75,
   "metadata": {},
   "outputs": [],
   "source": [
    "df.churn = df.churn.astype('category')"
   ]
  },
  {
   "cell_type": "code",
   "execution_count": 76,
   "metadata": {},
   "outputs": [
    {
     "name": "stdout",
     "output_type": "stream",
     "text": [
      "0    27520\n",
      "1     2433\n",
      "Name: churn, dtype: int64\n"
     ]
    },
    {
     "data": {
      "image/png": "[encoded data removed]",
      "text/plain": [
       "<Figure size 432x288 with 1 Axes>"
      ]
     },
     "metadata": {
      "needs_background": "light"
     },
     "output_type": "display_data"
    }
   ],
   "source": [
    "univariate(df['churn'], True)"
   ]
  },
  {
   "cell_type": "code",
   "execution_count": 77,
   "metadata": {},
   "outputs": [
    {
     "name": "stdout",
     "output_type": "stream",
     "text": [
      "count    29953.0\n",
      "mean         0.0\n",
      "std          0.0\n",
      "min          0.0\n",
      "25%          0.0\n",
      "50%          0.0\n",
      "75%          0.0\n",
      "max          0.0\n",
      "Name: loc_og_t2o_mou, dtype: float64\n"
     ]
    },
    {
     "data": {
      "image/png": "[encoded data removed]",
      "text/plain": [
       "<Figure size 432x288 with 1 Axes>"
      ]
     },
     "metadata": {
      "needs_background": "light"
     },
     "output_type": "display_data"
    }
   ],
   "source": [
    "univariate(df['loc_og_t2o_mou'])"
   ]
  },
  {
   "cell_type": "code",
   "execution_count": 78,
   "metadata": {},
   "outputs": [
    {
     "data": {
      "text/plain": [
       "0.0"
      ]
     },
     "execution_count": 78,
     "metadata": {},
     "output_type": "execute_result"
    }
   ],
   "source": [
    "df['loc_og_t2o_mou'].sum()"
   ]
  },
  {
   "cell_type": "markdown",
   "metadata": {},
   "source": [
    "###### Looks like the feature 'loc_og_t2o_mou' has all values zero. Let's check which variables are similar and has only values as 0."
   ]
  },
  {
   "cell_type": "code",
   "execution_count": 79,
   "metadata": {},
   "outputs": [
    {
     "data": {
      "text/plain": [
       "['loc_og_t2o_mou',\n",
       " 'std_og_t2o_mou',\n",
       " 'loc_ic_t2o_mou',\n",
       " 'std_og_t2c_mou_6',\n",
       " 'std_og_t2c_mou_7',\n",
       " 'std_og_t2c_mou_8',\n",
       " 'std_ic_t2o_mou_6',\n",
       " 'std_ic_t2o_mou_7',\n",
       " 'std_ic_t2o_mou_8']"
      ]
     },
     "execution_count": 79,
     "metadata": {},
     "output_type": "execute_result"
    }
   ],
   "source": [
    "num_vars, cat_vars = sep_num_cat(df)\n",
    "\n",
    "zero_cols = [col for col in num_vars if df[col].sum()==0]\n",
    "zero_cols"
   ]
  },
  {
   "cell_type": "code",
   "execution_count": 80,
   "metadata": {},
   "outputs": [
    {
     "data": {
      "text/html": [
       "<div>\n",
       "<style scoped>\n",
       "    .dataframe tbody tr th:only-of-type {\n",
       "        vertical-align: middle;\n",
       "    }\n",
       "\n",
       "    .dataframe tbody tr th {\n",
       "        vertical-align: top;\n",
       "    }\n",
       "\n",
       "    .dataframe thead th {\n",
       "        text-align: right;\n",
       "    }\n",
       "</style>\n",
       "<table border=\"1\" class=\"dataframe\">\n",
       "  <thead>\n",
       "    <tr style=\"text-align: right;\">\n",
       "      <th></th>\n",
       "      <th>loc_og_t2o_mou</th>\n",
       "      <th>std_og_t2o_mou</th>\n",
       "      <th>loc_ic_t2o_mou</th>\n",
       "      <th>std_og_t2c_mou_6</th>\n",
       "      <th>std_og_t2c_mou_7</th>\n",
       "      <th>std_og_t2c_mou_8</th>\n",
       "      <th>std_ic_t2o_mou_6</th>\n",
       "      <th>std_ic_t2o_mou_7</th>\n",
       "      <th>std_ic_t2o_mou_8</th>\n",
       "    </tr>\n",
       "  </thead>\n",
       "  <tbody>\n",
       "    <tr>\n",
       "      <th>count</th>\n",
       "      <td>29953.0</td>\n",
       "      <td>29953.0</td>\n",
       "      <td>29953.0</td>\n",
       "      <td>29953.0</td>\n",
       "      <td>29953.0</td>\n",
       "      <td>29953.0</td>\n",
       "      <td>29953.0</td>\n",
       "      <td>29953.0</td>\n",
       "      <td>29953.0</td>\n",
       "    </tr>\n",
       "    <tr>\n",
       "      <th>mean</th>\n",
       "      <td>0.0</td>\n",
       "      <td>0.0</td>\n",
       "      <td>0.0</td>\n",
       "      <td>0.0</td>\n",
       "      <td>0.0</td>\n",
       "      <td>0.0</td>\n",
       "      <td>0.0</td>\n",
       "      <td>0.0</td>\n",
       "      <td>0.0</td>\n",
       "    </tr>\n",
       "    <tr>\n",
       "      <th>std</th>\n",
       "      <td>0.0</td>\n",
       "      <td>0.0</td>\n",
       "      <td>0.0</td>\n",
       "      <td>0.0</td>\n",
       "      <td>0.0</td>\n",
       "      <td>0.0</td>\n",
       "      <td>0.0</td>\n",
       "      <td>0.0</td>\n",
       "      <td>0.0</td>\n",
       "    </tr>\n",
       "    <tr>\n",
       "      <th>min</th>\n",
       "      <td>0.0</td>\n",
       "      <td>0.0</td>\n",
       "      <td>0.0</td>\n",
       "      <td>0.0</td>\n",
       "      <td>0.0</td>\n",
       "      <td>0.0</td>\n",
       "      <td>0.0</td>\n",
       "      <td>0.0</td>\n",
       "      <td>0.0</td>\n",
       "    </tr>\n",
       "    <tr>\n",
       "      <th>25%</th>\n",
       "      <td>0.0</td>\n",
       "      <td>0.0</td>\n",
       "      <td>0.0</td>\n",
       "      <td>0.0</td>\n",
       "      <td>0.0</td>\n",
       "      <td>0.0</td>\n",
       "      <td>0.0</td>\n",
       "      <td>0.0</td>\n",
       "      <td>0.0</td>\n",
       "    </tr>\n",
       "    <tr>\n",
       "      <th>50%</th>\n",
       "      <td>0.0</td>\n",
       "      <td>0.0</td>\n",
       "      <td>0.0</td>\n",
       "      <td>0.0</td>\n",
       "      <td>0.0</td>\n",
       "      <td>0.0</td>\n",
       "      <td>0.0</td>\n",
       "      <td>0.0</td>\n",
       "      <td>0.0</td>\n",
       "    </tr>\n",
       "    <tr>\n",
       "      <th>75%</th>\n",
       "      <td>0.0</td>\n",
       "      <td>0.0</td>\n",
       "      <td>0.0</td>\n",
       "      <td>0.0</td>\n",
       "      <td>0.0</td>\n",
       "      <td>0.0</td>\n",
       "      <td>0.0</td>\n",
       "      <td>0.0</td>\n",
       "      <td>0.0</td>\n",
       "    </tr>\n",
       "    <tr>\n",
       "      <th>max</th>\n",
       "      <td>0.0</td>\n",
       "      <td>0.0</td>\n",
       "      <td>0.0</td>\n",
       "      <td>0.0</td>\n",
       "      <td>0.0</td>\n",
       "      <td>0.0</td>\n",
       "      <td>0.0</td>\n",
       "      <td>0.0</td>\n",
       "      <td>0.0</td>\n",
       "    </tr>\n",
       "  </tbody>\n",
       "</table>\n",
       "</div>"
      ],
      "text/plain": [
       "       loc_og_t2o_mou  std_og_t2o_mou  loc_ic_t2o_mou  std_og_t2c_mou_6  \\\n",
       "count         29953.0         29953.0         29953.0           29953.0   \n",
       "mean              0.0             0.0             0.0               0.0   \n",
       "std               0.0             0.0             0.0               0.0   \n",
       "min               0.0             0.0             0.0               0.0   \n",
       "25%               0.0             0.0             0.0               0.0   \n",
       "50%               0.0             0.0             0.0               0.0   \n",
       "75%               0.0             0.0             0.0               0.0   \n",
       "max               0.0             0.0             0.0               0.0   \n",
       "\n",
       "       std_og_t2c_mou_7  std_og_t2c_mou_8  std_ic_t2o_mou_6  std_ic_t2o_mou_7  \\\n",
       "count           29953.0           29953.0           29953.0           29953.0   \n",
       "mean                0.0               0.0               0.0               0.0   \n",
       "std                 0.0               0.0               0.0               0.0   \n",
       "min                 0.0               0.0               0.0               0.0   \n",
       "25%                 0.0               0.0               0.0               0.0   \n",
       "50%                 0.0               0.0               0.0               0.0   \n",
       "75%                 0.0               0.0               0.0               0.0   \n",
       "max                 0.0               0.0               0.0               0.0   \n",
       "\n",
       "       std_ic_t2o_mou_8  \n",
       "count           29953.0  \n",
       "mean                0.0  \n",
       "std                 0.0  \n",
       "min                 0.0  \n",
       "25%                 0.0  \n",
       "50%                 0.0  \n",
       "75%                 0.0  \n",
       "max                 0.0  "
      ]
     },
     "execution_count": 80,
     "metadata": {},
     "output_type": "execute_result"
    }
   ],
   "source": [
    "df[zero_cols].describe()"
   ]
  },
  {
   "cell_type": "markdown",
   "metadata": {},
   "source": [
    "##### Let's drop these features as they have only zeros and not going to help in analysis or modelling."
   ]
  },
  {
   "cell_type": "code",
   "execution_count": 81,
   "metadata": {},
   "outputs": [],
   "source": [
    "df = df.drop(zero_cols, axis=1)"
   ]
  },
  {
   "cell_type": "code",
   "execution_count": 82,
   "metadata": {},
   "outputs": [
    {
     "data": {
      "text/plain": [
       "(29953, 147)"
      ]
     },
     "execution_count": 82,
     "metadata": {},
     "output_type": "execute_result"
    }
   ],
   "source": [
    "df.shape"
   ]
  },
  {
   "cell_type": "code",
   "execution_count": 83,
   "metadata": {},
   "outputs": [
    {
     "name": "stdout",
     "output_type": "stream",
     "text": [
      "['arpu_6', 'arpu_7', 'arpu_8', 'onnet_mou_6', 'onnet_mou_7', 'onnet_mou_8', 'offnet_mou_6', 'offnet_mou_7', 'offnet_mou_8', 'roam_ic_mou_6', 'roam_ic_mou_7', 'roam_ic_mou_8', 'roam_og_mou_6', 'roam_og_mou_7', 'roam_og_mou_8', 'loc_og_t2t_mou_6', 'loc_og_t2t_mou_7', 'loc_og_t2t_mou_8', 'loc_og_t2m_mou_6', 'loc_og_t2m_mou_7', 'loc_og_t2m_mou_8', 'loc_og_t2f_mou_6', 'loc_og_t2f_mou_7', 'loc_og_t2f_mou_8', 'loc_og_t2c_mou_6', 'loc_og_t2c_mou_7', 'loc_og_t2c_mou_8', 'loc_og_mou_6', 'loc_og_mou_7', 'loc_og_mou_8', 'std_og_t2t_mou_6', 'std_og_t2t_mou_7', 'std_og_t2t_mou_8', 'std_og_t2m_mou_6', 'std_og_t2m_mou_7', 'std_og_t2m_mou_8', 'std_og_t2f_mou_6', 'std_og_t2f_mou_7', 'std_og_t2f_mou_8', 'std_og_mou_6', 'std_og_mou_7', 'std_og_mou_8', 'isd_og_mou_6', 'isd_og_mou_7', 'isd_og_mou_8', 'spl_og_mou_6', 'spl_og_mou_7', 'spl_og_mou_8', 'og_others_6', 'og_others_7', 'og_others_8', 'total_og_mou_6', 'total_og_mou_7', 'total_og_mou_8', 'loc_ic_t2t_mou_6', 'loc_ic_t2t_mou_7', 'loc_ic_t2t_mou_8', 'loc_ic_t2m_mou_6', 'loc_ic_t2m_mou_7', 'loc_ic_t2m_mou_8', 'loc_ic_t2f_mou_6', 'loc_ic_t2f_mou_7', 'loc_ic_t2f_mou_8', 'loc_ic_mou_6', 'loc_ic_mou_7', 'loc_ic_mou_8', 'std_ic_t2t_mou_6', 'std_ic_t2t_mou_7', 'std_ic_t2t_mou_8', 'std_ic_t2m_mou_6', 'std_ic_t2m_mou_7', 'std_ic_t2m_mou_8', 'std_ic_t2f_mou_6', 'std_ic_t2f_mou_7', 'std_ic_t2f_mou_8', 'std_ic_mou_6', 'std_ic_mou_7', 'std_ic_mou_8', 'total_ic_mou_6', 'total_ic_mou_7', 'total_ic_mou_8', 'spl_ic_mou_6', 'spl_ic_mou_7', 'spl_ic_mou_8', 'isd_ic_mou_6', 'isd_ic_mou_7', 'isd_ic_mou_8', 'ic_others_6', 'ic_others_7', 'ic_others_8', 'total_rech_num_6', 'total_rech_num_7', 'total_rech_num_8', 'total_rech_amt_6', 'total_rech_amt_7', 'total_rech_amt_8', 'max_rech_amt_6', 'max_rech_amt_7', 'max_rech_amt_8', 'last_day_rch_amt_6', 'last_day_rch_amt_7', 'last_day_rch_amt_8', 'total_rech_data_6', 'total_rech_data_7', 'total_rech_data_8', 'max_rech_data_6', 'max_rech_data_7', 'max_rech_data_8', 'count_rech_2g_6', 'count_rech_2g_7', 'count_rech_2g_8', 'count_rech_3g_6', 'count_rech_3g_7', 'count_rech_3g_8', 'av_rech_amt_data_6', 'av_rech_amt_data_7', 'av_rech_amt_data_8', 'vol_2g_mb_6', 'vol_2g_mb_7', 'vol_2g_mb_8', 'vol_3g_mb_6', 'vol_3g_mb_7', 'vol_3g_mb_8', 'monthly_2g_6', 'monthly_2g_7', 'monthly_2g_8', 'sachet_2g_6', 'sachet_2g_7', 'sachet_2g_8', 'monthly_3g_6', 'monthly_3g_7', 'monthly_3g_8', 'sachet_3g_6', 'sachet_3g_7', 'sachet_3g_8', 'aon', 'aug_vbc_3g', 'jul_vbc_3g', 'jun_vbc_3g', 'sep_vbc_3g']\n",
      "['night_pck_user_6', 'night_pck_user_7', 'night_pck_user_8', 'fb_user_6', 'fb_user_7', 'fb_user_8', 'churn']\n"
     ]
    }
   ],
   "source": [
    "num_vars, cat_vars = sep_num_cat(df)\n",
    "print(num_vars)\n",
    "print(cat_vars)"
   ]
  },
  {
   "cell_type": "code",
   "execution_count": 84,
   "metadata": {},
   "outputs": [
    {
     "name": "stdout",
     "output_type": "stream",
     "text": [
      "count    29953.000000\n",
      "mean       558.820058\n",
      "std        460.868223\n",
      "min      -2258.709000\n",
      "25%        310.142000\n",
      "50%        482.354000\n",
      "75%        700.240000\n",
      "max      27731.088000\n",
      "Name: arpu_6, dtype: float64\n"
     ]
    },
    {
     "data": {
      "image/png": "[encoded data removed]",
      "text/plain": [
       "<Figure size 432x288 with 1 Axes>"
      ]
     },
     "metadata": {
      "needs_background": "light"
     },
     "output_type": "display_data"
    }
   ],
   "source": [
    "univariate(df['arpu_6'])"
   ]
  },
  {
   "cell_type": "code",
   "execution_count": 85,
   "metadata": {},
   "outputs": [
    {
     "name": "stdout",
     "output_type": "stream",
     "text": [
      "count    29953.000000\n",
      "mean       376.397340\n",
      "std        481.078628\n",
      "min          0.000000\n",
      "25%         80.690000\n",
      "50%        222.560000\n",
      "75%        487.910000\n",
      "max       8362.360000\n",
      "Name: offnet_mou_6, dtype: float64\n"
     ]
    },
    {
     "data": {
      "image/png": "[encoded data removed]",
      "text/plain": [
       "<Figure size 432x288 with 1 Axes>"
      ]
     },
     "metadata": {
      "needs_background": "light"
     },
     "output_type": "display_data"
    }
   ],
   "source": [
    "univariate(df['offnet_mou_6'])"
   ]
  },
  {
   "cell_type": "markdown",
   "metadata": {},
   "source": [
    "##### There seems to be good number of outliers in the data as the curve is right skewed to high extent."
   ]
  },
  {
   "cell_type": "code",
   "execution_count": 86,
   "metadata": {},
   "outputs": [
    {
     "data": {
      "text/html": [
       "<div>\n",
       "<style scoped>\n",
       "    .dataframe tbody tr th:only-of-type {\n",
       "        vertical-align: middle;\n",
       "    }\n",
       "\n",
       "    .dataframe tbody tr th {\n",
       "        vertical-align: top;\n",
       "    }\n",
       "\n",
       "    .dataframe thead th {\n",
       "        text-align: right;\n",
       "    }\n",
       "</style>\n",
       "<table border=\"1\" class=\"dataframe\">\n",
       "  <thead>\n",
       "    <tr style=\"text-align: right;\">\n",
       "      <th>night_pck_user_8</th>\n",
       "      <th>-1.0</th>\n",
       "      <th>0.0</th>\n",
       "      <th>1.0</th>\n",
       "    </tr>\n",
       "    <tr>\n",
       "      <th>churn</th>\n",
       "      <th></th>\n",
       "      <th></th>\n",
       "      <th></th>\n",
       "    </tr>\n",
       "  </thead>\n",
       "  <tbody>\n",
       "    <tr>\n",
       "      <th>0</th>\n",
       "      <td>85.918105</td>\n",
       "      <td>97.114275</td>\n",
       "      <td>97.360704</td>\n",
       "    </tr>\n",
       "    <tr>\n",
       "      <th>1</th>\n",
       "      <td>14.081895</td>\n",
       "      <td>2.885725</td>\n",
       "      <td>2.639296</td>\n",
       "    </tr>\n",
       "  </tbody>\n",
       "</table>\n",
       "</div>"
      ],
      "text/plain": [
       "night_pck_user_8       -1.0        0.0        1.0\n",
       "churn                                            \n",
       "0                 85.918105  97.114275  97.360704\n",
       "1                 14.081895   2.885725   2.639296"
      ]
     },
     "execution_count": 86,
     "metadata": {},
     "output_type": "execute_result"
    }
   ],
   "source": [
    "pd.crosstab(df.churn, df.night_pck_user_8, normalize='columns')*100"
   ]
  },
  {
   "cell_type": "markdown",
   "metadata": {},
   "source": [
    "##### We can see the churn distribution across one of the categorical features - night_pck_user_8. We can use this later to fill these features instead of one-hot encoding of -1,0 and 1."
   ]
  },
  {
   "cell_type": "markdown",
   "metadata": {},
   "source": [
    "### Cap the outliers for the numerical variables using Winzorisation method."
   ]
  },
  {
   "cell_type": "code",
   "execution_count": 87,
   "metadata": {},
   "outputs": [],
   "source": [
    "def cap_outliers_sigma(array, k=3):\n",
    "    upper_limit = array.mean() + (k*array.std())\n",
    "    lower_limit = array.mean() - (k*array.std())\n",
    "    \n",
    "    array[array < lower_limit] = lower_limit\n",
    "    array[array > upper_limit] = upper_limit\n",
    "    \n",
    "    return array\n",
    "    "
   ]
  },
  {
   "cell_type": "code",
   "execution_count": 88,
   "metadata": {},
   "outputs": [],
   "source": [
    "df.backup3 = df.copy()"
   ]
  },
  {
   "cell_type": "code",
   "execution_count": 89,
   "metadata": {},
   "outputs": [],
   "source": [
    "#df = df.backup3"
   ]
  },
  {
   "cell_type": "code",
   "execution_count": 90,
   "metadata": {},
   "outputs": [],
   "source": [
    "df[num_vars] = df[num_vars].apply(cap_outliers_sigma, k=3, axis=0)"
   ]
  },
  {
   "cell_type": "code",
   "execution_count": 91,
   "metadata": {},
   "outputs": [
    {
     "name": "stdout",
     "output_type": "stream",
     "text": [
      "count    29953.000000\n",
      "mean       361.314897\n",
      "std        403.374165\n",
      "min          0.000000\n",
      "25%         80.690000\n",
      "50%        222.560000\n",
      "75%        487.910000\n",
      "max       1819.633224\n",
      "Name: offnet_mou_6, dtype: float64\n"
     ]
    },
    {
     "data": {
      "image/png": "[encoded data removed]",
      "text/plain": [
       "<Figure size 432x288 with 1 Axes>"
      ]
     },
     "metadata": {
      "needs_background": "light"
     },
     "output_type": "display_data"
    }
   ],
   "source": [
    "univariate(df['offnet_mou_6'])"
   ]
  },
  {
   "cell_type": "markdown",
   "metadata": {},
   "source": [
    "### 4. Feature Engineering"
   ]
  },
  {
   "cell_type": "markdown",
   "metadata": {},
   "source": [
    "##### Create diff variables to extract how the customers' behavior changed in month 8 (Action phase ) from that of months 6 and 7 (Good phase)"
   ]
  },
  {
   "cell_type": "code",
   "execution_count": 92,
   "metadata": {},
   "outputs": [
    {
     "name": "stdout",
     "output_type": "stream",
     "text": [
      "Index(['arpu_8', 'onnet_mou_8', 'offnet_mou_8', 'roam_ic_mou_8',\n",
      "       'roam_og_mou_8', 'loc_og_t2t_mou_8', 'loc_og_t2m_mou_8',\n",
      "       'loc_og_t2f_mou_8', 'loc_og_t2c_mou_8', 'loc_og_mou_8',\n",
      "       'std_og_t2t_mou_8', 'std_og_t2m_mou_8', 'std_og_t2f_mou_8',\n",
      "       'std_og_mou_8', 'isd_og_mou_8', 'spl_og_mou_8', 'og_others_8',\n",
      "       'total_og_mou_8', 'loc_ic_t2t_mou_8', 'loc_ic_t2m_mou_8',\n",
      "       'loc_ic_t2f_mou_8', 'loc_ic_mou_8', 'std_ic_t2t_mou_8',\n",
      "       'std_ic_t2m_mou_8', 'std_ic_t2f_mou_8', 'std_ic_mou_8',\n",
      "       'total_ic_mou_8', 'spl_ic_mou_8', 'isd_ic_mou_8', 'ic_others_8',\n",
      "       'total_rech_num_8', 'total_rech_amt_8', 'max_rech_amt_8',\n",
      "       'last_day_rch_amt_8', 'total_rech_data_8', 'max_rech_data_8',\n",
      "       'count_rech_2g_8', 'count_rech_3g_8', 'av_rech_amt_data_8',\n",
      "       'vol_2g_mb_8', 'vol_3g_mb_8', 'night_pck_user_8', 'monthly_2g_8',\n",
      "       'sachet_2g_8', 'monthly_3g_8', 'sachet_3g_8', 'fb_user_8'],\n",
      "      dtype='object')\n"
     ]
    }
   ],
   "source": [
    "print(df.filter(regex='_8').columns)"
   ]
  },
  {
   "cell_type": "code",
   "execution_count": 93,
   "metadata": {},
   "outputs": [],
   "source": [
    "df['arpu_diff'] = df['arpu_8'] - ((df['arpu_6'] + df['arpu_7'])/2)\n",
    "\n",
    "df['onnet_mou_diff'] = df['onnet_mou_8'] - ((df['onnet_mou_6'] + df['onnet_mou_7'])/2)\n",
    "\n",
    "df['offnet_mou_diff'] = df['offnet_mou_8'] - ((df['offnet_mou_6'] + df['offnet_mou_7'])/2)\n",
    "\n",
    "df['roam_ic_mou_diff'] = df['roam_ic_mou_8'] - ((df['roam_ic_mou_6'] + df['roam_ic_mou_7'])/2)\n",
    "\n",
    "df['roam_og_mou_diff'] = df['roam_og_mou_8'] - ((df['roam_og_mou_6'] + df['roam_og_mou_7'])/2)\n",
    "\n",
    "df['loc_og_mou_diff'] = df['loc_og_mou_8'] - ((df['loc_og_mou_6'] + df['loc_og_mou_7'])/2)\n",
    "\n",
    "df['std_og_mou_diff'] = df['std_og_mou_8'] - ((df['std_og_mou_6'] + df['std_og_mou_7'])/2)\n",
    "\n",
    "df['isd_og_mou_diff'] = df['isd_og_mou_8'] - ((df['isd_og_mou_6'] + df['isd_og_mou_7'])/2)\n",
    "\n",
    "df['spl_og_mou_diff'] = df['spl_og_mou_8'] - ((df['spl_og_mou_6'] + df['spl_og_mou_7'])/2)\n",
    "\n",
    "df['og_others_diff'] = df['og_others_8'] - ((df['og_others_6'] + df['og_others_7'])/2)\n",
    "\n",
    "df['total_og_mou_diff'] = df['total_og_mou_8'] - ((df['total_og_mou_6'] + df['total_og_mou_7'])/2)\n",
    "\n",
    "df['loc_ic_mou_diff'] = df['loc_ic_mou_8'] - ((df['loc_ic_mou_6'] + df['loc_ic_mou_7'])/2)\n",
    "\n",
    "df['std_ic_mou_diff'] = df['std_ic_mou_8'] - ((df['std_ic_mou_6'] + df['std_ic_mou_7'])/2)\n",
    "\n",
    "df['total_ic_mou_diff'] = df['total_ic_mou_8'] - ((df['total_ic_mou_6'] + df['total_ic_mou_7'])/2)\n",
    "\n",
    "df['spl_ic_mou_diff'] = df['spl_ic_mou_8'] - ((df['spl_ic_mou_6'] + df['spl_ic_mou_7'])/2)\n",
    "\n",
    "df['isd_ic_mou_diff'] = df['isd_ic_mou_8'] - ((df['isd_ic_mou_6'] + df['isd_ic_mou_7'])/2)\n",
    "\n",
    "df['ic_others_diff'] = df['ic_others_8'] - ((df['ic_others_6'] + df['ic_others_7'])/2)\n",
    "\n",
    "df['total_rech_amt_diff'] = df['total_rech_amt_8'] - ((df['total_rech_amt_6'] + df['total_rech_amt_7'])/2)\n",
    "\n",
    "df['max_rech_amt_diff'] =  df['max_rech_amt_8'] - ((df['max_rech_amt_6'] + df['max_rech_amt_7'])/2)\n",
    "\n",
    "df['total_rech_data_diff'] = df['total_rech_data_8'] - ((df['total_rech_data_6'] + df['total_rech_data_7'])/2)\n",
    "\n",
    "df['max_rech_data_diff'] = df['max_rech_data_8'] - ((df['max_rech_data_6'] + df['max_rech_data_7'])/2)\n",
    "\n",
    "df['av_rech_amt_data_diff'] = df['av_rech_amt_data_8'] - ((df['av_rech_amt_data_6'] + df['av_rech_amt_data_7'])/2)\n",
    "\n",
    "df['vol_2g_mb_diff'] = df['vol_2g_mb_8'] - ((df['vol_2g_mb_6'] + df['vol_2g_mb_7'])/2)\n",
    "\n",
    "df['vol_3g_mb_diff'] = df['vol_3g_mb_8'] - ((df['vol_3g_mb_6'] + df['vol_3g_mb_7'])/2)"
   ]
  },
  {
   "cell_type": "code",
   "execution_count": 94,
   "metadata": {},
   "outputs": [
    {
     "data": {
      "text/plain": [
       "(29953, 171)"
      ]
     },
     "execution_count": 94,
     "metadata": {},
     "output_type": "execute_result"
    }
   ],
   "source": [
    "df.shape"
   ]
  },
  {
   "cell_type": "markdown",
   "metadata": {},
   "source": [
    "### 5. Data Preparation before Modelling "
   ]
  },
  {
   "cell_type": "code",
   "execution_count": 95,
   "metadata": {},
   "outputs": [],
   "source": [
    "#### Convert 'churn' back to numerical dtype\n",
    "df['churn'] = pd.to_numeric(df['churn'], errors='raise')"
   ]
  },
  {
   "cell_type": "code",
   "execution_count": 96,
   "metadata": {},
   "outputs": [
    {
     "data": {
      "text/plain": [
       "dtype('int64')"
      ]
     },
     "execution_count": 96,
     "metadata": {},
     "output_type": "execute_result"
    }
   ],
   "source": [
    "df['churn'].dtype"
   ]
  },
  {
   "cell_type": "code",
   "execution_count": 97,
   "metadata": {},
   "outputs": [
    {
     "name": "stdout",
     "output_type": "stream",
     "text": [
      "\n",
      "Numerical :\n",
      "\n",
      " ['arpu_6', 'arpu_7', 'arpu_8', 'onnet_mou_6', 'onnet_mou_7', 'onnet_mou_8', 'offnet_mou_6', 'offnet_mou_7', 'offnet_mou_8', 'roam_ic_mou_6', 'roam_ic_mou_7', 'roam_ic_mou_8', 'roam_og_mou_6', 'roam_og_mou_7', 'roam_og_mou_8', 'loc_og_t2t_mou_6', 'loc_og_t2t_mou_7', 'loc_og_t2t_mou_8', 'loc_og_t2m_mou_6', 'loc_og_t2m_mou_7', 'loc_og_t2m_mou_8', 'loc_og_t2f_mou_6', 'loc_og_t2f_mou_7', 'loc_og_t2f_mou_8', 'loc_og_t2c_mou_6', 'loc_og_t2c_mou_7', 'loc_og_t2c_mou_8', 'loc_og_mou_6', 'loc_og_mou_7', 'loc_og_mou_8', 'std_og_t2t_mou_6', 'std_og_t2t_mou_7', 'std_og_t2t_mou_8', 'std_og_t2m_mou_6', 'std_og_t2m_mou_7', 'std_og_t2m_mou_8', 'std_og_t2f_mou_6', 'std_og_t2f_mou_7', 'std_og_t2f_mou_8', 'std_og_mou_6', 'std_og_mou_7', 'std_og_mou_8', 'isd_og_mou_6', 'isd_og_mou_7', 'isd_og_mou_8', 'spl_og_mou_6', 'spl_og_mou_7', 'spl_og_mou_8', 'og_others_6', 'og_others_7', 'og_others_8', 'total_og_mou_6', 'total_og_mou_7', 'total_og_mou_8', 'loc_ic_t2t_mou_6', 'loc_ic_t2t_mou_7', 'loc_ic_t2t_mou_8', 'loc_ic_t2m_mou_6', 'loc_ic_t2m_mou_7', 'loc_ic_t2m_mou_8', 'loc_ic_t2f_mou_6', 'loc_ic_t2f_mou_7', 'loc_ic_t2f_mou_8', 'loc_ic_mou_6', 'loc_ic_mou_7', 'loc_ic_mou_8', 'std_ic_t2t_mou_6', 'std_ic_t2t_mou_7', 'std_ic_t2t_mou_8', 'std_ic_t2m_mou_6', 'std_ic_t2m_mou_7', 'std_ic_t2m_mou_8', 'std_ic_t2f_mou_6', 'std_ic_t2f_mou_7', 'std_ic_t2f_mou_8', 'std_ic_mou_6', 'std_ic_mou_7', 'std_ic_mou_8', 'total_ic_mou_6', 'total_ic_mou_7', 'total_ic_mou_8', 'spl_ic_mou_6', 'spl_ic_mou_7', 'spl_ic_mou_8', 'isd_ic_mou_6', 'isd_ic_mou_7', 'isd_ic_mou_8', 'ic_others_6', 'ic_others_7', 'ic_others_8', 'total_rech_num_6', 'total_rech_num_7', 'total_rech_num_8', 'total_rech_amt_6', 'total_rech_amt_7', 'total_rech_amt_8', 'max_rech_amt_6', 'max_rech_amt_7', 'max_rech_amt_8', 'last_day_rch_amt_6', 'last_day_rch_amt_7', 'last_day_rch_amt_8', 'total_rech_data_6', 'total_rech_data_7', 'total_rech_data_8', 'max_rech_data_6', 'max_rech_data_7', 'max_rech_data_8', 'count_rech_2g_6', 'count_rech_2g_7', 'count_rech_2g_8', 'count_rech_3g_6', 'count_rech_3g_7', 'count_rech_3g_8', 'av_rech_amt_data_6', 'av_rech_amt_data_7', 'av_rech_amt_data_8', 'vol_2g_mb_6', 'vol_2g_mb_7', 'vol_2g_mb_8', 'vol_3g_mb_6', 'vol_3g_mb_7', 'vol_3g_mb_8', 'monthly_2g_6', 'monthly_2g_7', 'monthly_2g_8', 'sachet_2g_6', 'sachet_2g_7', 'sachet_2g_8', 'monthly_3g_6', 'monthly_3g_7', 'monthly_3g_8', 'sachet_3g_6', 'sachet_3g_7', 'sachet_3g_8', 'aon', 'aug_vbc_3g', 'jul_vbc_3g', 'jun_vbc_3g', 'sep_vbc_3g', 'churn', 'arpu_diff', 'onnet_mou_diff', 'offnet_mou_diff', 'roam_ic_mou_diff', 'roam_og_mou_diff', 'loc_og_mou_diff', 'std_og_mou_diff', 'isd_og_mou_diff', 'spl_og_mou_diff', 'og_others_diff', 'total_og_mou_diff', 'loc_ic_mou_diff', 'std_ic_mou_diff', 'total_ic_mou_diff', 'spl_ic_mou_diff', 'isd_ic_mou_diff', 'ic_others_diff', 'total_rech_amt_diff', 'max_rech_amt_diff', 'total_rech_data_diff', 'max_rech_data_diff', 'av_rech_amt_data_diff', 'vol_2g_mb_diff', 'vol_3g_mb_diff']\n",
      "\n",
      "\n",
      "Categorical :\n",
      "\n",
      " ['night_pck_user_6', 'night_pck_user_7', 'night_pck_user_8', 'fb_user_6', 'fb_user_7', 'fb_user_8']\n"
     ]
    }
   ],
   "source": [
    "num_vars, cat_vars = sep_num_cat(df)\n",
    "print(\"\\nNumerical :\\n\\n\", num_vars)\n",
    "\n",
    "print(\"\\n\\nCategorical :\\n\\n\", cat_vars)"
   ]
  },
  {
   "cell_type": "code",
   "execution_count": 98,
   "metadata": {},
   "outputs": [],
   "source": [
    "df_backup4 = df.copy()"
   ]
  },
  {
   "cell_type": "code",
   "execution_count": 99,
   "metadata": {},
   "outputs": [],
   "source": [
    "##df_backup4 = pd.concat([X,y], axis=1)\n",
    "##df_backup4.shape"
   ]
  },
  {
   "cell_type": "code",
   "execution_count": 100,
   "metadata": {},
   "outputs": [],
   "source": [
    "#df = df_backup4.copy()"
   ]
  },
  {
   "cell_type": "code",
   "execution_count": 101,
   "metadata": {},
   "outputs": [
    {
     "data": {
      "text/plain": [
       "(29953, 170)"
      ]
     },
     "execution_count": 101,
     "metadata": {},
     "output_type": "execute_result"
    }
   ],
   "source": [
    "y = df.pop(\"churn\")\n",
    "X = df\n",
    "#X = df.drop(\"churn\", axis = 1)\n",
    "#y = df.churn\n",
    "X.shape"
   ]
  },
  {
   "cell_type": "code",
   "execution_count": 102,
   "metadata": {},
   "outputs": [
    {
     "data": {
      "text/html": [
       "<div>\n",
       "<style scoped>\n",
       "    .dataframe tbody tr th:only-of-type {\n",
       "        vertical-align: middle;\n",
       "    }\n",
       "\n",
       "    .dataframe tbody tr th {\n",
       "        vertical-align: top;\n",
       "    }\n",
       "\n",
       "    .dataframe thead th {\n",
       "        text-align: right;\n",
       "    }\n",
       "</style>\n",
       "<table border=\"1\" class=\"dataframe\">\n",
       "  <thead>\n",
       "    <tr style=\"text-align: right;\">\n",
       "      <th></th>\n",
       "      <th>arpu_6</th>\n",
       "      <th>arpu_7</th>\n",
       "      <th>arpu_8</th>\n",
       "      <th>onnet_mou_6</th>\n",
       "      <th>onnet_mou_7</th>\n",
       "      <th>onnet_mou_8</th>\n",
       "      <th>offnet_mou_6</th>\n",
       "      <th>offnet_mou_7</th>\n",
       "      <th>offnet_mou_8</th>\n",
       "      <th>roam_ic_mou_6</th>\n",
       "      <th>...</th>\n",
       "      <th>spl_ic_mou_diff</th>\n",
       "      <th>isd_ic_mou_diff</th>\n",
       "      <th>ic_others_diff</th>\n",
       "      <th>total_rech_amt_diff</th>\n",
       "      <th>max_rech_amt_diff</th>\n",
       "      <th>total_rech_data_diff</th>\n",
       "      <th>max_rech_data_diff</th>\n",
       "      <th>av_rech_amt_data_diff</th>\n",
       "      <th>vol_2g_mb_diff</th>\n",
       "      <th>vol_3g_mb_diff</th>\n",
       "    </tr>\n",
       "  </thead>\n",
       "  <tbody>\n",
       "    <tr>\n",
       "      <th>0</th>\n",
       "      <td>197.385</td>\n",
       "      <td>214.816</td>\n",
       "      <td>213.803000</td>\n",
       "      <td>-95.132578</td>\n",
       "      <td>-82.141787</td>\n",
       "      <td>0.00</td>\n",
       "      <td>144.011575</td>\n",
       "      <td>133.424607</td>\n",
       "      <td>0.00</td>\n",
       "      <td>28.542998</td>\n",
       "      <td>...</td>\n",
       "      <td>27.51655</td>\n",
       "      <td>-7.237485</td>\n",
       "      <td>-0.933509</td>\n",
       "      <td>-55.000000</td>\n",
       "      <td>0.000000</td>\n",
       "      <td>0.0</td>\n",
       "      <td>0.0</td>\n",
       "      <td>0.0</td>\n",
       "      <td>-9.975</td>\n",
       "      <td>-7.555</td>\n",
       "    </tr>\n",
       "    <tr>\n",
       "      <th>7</th>\n",
       "      <td>1069.180</td>\n",
       "      <td>1349.850</td>\n",
       "      <td>2015.299135</td>\n",
       "      <td>57.840000</td>\n",
       "      <td>54.680000</td>\n",
       "      <td>52.29</td>\n",
       "      <td>453.430000</td>\n",
       "      <td>567.160000</td>\n",
       "      <td>325.91</td>\n",
       "      <td>16.230000</td>\n",
       "      <td>...</td>\n",
       "      <td>-0.10500</td>\n",
       "      <td>23.295000</td>\n",
       "      <td>-0.325000</td>\n",
       "      <td>1234.134659</td>\n",
       "      <td>-26.085079</td>\n",
       "      <td>0.0</td>\n",
       "      <td>0.0</td>\n",
       "      <td>0.0</td>\n",
       "      <td>0.000</td>\n",
       "      <td>0.000</td>\n",
       "    </tr>\n",
       "    <tr>\n",
       "      <th>8</th>\n",
       "      <td>378.721</td>\n",
       "      <td>492.223</td>\n",
       "      <td>137.362000</td>\n",
       "      <td>413.690000</td>\n",
       "      <td>351.030000</td>\n",
       "      <td>35.08</td>\n",
       "      <td>94.660000</td>\n",
       "      <td>80.630000</td>\n",
       "      <td>136.48</td>\n",
       "      <td>0.000000</td>\n",
       "      <td>...</td>\n",
       "      <td>0.00000</td>\n",
       "      <td>0.000000</td>\n",
       "      <td>0.000000</td>\n",
       "      <td>-399.000000</td>\n",
       "      <td>-92.000000</td>\n",
       "      <td>2.0</td>\n",
       "      <td>-54.0</td>\n",
       "      <td>-19.5</td>\n",
       "      <td>-177.970</td>\n",
       "      <td>-363.535</td>\n",
       "    </tr>\n",
       "    <tr>\n",
       "      <th>21</th>\n",
       "      <td>514.453</td>\n",
       "      <td>597.753</td>\n",
       "      <td>637.760000</td>\n",
       "      <td>102.410000</td>\n",
       "      <td>132.110000</td>\n",
       "      <td>85.14</td>\n",
       "      <td>757.930000</td>\n",
       "      <td>896.680000</td>\n",
       "      <td>983.39</td>\n",
       "      <td>0.000000</td>\n",
       "      <td>...</td>\n",
       "      <td>0.00000</td>\n",
       "      <td>0.000000</td>\n",
       "      <td>0.000000</td>\n",
       "      <td>78.000000</td>\n",
       "      <td>0.000000</td>\n",
       "      <td>0.0</td>\n",
       "      <td>0.0</td>\n",
       "      <td>0.0</td>\n",
       "      <td>0.000</td>\n",
       "      <td>0.000</td>\n",
       "    </tr>\n",
       "    <tr>\n",
       "      <th>23</th>\n",
       "      <td>74.350</td>\n",
       "      <td>193.897</td>\n",
       "      <td>366.966000</td>\n",
       "      <td>48.960000</td>\n",
       "      <td>50.660000</td>\n",
       "      <td>33.58</td>\n",
       "      <td>85.410000</td>\n",
       "      <td>89.360000</td>\n",
       "      <td>205.89</td>\n",
       "      <td>0.000000</td>\n",
       "      <td>...</td>\n",
       "      <td>0.00000</td>\n",
       "      <td>-10.375000</td>\n",
       "      <td>10.385000</td>\n",
       "      <td>212.000000</td>\n",
       "      <td>89.500000</td>\n",
       "      <td>1.0</td>\n",
       "      <td>89.5</td>\n",
       "      <td>92.0</td>\n",
       "      <td>-0.230</td>\n",
       "      <td>710.375</td>\n",
       "    </tr>\n",
       "  </tbody>\n",
       "</table>\n",
       "<p>5 rows × 170 columns</p>\n",
       "</div>"
      ],
      "text/plain": [
       "      arpu_6    arpu_7       arpu_8  onnet_mou_6  onnet_mou_7  onnet_mou_8  \\\n",
       "0    197.385   214.816   213.803000   -95.132578   -82.141787         0.00   \n",
       "7   1069.180  1349.850  2015.299135    57.840000    54.680000        52.29   \n",
       "8    378.721   492.223   137.362000   413.690000   351.030000        35.08   \n",
       "21   514.453   597.753   637.760000   102.410000   132.110000        85.14   \n",
       "23    74.350   193.897   366.966000    48.960000    50.660000        33.58   \n",
       "\n",
       "    offnet_mou_6  offnet_mou_7  offnet_mou_8  roam_ic_mou_6  ...  \\\n",
       "0     144.011575    133.424607          0.00      28.542998  ...   \n",
       "7     453.430000    567.160000        325.91      16.230000  ...   \n",
       "8      94.660000     80.630000        136.48       0.000000  ...   \n",
       "21    757.930000    896.680000        983.39       0.000000  ...   \n",
       "23     85.410000     89.360000        205.89       0.000000  ...   \n",
       "\n",
       "    spl_ic_mou_diff  isd_ic_mou_diff  ic_others_diff  total_rech_amt_diff  \\\n",
       "0          27.51655        -7.237485       -0.933509           -55.000000   \n",
       "7          -0.10500        23.295000       -0.325000          1234.134659   \n",
       "8           0.00000         0.000000        0.000000          -399.000000   \n",
       "21          0.00000         0.000000        0.000000            78.000000   \n",
       "23          0.00000       -10.375000       10.385000           212.000000   \n",
       "\n",
       "    max_rech_amt_diff  total_rech_data_diff  max_rech_data_diff  \\\n",
       "0            0.000000                   0.0                 0.0   \n",
       "7          -26.085079                   0.0                 0.0   \n",
       "8          -92.000000                   2.0               -54.0   \n",
       "21           0.000000                   0.0                 0.0   \n",
       "23          89.500000                   1.0                89.5   \n",
       "\n",
       "    av_rech_amt_data_diff  vol_2g_mb_diff  vol_3g_mb_diff  \n",
       "0                     0.0          -9.975          -7.555  \n",
       "7                     0.0           0.000           0.000  \n",
       "8                   -19.5        -177.970        -363.535  \n",
       "21                    0.0           0.000           0.000  \n",
       "23                   92.0          -0.230         710.375  \n",
       "\n",
       "[5 rows x 170 columns]"
      ]
     },
     "execution_count": 102,
     "metadata": {},
     "output_type": "execute_result"
    }
   ],
   "source": [
    "X.head()"
   ]
  },
  {
   "cell_type": "markdown",
   "metadata": {},
   "source": [
    "##### Train-Test split of data"
   ]
  },
  {
   "cell_type": "code",
   "execution_count": 103,
   "metadata": {},
   "outputs": [],
   "source": [
    "from sklearn.model_selection import train_test_split\n",
    "\n",
    "X_train, X_test, y_train, y_test = train_test_split(X, y, test_size=0.3, random_state=100, stratify=y)"
   ]
  },
  {
   "cell_type": "code",
   "execution_count": 104,
   "metadata": {},
   "outputs": [
    {
     "name": "stdout",
     "output_type": "stream",
     "text": [
      "(20967, 170)\n",
      "(8986, 170)\n"
     ]
    }
   ],
   "source": [
    "print(X_train.shape)\n",
    "print(X_test.shape)"
   ]
  },
  {
   "cell_type": "code",
   "execution_count": 105,
   "metadata": {},
   "outputs": [
    {
     "name": "stdout",
     "output_type": "stream",
     "text": [
      "(20967,)\n",
      "0.08122287404015835\n",
      "(8986,)\n",
      "0.08123748052526152\n"
     ]
    }
   ],
   "source": [
    "print(y_train.shape)\n",
    "print(y_train.sum()/len(y_train))\n",
    "print(y_test.shape)\n",
    "print(y_test.sum()/len(y_test))"
   ]
  },
  {
   "cell_type": "markdown",
   "metadata": {},
   "source": [
    "##### The proportion of churn in train and test data looks equal."
   ]
  },
  {
   "cell_type": "code",
   "execution_count": 106,
   "metadata": {},
   "outputs": [],
   "source": [
    "from IPython.core.interactiveshell import InteractiveShell\n",
    "\n",
    "InteractiveShell.ast_node_interactivity = \"all\""
   ]
  },
  {
   "cell_type": "markdown",
   "metadata": {},
   "source": [
    "##### Let us check the average churn in the categorical variables."
   ]
  },
  {
   "cell_type": "code",
   "execution_count": 107,
   "metadata": {},
   "outputs": [
    {
     "name": "stdout",
     "output_type": "stream",
     "text": [
      "night_pck_user_6\n",
      "-1.0    0.099092\n",
      "0.0     0.066369\n",
      "1.0     0.095890\n",
      "Name: churn, dtype: float64\n",
      "night_pck_user_7\n",
      "-1.0    0.113790\n",
      "0.0     0.056581\n",
      "1.0     0.063433\n",
      "Name: churn, dtype: float64\n",
      "night_pck_user_8\n",
      "-1.0    0.141116\n",
      "0.0     0.029101\n",
      "1.0     0.025000\n",
      "Name: churn, dtype: float64\n",
      "fb_user_6\n",
      "-1.0    0.099092\n",
      "0.0     0.078522\n",
      "1.0     0.066193\n",
      "Name: churn, dtype: float64\n",
      "fb_user_7\n",
      "-1.0    0.113790\n",
      "0.0     0.068108\n",
      "1.0     0.055782\n",
      "Name: churn, dtype: float64\n",
      "fb_user_8\n",
      "-1.0    0.141116\n",
      "0.0     0.066667\n",
      "1.0     0.024809\n",
      "Name: churn, dtype: float64\n"
     ]
    }
   ],
   "source": [
    "train = pd.concat([X_train, y_train], axis=1)\n",
    "npu_6 = train.groupby('night_pck_user_6').churn.mean()\n",
    "npu_7 = train.groupby('night_pck_user_7').churn.mean()\n",
    "npu_8 = train.groupby('night_pck_user_8').churn.mean()\n",
    "fbu_6 = train.groupby('fb_user_6').churn.mean()\n",
    "fbu_7 = train.groupby('fb_user_7').churn.mean()\n",
    "fbu_8 = train.groupby('fb_user_8').churn.mean()\n",
    "\n",
    "print(npu_6)\n",
    "print(npu_7)\n",
    "print(npu_8)\n",
    "\n",
    "print(fbu_6)\n",
    "print(fbu_7)\n",
    "print(fbu_8)"
   ]
  },
  {
   "cell_type": "markdown",
   "metadata": {},
   "source": [
    "##### Instead of converting these categorical variables by one-hot-encoding, we can replace the categories with the respective average churn."
   ]
  },
  {
   "cell_type": "code",
   "execution_count": 108,
   "metadata": {},
   "outputs": [],
   "source": [
    "mapping = {'night_pck_user_6' : {-1: npu_6[0], 0: npu_6[1], 1: npu_6[2]},\n",
    "           'night_pck_user_7' : {-1: npu_7[0], 0: npu_7[1], 1: npu_7[2]},\n",
    "           'night_pck_user_8' : {-1: npu_8[0], 0: npu_8[1], 1: npu_8[2]},\n",
    "           'fb_user_6' : {-1: fbu_6[0], 0: fbu_6[1], 1: fbu_6[2]},\n",
    "           'fb_user_7' : {-1: fbu_7[0], 0: fbu_7[1], 1: fbu_7[2]},\n",
    "           'fb_user_8' : {-1: fbu_8[0], 0: fbu_8[1], 1: fbu_8[2]}\n",
    "          }\n",
    "                                   \n",
    "X_train.replace(mapping, inplace=True)\n",
    "X_test.replace(mapping, inplace=True)"
   ]
  },
  {
   "cell_type": "code",
   "execution_count": 109,
   "metadata": {},
   "outputs": [
    {
     "name": "stdout",
     "output_type": "stream",
     "text": [
      "\n",
      "Numerical :\n",
      "\n",
      " ['arpu_6', 'arpu_7', 'arpu_8', 'onnet_mou_6', 'onnet_mou_7', 'onnet_mou_8', 'offnet_mou_6', 'offnet_mou_7', 'offnet_mou_8', 'roam_ic_mou_6', 'roam_ic_mou_7', 'roam_ic_mou_8', 'roam_og_mou_6', 'roam_og_mou_7', 'roam_og_mou_8', 'loc_og_t2t_mou_6', 'loc_og_t2t_mou_7', 'loc_og_t2t_mou_8', 'loc_og_t2m_mou_6', 'loc_og_t2m_mou_7', 'loc_og_t2m_mou_8', 'loc_og_t2f_mou_6', 'loc_og_t2f_mou_7', 'loc_og_t2f_mou_8', 'loc_og_t2c_mou_6', 'loc_og_t2c_mou_7', 'loc_og_t2c_mou_8', 'loc_og_mou_6', 'loc_og_mou_7', 'loc_og_mou_8', 'std_og_t2t_mou_6', 'std_og_t2t_mou_7', 'std_og_t2t_mou_8', 'std_og_t2m_mou_6', 'std_og_t2m_mou_7', 'std_og_t2m_mou_8', 'std_og_t2f_mou_6', 'std_og_t2f_mou_7', 'std_og_t2f_mou_8', 'std_og_mou_6', 'std_og_mou_7', 'std_og_mou_8', 'isd_og_mou_6', 'isd_og_mou_7', 'isd_og_mou_8', 'spl_og_mou_6', 'spl_og_mou_7', 'spl_og_mou_8', 'og_others_6', 'og_others_7', 'og_others_8', 'total_og_mou_6', 'total_og_mou_7', 'total_og_mou_8', 'loc_ic_t2t_mou_6', 'loc_ic_t2t_mou_7', 'loc_ic_t2t_mou_8', 'loc_ic_t2m_mou_6', 'loc_ic_t2m_mou_7', 'loc_ic_t2m_mou_8', 'loc_ic_t2f_mou_6', 'loc_ic_t2f_mou_7', 'loc_ic_t2f_mou_8', 'loc_ic_mou_6', 'loc_ic_mou_7', 'loc_ic_mou_8', 'std_ic_t2t_mou_6', 'std_ic_t2t_mou_7', 'std_ic_t2t_mou_8', 'std_ic_t2m_mou_6', 'std_ic_t2m_mou_7', 'std_ic_t2m_mou_8', 'std_ic_t2f_mou_6', 'std_ic_t2f_mou_7', 'std_ic_t2f_mou_8', 'std_ic_mou_6', 'std_ic_mou_7', 'std_ic_mou_8', 'total_ic_mou_6', 'total_ic_mou_7', 'total_ic_mou_8', 'spl_ic_mou_6', 'spl_ic_mou_7', 'spl_ic_mou_8', 'isd_ic_mou_6', 'isd_ic_mou_7', 'isd_ic_mou_8', 'ic_others_6', 'ic_others_7', 'ic_others_8', 'total_rech_num_6', 'total_rech_num_7', 'total_rech_num_8', 'total_rech_amt_6', 'total_rech_amt_7', 'total_rech_amt_8', 'max_rech_amt_6', 'max_rech_amt_7', 'max_rech_amt_8', 'last_day_rch_amt_6', 'last_day_rch_amt_7', 'last_day_rch_amt_8', 'total_rech_data_6', 'total_rech_data_7', 'total_rech_data_8', 'max_rech_data_6', 'max_rech_data_7', 'max_rech_data_8', 'count_rech_2g_6', 'count_rech_2g_7', 'count_rech_2g_8', 'count_rech_3g_6', 'count_rech_3g_7', 'count_rech_3g_8', 'av_rech_amt_data_6', 'av_rech_amt_data_7', 'av_rech_amt_data_8', 'vol_2g_mb_6', 'vol_2g_mb_7', 'vol_2g_mb_8', 'vol_3g_mb_6', 'vol_3g_mb_7', 'vol_3g_mb_8', 'night_pck_user_6', 'night_pck_user_7', 'night_pck_user_8', 'monthly_2g_6', 'monthly_2g_7', 'monthly_2g_8', 'sachet_2g_6', 'sachet_2g_7', 'sachet_2g_8', 'monthly_3g_6', 'monthly_3g_7', 'monthly_3g_8', 'sachet_3g_6', 'sachet_3g_7', 'sachet_3g_8', 'fb_user_6', 'fb_user_7', 'fb_user_8', 'aon', 'aug_vbc_3g', 'jul_vbc_3g', 'jun_vbc_3g', 'sep_vbc_3g', 'arpu_diff', 'onnet_mou_diff', 'offnet_mou_diff', 'roam_ic_mou_diff', 'roam_og_mou_diff', 'loc_og_mou_diff', 'std_og_mou_diff', 'isd_og_mou_diff', 'spl_og_mou_diff', 'og_others_diff', 'total_og_mou_diff', 'loc_ic_mou_diff', 'std_ic_mou_diff', 'total_ic_mou_diff', 'spl_ic_mou_diff', 'isd_ic_mou_diff', 'ic_others_diff', 'total_rech_amt_diff', 'max_rech_amt_diff', 'total_rech_data_diff', 'max_rech_data_diff', 'av_rech_amt_data_diff', 'vol_2g_mb_diff', 'vol_3g_mb_diff']\n",
      "\n",
      "\n",
      "Categorical :\n",
      "\n",
      " []\n"
     ]
    }
   ],
   "source": [
    "num_vars, cat_vars = sep_num_cat(X_train)\n",
    "print(\"\\nNumerical :\\n\\n\", num_vars)\n",
    "\n",
    "print(\"\\n\\nCategorical :\\n\\n\", cat_vars)"
   ]
  },
  {
   "cell_type": "code",
   "execution_count": 110,
   "metadata": {},
   "outputs": [
    {
     "name": "stdout",
     "output_type": "stream",
     "text": [
      "\n",
      "Numerical :\n",
      "\n",
      " ['arpu_6', 'arpu_7', 'arpu_8', 'onnet_mou_6', 'onnet_mou_7', 'onnet_mou_8', 'offnet_mou_6', 'offnet_mou_7', 'offnet_mou_8', 'roam_ic_mou_6', 'roam_ic_mou_7', 'roam_ic_mou_8', 'roam_og_mou_6', 'roam_og_mou_7', 'roam_og_mou_8', 'loc_og_t2t_mou_6', 'loc_og_t2t_mou_7', 'loc_og_t2t_mou_8', 'loc_og_t2m_mou_6', 'loc_og_t2m_mou_7', 'loc_og_t2m_mou_8', 'loc_og_t2f_mou_6', 'loc_og_t2f_mou_7', 'loc_og_t2f_mou_8', 'loc_og_t2c_mou_6', 'loc_og_t2c_mou_7', 'loc_og_t2c_mou_8', 'loc_og_mou_6', 'loc_og_mou_7', 'loc_og_mou_8', 'std_og_t2t_mou_6', 'std_og_t2t_mou_7', 'std_og_t2t_mou_8', 'std_og_t2m_mou_6', 'std_og_t2m_mou_7', 'std_og_t2m_mou_8', 'std_og_t2f_mou_6', 'std_og_t2f_mou_7', 'std_og_t2f_mou_8', 'std_og_mou_6', 'std_og_mou_7', 'std_og_mou_8', 'isd_og_mou_6', 'isd_og_mou_7', 'isd_og_mou_8', 'spl_og_mou_6', 'spl_og_mou_7', 'spl_og_mou_8', 'og_others_6', 'og_others_7', 'og_others_8', 'total_og_mou_6', 'total_og_mou_7', 'total_og_mou_8', 'loc_ic_t2t_mou_6', 'loc_ic_t2t_mou_7', 'loc_ic_t2t_mou_8', 'loc_ic_t2m_mou_6', 'loc_ic_t2m_mou_7', 'loc_ic_t2m_mou_8', 'loc_ic_t2f_mou_6', 'loc_ic_t2f_mou_7', 'loc_ic_t2f_mou_8', 'loc_ic_mou_6', 'loc_ic_mou_7', 'loc_ic_mou_8', 'std_ic_t2t_mou_6', 'std_ic_t2t_mou_7', 'std_ic_t2t_mou_8', 'std_ic_t2m_mou_6', 'std_ic_t2m_mou_7', 'std_ic_t2m_mou_8', 'std_ic_t2f_mou_6', 'std_ic_t2f_mou_7', 'std_ic_t2f_mou_8', 'std_ic_mou_6', 'std_ic_mou_7', 'std_ic_mou_8', 'total_ic_mou_6', 'total_ic_mou_7', 'total_ic_mou_8', 'spl_ic_mou_6', 'spl_ic_mou_7', 'spl_ic_mou_8', 'isd_ic_mou_6', 'isd_ic_mou_7', 'isd_ic_mou_8', 'ic_others_6', 'ic_others_7', 'ic_others_8', 'total_rech_num_6', 'total_rech_num_7', 'total_rech_num_8', 'total_rech_amt_6', 'total_rech_amt_7', 'total_rech_amt_8', 'max_rech_amt_6', 'max_rech_amt_7', 'max_rech_amt_8', 'last_day_rch_amt_6', 'last_day_rch_amt_7', 'last_day_rch_amt_8', 'total_rech_data_6', 'total_rech_data_7', 'total_rech_data_8', 'max_rech_data_6', 'max_rech_data_7', 'max_rech_data_8', 'count_rech_2g_6', 'count_rech_2g_7', 'count_rech_2g_8', 'count_rech_3g_6', 'count_rech_3g_7', 'count_rech_3g_8', 'av_rech_amt_data_6', 'av_rech_amt_data_7', 'av_rech_amt_data_8', 'vol_2g_mb_6', 'vol_2g_mb_7', 'vol_2g_mb_8', 'vol_3g_mb_6', 'vol_3g_mb_7', 'vol_3g_mb_8', 'night_pck_user_6', 'night_pck_user_7', 'night_pck_user_8', 'monthly_2g_6', 'monthly_2g_7', 'monthly_2g_8', 'sachet_2g_6', 'sachet_2g_7', 'sachet_2g_8', 'monthly_3g_6', 'monthly_3g_7', 'monthly_3g_8', 'sachet_3g_6', 'sachet_3g_7', 'sachet_3g_8', 'fb_user_6', 'fb_user_7', 'fb_user_8', 'aon', 'aug_vbc_3g', 'jul_vbc_3g', 'jun_vbc_3g', 'sep_vbc_3g', 'arpu_diff', 'onnet_mou_diff', 'offnet_mou_diff', 'roam_ic_mou_diff', 'roam_og_mou_diff', 'loc_og_mou_diff', 'std_og_mou_diff', 'isd_og_mou_diff', 'spl_og_mou_diff', 'og_others_diff', 'total_og_mou_diff', 'loc_ic_mou_diff', 'std_ic_mou_diff', 'total_ic_mou_diff', 'spl_ic_mou_diff', 'isd_ic_mou_diff', 'ic_others_diff', 'total_rech_amt_diff', 'max_rech_amt_diff', 'total_rech_data_diff', 'max_rech_data_diff', 'av_rech_amt_data_diff', 'vol_2g_mb_diff', 'vol_3g_mb_diff']\n",
      "\n",
      "\n",
      "Categorical :\n",
      "\n",
      " []\n"
     ]
    }
   ],
   "source": [
    "num_vars, cat_vars = sep_num_cat(X_test)\n",
    "print(\"\\nNumerical :\\n\\n\", num_vars)\n",
    "\n",
    "print(\"\\n\\nCategorical :\\n\\n\", cat_vars)"
   ]
  },
  {
   "cell_type": "markdown",
   "metadata": {},
   "source": [
    "#### Use PCA to reduce the dimensions for modelling"
   ]
  },
  {
   "cell_type": "code",
   "execution_count": 111,
   "metadata": {},
   "outputs": [
    {
     "data": {
      "text/plain": [
       "(20967, 170)"
      ]
     },
     "execution_count": 111,
     "metadata": {},
     "output_type": "execute_result"
    }
   ],
   "source": [
    "X_train.shape"
   ]
  },
  {
   "cell_type": "code",
   "execution_count": 112,
   "metadata": {},
   "outputs": [
    {
     "data": {
      "text/html": [
       "<div>\n",
       "<style scoped>\n",
       "    .dataframe tbody tr th:only-of-type {\n",
       "        vertical-align: middle;\n",
       "    }\n",
       "\n",
       "    .dataframe tbody tr th {\n",
       "        vertical-align: top;\n",
       "    }\n",
       "\n",
       "    .dataframe thead th {\n",
       "        text-align: right;\n",
       "    }\n",
       "</style>\n",
       "<table border=\"1\" class=\"dataframe\">\n",
       "  <thead>\n",
       "    <tr style=\"text-align: right;\">\n",
       "      <th></th>\n",
       "      <th>arpu_6</th>\n",
       "      <th>arpu_7</th>\n",
       "      <th>arpu_8</th>\n",
       "      <th>onnet_mou_6</th>\n",
       "      <th>onnet_mou_7</th>\n",
       "      <th>onnet_mou_8</th>\n",
       "      <th>offnet_mou_6</th>\n",
       "      <th>offnet_mou_7</th>\n",
       "      <th>offnet_mou_8</th>\n",
       "      <th>roam_ic_mou_6</th>\n",
       "      <th>...</th>\n",
       "      <th>spl_ic_mou_diff</th>\n",
       "      <th>isd_ic_mou_diff</th>\n",
       "      <th>ic_others_diff</th>\n",
       "      <th>total_rech_amt_diff</th>\n",
       "      <th>max_rech_amt_diff</th>\n",
       "      <th>total_rech_data_diff</th>\n",
       "      <th>max_rech_data_diff</th>\n",
       "      <th>av_rech_amt_data_diff</th>\n",
       "      <th>vol_2g_mb_diff</th>\n",
       "      <th>vol_3g_mb_diff</th>\n",
       "    </tr>\n",
       "  </thead>\n",
       "  <tbody>\n",
       "    <tr>\n",
       "      <th>70087</th>\n",
       "      <td>521.407000</td>\n",
       "      <td>452.594</td>\n",
       "      <td>-0.500</td>\n",
       "      <td>146.33</td>\n",
       "      <td>79.04</td>\n",
       "      <td>5.18</td>\n",
       "      <td>709.740000</td>\n",
       "      <td>686.84</td>\n",
       "      <td>0.000000</td>\n",
       "      <td>0.000000</td>\n",
       "      <td>...</td>\n",
       "      <td>0.000</td>\n",
       "      <td>-24.245000</td>\n",
       "      <td>0.000</td>\n",
       "      <td>-583.000000</td>\n",
       "      <td>-110.0</td>\n",
       "      <td>0.0</td>\n",
       "      <td>0.0</td>\n",
       "      <td>0.0</td>\n",
       "      <td>0.000</td>\n",
       "      <td>0.000</td>\n",
       "    </tr>\n",
       "    <tr>\n",
       "      <th>90560</th>\n",
       "      <td>928.353000</td>\n",
       "      <td>553.882</td>\n",
       "      <td>789.034</td>\n",
       "      <td>196.91</td>\n",
       "      <td>148.58</td>\n",
       "      <td>235.89</td>\n",
       "      <td>794.930000</td>\n",
       "      <td>448.36</td>\n",
       "      <td>827.610000</td>\n",
       "      <td>0.000000</td>\n",
       "      <td>...</td>\n",
       "      <td>0.250</td>\n",
       "      <td>-23.807596</td>\n",
       "      <td>9.290</td>\n",
       "      <td>315.000000</td>\n",
       "      <td>325.0</td>\n",
       "      <td>0.0</td>\n",
       "      <td>0.0</td>\n",
       "      <td>0.0</td>\n",
       "      <td>-17.195</td>\n",
       "      <td>37.865</td>\n",
       "    </tr>\n",
       "    <tr>\n",
       "      <th>58800</th>\n",
       "      <td>350.272000</td>\n",
       "      <td>390.187</td>\n",
       "      <td>373.309</td>\n",
       "      <td>15.48</td>\n",
       "      <td>77.23</td>\n",
       "      <td>36.78</td>\n",
       "      <td>76.030000</td>\n",
       "      <td>97.64</td>\n",
       "      <td>74.060000</td>\n",
       "      <td>0.000000</td>\n",
       "      <td>...</td>\n",
       "      <td>-0.515</td>\n",
       "      <td>-29.145000</td>\n",
       "      <td>-1.375</td>\n",
       "      <td>10.000000</td>\n",
       "      <td>0.0</td>\n",
       "      <td>-0.5</td>\n",
       "      <td>0.0</td>\n",
       "      <td>-7.0</td>\n",
       "      <td>267.665</td>\n",
       "      <td>277.110</td>\n",
       "    </tr>\n",
       "    <tr>\n",
       "      <th>24547</th>\n",
       "      <td>537.160000</td>\n",
       "      <td>335.809</td>\n",
       "      <td>527.819</td>\n",
       "      <td>101.73</td>\n",
       "      <td>34.09</td>\n",
       "      <td>41.38</td>\n",
       "      <td>245.980000</td>\n",
       "      <td>164.73</td>\n",
       "      <td>103.590000</td>\n",
       "      <td>0.000000</td>\n",
       "      <td>...</td>\n",
       "      <td>0.000</td>\n",
       "      <td>0.000000</td>\n",
       "      <td>0.000</td>\n",
       "      <td>-11.000000</td>\n",
       "      <td>39.0</td>\n",
       "      <td>0.0</td>\n",
       "      <td>0.0</td>\n",
       "      <td>0.0</td>\n",
       "      <td>0.000</td>\n",
       "      <td>0.000</td>\n",
       "    </tr>\n",
       "    <tr>\n",
       "      <th>50364</th>\n",
       "      <td>1941.424726</td>\n",
       "      <td>1555.525</td>\n",
       "      <td>1352.371</td>\n",
       "      <td>387.83</td>\n",
       "      <td>171.08</td>\n",
       "      <td>212.81</td>\n",
       "      <td>1819.633224</td>\n",
       "      <td>1783.18</td>\n",
       "      <td>1777.433249</td>\n",
       "      <td>245.848027</td>\n",
       "      <td>...</td>\n",
       "      <td>-0.075</td>\n",
       "      <td>0.000000</td>\n",
       "      <td>0.380</td>\n",
       "      <td>-653.052386</td>\n",
       "      <td>9.5</td>\n",
       "      <td>0.0</td>\n",
       "      <td>0.0</td>\n",
       "      <td>0.0</td>\n",
       "      <td>0.000</td>\n",
       "      <td>0.000</td>\n",
       "    </tr>\n",
       "  </tbody>\n",
       "</table>\n",
       "<p>5 rows × 170 columns</p>\n",
       "</div>"
      ],
      "text/plain": [
       "            arpu_6    arpu_7    arpu_8  onnet_mou_6  onnet_mou_7  onnet_mou_8  \\\n",
       "70087   521.407000   452.594    -0.500       146.33        79.04         5.18   \n",
       "90560   928.353000   553.882   789.034       196.91       148.58       235.89   \n",
       "58800   350.272000   390.187   373.309        15.48        77.23        36.78   \n",
       "24547   537.160000   335.809   527.819       101.73        34.09        41.38   \n",
       "50364  1941.424726  1555.525  1352.371       387.83       171.08       212.81   \n",
       "\n",
       "       offnet_mou_6  offnet_mou_7  offnet_mou_8  roam_ic_mou_6  ...  \\\n",
       "70087    709.740000        686.84      0.000000       0.000000  ...   \n",
       "90560    794.930000        448.36    827.610000       0.000000  ...   \n",
       "58800     76.030000         97.64     74.060000       0.000000  ...   \n",
       "24547    245.980000        164.73    103.590000       0.000000  ...   \n",
       "50364   1819.633224       1783.18   1777.433249     245.848027  ...   \n",
       "\n",
       "       spl_ic_mou_diff  isd_ic_mou_diff  ic_others_diff  total_rech_amt_diff  \\\n",
       "70087            0.000       -24.245000           0.000          -583.000000   \n",
       "90560            0.250       -23.807596           9.290           315.000000   \n",
       "58800           -0.515       -29.145000          -1.375            10.000000   \n",
       "24547            0.000         0.000000           0.000           -11.000000   \n",
       "50364           -0.075         0.000000           0.380          -653.052386   \n",
       "\n",
       "       max_rech_amt_diff  total_rech_data_diff  max_rech_data_diff  \\\n",
       "70087             -110.0                   0.0                 0.0   \n",
       "90560              325.0                   0.0                 0.0   \n",
       "58800                0.0                  -0.5                 0.0   \n",
       "24547               39.0                   0.0                 0.0   \n",
       "50364                9.5                   0.0                 0.0   \n",
       "\n",
       "       av_rech_amt_data_diff  vol_2g_mb_diff  vol_3g_mb_diff  \n",
       "70087                    0.0           0.000           0.000  \n",
       "90560                    0.0         -17.195          37.865  \n",
       "58800                   -7.0         267.665         277.110  \n",
       "24547                    0.0           0.000           0.000  \n",
       "50364                    0.0           0.000           0.000  \n",
       "\n",
       "[5 rows x 170 columns]"
      ]
     },
     "execution_count": 112,
     "metadata": {},
     "output_type": "execute_result"
    }
   ],
   "source": [
    "X_train.head()"
   ]
  },
  {
   "cell_type": "code",
   "execution_count": 113,
   "metadata": {},
   "outputs": [],
   "source": [
    "from sklearn.pipeline import Pipeline\n",
    "from sklearn.decomposition import PCA\n",
    "from sklearn.preprocessing import StandardScaler"
   ]
  },
  {
   "cell_type": "code",
   "execution_count": 114,
   "metadata": {},
   "outputs": [],
   "source": [
    "X_train_backup1 = X_train.copy()\n",
    "X_test_backup1 = X_test.copy()"
   ]
  },
  {
   "cell_type": "code",
   "execution_count": 115,
   "metadata": {},
   "outputs": [],
   "source": [
    "pca_pipeline = Pipeline([('std_scaler',StandardScaler()), ('pca', PCA(0.9))]) \n",
    "X_train_transformed = pca_pipeline.fit_transform(X_train)"
   ]
  },
  {
   "cell_type": "code",
   "execution_count": 116,
   "metadata": {},
   "outputs": [
    {
     "data": {
      "text/plain": [
       "(20967, 53)"
      ]
     },
     "execution_count": 116,
     "metadata": {},
     "output_type": "execute_result"
    }
   ],
   "source": [
    "X_train_transformed.shape"
   ]
  },
  {
   "cell_type": "code",
   "execution_count": 117,
   "metadata": {},
   "outputs": [
    {
     "data": {
      "text/plain": [
       "array([[ 1.15445678, -4.84741297, -3.74188659, ..., -0.22326818,\n",
       "         0.13063845,  0.28374764],\n",
       "       [ 2.46997168,  6.82311591,  1.07945398, ...,  0.5602961 ,\n",
       "         0.15443784, -0.54147085],\n",
       "       [-2.72619138,  3.11712913,  3.09679585, ..., -1.23447096,\n",
       "        -1.20413411,  0.37231091],\n",
       "       ...,\n",
       "       [ 5.04019244, -2.91613926,  2.60404278, ...,  0.84841571,\n",
       "         0.23333787,  0.05268804],\n",
       "       [-2.40118939, -4.67151418, -2.63755453, ..., -0.41093332,\n",
       "        -0.17478766, -0.04734589],\n",
       "       [ 1.0551558 , -5.42808981,  5.37899842, ...,  0.13648988,\n",
       "        -0.37112716,  0.49862265]])"
      ]
     },
     "execution_count": 117,
     "metadata": {},
     "output_type": "execute_result"
    }
   ],
   "source": [
    "X_train_transformed"
   ]
  },
  {
   "cell_type": "code",
   "execution_count": 118,
   "metadata": {},
   "outputs": [],
   "source": [
    "X_test_transformed = pca_pipeline.transform(X_test)"
   ]
  },
  {
   "cell_type": "code",
   "execution_count": 119,
   "metadata": {},
   "outputs": [
    {
     "data": {
      "text/plain": [
       "(8986, 53)"
      ]
     },
     "execution_count": 119,
     "metadata": {},
     "output_type": "execute_result"
    }
   ],
   "source": [
    "X_test_transformed.shape"
   ]
  },
  {
   "cell_type": "code",
   "execution_count": 120,
   "metadata": {},
   "outputs": [
    {
     "data": {
      "text/plain": [
       "array([[ 6.08965573, 10.83869799, -0.53228001, ...,  0.28000432,\n",
       "         0.18559866,  0.28178204],\n",
       "       [ 7.19546129,  1.51887418,  1.08856456, ..., -1.20368402,\n",
       "         0.57195538, -0.07471732],\n",
       "       [ 0.38274443, -4.06053985, -2.24217009, ...,  0.30899485,\n",
       "         0.50319003, -0.73057078],\n",
       "       ...,\n",
       "       [-4.05218494, -2.78477657, -0.04444634, ...,  0.8689242 ,\n",
       "         1.14607907,  0.10943537],\n",
       "       [ 1.55627875, -3.69491441, -3.66659216, ..., -1.40568224,\n",
       "        -0.71261696,  1.01389956],\n",
       "       [ 4.92102784, -1.13688968, -1.78683071, ..., -0.17559014,\n",
       "         0.32638595, -0.1668486 ]])"
      ]
     },
     "execution_count": 120,
     "metadata": {},
     "output_type": "execute_result"
    }
   ],
   "source": [
    "X_test_transformed"
   ]
  },
  {
   "cell_type": "markdown",
   "metadata": {},
   "source": [
    "##### We have managed to reduce the number of features from 170 to 53 using PCA. We are set for trying out different models."
   ]
  },
  {
   "cell_type": "markdown",
   "metadata": {},
   "source": [
    "### 6. Model Building "
   ]
  },
  {
   "cell_type": "markdown",
   "metadata": {},
   "source": [
    "### 6.1 Logistic Regression"
   ]
  },
  {
   "cell_type": "code",
   "execution_count": 315,
   "metadata": {},
   "outputs": [],
   "source": [
    "from sklearn.linear_model import LogisticRegression"
   ]
  },
  {
   "cell_type": "code",
   "execution_count": 316,
   "metadata": {},
   "outputs": [],
   "source": [
    "lr1 = LogisticRegression()"
   ]
  },
  {
   "cell_type": "code",
   "execution_count": 317,
   "metadata": {},
   "outputs": [],
   "source": [
    "# Fit the model on training data\n",
    "lr1 = lr1.fit(X_train_transformed, y_train)"
   ]
  },
  {
   "cell_type": "code",
   "execution_count": 318,
   "metadata": {},
   "outputs": [],
   "source": [
    "# Predict on the train data\n",
    "y_train_pred_lr1, y_train_pred_prob_lr1  = predict_and_proba(lr1, X_train_transformed)"
   ]
  },
  {
   "cell_type": "code",
   "execution_count": 319,
   "metadata": {},
   "outputs": [
    {
     "name": "stdout",
     "output_type": "stream",
     "text": [
      "\n",
      "\n",
      "Confusion Matrix :\n",
      "\n",
      " [[19062   202]\n",
      " [ 1069   634]]\n",
      "\n",
      "TN : 19062\n",
      "\n",
      "FP : 202\n",
      "\n",
      "FN : 1069\n",
      "\n",
      "TP : 634\n",
      "\n",
      "ACCURACY :  0.9393809319406686\n",
      "\n",
      "SENSITIVITY :  0.37228420434527304\n",
      "\n",
      "PRECISION :  0.7583732057416268\n",
      "\n",
      "FALSE POSITIVITY RATE :  0.010485880398671096\n",
      "\n",
      "SPECIFICITY :  0.989514119601329\n",
      "\n",
      "\n",
      " Classification Report :\n",
      "\n",
      "               precision    recall  f1-score   support\n",
      "\n",
      "           0       0.95      0.99      0.97     19264\n",
      "           1       0.76      0.37      0.50      1703\n",
      "\n",
      "    accuracy                           0.94     20967\n",
      "   macro avg       0.85      0.68      0.73     20967\n",
      "weighted avg       0.93      0.94      0.93     20967\n",
      "\n"
     ]
    }
   ],
   "source": [
    "# Results on Train Data\n",
    "print_binary_classification_summary(y_train, y_train_pred_lr1)"
   ]
  },
  {
   "cell_type": "markdown",
   "metadata": {},
   "source": [
    "##### Accuracy looks high at 0.94, but sensitivity/recall for churn case is bad at 0.37"
   ]
  },
  {
   "cell_type": "code",
   "execution_count": 321,
   "metadata": {},
   "outputs": [
    {
     "data": {
      "image/png": "[encoded data removed]",
      "text/plain": [
       "<Figure size 360x360 with 1 Axes>"
      ]
     },
     "metadata": {
      "needs_background": "light"
     },
     "output_type": "display_data"
    },
    {
     "name": "stdout",
     "output_type": "stream",
     "text": [
      "\n",
      "AUC SCORE = 0.900\n"
     ]
    }
   ],
   "source": [
    "### ROC curve and AUC score on train data\n",
    "auc_score_lr1 = draw_roc(y_train, y_train_pred_prob_lr1[:,1])"
   ]
  },
  {
   "cell_type": "markdown",
   "metadata": {},
   "source": [
    "#### Sensitivity looks bad. This should be because of high class imbalance in the train data. Let us try with class_weight option"
   ]
  },
  {
   "cell_type": "code",
   "execution_count": 324,
   "metadata": {},
   "outputs": [
    {
     "data": {
      "text/plain": [
       "0    0.918777\n",
       "1    0.081223\n",
       "Name: churn, dtype: float64"
      ]
     },
     "execution_count": 324,
     "metadata": {},
     "output_type": "execute_result"
    }
   ],
   "source": [
    "y_train.value_counts() / len(y_train)"
   ]
  },
  {
   "cell_type": "code",
   "execution_count": 325,
   "metadata": {},
   "outputs": [],
   "source": [
    "lr2 = LogisticRegression(class_weight='balanced')\n",
    "# or we can try below as well.\n",
    "#lr2 = LogisticRegression(class_weight={0:0.1, 1:0.9})"
   ]
  },
  {
   "cell_type": "code",
   "execution_count": 326,
   "metadata": {},
   "outputs": [],
   "source": [
    "# Fit model on train data\n",
    "lr2 = lr2.fit(X_train_transformed, y_train)"
   ]
  },
  {
   "cell_type": "code",
   "execution_count": 327,
   "metadata": {},
   "outputs": [],
   "source": [
    "# Predict on Train data\n",
    "y_train_pred_lr2, y_train_pred_prob_lr2  = predict_and_proba(lr2, X_train_transformed)"
   ]
  },
  {
   "cell_type": "code",
   "execution_count": 328,
   "metadata": {},
   "outputs": [
    {
     "name": "stdout",
     "output_type": "stream",
     "text": [
      "\n",
      "\n",
      "Confusion Matrix :\n",
      "\n",
      " [[16226  3038]\n",
      " [  301  1402]]\n",
      "\n",
      "TN : 16226\n",
      "\n",
      "FP : 3038\n",
      "\n",
      "FN : 301\n",
      "\n",
      "TP : 1402\n",
      "\n",
      "ACCURACY :  0.8407497496065245\n",
      "\n",
      "SENSITIVITY :  0.8232530827950675\n",
      "\n",
      "PRECISION :  0.31576576576576576\n",
      "\n",
      "FALSE POSITIVITY RATE :  0.15770348837209303\n",
      "\n",
      "SPECIFICITY :  0.842296511627907\n",
      "\n",
      "\n",
      " Classification Report :\n",
      "\n",
      "               precision    recall  f1-score   support\n",
      "\n",
      "           0       0.98      0.84      0.91     19264\n",
      "           1       0.32      0.82      0.46      1703\n",
      "\n",
      "    accuracy                           0.84     20967\n",
      "   macro avg       0.65      0.83      0.68     20967\n",
      "weighted avg       0.93      0.84      0.87     20967\n",
      "\n"
     ]
    }
   ],
   "source": [
    "# Results on train data\n",
    "print_binary_classification_summary(y_train, y_train_pred_lr2)"
   ]
  },
  {
   "cell_type": "markdown",
   "metadata": {},
   "source": [
    "##### With class_weight='balanced' option, the model is able to achieve good 0.82 sensitivity with train data. Good !"
   ]
  },
  {
   "cell_type": "code",
   "execution_count": 329,
   "metadata": {},
   "outputs": [
    {
     "data": {
      "image/png": "[encoded data removed]",
      "text/plain": [
       "<Figure size 360x360 with 1 Axes>"
      ]
     },
     "metadata": {
      "needs_background": "light"
     },
     "output_type": "display_data"
    },
    {
     "name": "stdout",
     "output_type": "stream",
     "text": [
      "\n",
      "AUC SCORE = 0.902\n"
     ]
    }
   ],
   "source": [
    "### ROC and AUC score on train data\n",
    "draw_roc(y_train, y_train_pred_prob_lr2[:,1])"
   ]
  },
  {
   "cell_type": "code",
   "execution_count": 332,
   "metadata": {},
   "outputs": [],
   "source": [
    "### Let us maintain a dictionary of AUCs to compare after trying various models.\n",
    "auc_dict = {}"
   ]
  },
  {
   "cell_type": "markdown",
   "metadata": {},
   "source": [
    "#### Experimentation\n",
    "##### Instead of class_weight='balanced', we can try giving explicit weights as below. The results were found to be almost same."
   ]
  },
  {
   "cell_type": "code",
   "execution_count": 9,
   "metadata": {},
   "outputs": [],
   "source": [
    "#lr3 = LogisticRegression(class_weight={0:0.1, 1:0.9})"
   ]
  },
  {
   "cell_type": "code",
   "execution_count": 8,
   "metadata": {},
   "outputs": [],
   "source": [
    "#lr3 = lr3.fit(X_train_transformed, y_train)"
   ]
  },
  {
   "cell_type": "code",
   "execution_count": null,
   "metadata": {},
   "outputs": [],
   "source": [
    "#y_train_pred_lr3, y_train_pred_prob_lr3  = predict_and_proba(lr3, X_train_transformed)"
   ]
  },
  {
   "cell_type": "code",
   "execution_count": null,
   "metadata": {},
   "outputs": [],
   "source": [
    "#print_binary_classification_summary(y_train, y_train_pred_lr3)"
   ]
  },
  {
   "cell_type": "code",
   "execution_count": null,
   "metadata": {},
   "outputs": [],
   "source": [
    "#auc_score_lr3 = draw_roc(y_train, y_train_pred_prob_lr3[:,1])"
   ]
  },
  {
   "cell_type": "code",
   "execution_count": null,
   "metadata": {},
   "outputs": [],
   "source": [
    "#y_test_pred_lr3, y_test_pred_prob_lr3  = predict_and_proba(lr3, X_test_transformed)"
   ]
  },
  {
   "cell_type": "code",
   "execution_count": null,
   "metadata": {},
   "outputs": [],
   "source": [
    "#print_binary_classification_summary(y_test, y_test_pred_lr3)"
   ]
  },
  {
   "cell_type": "markdown",
   "metadata": {},
   "source": [
    "\n",
    "#### Logistic Regression with hyper-parameter tuning"
   ]
  },
  {
   "cell_type": "code",
   "execution_count": 335,
   "metadata": {},
   "outputs": [
    {
     "name": "stdout",
     "output_type": "stream",
     "text": [
      "Fitting 5 folds for each of 100 candidates, totalling 500 fits\n"
     ]
    },
    {
     "name": "stderr",
     "output_type": "stream",
     "text": [
      "[Parallel(n_jobs=-1)]: Using backend LokyBackend with 12 concurrent workers.\n",
      "[Parallel(n_jobs=-1)]: Done  26 tasks      | elapsed:    4.1s\n",
      "[Parallel(n_jobs=-1)]: Done 176 tasks      | elapsed:   10.9s\n",
      "[Parallel(n_jobs=-1)]: Done 426 tasks      | elapsed:   24.1s\n",
      "[Parallel(n_jobs=-1)]: Done 500 out of 500 | elapsed:   28.3s finished\n"
     ]
    }
   ],
   "source": [
    "from sklearn.model_selection import GridSearchCV\n",
    "from sklearn.model_selection import StratifiedKFold\n",
    "\n",
    "lr4 = LogisticRegression(class_weight='balanced')\n",
    "\n",
    "solvers = ['newton-cg', 'lbfgs', 'liblinear', 'sag', 'saga']\n",
    "penalty = ['l2', 'l1', 'elasticnet', 'none']\n",
    "c_values = [100, 10, 1.0, 0.1, 0.01]\n",
    "\n",
    "# Use Multi scorer\n",
    "scoring_measures = {'Precision': 'precision', 'Recall': 'recall', 'AUC' : 'roc_auc'}\n",
    "refit = 'AUC'\n",
    "\n",
    "# define grid search\n",
    "grid = dict(solver=solvers, penalty=penalty, C=c_values)\n",
    "\n",
    "folds = StratifiedKFold(n_splits=5, shuffle=True, random_state=10)\n",
    "\n",
    "# Refit and give the best model based on f1 score. \n",
    "grid_search_lr4 = GridSearchCV(estimator=lr4, param_grid=grid, cv=folds, scoring=scoring_measures, refit=refit, n_jobs=-1, verbose=1)\n",
    "\n",
    "grid_result_lr4 = grid_search_lr4.fit(X_train_transformed, y_train)"
   ]
  },
  {
   "cell_type": "code",
   "execution_count": 336,
   "metadata": {},
   "outputs": [
    {
     "name": "stdout",
     "output_type": "stream",
     "text": [
      "mean_test_AUC\n",
      "\n",
      "Best hyperparameters:  {'C': 1.0, 'penalty': 'l2', 'solver': 'sag'}\n",
      "\n",
      "Best Score : 0.89697\n",
      "    mean_test_Precision  mean_test_Recall  mean_test_AUC\n",
      "43             0.311906          0.813861       0.896971\n"
     ]
    }
   ],
   "source": [
    "lr_grd_best_score = grid_result_summary(grid_result_lr4, scoring_measures, refit)"
   ]
  },
  {
   "cell_type": "code",
   "execution_count": 337,
   "metadata": {},
   "outputs": [
    {
     "data": {
      "text/plain": [
       "LogisticRegression(class_weight='balanced', solver='sag')"
      ]
     },
     "execution_count": 337,
     "metadata": {},
     "output_type": "execute_result"
    }
   ],
   "source": [
    "## Get the best fit model from the grid search.\n",
    "\n",
    "lr4 = grid_result_lr4.best_estimator_\n",
    "lr4"
   ]
  },
  {
   "cell_type": "code",
   "execution_count": 338,
   "metadata": {},
   "outputs": [],
   "source": [
    "## Predict on Train Set\n",
    "y_train_pred_lr4, y_train_pred_prob_lr4  = predict_and_proba(lr4, X_train_transformed)"
   ]
  },
  {
   "cell_type": "code",
   "execution_count": 339,
   "metadata": {},
   "outputs": [
    {
     "name": "stdout",
     "output_type": "stream",
     "text": [
      "\n",
      "\n",
      "Confusion Matrix :\n",
      "\n",
      " [[16194  3070]\n",
      " [  303  1400]]\n",
      "\n",
      "TN : 16194\n",
      "\n",
      "FP : 3070\n",
      "\n",
      "FN : 303\n",
      "\n",
      "TP : 1400\n",
      "\n",
      "ACCURACY :  0.8391281537654409\n",
      "\n",
      "SENSITIVITY :  0.8220786846741045\n",
      "\n",
      "PRECISION :  0.3131991051454139\n",
      "\n",
      "FALSE POSITIVITY RATE :  0.15936461794019935\n",
      "\n",
      "SPECIFICITY :  0.8406353820598007\n",
      "\n",
      "\n",
      " Classification Report :\n",
      "\n",
      "               precision    recall  f1-score   support\n",
      "\n",
      "           0       0.98      0.84      0.91     19264\n",
      "           1       0.31      0.82      0.45      1703\n",
      "\n",
      "    accuracy                           0.84     20967\n",
      "   macro avg       0.65      0.83      0.68     20967\n",
      "weighted avg       0.93      0.84      0.87     20967\n",
      "\n"
     ]
    }
   ],
   "source": [
    "## Results on train set\n",
    "print_binary_classification_summary(y_train, y_train_pred_lr4)"
   ]
  },
  {
   "cell_type": "markdown",
   "metadata": {},
   "source": [
    "##### Looks very similar to the previous LR model with sensitivity 0.82 and accuracy 0.84 on train data"
   ]
  },
  {
   "cell_type": "code",
   "execution_count": 340,
   "metadata": {},
   "outputs": [
    {
     "data": {
      "image/png": "[encoded data removed]",
      "text/plain": [
       "<Figure size 360x360 with 1 Axes>"
      ]
     },
     "metadata": {
      "needs_background": "light"
     },
     "output_type": "display_data"
    },
    {
     "name": "stdout",
     "output_type": "stream",
     "text": [
      "\n",
      "AUC SCORE = 0.902\n"
     ]
    },
    {
     "data": {
      "text/plain": [
       "0.902124579108979"
      ]
     },
     "execution_count": 340,
     "metadata": {},
     "output_type": "execute_result"
    }
   ],
   "source": [
    "### ROC curve and AUC on Train data\n",
    "draw_roc(y_train, y_train_pred_prob_lr4[:,1])"
   ]
  },
  {
   "cell_type": "code",
   "execution_count": 344,
   "metadata": {},
   "outputs": [
    {
     "name": "stdout",
     "output_type": "stream",
     "text": [
      "{'Hyper_tuned_LR_lr4': '0.897'}\n"
     ]
    }
   ],
   "source": [
    "#### Store the cross-validation mean test AUC in auc dictionary to compare later\n",
    "auc_dict['Hyper_tuned_LR_lr4'] = \"{:.3f}\".format(lr_grd_best_score)\n",
    "print(auc_dict)"
   ]
  },
  {
   "cell_type": "markdown",
   "metadata": {},
   "source": [
    "### 6.2 Random Forest"
   ]
  },
  {
   "cell_type": "code",
   "execution_count": 345,
   "metadata": {},
   "outputs": [],
   "source": [
    "from sklearn.ensemble import RandomForestClassifier"
   ]
  },
  {
   "cell_type": "code",
   "execution_count": 346,
   "metadata": {},
   "outputs": [
    {
     "data": {
      "text/plain": [
       "RandomForestClassifier(class_weight={0: 0.1, 1: 0.9})"
      ]
     },
     "execution_count": 346,
     "metadata": {},
     "output_type": "execute_result"
    }
   ],
   "source": [
    "rf1 = RandomForestClassifier(class_weight={0:0.1, 1:0.9})\n",
    "\n",
    "### Fit on train data\n",
    "rf1.fit(X_train_transformed, y_train)"
   ]
  },
  {
   "cell_type": "code",
   "execution_count": 347,
   "metadata": {},
   "outputs": [],
   "source": [
    "### Predict on train set\n",
    "y_pred_rf1 = rf1.predict(X_train_transformed)"
   ]
  },
  {
   "cell_type": "code",
   "execution_count": 348,
   "metadata": {},
   "outputs": [
    {
     "name": "stdout",
     "output_type": "stream",
     "text": [
      "\n",
      "\n",
      "Confusion Matrix :\n",
      "\n",
      " [[19264     0]\n",
      " [    1  1702]]\n",
      "\n",
      "TN : 19264\n",
      "\n",
      "FP : 0\n",
      "\n",
      "FN : 1\n",
      "\n",
      "TP : 1702\n",
      "\n",
      "ACCURACY :  0.999952306004674\n",
      "\n",
      "SENSITIVITY :  0.9994128009395185\n",
      "\n",
      "PRECISION :  1.0\n",
      "\n",
      "FALSE POSITIVITY RATE :  0.0\n",
      "\n",
      "SPECIFICITY :  1.0\n",
      "\n",
      "\n",
      " Classification Report :\n",
      "\n",
      "               precision    recall  f1-score   support\n",
      "\n",
      "           0       1.00      1.00      1.00     19264\n",
      "           1       1.00      1.00      1.00      1703\n",
      "\n",
      "    accuracy                           1.00     20967\n",
      "   macro avg       1.00      1.00      1.00     20967\n",
      "weighted avg       1.00      1.00      1.00     20967\n",
      "\n"
     ]
    }
   ],
   "source": [
    "### Results on train set\n",
    "print_binary_classification_summary(y_train, y_pred_rf1)"
   ]
  },
  {
   "cell_type": "markdown",
   "metadata": {},
   "source": [
    "#### All seems perfect. A case of extreme overfitting on train data !"
   ]
  },
  {
   "cell_type": "markdown",
   "metadata": {},
   "source": [
    "#### Random Forests with hyper-parameter tuning\n",
    "\n",
    "Let's first use RandomizedSearchCV to get the initial optimal values of hyper-params to later fine tune."
   ]
  },
  {
   "cell_type": "code",
   "execution_count": 351,
   "metadata": {},
   "outputs": [
    {
     "name": "stdout",
     "output_type": "stream",
     "text": [
      "{'max_depth': [5, 10, 15, 20, 25, 30, 35, 40, 45, 50, 55, 60, 65, 70, 75, 80, 85, 90, 95, 100], 'min_samples_leaf': [100, 200, 300, 400], 'min_samples_split': [100, 200, 300, 400], 'n_estimators': [100, 200, 300, 400, 500], 'max_features': ['auto', 'sqrt']}\n",
      "Fitting 5 folds for each of 100 candidates, totalling 500 fits\n"
     ]
    },
    {
     "name": "stderr",
     "output_type": "stream",
     "text": [
      "[Parallel(n_jobs=-1)]: Using backend LokyBackend with 12 concurrent workers.\n",
      "[Parallel(n_jobs=-1)]: Done  26 tasks      | elapsed:   51.9s\n",
      "[Parallel(n_jobs=-1)]: Done 176 tasks      | elapsed:  5.9min\n",
      "[Parallel(n_jobs=-1)]: Done 426 tasks      | elapsed: 14.0min\n",
      "[Parallel(n_jobs=-1)]: Done 500 out of 500 | elapsed: 16.0min finished\n"
     ]
    }
   ],
   "source": [
    "from sklearn.model_selection import RandomizedSearchCV\n",
    "from sklearn.model_selection import StratifiedKFold\n",
    "\n",
    "param_grid = {\n",
    "    'max_depth': [int(x) for x in np.linspace(5,100,20)],\n",
    "    'min_samples_leaf': [int(x) for x in np.linspace(100,400,4)] ,\n",
    "    'min_samples_split': [int(x) for x in np.linspace(100,400,4)],\n",
    "    'n_estimators': [int(x) for x in np.linspace(100,500,5)], \n",
    "    'max_features': ['auto', 'sqrt']\n",
    "}\n",
    "\n",
    "print(param_grid)\n",
    "\n",
    "rf_rs = RandomForestClassifier(class_weight='balanced')\n",
    "\n",
    "scoring_rf_rs = {'Precision':'precision', 'Recall':'recall', 'AUC':'roc_auc'}\n",
    "refit = 'AUC'\n",
    "\n",
    "folds = StratifiedKFold(n_splits=5, shuffle=True, random_state=100)\n",
    "\n",
    "random_search_rf =  RandomizedSearchCV(estimator=rf_rs, param_distributions=param_grid, scoring=scoring_rf_rs, \n",
    "                                       cv=folds, refit=refit, n_jobs=-1, verbose=1, n_iter=100)\n",
    "\n",
    "random_results_rf = random_search_rf.fit(X_train_transformed, y_train)\n",
    "\n"
   ]
  },
  {
   "cell_type": "code",
   "execution_count": 353,
   "metadata": {},
   "outputs": [
    {
     "name": "stdout",
     "output_type": "stream",
     "text": [
      "mean_test_AUC\n",
      "\n",
      "Best hyperparameters:  {'n_estimators': 500, 'min_samples_split': 100, 'min_samples_leaf': 100, 'max_features': 'auto', 'max_depth': 80}\n",
      "\n",
      "Best Score : 0.89688\n",
      "    mean_test_Precision  mean_test_Recall  mean_test_AUC\n",
      "76             0.390131          0.723424       0.896883\n"
     ]
    }
   ],
   "source": [
    "rf_rand_best_score1 = grid_result_summary(random_results_rf, scoring_rf_rs, refit)"
   ]
  },
  {
   "cell_type": "markdown",
   "metadata": {},
   "source": [
    "##### Based on the best hyperparam values found by RandomizedSearchCV, let us use GridSearchCV to further narrow down the optimal hyper-param values"
   ]
  },
  {
   "cell_type": "code",
   "execution_count": 354,
   "metadata": {},
   "outputs": [
    {
     "name": "stdout",
     "output_type": "stream",
     "text": [
      "Fitting 5 folds for each of 81 candidates, totalling 405 fits\n"
     ]
    },
    {
     "name": "stderr",
     "output_type": "stream",
     "text": [
      "[Parallel(n_jobs=-1)]: Using backend LokyBackend with 12 concurrent workers.\n",
      "[Parallel(n_jobs=-1)]: Done  26 tasks      | elapsed:  2.0min\n",
      "[Parallel(n_jobs=-1)]: Done 176 tasks      | elapsed: 11.2min\n",
      "[Parallel(n_jobs=-1)]: Done 405 out of 405 | elapsed: 25.2min finished\n"
     ]
    }
   ],
   "source": [
    "from sklearn import model_selection\n",
    "from sklearn.model_selection import GridSearchCV\n",
    "from sklearn.model_selection import StratifiedKFold\n",
    "\n",
    "# Create the parameter grid based on the results of random search \n",
    "param_grid = {\n",
    "    'max_depth': [70, 80, 90],\n",
    "    'min_samples_leaf': [80, 100, 120],\n",
    "    'min_samples_split': [80, 100, 120],\n",
    "    'n_estimators': [400, 500, 600] \n",
    "}\n",
    "# Create a base model\n",
    "rf2 = RandomForestClassifier(class_weight=\"balanced\", max_features='auto')\n",
    "\n",
    "# Use Multi scorer\n",
    "scoring_measures = {'Precision': 'precision', 'Recall': 'recall', 'AUC' : 'roc_auc'}\n",
    "refit = 'AUC'\n",
    "\n",
    "folds = StratifiedKFold(n_splits=5, shuffle=True, random_state=10)\n",
    "\n",
    "# Refit and give the best model based on f1 score. \n",
    "grid_search_rf2 = GridSearchCV(estimator=rf2, param_grid=param_grid, cv=folds, \n",
    "                               scoring=scoring_measures, refit=refit, n_jobs=-1, verbose=1)\n",
    "\n",
    "# Instantiate the grid search model\n",
    "#grid_search2 = GridSearchCV(estimator = rf, param_grid = param_grid, \n",
    " #                        cv = 3, refit='F1', return_train_score = True, scoring=scoring, n_jobs = -1,verbose = 1)\n",
    "    \n",
    "grid_results_rf2 = grid_search_rf2.fit(X_train_transformed, y_train)"
   ]
  },
  {
   "cell_type": "code",
   "execution_count": 355,
   "metadata": {},
   "outputs": [
    {
     "name": "stdout",
     "output_type": "stream",
     "text": [
      "mean_test_AUC\n",
      "\n",
      "Best hyperparameters:  {'max_depth': 80, 'min_samples_leaf': 80, 'min_samples_split': 100, 'n_estimators': 500}\n",
      "\n",
      "Best Score : 0.89762\n",
      "    mean_test_Precision  mean_test_Recall  mean_test_AUC\n",
      "31              0.39953          0.712872       0.897617\n"
     ]
    }
   ],
   "source": [
    "rf_grd_best_score1 = grid_result_summary(grid_results_rf2, scoring_measures, refit)"
   ]
  },
  {
   "cell_type": "markdown",
   "metadata": {},
   "source": [
    "##### We see that the optimum min_samples_leaf value is a border value 80 in the range [80, 100, 120] we input to gridsearch. So let us try to narrow down this parameter further using gridsearch"
   ]
  },
  {
   "cell_type": "code",
   "execution_count": 356,
   "metadata": {},
   "outputs": [
    {
     "name": "stdout",
     "output_type": "stream",
     "text": [
      "Fitting 5 folds for each of 5 candidates, totalling 25 fits\n"
     ]
    },
    {
     "name": "stderr",
     "output_type": "stream",
     "text": [
      "[Parallel(n_jobs=-1)]: Using backend LokyBackend with 12 concurrent workers.\n",
      "[Parallel(n_jobs=-1)]: Done  25 out of  25 | elapsed:  2.0min finished\n"
     ]
    }
   ],
   "source": [
    "# Create the parameter grid based on the results of random search \n",
    "param_grid = {\n",
    "    'min_samples_leaf': [60, 70, 80, 90, 100],\n",
    "}\n",
    "# Create a base model\n",
    "rf3 = RandomForestClassifier(class_weight=\"balanced\", max_features='sqrt', \n",
    "                             max_depth = 80, min_samples_split = 100, n_estimators = 500)\n",
    "\n",
    "# Use Multi scorer\n",
    "scoring_measures = {'Precision': 'precision', 'Recall': 'recall', 'AUC' : 'roc_auc'}\n",
    "refit = 'AUC'\n",
    "\n",
    "folds = StratifiedKFold(n_splits=5, shuffle=True, random_state=10)\n",
    "\n",
    "# Refit and give the best model based on f1 score. \n",
    "grid_search_rf3 = GridSearchCV(estimator=rf3, param_grid=param_grid, cv=folds, \n",
    "                               scoring=scoring_measures, refit=refit, n_jobs=-1, verbose=1)\n",
    "\n",
    "# Instantiate the grid search model\n",
    "grid_results_rf3 = grid_search_rf3.fit(X_train_transformed, y_train)"
   ]
  },
  {
   "cell_type": "code",
   "execution_count": 357,
   "metadata": {},
   "outputs": [
    {
     "name": "stdout",
     "output_type": "stream",
     "text": [
      "mean_test_AUC\n",
      "\n",
      "Best hyperparameters:  {'min_samples_leaf': 60}\n",
      "\n",
      "Best Score : 0.89793\n",
      "   mean_test_Precision  mean_test_Recall  mean_test_AUC\n",
      "0              0.40952           0.69996       0.897934\n"
     ]
    }
   ],
   "source": [
    "rf_grd_best_score2 = grid_result_summary(grid_results_rf3, scoring_measures, refit)"
   ]
  },
  {
   "cell_type": "markdown",
   "metadata": {},
   "source": [
    "##### We are not able to significantly improve the AUC score, instead Recall has degraded. So, let's not narrow down further."
   ]
  },
  {
   "cell_type": "code",
   "execution_count": 358,
   "metadata": {},
   "outputs": [],
   "source": [
    "# Get the best fit model\n",
    "rf2 = grid_results_rf3.best_estimator_"
   ]
  },
  {
   "cell_type": "code",
   "execution_count": 359,
   "metadata": {},
   "outputs": [],
   "source": [
    "# Predict on train set\n",
    "y_train_pred_rf2, y_train_pred_prob_rf2  = predict_and_proba(rf2, X_train_transformed)"
   ]
  },
  {
   "cell_type": "code",
   "execution_count": 360,
   "metadata": {},
   "outputs": [
    {
     "name": "stdout",
     "output_type": "stream",
     "text": [
      "\n",
      "\n",
      "Confusion Matrix :\n",
      "\n",
      " [[17610  1654]\n",
      " [  299  1404]]\n",
      "\n",
      "TN : 17610\n",
      "\n",
      "FP : 1654\n",
      "\n",
      "FN : 299\n",
      "\n",
      "TP : 1404\n",
      "\n",
      "ACCURACY :  0.9068536271283445\n",
      "\n",
      "SENSITIVITY :  0.8244274809160306\n",
      "\n",
      "PRECISION :  0.4591236102027469\n",
      "\n",
      "FALSE POSITIVITY RATE :  0.08585963455149502\n",
      "\n",
      "SPECIFICITY :  0.914140365448505\n",
      "\n",
      "\n",
      " Classification Report :\n",
      "\n",
      "               precision    recall  f1-score   support\n",
      "\n",
      "           0       0.98      0.91      0.95     19264\n",
      "           1       0.46      0.82      0.59      1703\n",
      "\n",
      "    accuracy                           0.91     20967\n",
      "   macro avg       0.72      0.87      0.77     20967\n",
      "weighted avg       0.94      0.91      0.92     20967\n",
      "\n"
     ]
    }
   ],
   "source": [
    "# Train set results\n",
    "print_binary_classification_summary(y_train, y_train_pred_rf2)"
   ]
  },
  {
   "cell_type": "markdown",
   "metadata": {},
   "source": [
    "##### We see accuracy of 0.91 and sensitivity of 0.82 on train data"
   ]
  },
  {
   "cell_type": "code",
   "execution_count": 361,
   "metadata": {},
   "outputs": [
    {
     "data": {
      "image/png": "[encoded data removed]",
      "text/plain": [
       "<Figure size 360x360 with 1 Axes>"
      ]
     },
     "metadata": {
      "needs_background": "light"
     },
     "output_type": "display_data"
    },
    {
     "name": "stdout",
     "output_type": "stream",
     "text": [
      "\n",
      "AUC SCORE = 0.956\n"
     ]
    },
    {
     "data": {
      "text/plain": [
       "0.9563934589731234"
      ]
     },
     "execution_count": 361,
     "metadata": {},
     "output_type": "execute_result"
    }
   ],
   "source": [
    "draw_roc(y_train, y_train_pred_prob_rf2[:,1])"
   ]
  },
  {
   "cell_type": "code",
   "execution_count": 363,
   "metadata": {},
   "outputs": [
    {
     "name": "stdout",
     "output_type": "stream",
     "text": [
      "{'Hyper_tuned_LR_lr4': '0.897', 'hyper_tuned_RF_rf2': '0.898'}\n"
     ]
    }
   ],
   "source": [
    "## Store the cross-validation mean test AUC in auc dictionary to compare later\n",
    "auc_dict['hyper_tuned_RF_rf2'] = \"{:.3f}\".format(rf_grd_best_score2)\n",
    "print(auc_dict)"
   ]
  },
  {
   "cell_type": "markdown",
   "metadata": {},
   "source": [
    "### 6.3 SVM "
   ]
  },
  {
   "cell_type": "code",
   "execution_count": 364,
   "metadata": {},
   "outputs": [],
   "source": [
    "from sklearn.svm import SVC"
   ]
  },
  {
   "cell_type": "markdown",
   "metadata": {},
   "source": [
    "##### SVM does not emit probabilities natively. So we need to use probability =True if we want  to draw ROC curve and for AUC.\n",
    "https://scikit-learn.org/dev/modules/svm.html#scores-and-probabilities\n",
    "When the constructor option probability is set to True, class membership probability estimates (from the methods predict_proba and predict_log_proba) are enabled. In the binary case, the probabilities are calibrated using Platt scaling 9: logistic regression on the SVM’s scores, fit by an additional cross-validation on the training data."
   ]
  },
  {
   "cell_type": "code",
   "execution_count": 447,
   "metadata": {},
   "outputs": [
    {
     "data": {
      "text/plain": [
       "SVC(class_weight='balanced', probability=True)"
      ]
     },
     "execution_count": 447,
     "metadata": {},
     "output_type": "execute_result"
    }
   ],
   "source": [
    "svm_model = SVC(kernel='rbf', probability=True, class_weight='balanced')\n",
    "\n",
    "svm_model.fit(X_train_transformed, y_train)"
   ]
  },
  {
   "cell_type": "code",
   "execution_count": 367,
   "metadata": {},
   "outputs": [],
   "source": [
    "y_train_pred_svm, y_train_pred_prob_svm  = predict_and_proba(svm_model, X_train_transformed)"
   ]
  },
  {
   "cell_type": "code",
   "execution_count": 368,
   "metadata": {},
   "outputs": [
    {
     "name": "stdout",
     "output_type": "stream",
     "text": [
      "\n",
      "\n",
      "Confusion Matrix :\n",
      "\n",
      " [[17423  1841]\n",
      " [  131  1572]]\n",
      "\n",
      "TN : 17423\n",
      "\n",
      "FP : 1841\n",
      "\n",
      "FN : 131\n",
      "\n",
      "TP : 1572\n",
      "\n",
      "ACCURACY :  0.9059474412171508\n",
      "\n",
      "SENSITIVITY :  0.9230769230769231\n",
      "\n",
      "PRECISION :  0.46059185467330793\n",
      "\n",
      "FALSE POSITIVITY RATE :  0.09556686046511628\n",
      "\n",
      "SPECIFICITY :  0.9044331395348837\n",
      "\n",
      "\n",
      " Classification Report :\n",
      "\n",
      "               precision    recall  f1-score   support\n",
      "\n",
      "           0       0.99      0.90      0.95     19264\n",
      "           1       0.46      0.92      0.61      1703\n",
      "\n",
      "    accuracy                           0.91     20967\n",
      "   macro avg       0.73      0.91      0.78     20967\n",
      "weighted avg       0.95      0.91      0.92     20967\n",
      "\n"
     ]
    }
   ],
   "source": [
    "# Train data results\n",
    "print_binary_classification_summary(y_train, y_train_pred_svm)"
   ]
  },
  {
   "cell_type": "markdown",
   "metadata": {},
   "source": [
    "##### Plain SVM model has given high accuracy and sensitivity >0.90 as seen above."
   ]
  },
  {
   "cell_type": "code",
   "execution_count": 370,
   "metadata": {},
   "outputs": [
    {
     "data": {
      "image/png": "[encoded data removed]",
      "text/plain": [
       "<Figure size 360x360 with 1 Axes>"
      ]
     },
     "metadata": {
      "needs_background": "light"
     },
     "output_type": "display_data"
    },
    {
     "name": "stdout",
     "output_type": "stream",
     "text": [
      "\n",
      "AUC SCORE = 0.962\n"
     ]
    },
    {
     "data": {
      "text/plain": [
       "0.9619953514220557"
      ]
     },
     "execution_count": 370,
     "metadata": {},
     "output_type": "execute_result"
    }
   ],
   "source": [
    "draw_roc(y_train, y_train_pred_prob_svm[:,1])"
   ]
  },
  {
   "cell_type": "code",
   "execution_count": 373,
   "metadata": {},
   "outputs": [
    {
     "name": "stdout",
     "output_type": "stream",
     "text": [
      "{'C': 1.0, 'break_ties': False, 'cache_size': 200, 'class_weight': 'balanced', 'coef0': 0.0, 'decision_function_shape': 'ovr', 'degree': 3, 'gamma': 'scale', 'kernel': 'rbf', 'max_iter': -1, 'probability': True, 'random_state': None, 'shrinking': True, 'tol': 0.001, 'verbose': False}\n"
     ]
    }
   ],
   "source": [
    "print(svm_model.get_params(deep=True))"
   ]
  },
  {
   "cell_type": "code",
   "execution_count": null,
   "metadata": {},
   "outputs": [],
   "source": []
  },
  {
   "cell_type": "markdown",
   "metadata": {},
   "source": [
    "#### SVM Hyper-Parameter tuning"
   ]
  },
  {
   "cell_type": "code",
   "execution_count": 374,
   "metadata": {},
   "outputs": [
    {
     "name": "stdout",
     "output_type": "stream",
     "text": [
      "Fitting 5 folds for each of 20 candidates, totalling 100 fits\n"
     ]
    },
    {
     "name": "stderr",
     "output_type": "stream",
     "text": [
      "[Parallel(n_jobs=-1)]: Using backend LokyBackend with 12 concurrent workers.\n",
      "[Parallel(n_jobs=-1)]: Done  26 tasks      | elapsed:  8.9min\n",
      "[Parallel(n_jobs=-1)]: Done 100 out of 100 | elapsed: 28.5min finished\n"
     ]
    }
   ],
   "source": [
    "\n",
    "folds = StratifiedKFold(n_splits = 5, shuffle = True, random_state=100)\n",
    "\n",
    "hyper_params = [{'gamma': [1e-2, 1e-3, 1e-4, 'scale', 'auto'],\n",
    "                 'C': [1, 10, 100, 1000]}]\n",
    "\n",
    "svm_model = SVC(kernel='rbf', class_weight='balanced', probability=True)\n",
    "\n",
    "# Use Multi scorer\n",
    "scoring_measures = {'Precision': 'precision', 'Recall': 'recall', 'AUC' : 'roc_auc'}\n",
    "refit = 'AUC'\n",
    "\n",
    "folds = StratifiedKFold(n_splits=5, shuffle=True, random_state=10)\n",
    "\n",
    "# Refit and give the best model based on f1 score. \n",
    "grid_search_svm = GridSearchCV(estimator=svm_model, \n",
    "                               param_grid=hyper_params, \n",
    "                               scoring=scoring_measures,\n",
    "                               cv=folds, refit=refit, \n",
    "                               n_jobs=-1, verbose=1)\n",
    "\n",
    "  \n",
    "grid_results_svm = grid_search_svm.fit(X_train_transformed, y_train)\n"
   ]
  },
  {
   "cell_type": "code",
   "execution_count": 375,
   "metadata": {},
   "outputs": [
    {
     "name": "stdout",
     "output_type": "stream",
     "text": [
      "mean_test_AUC\n",
      "\n",
      "Best hyperparameters:  {'C': 1, 'gamma': 0.001}\n",
      "\n",
      "Best Score : 0.90283\n",
      "   mean_test_Precision  mean_test_Recall  mean_test_AUC\n",
      "1             0.344207          0.794485        0.90283\n"
     ]
    }
   ],
   "source": [
    "svm_grd_best_score = grid_result_summary(grid_results_svm, scoring_measures, refit)"
   ]
  },
  {
   "cell_type": "markdown",
   "metadata": {},
   "source": [
    "##### Let us narrow down 'C' further as the optimum value lies in the border of the range we input to grid search"
   ]
  },
  {
   "cell_type": "code",
   "execution_count": 376,
   "metadata": {},
   "outputs": [
    {
     "name": "stdout",
     "output_type": "stream",
     "text": [
      "Fitting 5 folds for each of 3 candidates, totalling 15 fits\n"
     ]
    },
    {
     "name": "stderr",
     "output_type": "stream",
     "text": [
      "[Parallel(n_jobs=-1)]: Using backend LokyBackend with 12 concurrent workers.\n",
      "[Parallel(n_jobs=-1)]: Done   8 out of  15 | elapsed:  3.5min remaining:  3.1min\n",
      "[Parallel(n_jobs=-1)]: Done  15 out of  15 | elapsed:  4.9min finished\n"
     ]
    }
   ],
   "source": [
    "folds = StratifiedKFold(n_splits = 5, shuffle = True, random_state=100)\n",
    "\n",
    "hyper_params = [{'C': [0.5, 0.80, 1]}]\n",
    "\n",
    "svm_model = SVC(kernel='rbf', class_weight='balanced', gamma=0.001, probability=True)\n",
    "\n",
    "# Use Multi scorer\n",
    "scoring_measures = {'Precision': 'precision', 'Recall': 'recall', 'AUC' : 'roc_auc'}\n",
    "refit = 'AUC'\n",
    "\n",
    "folds = StratifiedKFold(n_splits=5, shuffle=True, random_state=10)\n",
    "\n",
    "# Refit and give the best model based on f1 score. \n",
    "grid_search_svm2 = GridSearchCV(estimator=svm_model, \n",
    "                               param_grid=hyper_params, \n",
    "                               scoring=scoring_measures,\n",
    "                               cv=folds, refit=refit, \n",
    "                               n_jobs=-1, verbose=1)\n",
    "\n",
    "  \n",
    "grid_results_svm2 = grid_search_svm2.fit(X_train_transformed, y_train)"
   ]
  },
  {
   "cell_type": "code",
   "execution_count": 377,
   "metadata": {},
   "outputs": [
    {
     "name": "stdout",
     "output_type": "stream",
     "text": [
      "mean_test_AUC\n",
      "\n",
      "Best hyperparameters:  {'C': 1}\n",
      "\n",
      "Best Score : 0.90283\n",
      "   mean_test_Precision  mean_test_Recall  mean_test_AUC\n",
      "2             0.344207          0.794485        0.90283\n"
     ]
    }
   ],
   "source": [
    "svm_grd_best_score2 = grid_result_summary(grid_results_svm2, scoring_measures, refit)"
   ]
  },
  {
   "cell_type": "code",
   "execution_count": 378,
   "metadata": {},
   "outputs": [],
   "source": [
    "# Get the best fit model from randomsearch results\n",
    "svm2 = grid_results_svm2.best_estimator_"
   ]
  },
  {
   "cell_type": "code",
   "execution_count": 379,
   "metadata": {},
   "outputs": [],
   "source": [
    "y_train_pred_svm2, y_train_pred_prob_svm2  = predict_and_proba(svm2, X_train_transformed)"
   ]
  },
  {
   "cell_type": "code",
   "execution_count": 380,
   "metadata": {},
   "outputs": [
    {
     "name": "stdout",
     "output_type": "stream",
     "text": [
      "\n",
      "\n",
      "Confusion Matrix :\n",
      "\n",
      " [[16724  2540]\n",
      " [  291  1412]]\n",
      "\n",
      "TN : 16724\n",
      "\n",
      "FP : 2540\n",
      "\n",
      "FN : 291\n",
      "\n",
      "TP : 1412\n",
      "\n",
      "ACCURACY :  0.8649782992321267\n",
      "\n",
      "SENSITIVITY :  0.8291250733998825\n",
      "\n",
      "PRECISION :  0.35728744939271256\n",
      "\n",
      "FALSE POSITIVITY RATE :  0.13185215946843853\n",
      "\n",
      "SPECIFICITY :  0.8681478405315615\n",
      "\n",
      "\n",
      " Classification Report :\n",
      "\n",
      "               precision    recall  f1-score   support\n",
      "\n",
      "           0       0.98      0.87      0.92     19264\n",
      "           1       0.36      0.83      0.50      1703\n",
      "\n",
      "    accuracy                           0.86     20967\n",
      "   macro avg       0.67      0.85      0.71     20967\n",
      "weighted avg       0.93      0.86      0.89     20967\n",
      "\n"
     ]
    }
   ],
   "source": [
    "print_binary_classification_summary(y_train, y_train_pred_svm2)"
   ]
  },
  {
   "cell_type": "markdown",
   "metadata": {},
   "source": [
    "##### We get good accuracy of 86% and sensitivity of 83% on train data."
   ]
  },
  {
   "cell_type": "code",
   "execution_count": 381,
   "metadata": {},
   "outputs": [
    {
     "data": {
      "image/png": "[encoded data removed]",
      "text/plain": [
       "<Figure size 360x360 with 1 Axes>"
      ]
     },
     "metadata": {
      "needs_background": "light"
     },
     "output_type": "display_data"
    },
    {
     "name": "stdout",
     "output_type": "stream",
     "text": [
      "\n",
      "AUC SCORE = 0.918\n"
     ]
    },
    {
     "data": {
      "text/plain": [
       "0.918436422777471"
      ]
     },
     "execution_count": 381,
     "metadata": {},
     "output_type": "execute_result"
    }
   ],
   "source": [
    "draw_roc(y_train, y_train_pred_prob_svm2[:,1])"
   ]
  },
  {
   "cell_type": "code",
   "execution_count": 382,
   "metadata": {},
   "outputs": [
    {
     "name": "stdout",
     "output_type": "stream",
     "text": [
      "{'Hyper_tuned_LR_lr4': '0.897', 'hyper_tuned_RF_rf2': '0.898', 'hyper_tuned_svm2': '0.903'}\n"
     ]
    }
   ],
   "source": [
    "#### Store the best AUC score from grid search to AUC dictionary to compare models later\n",
    "auc_dict['hyper_tuned_svm2'] = \"{:.3f}\".format(svm_grd_best_score2)\n",
    "print(auc_dict)"
   ]
  },
  {
   "cell_type": "markdown",
   "metadata": {},
   "source": [
    "### 6.4 XGBoost"
   ]
  },
  {
   "cell_type": "code",
   "execution_count": 385,
   "metadata": {},
   "outputs": [],
   "source": [
    "from xgboost import XGBClassifier"
   ]
  },
  {
   "cell_type": "code",
   "execution_count": 386,
   "metadata": {},
   "outputs": [
    {
     "data": {
      "text/plain": [
       "11.311802701115678"
      ]
     },
     "execution_count": 386,
     "metadata": {},
     "output_type": "execute_result"
    }
   ],
   "source": [
    "#scale_pos_weight = total_negative_examples / total_positive_examples\n",
    "y_train.value_counts()[0] / y_train.value_counts()[1]"
   ]
  },
  {
   "cell_type": "code",
   "execution_count": 387,
   "metadata": {},
   "outputs": [
    {
     "data": {
      "text/plain": [
       "XGBClassifier(base_score=0.5, booster='gbtree', colsample_bylevel=1,\n",
       "              colsample_bynode=1, colsample_bytree=1, eval_metric='logloss',\n",
       "              gamma=0, gpu_id=-1, importance_type='gain',\n",
       "              interaction_constraints='', learning_rate=0.300000012,\n",
       "              max_delta_step=0, max_depth=6, min_child_weight=1, missing=nan,\n",
       "              monotone_constraints='()', n_estimators=100, n_jobs=12,\n",
       "              num_parallel_tree=1, random_state=0, reg_alpha=0, reg_lambda=1,\n",
       "              scale_pos_weight=11, subsample=1, tree_method='exact',\n",
       "              validate_parameters=1, verbosity=None)"
      ]
     },
     "execution_count": 387,
     "metadata": {},
     "output_type": "execute_result"
    }
   ],
   "source": [
    "xgbm = XGBClassifier(scale_pos_weight=11, eval_metric='logloss')\n",
    "\n",
    "xgbm.fit(X_train_transformed, y_train)"
   ]
  },
  {
   "cell_type": "code",
   "execution_count": 388,
   "metadata": {},
   "outputs": [],
   "source": [
    "y_train_pred_xgb1, y_train_pred_prob_xgb1  = predict_and_proba(xgbm, X_train_transformed)"
   ]
  },
  {
   "cell_type": "code",
   "execution_count": 389,
   "metadata": {},
   "outputs": [
    {
     "name": "stdout",
     "output_type": "stream",
     "text": [
      "\n",
      "\n",
      "Confusion Matrix :\n",
      "\n",
      " [[19128   136]\n",
      " [    0  1703]]\n",
      "\n",
      "TN : 19128\n",
      "\n",
      "FP : 136\n",
      "\n",
      "FN : 0\n",
      "\n",
      "TP : 1703\n",
      "\n",
      "ACCURACY :  0.9935136166356656\n",
      "\n",
      "SENSITIVITY :  1.0\n",
      "\n",
      "PRECISION :  0.9260467645459489\n",
      "\n",
      "FALSE POSITIVITY RATE :  0.0070598006644518275\n",
      "\n",
      "SPECIFICITY :  0.9929401993355482\n",
      "\n",
      "\n",
      " Classification Report :\n",
      "\n",
      "               precision    recall  f1-score   support\n",
      "\n",
      "           0       1.00      0.99      1.00     19264\n",
      "           1       0.93      1.00      0.96      1703\n",
      "\n",
      "    accuracy                           0.99     20967\n",
      "   macro avg       0.96      1.00      0.98     20967\n",
      "weighted avg       0.99      0.99      0.99     20967\n",
      "\n"
     ]
    }
   ],
   "source": [
    "print_binary_classification_summary(y_train, y_train_pred_xgb1)"
   ]
  },
  {
   "cell_type": "code",
   "execution_count": 391,
   "metadata": {},
   "outputs": [
    {
     "data": {
      "image/png": "[encoded data removed]",
      "text/plain": [
       "<Figure size 360x360 with 1 Axes>"
      ]
     },
     "metadata": {
      "needs_background": "light"
     },
     "output_type": "display_data"
    },
    {
     "name": "stdout",
     "output_type": "stream",
     "text": [
      "\n",
      "AUC SCORE = 1.000\n"
     ]
    },
    {
     "data": {
      "text/plain": [
       "0.9999854297575316"
      ]
     },
     "execution_count": 391,
     "metadata": {},
     "output_type": "execute_result"
    }
   ],
   "source": [
    "draw_roc(y_train, y_train_pred_prob_xgb1[:,1])"
   ]
  },
  {
   "cell_type": "markdown",
   "metadata": {},
   "source": [
    "##### Simple XGBoost looks a over-fit. "
   ]
  },
  {
   "cell_type": "code",
   "execution_count": null,
   "metadata": {},
   "outputs": [],
   "source": []
  },
  {
   "cell_type": "markdown",
   "metadata": {},
   "source": [
    "#### XGBoost hyper-parameter tuning"
   ]
  },
  {
   "cell_type": "code",
   "execution_count": 392,
   "metadata": {},
   "outputs": [
    {
     "name": "stdout",
     "output_type": "stream",
     "text": [
      "{'max_depth': [2, 3, 5, 7, 9, 11], 'learning_rate': [0.025, 0.05, 0.075, 0.1, 0.25, 0.5, 0.75, 0.1, 0.2, 0.3, 0.4], 'n_estimators': [100, 200, 300, 400, 500, 600, 700, 800, 900, 1000], 'subsample': [0.1, 0.2, 0.30000000000000004, 0.4, 0.5, 0.6, 0.7000000000000001, 0.8, 0.9, 1.0]}\n",
      "Fitting 5 folds for each of 100 candidates, totalling 500 fits\n"
     ]
    },
    {
     "name": "stderr",
     "output_type": "stream",
     "text": [
      "[Parallel(n_jobs=-1)]: Using backend LokyBackend with 12 concurrent workers.\n",
      "[Parallel(n_jobs=-1)]: Done  26 tasks      | elapsed:  3.9min\n",
      "[Parallel(n_jobs=-1)]: Done 176 tasks      | elapsed: 20.9min\n",
      "[Parallel(n_jobs=-1)]: Done 426 tasks      | elapsed: 42.2min\n",
      "[Parallel(n_jobs=-1)]: Done 500 out of 500 | elapsed: 47.7min finished\n"
     ]
    }
   ],
   "source": [
    "from sklearn.model_selection import RandomizedSearchCV\n",
    "from sklearn.model_selection import StratifiedKFold\n",
    "\n",
    "# creating a KFold object \n",
    "folds = StratifiedKFold(n_splits = 5, shuffle = True, random_state=100)\n",
    "\n",
    "\n",
    "# specify range of hyperparameters\n",
    "param_grid = {\n",
    "             'max_depth': [2,3,5,7,9,11],\n",
    "             'learning_rate': [0.025, 0.05, 0.075, 0.10, 0.25, 0.5, 0.75, 0.1, 0.2, 0.3, 0.4],\n",
    "             'n_estimators':  [int(x) for x in np.linspace(100,1000,10)],\n",
    "             'subsample': [float(x) for x in np.linspace(0.1, 1, 10)]\n",
    "             }          \n",
    "\n",
    "print(param_grid)\n",
    "\n",
    "# Use Multi scorer\n",
    "scoring_measures = {'Precision': 'precision', 'Recall': 'recall', 'AUC' : 'roc_auc'}\n",
    "refit = 'AUC'\n",
    "\n",
    "# specify model\n",
    "\n",
    "\n",
    "xgb_model = XGBClassifier(random_state=123, tree_method='gpu_hist', scale_pos_weight=11, eval_metric='logloss')\n",
    "\n",
    "\n",
    "random_search_xgb = RandomizedSearchCV(estimator=xgb_model, param_distributions=param_grid, scoring=scoring_measures, \n",
    "                                       cv=folds, refit=refit, n_jobs=-1, verbose=1, n_iter=100)\n",
    "\n",
    "# fit the model\n",
    "\n",
    "random_results_xgb = random_search_xgb.fit(X_train_transformed, y_train)\n"
   ]
  },
  {
   "cell_type": "code",
   "execution_count": 393,
   "metadata": {},
   "outputs": [
    {
     "name": "stdout",
     "output_type": "stream",
     "text": [
      "mean_test_AUC\n",
      "\n",
      "Best hyperparameters:  {'subsample': 0.9, 'n_estimators': 600, 'max_depth': 9, 'learning_rate': 0.025}\n",
      "\n",
      "Best Score : 0.90002\n",
      "    mean_test_Precision  mean_test_Recall  mean_test_AUC\n",
      "33             0.649179          0.467437       0.900024\n"
     ]
    }
   ],
   "source": [
    "xgb_rand_best_score = grid_result_summary(random_results_xgb, scoring_measures, refit)"
   ]
  },
  {
   "cell_type": "markdown",
   "metadata": {},
   "source": [
    "##### Let us tune hyper-params further using GridSearchCV based on the results of RandomizedSearchCV"
   ]
  },
  {
   "cell_type": "code",
   "execution_count": 395,
   "metadata": {},
   "outputs": [
    {
     "name": "stdout",
     "output_type": "stream",
     "text": [
      "Fitting 5 folds for each of 81 candidates, totalling 405 fits\n"
     ]
    },
    {
     "name": "stderr",
     "output_type": "stream",
     "text": [
      "[Parallel(n_jobs=-1)]: Using backend LokyBackend with 12 concurrent workers.\n",
      "[Parallel(n_jobs=-1)]: Done  26 tasks      | elapsed: 10.0min\n",
      "[Parallel(n_jobs=-1)]: Done 176 tasks      | elapsed: 79.2min\n",
      "[Parallel(n_jobs=-1)]: Done 405 out of 405 | elapsed: 158.6min finished\n"
     ]
    }
   ],
   "source": [
    "# creating a KFold object \n",
    "folds = StratifiedKFold(n_splits = 5, shuffle = True, random_state=100)\n",
    "\n",
    "\n",
    "# specify range of hyperparameters\n",
    "\n",
    "### Due to computational constraints, we omit gamma and n_estimators from gridsearch.\n",
    "param_grid = {\n",
    "             'max_depth': [7, 9, 11],\n",
    "             'learning_rate': [0.01, 0.025, 0.05],\n",
    "             'subsample': [0.7, 0.8, 0.9],\n",
    "             'min_child_weight': [0.10, 0.20, 0.30]\n",
    "             #'gamma': np.arange(0.0,40.0,0.005),\n",
    "             }      \n",
    "\n",
    "#print(param_grid)\n",
    "\n",
    "# Use Multi scorer\n",
    "scoring_measures = {'Precision': 'precision', 'Recall': 'recall', 'AUC' : 'roc_auc'}\n",
    "refit = 'AUC'\n",
    "\n",
    "# specify model\n",
    "\n",
    "# If you want GPU\n",
    "xgb_model = XGBClassifier(random_state=123, \n",
    "                          scale_pos_weight=11, \n",
    "                          tree_method='gpu_hist', \n",
    "                          eval_metric='logloss', \n",
    "                          n_estimators=600) \n",
    "\n",
    "\n",
    "# set up GridSearchCV()\n",
    "grid_search_xgb = GridSearchCV(estimator = xgb_model, \n",
    "                       param_grid = param_grid, \n",
    "                       scoring = scoring_measures, \n",
    "                       refit=refit,\n",
    "                       cv = folds, \n",
    "                       verbose = 1,\n",
    "                       n_jobs=-1)    \n",
    "\n",
    "# fit the model\n",
    "grid_results_xgb = grid_search_xgb.fit(X_train_transformed, y_train) \n",
    "\n",
    "\n"
   ]
  },
  {
   "cell_type": "code",
   "execution_count": 396,
   "metadata": {},
   "outputs": [
    {
     "name": "stdout",
     "output_type": "stream",
     "text": [
      "mean_test_AUC\n",
      "\n",
      "Best hyperparameters:  {'learning_rate': 0.025, 'max_depth': 9, 'min_child_weight': 0.1, 'subsample': 0.8}\n",
      "\n",
      "Best Score : 0.90169\n",
      "    mean_test_Precision  mean_test_Recall  mean_test_AUC\n",
      "37             0.662317          0.436308       0.901691\n"
     ]
    }
   ],
   "source": [
    "xgb_grd_best_score = grid_result_summary(grid_results_xgb, scoring_measures, refit)"
   ]
  },
  {
   "cell_type": "code",
   "execution_count": 397,
   "metadata": {},
   "outputs": [],
   "source": [
    "# Get the best fit model from randomsearch results\n",
    "xgb2 = grid_results_xgb.best_estimator_"
   ]
  },
  {
   "cell_type": "code",
   "execution_count": 398,
   "metadata": {},
   "outputs": [],
   "source": [
    "y_train_pred_xgb2, y_train_pred_prob_xgb2  = predict_and_proba(xgb2, X_train_transformed)"
   ]
  },
  {
   "cell_type": "code",
   "execution_count": 399,
   "metadata": {},
   "outputs": [
    {
     "name": "stdout",
     "output_type": "stream",
     "text": [
      "\n",
      "\n",
      "Confusion Matrix :\n",
      "\n",
      " [[19264     0]\n",
      " [    0  1703]]\n",
      "\n",
      "TN : 19264\n",
      "\n",
      "FP : 0\n",
      "\n",
      "FN : 0\n",
      "\n",
      "TP : 1703\n",
      "\n",
      "ACCURACY :  1.0\n",
      "\n",
      "SENSITIVITY :  1.0\n",
      "\n",
      "PRECISION :  1.0\n",
      "\n",
      "FALSE POSITIVITY RATE :  0.0\n",
      "\n",
      "SPECIFICITY :  1.0\n",
      "\n",
      "\n",
      " Classification Report :\n",
      "\n",
      "               precision    recall  f1-score   support\n",
      "\n",
      "           0       1.00      1.00      1.00     19264\n",
      "           1       1.00      1.00      1.00      1703\n",
      "\n",
      "    accuracy                           1.00     20967\n",
      "   macro avg       1.00      1.00      1.00     20967\n",
      "weighted avg       1.00      1.00      1.00     20967\n",
      "\n"
     ]
    }
   ],
   "source": [
    "print_binary_classification_summary(y_train, y_train_pred_xgb2)"
   ]
  },
  {
   "cell_type": "code",
   "execution_count": 400,
   "metadata": {},
   "outputs": [
    {
     "data": {
      "image/png": "[encoded data removed]",
      "text/plain": [
       "<Figure size 360x360 with 1 Axes>"
      ]
     },
     "metadata": {
      "needs_background": "light"
     },
     "output_type": "display_data"
    },
    {
     "name": "stdout",
     "output_type": "stream",
     "text": [
      "\n",
      "AUC SCORE = 1.000\n"
     ]
    },
    {
     "data": {
      "text/plain": [
       "1.0"
      ]
     },
     "execution_count": 400,
     "metadata": {},
     "output_type": "execute_result"
    }
   ],
   "source": [
    "draw_roc(y_train, y_train_pred_prob_xgb2[:,1])"
   ]
  },
  {
   "cell_type": "markdown",
   "metadata": {},
   "source": [
    "##### XGBoost seems to have overfit the training data even after some hyper-param tuning."
   ]
  },
  {
   "cell_type": "code",
   "execution_count": 401,
   "metadata": {},
   "outputs": [
    {
     "name": "stdout",
     "output_type": "stream",
     "text": [
      "{'Hyper_tuned_LR_lr4': '0.897', 'hyper_tuned_RF_rf2': '0.898', 'hyper_tuned_svm2': '0.903', 'hyper_tuned_xgb2': '0.902'}\n"
     ]
    }
   ],
   "source": [
    "#### Store the best AUC score from grid search to AUC dictionary to compare models.\n",
    "auc_dict['hyper_tuned_xgb2'] = \"{:.3f}\".format(xgb_grd_best_score)"
   ]
  },
  {
   "cell_type": "code",
   "execution_count": 418,
   "metadata": {},
   "outputs": [
    {
     "name": "stdout",
     "output_type": "stream",
     "text": [
      "{'Hyper_tuned_LR_lr4': '0.897', 'hyper_tuned_RF_rf2': '0.898', 'hyper_tuned_svm2': '0.903', 'hyper_tuned_xgb2': '0.902'}\n"
     ]
    }
   ],
   "source": [
    "print(auc_dict)"
   ]
  },
  {
   "cell_type": "code",
   "execution_count": 533,
   "metadata": {},
   "outputs": [
    {
     "data": {
      "text/plain": [
       "['lr_model.pkl']"
      ]
     },
     "execution_count": 533,
     "metadata": {},
     "output_type": "execute_result"
    },
    {
     "data": {
      "text/plain": [
       "['rf_model.pkl']"
      ]
     },
     "execution_count": 533,
     "metadata": {},
     "output_type": "execute_result"
    },
    {
     "data": {
      "text/plain": [
       "['svm_model.pkl']"
      ]
     },
     "execution_count": 533,
     "metadata": {},
     "output_type": "execute_result"
    },
    {
     "data": {
      "text/plain": [
       "['xgb_model.pkl']"
      ]
     },
     "execution_count": 533,
     "metadata": {},
     "output_type": "execute_result"
    }
   ],
   "source": [
    "joblib.dump(lr4, \"lr_model.pkl\")\n",
    "joblib.dump(rf2, \"rf_model.pkl\")\n",
    "joblib.dump(svm2, \"svm_model.pkl\")\n",
    "joblib.dump(xgb2, \"xgb_model.pkl\")\n"
   ]
  },
  {
   "cell_type": "markdown",
   "metadata": {},
   "source": [
    "### 7. Model selection and Prediction On Test Data\n",
    "###### Let us select the model which had the highest ROC_AUC in cross-validation - SVM model with tuned hyper-parameters."
   ]
  },
  {
   "cell_type": "code",
   "execution_count": 468,
   "metadata": {},
   "outputs": [],
   "source": [
    "final_model = svm2"
   ]
  },
  {
   "cell_type": "code",
   "execution_count": 469,
   "metadata": {},
   "outputs": [],
   "source": [
    "## Predict on train data\n",
    "y_train_pred_final, y_train_pred_prob_final  = predict_and_proba(final_model, X_train_transformed)"
   ]
  },
  {
   "cell_type": "code",
   "execution_count": 470,
   "metadata": {
    "scrolled": true
   },
   "outputs": [
    {
     "name": "stdout",
     "output_type": "stream",
     "text": [
      "\n",
      "\n",
      "Confusion Matrix :\n",
      "\n",
      " [[16724  2540]\n",
      " [  291  1412]]\n",
      "\n",
      "TN : 16724\n",
      "\n",
      "FP : 2540\n",
      "\n",
      "FN : 291\n",
      "\n",
      "TP : 1412\n",
      "\n",
      "ACCURACY :  0.8649782992321267\n",
      "\n",
      "SENSITIVITY :  0.8291250733998825\n",
      "\n",
      "PRECISION :  0.35728744939271256\n",
      "\n",
      "FALSE POSITIVITY RATE :  0.13185215946843853\n",
      "\n",
      "SPECIFICITY :  0.8681478405315615\n",
      "\n",
      "\n",
      " Classification Report :\n",
      "\n",
      "               precision    recall  f1-score   support\n",
      "\n",
      "           0       0.98      0.87      0.92     19264\n",
      "           1       0.36      0.83      0.50      1703\n",
      "\n",
      "    accuracy                           0.86     20967\n",
      "   macro avg       0.67      0.85      0.71     20967\n",
      "weighted avg       0.93      0.86      0.89     20967\n",
      "\n"
     ]
    }
   ],
   "source": [
    "print_binary_classification_summary(y_train, y_train_pred_final)"
   ]
  },
  {
   "cell_type": "markdown",
   "metadata": {},
   "source": [
    "##### 86% accuracy and 83% sensitivity on train data"
   ]
  },
  {
   "cell_type": "code",
   "execution_count": 472,
   "metadata": {},
   "outputs": [
    {
     "data": {
      "image/png": "[encoded data removed]",
      "text/plain": [
       "<Figure size 360x360 with 1 Axes>"
      ]
     },
     "metadata": {
      "needs_background": "light"
     },
     "output_type": "display_data"
    },
    {
     "name": "stdout",
     "output_type": "stream",
     "text": [
      "\n",
      "AUC SCORE = 0.918\n"
     ]
    },
    {
     "data": {
      "text/plain": [
       "0.918436422777471"
      ]
     },
     "execution_count": 472,
     "metadata": {},
     "output_type": "execute_result"
    }
   ],
   "source": [
    "draw_roc(y_train, y_train_pred_prob_final[:,1])"
   ]
  },
  {
   "cell_type": "code",
   "execution_count": 473,
   "metadata": {},
   "outputs": [],
   "source": [
    "## Predict on test data\n",
    "y_test_pred_final, y_test_pred_prob_final  = predict_and_proba(final_model, X_test_transformed)"
   ]
  },
  {
   "cell_type": "code",
   "execution_count": 474,
   "metadata": {},
   "outputs": [
    {
     "name": "stdout",
     "output_type": "stream",
     "text": [
      "\n",
      "\n",
      "Confusion Matrix :\n",
      "\n",
      " [[7160 1096]\n",
      " [ 131  599]]\n",
      "\n",
      "TN : 7160\n",
      "\n",
      "FP : 1096\n",
      "\n",
      "FN : 131\n",
      "\n",
      "TP : 599\n",
      "\n",
      "ACCURACY :  0.863454262185622\n",
      "\n",
      "SENSITIVITY :  0.8205479452054795\n",
      "\n",
      "PRECISION :  0.35339233038348083\n",
      "\n",
      "FALSE POSITIVITY RATE :  0.13275193798449614\n",
      "\n",
      "SPECIFICITY :  0.8672480620155039\n",
      "\n",
      "\n",
      " Classification Report :\n",
      "\n",
      "               precision    recall  f1-score   support\n",
      "\n",
      "           0       0.98      0.87      0.92      8256\n",
      "           1       0.35      0.82      0.49       730\n",
      "\n",
      "    accuracy                           0.86      8986\n",
      "   macro avg       0.67      0.84      0.71      8986\n",
      "weighted avg       0.93      0.86      0.89      8986\n",
      "\n"
     ]
    }
   ],
   "source": [
    "print_binary_classification_summary(y_test, y_test_pred_final)"
   ]
  },
  {
   "cell_type": "markdown",
   "metadata": {},
   "source": [
    "##### 86% accuracy and 82% sensitivity on test data"
   ]
  },
  {
   "cell_type": "code",
   "execution_count": null,
   "metadata": {},
   "outputs": [],
   "source": []
  },
  {
   "cell_type": "markdown",
   "metadata": {},
   "source": [
    "### 8. Conclusion"
   ]
  },
  {
   "cell_type": "markdown",
   "metadata": {},
   "source": [
    "#### The best model selected gives\n",
    "\n",
    "#### 86% accuracy and 83% sensitivity on train data\n",
    "\n",
    "#### 86% accuracy and 82% sensitivity on test data\n",
    "\n",
    "#### which looks very consistent between train data and test data and proves that there is a very good Bias Vs Variance balance\n"
   ]
  },
  {
   "cell_type": "markdown",
   "metadata": {},
   "source": [
    "Save the final model, X_train, X_test, y_train and y_test data"
   ]
  },
  {
   "cell_type": "code",
   "execution_count": 526,
   "metadata": {},
   "outputs": [
    {
     "data": {
      "text/plain": [
       "['final_model.pkl']"
      ]
     },
     "execution_count": 526,
     "metadata": {},
     "output_type": "execute_result"
    }
   ],
   "source": [
    "import joblib\n",
    "joblib.dump(final_model, \"final_model.pkl\")"
   ]
  },
  {
   "cell_type": "code",
   "execution_count": 547,
   "metadata": {},
   "outputs": [
    {
     "data": {
      "text/plain": [
       "['X_train_transformed.pkl']"
      ]
     },
     "execution_count": 547,
     "metadata": {},
     "output_type": "execute_result"
    },
    {
     "data": {
      "text/plain": [
       "['X_test_transformed.pkl']"
      ]
     },
     "execution_count": 547,
     "metadata": {},
     "output_type": "execute_result"
    },
    {
     "data": {
      "text/plain": [
       "['y_train.pkl']"
      ]
     },
     "execution_count": 547,
     "metadata": {},
     "output_type": "execute_result"
    },
    {
     "data": {
      "text/plain": [
       "['y_test.pkl']"
      ]
     },
     "execution_count": 547,
     "metadata": {},
     "output_type": "execute_result"
    }
   ],
   "source": [
    "joblib.dump(X_train_transformed, \"X_train_transformed.pkl\")\n",
    "joblib.dump(X_test_transformed, \"X_test_transformed.pkl\")\n",
    "joblib.dump(y_train, \"y_train.pkl\")\n",
    "joblib.dump(y_test, \"y_test.pkl\")"
   ]
  },
  {
   "cell_type": "code",
   "execution_count": 6,
   "metadata": {},
   "outputs": [],
   "source": [
    "import joblib\n",
    "final_model_loaded = joblib.load(\"final_model.pkl\")"
   ]
  },
  {
   "cell_type": "code",
   "execution_count": 7,
   "metadata": {},
   "outputs": [
    {
     "name": "stdout",
     "output_type": "stream",
     "text": [
      "{'C': 1, 'break_ties': False, 'cache_size': 200, 'class_weight': 'balanced', 'coef0': 0.0, 'decision_function_shape': 'ovr', 'degree': 3, 'gamma': 0.001, 'kernel': 'rbf', 'max_iter': -1, 'probability': True, 'random_state': None, 'shrinking': True, 'tol': 0.001, 'verbose': False}\n"
     ]
    }
   ],
   "source": [
    "print(final_model_loaded.get_params(deep=True))"
   ]
  },
  {
   "cell_type": "code",
   "execution_count": 8,
   "metadata": {},
   "outputs": [
    {
     "data": {
      "text/plain": [
       "array([[ 6.08965573, 10.83869799, -0.53228001, ...,  0.28000432,\n",
       "         0.18559866,  0.28178204],\n",
       "       [ 7.19546129,  1.51887418,  1.08856456, ..., -1.20368402,\n",
       "         0.57195538, -0.07471732],\n",
       "       [ 0.38274443, -4.06053985, -2.24217009, ...,  0.30899485,\n",
       "         0.50319003, -0.73057078],\n",
       "       ...,\n",
       "       [-4.05218494, -2.78477657, -0.04444634, ...,  0.8689242 ,\n",
       "         1.14607907,  0.10943537],\n",
       "       [ 1.55627875, -3.69491441, -3.66659216, ..., -1.40568224,\n",
       "        -0.71261696,  1.01389956],\n",
       "       [ 4.92102784, -1.13688968, -1.78683071, ..., -0.17559014,\n",
       "         0.32638595, -0.1668486 ]])"
      ]
     },
     "execution_count": 8,
     "metadata": {},
     "output_type": "execute_result"
    }
   ],
   "source": [
    "X_test_transformed_loaded = joblib.load(\"X_test_transformed.pkl\")\n",
    "X_test_transformed_loaded"
   ]
  },
  {
   "cell_type": "code",
   "execution_count": 9,
   "metadata": {},
   "outputs": [
    {
     "data": {
      "text/plain": [
       "38736    0\n",
       "14328    0\n",
       "54761    1\n",
       "43872    0\n",
       "22105    0\n",
       "        ..\n",
       "6813     0\n",
       "15915    0\n",
       "8789     0\n",
       "23384    1\n",
       "61092    0\n",
       "Name: churn, Length: 8986, dtype: int64"
      ]
     },
     "execution_count": 9,
     "metadata": {},
     "output_type": "execute_result"
    }
   ],
   "source": [
    "y_test_loaded = joblib.load(\"y_test.pkl\")\n",
    "y_test_loaded"
   ]
  },
  {
   "cell_type": "code",
   "execution_count": 11,
   "metadata": {},
   "outputs": [],
   "source": [
    "## Predict on test data\n",
    "y_test_pred_trial, y_test_pred_prob_trial  = predict_and_proba(final_model_loaded, X_test_transformed_loaded)"
   ]
  },
  {
   "cell_type": "code",
   "execution_count": 12,
   "metadata": {},
   "outputs": [
    {
     "name": "stdout",
     "output_type": "stream",
     "text": [
      "\n",
      "\n",
      "Confusion Matrix :\n",
      "\n",
      " [[7160 1096]\n",
      " [ 131  599]]\n",
      "\n",
      "TN : 7160\n",
      "\n",
      "FP : 1096\n",
      "\n",
      "FN : 131\n",
      "\n",
      "TP : 599\n",
      "\n",
      "ACCURACY :  0.863454262185622\n",
      "\n",
      "SENSITIVITY :  0.8205479452054795\n",
      "\n",
      "PRECISION :  0.35339233038348083\n",
      "\n",
      "FALSE POSITIVITY RATE :  0.13275193798449614\n",
      "\n",
      "SPECIFICITY :  0.8672480620155039\n",
      "\n",
      "\n",
      " Classification Report :\n",
      "\n",
      "               precision    recall  f1-score   support\n",
      "\n",
      "           0       0.98      0.87      0.92      8256\n",
      "           1       0.35      0.82      0.49       730\n",
      "\n",
      "    accuracy                           0.86      8986\n",
      "   macro avg       0.67      0.84      0.71      8986\n",
      "weighted avg       0.93      0.86      0.89      8986\n",
      "\n"
     ]
    }
   ],
   "source": [
    "print_binary_classification_summary(y_test_loaded, y_test_pred_trial)"
   ]
  },
  {
   "cell_type": "code",
   "execution_count": null,
   "metadata": {},
   "outputs": [],
   "source": []
  },
  {
   "cell_type": "markdown",
   "metadata": {},
   "source": [
    "##### 9. Notes on some extra learning"
   ]
  },
  {
   "cell_type": "markdown",
   "metadata": {},
   "source": [
    "Let's analyze the churn probabilities for each customer by the finally selected SVM model"
   ]
  },
  {
   "cell_type": "code",
   "execution_count": 475,
   "metadata": {},
   "outputs": [
    {
     "data": {
      "text/html": [
       "<div>\n",
       "<style scoped>\n",
       "    .dataframe tbody tr th:only-of-type {\n",
       "        vertical-align: middle;\n",
       "    }\n",
       "\n",
       "    .dataframe tbody tr th {\n",
       "        vertical-align: top;\n",
       "    }\n",
       "\n",
       "    .dataframe thead th {\n",
       "        text-align: right;\n",
       "    }\n",
       "</style>\n",
       "<table border=\"1\" class=\"dataframe\">\n",
       "  <thead>\n",
       "    <tr style=\"text-align: right;\">\n",
       "      <th></th>\n",
       "      <th>churn</th>\n",
       "      <th>churn_prob</th>\n",
       "      <th>Cust_Id</th>\n",
       "    </tr>\n",
       "  </thead>\n",
       "  <tbody>\n",
       "    <tr>\n",
       "      <th>0</th>\n",
       "      <td>1</td>\n",
       "      <td>0.532756</td>\n",
       "      <td>70087</td>\n",
       "    </tr>\n",
       "    <tr>\n",
       "      <th>1</th>\n",
       "      <td>0</td>\n",
       "      <td>0.004241</td>\n",
       "      <td>90560</td>\n",
       "    </tr>\n",
       "    <tr>\n",
       "      <th>2</th>\n",
       "      <td>0</td>\n",
       "      <td>0.005804</td>\n",
       "      <td>58800</td>\n",
       "    </tr>\n",
       "    <tr>\n",
       "      <th>3</th>\n",
       "      <td>0</td>\n",
       "      <td>0.054822</td>\n",
       "      <td>24547</td>\n",
       "    </tr>\n",
       "    <tr>\n",
       "      <th>4</th>\n",
       "      <td>0</td>\n",
       "      <td>0.176804</td>\n",
       "      <td>50364</td>\n",
       "    </tr>\n",
       "    <tr>\n",
       "      <th>...</th>\n",
       "      <td>...</td>\n",
       "      <td>...</td>\n",
       "      <td>...</td>\n",
       "    </tr>\n",
       "    <tr>\n",
       "      <th>20962</th>\n",
       "      <td>0</td>\n",
       "      <td>0.001669</td>\n",
       "      <td>69580</td>\n",
       "    </tr>\n",
       "    <tr>\n",
       "      <th>20963</th>\n",
       "      <td>0</td>\n",
       "      <td>0.035361</td>\n",
       "      <td>67901</td>\n",
       "    </tr>\n",
       "    <tr>\n",
       "      <th>20964</th>\n",
       "      <td>0</td>\n",
       "      <td>0.014211</td>\n",
       "      <td>80741</td>\n",
       "    </tr>\n",
       "    <tr>\n",
       "      <th>20965</th>\n",
       "      <td>0</td>\n",
       "      <td>0.227500</td>\n",
       "      <td>50324</td>\n",
       "    </tr>\n",
       "    <tr>\n",
       "      <th>20966</th>\n",
       "      <td>0</td>\n",
       "      <td>0.083422</td>\n",
       "      <td>57407</td>\n",
       "    </tr>\n",
       "  </tbody>\n",
       "</table>\n",
       "<p>20967 rows × 3 columns</p>\n",
       "</div>"
      ],
      "text/plain": [
       "       churn  churn_prob  Cust_Id\n",
       "0          1    0.532756    70087\n",
       "1          0    0.004241    90560\n",
       "2          0    0.005804    58800\n",
       "3          0    0.054822    24547\n",
       "4          0    0.176804    50364\n",
       "...      ...         ...      ...\n",
       "20962      0    0.001669    69580\n",
       "20963      0    0.035361    67901\n",
       "20964      0    0.014211    80741\n",
       "20965      0    0.227500    50324\n",
       "20966      0    0.083422    57407\n",
       "\n",
       "[20967 rows x 3 columns]"
      ]
     },
     "execution_count": 475,
     "metadata": {},
     "output_type": "execute_result"
    }
   ],
   "source": [
    "y_train_pred_df = pd.DataFrame({'churn':y_train.values, 'churn_prob':y_train_pred_prob_final[:,1]})\n",
    "y_train_pred_df['Cust_Id'] = y_train.index\n",
    "y_train_pred_df"
   ]
  },
  {
   "cell_type": "code",
   "execution_count": 476,
   "metadata": {},
   "outputs": [
    {
     "data": {
      "text/html": [
       "<div>\n",
       "<style scoped>\n",
       "    .dataframe tbody tr th:only-of-type {\n",
       "        vertical-align: middle;\n",
       "    }\n",
       "\n",
       "    .dataframe tbody tr th {\n",
       "        vertical-align: top;\n",
       "    }\n",
       "\n",
       "    .dataframe thead th {\n",
       "        text-align: right;\n",
       "    }\n",
       "</style>\n",
       "<table border=\"1\" class=\"dataframe\">\n",
       "  <thead>\n",
       "    <tr style=\"text-align: right;\">\n",
       "      <th></th>\n",
       "      <th>churn</th>\n",
       "      <th>churn_prob</th>\n",
       "      <th>Cust_Id</th>\n",
       "      <th>0.0</th>\n",
       "      <th>0.1</th>\n",
       "      <th>0.2</th>\n",
       "      <th>0.3</th>\n",
       "      <th>0.4</th>\n",
       "      <th>0.5</th>\n",
       "      <th>0.6</th>\n",
       "      <th>0.7</th>\n",
       "      <th>0.8</th>\n",
       "      <th>0.9</th>\n",
       "    </tr>\n",
       "  </thead>\n",
       "  <tbody>\n",
       "    <tr>\n",
       "      <th>0</th>\n",
       "      <td>1</td>\n",
       "      <td>0.532756</td>\n",
       "      <td>70087</td>\n",
       "      <td>1</td>\n",
       "      <td>1</td>\n",
       "      <td>1</td>\n",
       "      <td>1</td>\n",
       "      <td>1</td>\n",
       "      <td>1</td>\n",
       "      <td>0</td>\n",
       "      <td>0</td>\n",
       "      <td>0</td>\n",
       "      <td>0</td>\n",
       "    </tr>\n",
       "    <tr>\n",
       "      <th>1</th>\n",
       "      <td>0</td>\n",
       "      <td>0.004241</td>\n",
       "      <td>90560</td>\n",
       "      <td>1</td>\n",
       "      <td>0</td>\n",
       "      <td>0</td>\n",
       "      <td>0</td>\n",
       "      <td>0</td>\n",
       "      <td>0</td>\n",
       "      <td>0</td>\n",
       "      <td>0</td>\n",
       "      <td>0</td>\n",
       "      <td>0</td>\n",
       "    </tr>\n",
       "    <tr>\n",
       "      <th>2</th>\n",
       "      <td>0</td>\n",
       "      <td>0.005804</td>\n",
       "      <td>58800</td>\n",
       "      <td>1</td>\n",
       "      <td>0</td>\n",
       "      <td>0</td>\n",
       "      <td>0</td>\n",
       "      <td>0</td>\n",
       "      <td>0</td>\n",
       "      <td>0</td>\n",
       "      <td>0</td>\n",
       "      <td>0</td>\n",
       "      <td>0</td>\n",
       "    </tr>\n",
       "    <tr>\n",
       "      <th>3</th>\n",
       "      <td>0</td>\n",
       "      <td>0.054822</td>\n",
       "      <td>24547</td>\n",
       "      <td>1</td>\n",
       "      <td>0</td>\n",
       "      <td>0</td>\n",
       "      <td>0</td>\n",
       "      <td>0</td>\n",
       "      <td>0</td>\n",
       "      <td>0</td>\n",
       "      <td>0</td>\n",
       "      <td>0</td>\n",
       "      <td>0</td>\n",
       "    </tr>\n",
       "    <tr>\n",
       "      <th>4</th>\n",
       "      <td>0</td>\n",
       "      <td>0.176804</td>\n",
       "      <td>50364</td>\n",
       "      <td>1</td>\n",
       "      <td>1</td>\n",
       "      <td>0</td>\n",
       "      <td>0</td>\n",
       "      <td>0</td>\n",
       "      <td>0</td>\n",
       "      <td>0</td>\n",
       "      <td>0</td>\n",
       "      <td>0</td>\n",
       "      <td>0</td>\n",
       "    </tr>\n",
       "    <tr>\n",
       "      <th>...</th>\n",
       "      <td>...</td>\n",
       "      <td>...</td>\n",
       "      <td>...</td>\n",
       "      <td>...</td>\n",
       "      <td>...</td>\n",
       "      <td>...</td>\n",
       "      <td>...</td>\n",
       "      <td>...</td>\n",
       "      <td>...</td>\n",
       "      <td>...</td>\n",
       "      <td>...</td>\n",
       "      <td>...</td>\n",
       "      <td>...</td>\n",
       "    </tr>\n",
       "    <tr>\n",
       "      <th>20962</th>\n",
       "      <td>0</td>\n",
       "      <td>0.001669</td>\n",
       "      <td>69580</td>\n",
       "      <td>1</td>\n",
       "      <td>0</td>\n",
       "      <td>0</td>\n",
       "      <td>0</td>\n",
       "      <td>0</td>\n",
       "      <td>0</td>\n",
       "      <td>0</td>\n",
       "      <td>0</td>\n",
       "      <td>0</td>\n",
       "      <td>0</td>\n",
       "    </tr>\n",
       "    <tr>\n",
       "      <th>20963</th>\n",
       "      <td>0</td>\n",
       "      <td>0.035361</td>\n",
       "      <td>67901</td>\n",
       "      <td>1</td>\n",
       "      <td>0</td>\n",
       "      <td>0</td>\n",
       "      <td>0</td>\n",
       "      <td>0</td>\n",
       "      <td>0</td>\n",
       "      <td>0</td>\n",
       "      <td>0</td>\n",
       "      <td>0</td>\n",
       "      <td>0</td>\n",
       "    </tr>\n",
       "    <tr>\n",
       "      <th>20964</th>\n",
       "      <td>0</td>\n",
       "      <td>0.014211</td>\n",
       "      <td>80741</td>\n",
       "      <td>1</td>\n",
       "      <td>0</td>\n",
       "      <td>0</td>\n",
       "      <td>0</td>\n",
       "      <td>0</td>\n",
       "      <td>0</td>\n",
       "      <td>0</td>\n",
       "      <td>0</td>\n",
       "      <td>0</td>\n",
       "      <td>0</td>\n",
       "    </tr>\n",
       "    <tr>\n",
       "      <th>20965</th>\n",
       "      <td>0</td>\n",
       "      <td>0.227500</td>\n",
       "      <td>50324</td>\n",
       "      <td>1</td>\n",
       "      <td>1</td>\n",
       "      <td>1</td>\n",
       "      <td>0</td>\n",
       "      <td>0</td>\n",
       "      <td>0</td>\n",
       "      <td>0</td>\n",
       "      <td>0</td>\n",
       "      <td>0</td>\n",
       "      <td>0</td>\n",
       "    </tr>\n",
       "    <tr>\n",
       "      <th>20966</th>\n",
       "      <td>0</td>\n",
       "      <td>0.083422</td>\n",
       "      <td>57407</td>\n",
       "      <td>1</td>\n",
       "      <td>0</td>\n",
       "      <td>0</td>\n",
       "      <td>0</td>\n",
       "      <td>0</td>\n",
       "      <td>0</td>\n",
       "      <td>0</td>\n",
       "      <td>0</td>\n",
       "      <td>0</td>\n",
       "      <td>0</td>\n",
       "    </tr>\n",
       "  </tbody>\n",
       "</table>\n",
       "<p>20967 rows × 13 columns</p>\n",
       "</div>"
      ],
      "text/plain": [
       "       churn  churn_prob  Cust_Id  0.0  0.1  0.2  0.3  0.4  0.5  0.6  0.7  \\\n",
       "0          1    0.532756    70087    1    1    1    1    1    1    0    0   \n",
       "1          0    0.004241    90560    1    0    0    0    0    0    0    0   \n",
       "2          0    0.005804    58800    1    0    0    0    0    0    0    0   \n",
       "3          0    0.054822    24547    1    0    0    0    0    0    0    0   \n",
       "4          0    0.176804    50364    1    1    0    0    0    0    0    0   \n",
       "...      ...         ...      ...  ...  ...  ...  ...  ...  ...  ...  ...   \n",
       "20962      0    0.001669    69580    1    0    0    0    0    0    0    0   \n",
       "20963      0    0.035361    67901    1    0    0    0    0    0    0    0   \n",
       "20964      0    0.014211    80741    1    0    0    0    0    0    0    0   \n",
       "20965      0    0.227500    50324    1    1    1    0    0    0    0    0   \n",
       "20966      0    0.083422    57407    1    0    0    0    0    0    0    0   \n",
       "\n",
       "       0.8  0.9  \n",
       "0        0    0  \n",
       "1        0    0  \n",
       "2        0    0  \n",
       "3        0    0  \n",
       "4        0    0  \n",
       "...    ...  ...  \n",
       "20962    0    0  \n",
       "20963    0    0  \n",
       "20964    0    0  \n",
       "20965    0    0  \n",
       "20966    0    0  \n",
       "\n",
       "[20967 rows x 13 columns]"
      ]
     },
     "execution_count": 476,
     "metadata": {},
     "output_type": "execute_result"
    }
   ],
   "source": [
    "# Let's create columns with different probability cutoffs \n",
    "numbers =[float(x)/10 for x in range(10) ]\n",
    "for i in numbers:\n",
    "   y_train_pred_df[i] =  y_train_pred_df.churn_prob.map(lambda x: 1 if x > i else 0)\n",
    "\n",
    "y_train_pred_df"
   ]
  },
  {
   "cell_type": "code",
   "execution_count": 477,
   "metadata": {},
   "outputs": [
    {
     "name": "stdout",
     "output_type": "stream",
     "text": [
      "     prob  accuracy     sensi     speci\n",
      "0.0   0.0  0.081223  1.000000  0.000000\n",
      "0.1   0.1  0.866218  0.828538  0.869549\n",
      "0.2   0.2  0.911861  0.732237  0.927741\n",
      "0.3   0.3  0.928030  0.654727  0.952191\n",
      "0.4   0.4  0.933515  0.517910  0.970255\n",
      "0.5   0.5  0.934230  0.361127  0.984894\n",
      "0.6   0.6  0.928841  0.203758  0.992940\n",
      "0.7   0.7  0.922974  0.088080  0.996782\n",
      "0.8   0.8  0.919731  0.027011  0.998650\n",
      "0.9   0.9  0.918968  0.004110  0.999844\n"
     ]
    }
   ],
   "source": [
    "# Now let's calculate accuracy sensitivity and specificity for various probability cutoffs.\n",
    "\n",
    "cutoff_df = pd.DataFrame( columns = ['prob','accuracy','sensi','speci'])\n",
    "from sklearn.metrics import confusion_matrix\n",
    "\n",
    "# TP = confusion[1,1] # true positive \n",
    "# TN = confusion[0,0] # true negatives\n",
    "# FP = confusion[0,1] # false positives\n",
    "# FN = confusion[1,0] # false negatives\n",
    "\n",
    "num = [0.0,0.1,0.2,0.3,0.4,0.5,0.6,0.7,0.8,0.9]\n",
    "for i in num:\n",
    "    cm1 = metrics.confusion_matrix(y_train_pred_df.churn, y_train_pred_df[i] )\n",
    "    total1=sum(sum(cm1))\n",
    "    accuracy = (cm1[0,0]+cm1[1,1])/total1\n",
    "    \n",
    "    speci = cm1[0,0]/(cm1[0,0]+cm1[0,1])\n",
    "    sensi = cm1[1,1]/(cm1[1,0]+cm1[1,1])\n",
    "    cutoff_df.loc[i] =[ i ,accuracy,sensi,speci]\n",
    "print(cutoff_df)"
   ]
  },
  {
   "cell_type": "markdown",
   "metadata": {},
   "source": [
    "In the above table, we see probability threshold (cutoff) of 0.1 corresponds to 87% accuracy and 83% sensitivity. \n",
    "These values correspond to the accuracy and sensitivity given by the same model by default ( when we did not select any cutoff ourselves). So this shows SVM does not predict based on probability and therefore by a default probability threshold of 0.5.\n",
    "\n",
    "In fact SVM does not give out probabilities natively. We are trying to get the probabilities by triggering calibration by passing \"probability = True\" while initializing the model.\n",
    "https://scikit-learn.org/dev/modules/svm.html#scores-and-probabilities\n"
   ]
  },
  {
   "cell_type": "markdown",
   "metadata": {},
   "source": [
    "We can also use another method for the same - \"CalibratedClassifierCV\" \n",
    "\n",
    "https://mmuratarat.github.io/2019-10-12/probabilistic-output-of-svm\n",
    "\n",
    "https://machinelearningmastery.com/calibrated-classification-model-in-scikit-learn/\n",
    "\n",
    "\n",
    "Let us try this method on SVM model which we initialize with the same hyper-param combination as the final model we selected."
   ]
  },
  {
   "cell_type": "code",
   "execution_count": 516,
   "metadata": {},
   "outputs": [
    {
     "data": {
      "text/plain": [
       "CalibratedClassifierCV(base_estimator=SVC(C=1, class_weight='balanced',\n",
       "                                          gamma=0.001))"
      ]
     },
     "execution_count": 516,
     "metadata": {},
     "output_type": "execute_result"
    }
   ],
   "source": [
    "from sklearn.calibration import CalibratedClassifierCV\n",
    "\n",
    "svm = SVC(kernel='rbf', class_weight='balanced', gamma=0.001, C=1)\n",
    "\n",
    "#svm = SVC(kernel='rbf', class_weight='balanced')\n",
    "#svm = SVC(kernel='rbf', class_weight='balanced', probability=True)\n",
    "\n",
    "clf = CalibratedClassifierCV(svm) \n",
    "\n",
    "#clf = CalibratedClassifierCV(svm2) \n",
    "\n",
    "clf.fit(X_train_transformed, y_train)\n",
    "\n",
    "y_prob, y_proba = predict_and_proba(clf, X_train_transformed)"
   ]
  },
  {
   "cell_type": "code",
   "execution_count": 517,
   "metadata": {},
   "outputs": [],
   "source": [
    "#svm4 = SVC(kernel='rbf', class_weight='balanced')\n",
    "#svm4.fit(X_train_transformed, y_train)\n",
    "\n",
    "#svm4_pred = svm4.predict(X_train_transformed)\n",
    "\n",
    "#svm4_pred_proba = svm4.decision_function(X_train_transformed)"
   ]
  },
  {
   "cell_type": "code",
   "execution_count": 518,
   "metadata": {},
   "outputs": [
    {
     "name": "stdout",
     "output_type": "stream",
     "text": [
      "\n",
      "\n",
      "Confusion Matrix :\n",
      "\n",
      " [[18954   310]\n",
      " [ 1057   646]]\n",
      "\n",
      "TN : 18954\n",
      "\n",
      "FP : 310\n",
      "\n",
      "FN : 1057\n",
      "\n",
      "TP : 646\n",
      "\n",
      "ACCURACY :  0.9348023083893737\n",
      "\n",
      "SENSITIVITY :  0.3793305930710511\n",
      "\n",
      "PRECISION :  0.6757322175732218\n",
      "\n",
      "FALSE POSITIVITY RATE :  0.0160921926910299\n",
      "\n",
      "SPECIFICITY :  0.9839078073089701\n",
      "\n",
      "\n",
      " Classification Report :\n",
      "\n",
      "               precision    recall  f1-score   support\n",
      "\n",
      "           0       0.95      0.98      0.97     19264\n",
      "           1       0.68      0.38      0.49      1703\n",
      "\n",
      "    accuracy                           0.93     20967\n",
      "   macro avg       0.81      0.68      0.73     20967\n",
      "weighted avg       0.93      0.93      0.93     20967\n",
      "\n"
     ]
    }
   ],
   "source": [
    "print_binary_classification_summary(y_train, y_prob)\n",
    "#print_binary_classification_summary(y_train, svm4_pred)"
   ]
  },
  {
   "cell_type": "markdown",
   "metadata": {},
   "source": [
    "##### Note the accuracy 93.4% and sensitivity 37.9%"
   ]
  },
  {
   "cell_type": "code",
   "execution_count": 519,
   "metadata": {},
   "outputs": [
    {
     "data": {
      "image/png": "[encoded data removed]",
      "text/plain": [
       "<Figure size 360x360 with 1 Axes>"
      ]
     },
     "metadata": {
      "needs_background": "light"
     },
     "output_type": "display_data"
    },
    {
     "name": "stdout",
     "output_type": "stream",
     "text": [
      "\n",
      "AUC SCORE = 0.917\n"
     ]
    },
    {
     "data": {
      "text/plain": [
       "0.917236054266167"
      ]
     },
     "execution_count": 519,
     "metadata": {},
     "output_type": "execute_result"
    }
   ],
   "source": [
    "draw_roc(y_train, y_proba[:,1])\n",
    "#draw_roc(y_train, svm4_pred_proba)"
   ]
  },
  {
   "cell_type": "code",
   "execution_count": 520,
   "metadata": {},
   "outputs": [
    {
     "data": {
      "text/html": [
       "<div>\n",
       "<style scoped>\n",
       "    .dataframe tbody tr th:only-of-type {\n",
       "        vertical-align: middle;\n",
       "    }\n",
       "\n",
       "    .dataframe tbody tr th {\n",
       "        vertical-align: top;\n",
       "    }\n",
       "\n",
       "    .dataframe thead th {\n",
       "        text-align: right;\n",
       "    }\n",
       "</style>\n",
       "<table border=\"1\" class=\"dataframe\">\n",
       "  <thead>\n",
       "    <tr style=\"text-align: right;\">\n",
       "      <th></th>\n",
       "      <th>churn</th>\n",
       "      <th>churn_prob</th>\n",
       "    </tr>\n",
       "  </thead>\n",
       "  <tbody>\n",
       "    <tr>\n",
       "      <th>0</th>\n",
       "      <td>1</td>\n",
       "      <td>0.527263</td>\n",
       "    </tr>\n",
       "    <tr>\n",
       "      <th>1</th>\n",
       "      <td>0</td>\n",
       "      <td>0.003534</td>\n",
       "    </tr>\n",
       "    <tr>\n",
       "      <th>2</th>\n",
       "      <td>0</td>\n",
       "      <td>0.005577</td>\n",
       "    </tr>\n",
       "    <tr>\n",
       "      <th>3</th>\n",
       "      <td>0</td>\n",
       "      <td>0.053403</td>\n",
       "    </tr>\n",
       "    <tr>\n",
       "      <th>4</th>\n",
       "      <td>0</td>\n",
       "      <td>0.192640</td>\n",
       "    </tr>\n",
       "    <tr>\n",
       "      <th>...</th>\n",
       "      <td>...</td>\n",
       "      <td>...</td>\n",
       "    </tr>\n",
       "    <tr>\n",
       "      <th>20962</th>\n",
       "      <td>0</td>\n",
       "      <td>0.001691</td>\n",
       "    </tr>\n",
       "    <tr>\n",
       "      <th>20963</th>\n",
       "      <td>0</td>\n",
       "      <td>0.034538</td>\n",
       "    </tr>\n",
       "    <tr>\n",
       "      <th>20964</th>\n",
       "      <td>0</td>\n",
       "      <td>0.014481</td>\n",
       "    </tr>\n",
       "    <tr>\n",
       "      <th>20965</th>\n",
       "      <td>0</td>\n",
       "      <td>0.226900</td>\n",
       "    </tr>\n",
       "    <tr>\n",
       "      <th>20966</th>\n",
       "      <td>0</td>\n",
       "      <td>0.083030</td>\n",
       "    </tr>\n",
       "  </tbody>\n",
       "</table>\n",
       "<p>20967 rows × 2 columns</p>\n",
       "</div>"
      ],
      "text/plain": [
       "       churn  churn_prob\n",
       "0          1    0.527263\n",
       "1          0    0.003534\n",
       "2          0    0.005577\n",
       "3          0    0.053403\n",
       "4          0    0.192640\n",
       "...      ...         ...\n",
       "20962      0    0.001691\n",
       "20963      0    0.034538\n",
       "20964      0    0.014481\n",
       "20965      0    0.226900\n",
       "20966      0    0.083030\n",
       "\n",
       "[20967 rows x 2 columns]"
      ]
     },
     "execution_count": 520,
     "metadata": {},
     "output_type": "execute_result"
    }
   ],
   "source": [
    "y_train_pred_df1 = pd.DataFrame({'churn':y_train.values, 'churn_prob':y_proba[:,1]})\n",
    "\n",
    "y_train_pred_df['Cust_Id'] = y_train.index\n",
    "y_train_pred_df1\n",
    "\n",
    "#y_train_pred_df2 = pd.DataFrame({'churn':y_train.values, 'churn_prob':svm4_pred_proba})"
   ]
  },
  {
   "cell_type": "code",
   "execution_count": 521,
   "metadata": {},
   "outputs": [
    {
     "data": {
      "text/html": [
       "<div>\n",
       "<style scoped>\n",
       "    .dataframe tbody tr th:only-of-type {\n",
       "        vertical-align: middle;\n",
       "    }\n",
       "\n",
       "    .dataframe tbody tr th {\n",
       "        vertical-align: top;\n",
       "    }\n",
       "\n",
       "    .dataframe thead th {\n",
       "        text-align: right;\n",
       "    }\n",
       "</style>\n",
       "<table border=\"1\" class=\"dataframe\">\n",
       "  <thead>\n",
       "    <tr style=\"text-align: right;\">\n",
       "      <th></th>\n",
       "      <th>churn</th>\n",
       "      <th>churn_prob</th>\n",
       "      <th>0.0</th>\n",
       "      <th>0.1</th>\n",
       "      <th>0.2</th>\n",
       "      <th>0.3</th>\n",
       "      <th>0.4</th>\n",
       "      <th>0.5</th>\n",
       "      <th>0.6</th>\n",
       "      <th>0.7</th>\n",
       "      <th>0.8</th>\n",
       "      <th>0.9</th>\n",
       "    </tr>\n",
       "  </thead>\n",
       "  <tbody>\n",
       "    <tr>\n",
       "      <th>0</th>\n",
       "      <td>1</td>\n",
       "      <td>0.527263</td>\n",
       "      <td>1</td>\n",
       "      <td>1</td>\n",
       "      <td>1</td>\n",
       "      <td>1</td>\n",
       "      <td>1</td>\n",
       "      <td>1</td>\n",
       "      <td>0</td>\n",
       "      <td>0</td>\n",
       "      <td>0</td>\n",
       "      <td>0</td>\n",
       "    </tr>\n",
       "    <tr>\n",
       "      <th>1</th>\n",
       "      <td>0</td>\n",
       "      <td>0.003534</td>\n",
       "      <td>1</td>\n",
       "      <td>0</td>\n",
       "      <td>0</td>\n",
       "      <td>0</td>\n",
       "      <td>0</td>\n",
       "      <td>0</td>\n",
       "      <td>0</td>\n",
       "      <td>0</td>\n",
       "      <td>0</td>\n",
       "      <td>0</td>\n",
       "    </tr>\n",
       "    <tr>\n",
       "      <th>2</th>\n",
       "      <td>0</td>\n",
       "      <td>0.005577</td>\n",
       "      <td>1</td>\n",
       "      <td>0</td>\n",
       "      <td>0</td>\n",
       "      <td>0</td>\n",
       "      <td>0</td>\n",
       "      <td>0</td>\n",
       "      <td>0</td>\n",
       "      <td>0</td>\n",
       "      <td>0</td>\n",
       "      <td>0</td>\n",
       "    </tr>\n",
       "    <tr>\n",
       "      <th>3</th>\n",
       "      <td>0</td>\n",
       "      <td>0.053403</td>\n",
       "      <td>1</td>\n",
       "      <td>0</td>\n",
       "      <td>0</td>\n",
       "      <td>0</td>\n",
       "      <td>0</td>\n",
       "      <td>0</td>\n",
       "      <td>0</td>\n",
       "      <td>0</td>\n",
       "      <td>0</td>\n",
       "      <td>0</td>\n",
       "    </tr>\n",
       "    <tr>\n",
       "      <th>4</th>\n",
       "      <td>0</td>\n",
       "      <td>0.192640</td>\n",
       "      <td>1</td>\n",
       "      <td>1</td>\n",
       "      <td>0</td>\n",
       "      <td>0</td>\n",
       "      <td>0</td>\n",
       "      <td>0</td>\n",
       "      <td>0</td>\n",
       "      <td>0</td>\n",
       "      <td>0</td>\n",
       "      <td>0</td>\n",
       "    </tr>\n",
       "    <tr>\n",
       "      <th>...</th>\n",
       "      <td>...</td>\n",
       "      <td>...</td>\n",
       "      <td>...</td>\n",
       "      <td>...</td>\n",
       "      <td>...</td>\n",
       "      <td>...</td>\n",
       "      <td>...</td>\n",
       "      <td>...</td>\n",
       "      <td>...</td>\n",
       "      <td>...</td>\n",
       "      <td>...</td>\n",
       "      <td>...</td>\n",
       "    </tr>\n",
       "    <tr>\n",
       "      <th>20962</th>\n",
       "      <td>0</td>\n",
       "      <td>0.001691</td>\n",
       "      <td>1</td>\n",
       "      <td>0</td>\n",
       "      <td>0</td>\n",
       "      <td>0</td>\n",
       "      <td>0</td>\n",
       "      <td>0</td>\n",
       "      <td>0</td>\n",
       "      <td>0</td>\n",
       "      <td>0</td>\n",
       "      <td>0</td>\n",
       "    </tr>\n",
       "    <tr>\n",
       "      <th>20963</th>\n",
       "      <td>0</td>\n",
       "      <td>0.034538</td>\n",
       "      <td>1</td>\n",
       "      <td>0</td>\n",
       "      <td>0</td>\n",
       "      <td>0</td>\n",
       "      <td>0</td>\n",
       "      <td>0</td>\n",
       "      <td>0</td>\n",
       "      <td>0</td>\n",
       "      <td>0</td>\n",
       "      <td>0</td>\n",
       "    </tr>\n",
       "    <tr>\n",
       "      <th>20964</th>\n",
       "      <td>0</td>\n",
       "      <td>0.014481</td>\n",
       "      <td>1</td>\n",
       "      <td>0</td>\n",
       "      <td>0</td>\n",
       "      <td>0</td>\n",
       "      <td>0</td>\n",
       "      <td>0</td>\n",
       "      <td>0</td>\n",
       "      <td>0</td>\n",
       "      <td>0</td>\n",
       "      <td>0</td>\n",
       "    </tr>\n",
       "    <tr>\n",
       "      <th>20965</th>\n",
       "      <td>0</td>\n",
       "      <td>0.226900</td>\n",
       "      <td>1</td>\n",
       "      <td>1</td>\n",
       "      <td>1</td>\n",
       "      <td>0</td>\n",
       "      <td>0</td>\n",
       "      <td>0</td>\n",
       "      <td>0</td>\n",
       "      <td>0</td>\n",
       "      <td>0</td>\n",
       "      <td>0</td>\n",
       "    </tr>\n",
       "    <tr>\n",
       "      <th>20966</th>\n",
       "      <td>0</td>\n",
       "      <td>0.083030</td>\n",
       "      <td>1</td>\n",
       "      <td>0</td>\n",
       "      <td>0</td>\n",
       "      <td>0</td>\n",
       "      <td>0</td>\n",
       "      <td>0</td>\n",
       "      <td>0</td>\n",
       "      <td>0</td>\n",
       "      <td>0</td>\n",
       "      <td>0</td>\n",
       "    </tr>\n",
       "  </tbody>\n",
       "</table>\n",
       "<p>20967 rows × 12 columns</p>\n",
       "</div>"
      ],
      "text/plain": [
       "       churn  churn_prob  0.0  0.1  0.2  0.3  0.4  0.5  0.6  0.7  0.8  0.9\n",
       "0          1    0.527263    1    1    1    1    1    1    0    0    0    0\n",
       "1          0    0.003534    1    0    0    0    0    0    0    0    0    0\n",
       "2          0    0.005577    1    0    0    0    0    0    0    0    0    0\n",
       "3          0    0.053403    1    0    0    0    0    0    0    0    0    0\n",
       "4          0    0.192640    1    1    0    0    0    0    0    0    0    0\n",
       "...      ...         ...  ...  ...  ...  ...  ...  ...  ...  ...  ...  ...\n",
       "20962      0    0.001691    1    0    0    0    0    0    0    0    0    0\n",
       "20963      0    0.034538    1    0    0    0    0    0    0    0    0    0\n",
       "20964      0    0.014481    1    0    0    0    0    0    0    0    0    0\n",
       "20965      0    0.226900    1    1    1    0    0    0    0    0    0    0\n",
       "20966      0    0.083030    1    0    0    0    0    0    0    0    0    0\n",
       "\n",
       "[20967 rows x 12 columns]"
      ]
     },
     "execution_count": 521,
     "metadata": {},
     "output_type": "execute_result"
    }
   ],
   "source": [
    "# Let's create columns with different probability cutoffs \n",
    "numbers =[float(x)/10 for x in range(10) ]\n",
    "for i in numbers:\n",
    "   y_train_pred_df1[i] =  y_train_pred_df1.churn_prob.map(lambda x: 1 if x > i else 0)\n",
    "\n",
    "y_train_pred_df1\n",
    "\n",
    "\n",
    "#numbers =[float(x)/10 for x in range(10) ]\n",
    "#for i in numbers:\n",
    "#   y_train_pred_df2[i] =  y_train_pred_df2.churn_prob.map(lambda x: 1 if x > i else 0)\n",
    "\n",
    "#y_train_pred_df2"
   ]
  },
  {
   "cell_type": "code",
   "execution_count": 522,
   "metadata": {},
   "outputs": [
    {
     "name": "stdout",
     "output_type": "stream",
     "text": [
      "     prob  accuracy     sensi     speci\n",
      "0.0   0.0  0.081223  1.000000  0.000000\n",
      "0.1   0.1  0.865026  0.822079  0.868823\n",
      "0.2   0.2  0.910908  0.726365  0.927222\n",
      "0.3   0.3  0.928030  0.651204  0.952502\n",
      "0.4   0.4  0.933515  0.516148  0.970411\n",
      "0.5   0.5  0.934802  0.379331  0.983908\n",
      "0.6   0.6  0.928554  0.208456  0.992213\n",
      "0.7   0.7  0.923260  0.092777  0.996678\n",
      "0.8   0.8  0.919731  0.025250  0.998806\n",
      "0.9   0.9  0.919016  0.003523  0.999948\n"
     ]
    }
   ],
   "source": [
    "# Now let's calculate accuracy sensitivity and specificity for various probability cutoffs.\n",
    "cutoff_df1 = pd.DataFrame( columns = ['prob','accuracy','sensi','speci'])\n",
    "from sklearn.metrics import confusion_matrix\n",
    "\n",
    "# TP = confusion[1,1] # true positive \n",
    "# TN = confusion[0,0] # true negatives\n",
    "# FP = confusion[0,1] # false positives\n",
    "# FN = confusion[1,0] # false negatives\n",
    "\n",
    "num = [0.0,0.1,0.2,0.3,0.4,0.5,0.6,0.7,0.8,0.9]\n",
    "for i in num:\n",
    "    cm1 = metrics.confusion_matrix(y_train_pred_df1.churn, y_train_pred_df1[i] )\n",
    "    #cm1 = metrics.confusion_matrix(y_train_pred_df2.churn, y_train_pred_df2[i] )\n",
    "    total1=sum(sum(cm1))\n",
    "    accuracy = (cm1[0,0]+cm1[1,1])/total1\n",
    "    \n",
    "    speci = cm1[0,0]/(cm1[0,0]+cm1[0,1])\n",
    "    sensi = cm1[1,1]/(cm1[1,0]+cm1[1,1])\n",
    "    cutoff_df1.loc[i] =[ i ,accuracy,sensi,speci]\n",
    "print(cutoff_df1)"
   ]
  },
  {
   "cell_type": "markdown",
   "metadata": {},
   "source": [
    "Using the CalibratedClassifierCV method, we see the probability distribution of accuracy and sensitivity etc are almost same as before when we used \"probability=True\" in SVC().\n",
    "\n",
    "But at the same time, the model has given by default, the accuracy 93.4% and sensitivity 37.9% which corresponds to the 0.5 probability threshold in the above table.\n"
   ]
  },
  {
   "cell_type": "code",
   "execution_count": null,
   "metadata": {},
   "outputs": [],
   "source": []
  }
 ],
 "metadata": {
  "kernelspec": {
   "display_name": "Python 3",
   "language": "python",
   "name": "python3"
  },
  "language_info": {
   "codemirror_mode": {
    "name": "ipython",
    "version": 3
   },
   "file_extension": ".py",
   "mimetype": "text/x-python",
   "name": "python",
   "nbconvert_exporter": "python",
   "pygments_lexer": "ipython3",
   "version": "3.8.5"
  }
 },
 "nbformat": 4,
 "nbformat_minor": 4
}
